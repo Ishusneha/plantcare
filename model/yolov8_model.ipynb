{
  "nbformat": 4,
  "nbformat_minor": 0,
  "metadata": {
    "colab": {
      "provenance": [],
      "gpuType": "T4"
    },
    "kernelspec": {
      "name": "python3",
      "display_name": "Python 3"
    },
    "language_info": {
      "name": "python"
    },
    "accelerator": "GPU"
  },
  "cells": [
    {
      "cell_type": "code",
      "execution_count": null,
      "metadata": {
        "colab": {
          "base_uri": "https://localhost:8080/"
        },
        "id": "jpUMUZdzwIH6",
        "outputId": "8eb6fe41-f4cc-411e-ca96-d5071d6518d6"
      },
      "outputs": [
        {
          "output_type": "stream",
          "name": "stdout",
          "text": [
            "Collecting roboflow\n",
            "  Downloading roboflow-1.1.63-py3-none-any.whl.metadata (9.7 kB)\n",
            "Requirement already satisfied: certifi in /usr/local/lib/python3.11/dist-packages (from roboflow) (2025.4.26)\n",
            "Collecting idna==3.7 (from roboflow)\n",
            "  Downloading idna-3.7-py3-none-any.whl.metadata (9.9 kB)\n",
            "Requirement already satisfied: cycler in /usr/local/lib/python3.11/dist-packages (from roboflow) (0.12.1)\n",
            "Requirement already satisfied: kiwisolver>=1.3.1 in /usr/local/lib/python3.11/dist-packages (from roboflow) (1.4.8)\n",
            "Requirement already satisfied: matplotlib in /usr/local/lib/python3.11/dist-packages (from roboflow) (3.10.0)\n",
            "Requirement already satisfied: numpy>=1.18.5 in /usr/local/lib/python3.11/dist-packages (from roboflow) (2.0.2)\n",
            "Collecting opencv-python-headless==4.10.0.84 (from roboflow)\n",
            "  Downloading opencv_python_headless-4.10.0.84-cp37-abi3-manylinux_2_17_x86_64.manylinux2014_x86_64.whl.metadata (20 kB)\n",
            "Requirement already satisfied: Pillow>=7.1.2 in /usr/local/lib/python3.11/dist-packages (from roboflow) (11.2.1)\n",
            "Collecting pillow-heif>=0.18.0 (from roboflow)\n",
            "  Downloading pillow_heif-0.22.0-cp311-cp311-manylinux_2_17_x86_64.manylinux2014_x86_64.whl.metadata (9.6 kB)\n",
            "Requirement already satisfied: python-dateutil in /usr/local/lib/python3.11/dist-packages (from roboflow) (2.9.0.post0)\n",
            "Collecting python-dotenv (from roboflow)\n",
            "  Downloading python_dotenv-1.1.0-py3-none-any.whl.metadata (24 kB)\n",
            "Requirement already satisfied: requests in /usr/local/lib/python3.11/dist-packages (from roboflow) (2.32.3)\n",
            "Requirement already satisfied: six in /usr/local/lib/python3.11/dist-packages (from roboflow) (1.17.0)\n",
            "Requirement already satisfied: urllib3>=1.26.6 in /usr/local/lib/python3.11/dist-packages (from roboflow) (2.4.0)\n",
            "Requirement already satisfied: tqdm>=4.41.0 in /usr/local/lib/python3.11/dist-packages (from roboflow) (4.67.1)\n",
            "Requirement already satisfied: PyYAML>=5.3.1 in /usr/local/lib/python3.11/dist-packages (from roboflow) (6.0.2)\n",
            "Requirement already satisfied: requests-toolbelt in /usr/local/lib/python3.11/dist-packages (from roboflow) (1.0.0)\n",
            "Collecting filetype (from roboflow)\n",
            "  Downloading filetype-1.2.0-py2.py3-none-any.whl.metadata (6.5 kB)\n",
            "Requirement already satisfied: contourpy>=1.0.1 in /usr/local/lib/python3.11/dist-packages (from matplotlib->roboflow) (1.3.2)\n",
            "Requirement already satisfied: fonttools>=4.22.0 in /usr/local/lib/python3.11/dist-packages (from matplotlib->roboflow) (4.57.0)\n",
            "Requirement already satisfied: packaging>=20.0 in /usr/local/lib/python3.11/dist-packages (from matplotlib->roboflow) (24.2)\n",
            "Requirement already satisfied: pyparsing>=2.3.1 in /usr/local/lib/python3.11/dist-packages (from matplotlib->roboflow) (3.2.3)\n",
            "Requirement already satisfied: charset-normalizer<4,>=2 in /usr/local/lib/python3.11/dist-packages (from requests->roboflow) (3.4.2)\n",
            "Downloading roboflow-1.1.63-py3-none-any.whl (85 kB)\n",
            "\u001b[2K   \u001b[90m━━━━━━━━━━━━━━━━━━━━━━━━━━━━━━━━━━━━━━━━\u001b[0m \u001b[32m85.3/85.3 kB\u001b[0m \u001b[31m5.7 MB/s\u001b[0m eta \u001b[36m0:00:00\u001b[0m\n",
            "\u001b[?25hDownloading idna-3.7-py3-none-any.whl (66 kB)\n",
            "\u001b[2K   \u001b[90m━━━━━━━━━━━━━━━━━━━━━━━━━━━━━━━━━━━━━━━━\u001b[0m \u001b[32m66.8/66.8 kB\u001b[0m \u001b[31m4.8 MB/s\u001b[0m eta \u001b[36m0:00:00\u001b[0m\n",
            "\u001b[?25hDownloading opencv_python_headless-4.10.0.84-cp37-abi3-manylinux_2_17_x86_64.manylinux2014_x86_64.whl (49.9 MB)\n",
            "\u001b[2K   \u001b[90m━━━━━━━━━━━━━━━━━━━━━━━━━━━━━━━━━━━━━━━━\u001b[0m \u001b[32m49.9/49.9 MB\u001b[0m \u001b[31m16.4 MB/s\u001b[0m eta \u001b[36m0:00:00\u001b[0m\n",
            "\u001b[?25hDownloading pillow_heif-0.22.0-cp311-cp311-manylinux_2_17_x86_64.manylinux2014_x86_64.whl (7.8 MB)\n",
            "\u001b[2K   \u001b[90m━━━━━━━━━━━━━━━━━━━━━━━━━━━━━━━━━━━━━━━━\u001b[0m \u001b[32m7.8/7.8 MB\u001b[0m \u001b[31m69.7 MB/s\u001b[0m eta \u001b[36m0:00:00\u001b[0m\n",
            "\u001b[?25hDownloading filetype-1.2.0-py2.py3-none-any.whl (19 kB)\n",
            "Downloading python_dotenv-1.1.0-py3-none-any.whl (20 kB)\n",
            "Installing collected packages: filetype, python-dotenv, pillow-heif, opencv-python-headless, idna, roboflow\n",
            "  Attempting uninstall: opencv-python-headless\n",
            "    Found existing installation: opencv-python-headless 4.11.0.86\n",
            "    Uninstalling opencv-python-headless-4.11.0.86:\n",
            "      Successfully uninstalled opencv-python-headless-4.11.0.86\n",
            "  Attempting uninstall: idna\n",
            "    Found existing installation: idna 3.10\n",
            "    Uninstalling idna-3.10:\n",
            "      Successfully uninstalled idna-3.10\n",
            "Successfully installed filetype-1.2.0 idna-3.7 opencv-python-headless-4.10.0.84 pillow-heif-0.22.0 python-dotenv-1.1.0 roboflow-1.1.63\n",
            "loading Roboflow workspace...\n",
            "loading Roboflow project...\n"
          ]
        },
        {
          "output_type": "stream",
          "name": "stderr",
          "text": [
            "Downloading Dataset Version Zip in cauli_disease-3 to yolov8:: 100%|██████████| 57270/57270 [00:03<00:00, 19008.03it/s]"
          ]
        },
        {
          "output_type": "stream",
          "name": "stdout",
          "text": [
            "\n"
          ]
        },
        {
          "output_type": "stream",
          "name": "stderr",
          "text": [
            "\n",
            "Extracting Dataset Version Zip to cauli_disease-3 in yolov8:: 100%|██████████| 1724/1724 [00:00<00:00, 6775.93it/s]\n"
          ]
        }
      ],
      "source": [
        "!pip install roboflow\n",
        "\n",
        "from roboflow import Roboflow\n",
        "rf = Roboflow(api_key=\"lMsa7CukurxE5xgSAACc\")\n",
        "project = rf.workspace(\"computervisionprojects-apdge\").project(\"cauli_disease\")\n",
        "version = project.version(3)\n",
        "dataset = version.download(\"yolov8\")"
      ]
    },
    {
      "cell_type": "code",
      "source": [
        "!pip install ultralytics"
      ],
      "metadata": {
        "colab": {
          "base_uri": "https://localhost:8080/"
        },
        "id": "y0OegTPdwKpK",
        "outputId": "70f78e8d-4517-48ac-9808-2363c437cfc7"
      },
      "execution_count": null,
      "outputs": [
        {
          "output_type": "stream",
          "name": "stdout",
          "text": [
            "Collecting ultralytics\n",
            "  Downloading ultralytics-8.3.134-py3-none-any.whl.metadata (37 kB)\n",
            "Requirement already satisfied: numpy>=1.23.0 in /usr/local/lib/python3.11/dist-packages (from ultralytics) (2.0.2)\n",
            "Requirement already satisfied: matplotlib>=3.3.0 in /usr/local/lib/python3.11/dist-packages (from ultralytics) (3.10.0)\n",
            "Requirement already satisfied: opencv-python>=4.6.0 in /usr/local/lib/python3.11/dist-packages (from ultralytics) (4.11.0.86)\n",
            "Requirement already satisfied: pillow>=7.1.2 in /usr/local/lib/python3.11/dist-packages (from ultralytics) (11.2.1)\n",
            "Requirement already satisfied: pyyaml>=5.3.1 in /usr/local/lib/python3.11/dist-packages (from ultralytics) (6.0.2)\n",
            "Requirement already satisfied: requests>=2.23.0 in /usr/local/lib/python3.11/dist-packages (from ultralytics) (2.32.3)\n",
            "Requirement already satisfied: scipy>=1.4.1 in /usr/local/lib/python3.11/dist-packages (from ultralytics) (1.15.3)\n",
            "Requirement already satisfied: torch>=1.8.0 in /usr/local/lib/python3.11/dist-packages (from ultralytics) (2.6.0+cu124)\n",
            "Requirement already satisfied: torchvision>=0.9.0 in /usr/local/lib/python3.11/dist-packages (from ultralytics) (0.21.0+cu124)\n",
            "Requirement already satisfied: tqdm>=4.64.0 in /usr/local/lib/python3.11/dist-packages (from ultralytics) (4.67.1)\n",
            "Requirement already satisfied: psutil in /usr/local/lib/python3.11/dist-packages (from ultralytics) (5.9.5)\n",
            "Requirement already satisfied: py-cpuinfo in /usr/local/lib/python3.11/dist-packages (from ultralytics) (9.0.0)\n",
            "Requirement already satisfied: pandas>=1.1.4 in /usr/local/lib/python3.11/dist-packages (from ultralytics) (2.2.2)\n",
            "Requirement already satisfied: seaborn>=0.11.0 in /usr/local/lib/python3.11/dist-packages (from ultralytics) (0.13.2)\n",
            "Collecting ultralytics-thop>=2.0.0 (from ultralytics)\n",
            "  Downloading ultralytics_thop-2.0.14-py3-none-any.whl.metadata (9.4 kB)\n",
            "Requirement already satisfied: contourpy>=1.0.1 in /usr/local/lib/python3.11/dist-packages (from matplotlib>=3.3.0->ultralytics) (1.3.2)\n",
            "Requirement already satisfied: cycler>=0.10 in /usr/local/lib/python3.11/dist-packages (from matplotlib>=3.3.0->ultralytics) (0.12.1)\n",
            "Requirement already satisfied: fonttools>=4.22.0 in /usr/local/lib/python3.11/dist-packages (from matplotlib>=3.3.0->ultralytics) (4.57.0)\n",
            "Requirement already satisfied: kiwisolver>=1.3.1 in /usr/local/lib/python3.11/dist-packages (from matplotlib>=3.3.0->ultralytics) (1.4.8)\n",
            "Requirement already satisfied: packaging>=20.0 in /usr/local/lib/python3.11/dist-packages (from matplotlib>=3.3.0->ultralytics) (24.2)\n",
            "Requirement already satisfied: pyparsing>=2.3.1 in /usr/local/lib/python3.11/dist-packages (from matplotlib>=3.3.0->ultralytics) (3.2.3)\n",
            "Requirement already satisfied: python-dateutil>=2.7 in /usr/local/lib/python3.11/dist-packages (from matplotlib>=3.3.0->ultralytics) (2.9.0.post0)\n",
            "Requirement already satisfied: pytz>=2020.1 in /usr/local/lib/python3.11/dist-packages (from pandas>=1.1.4->ultralytics) (2025.2)\n",
            "Requirement already satisfied: tzdata>=2022.7 in /usr/local/lib/python3.11/dist-packages (from pandas>=1.1.4->ultralytics) (2025.2)\n",
            "Requirement already satisfied: charset-normalizer<4,>=2 in /usr/local/lib/python3.11/dist-packages (from requests>=2.23.0->ultralytics) (3.4.2)\n",
            "Requirement already satisfied: idna<4,>=2.5 in /usr/local/lib/python3.11/dist-packages (from requests>=2.23.0->ultralytics) (3.7)\n",
            "Requirement already satisfied: urllib3<3,>=1.21.1 in /usr/local/lib/python3.11/dist-packages (from requests>=2.23.0->ultralytics) (2.4.0)\n",
            "Requirement already satisfied: certifi>=2017.4.17 in /usr/local/lib/python3.11/dist-packages (from requests>=2.23.0->ultralytics) (2025.4.26)\n",
            "Requirement already satisfied: filelock in /usr/local/lib/python3.11/dist-packages (from torch>=1.8.0->ultralytics) (3.18.0)\n",
            "Requirement already satisfied: typing-extensions>=4.10.0 in /usr/local/lib/python3.11/dist-packages (from torch>=1.8.0->ultralytics) (4.13.2)\n",
            "Requirement already satisfied: networkx in /usr/local/lib/python3.11/dist-packages (from torch>=1.8.0->ultralytics) (3.4.2)\n",
            "Requirement already satisfied: jinja2 in /usr/local/lib/python3.11/dist-packages (from torch>=1.8.0->ultralytics) (3.1.6)\n",
            "Requirement already satisfied: fsspec in /usr/local/lib/python3.11/dist-packages (from torch>=1.8.0->ultralytics) (2025.3.2)\n",
            "Collecting nvidia-cuda-nvrtc-cu12==12.4.127 (from torch>=1.8.0->ultralytics)\n",
            "  Downloading nvidia_cuda_nvrtc_cu12-12.4.127-py3-none-manylinux2014_x86_64.whl.metadata (1.5 kB)\n",
            "Collecting nvidia-cuda-runtime-cu12==12.4.127 (from torch>=1.8.0->ultralytics)\n",
            "  Downloading nvidia_cuda_runtime_cu12-12.4.127-py3-none-manylinux2014_x86_64.whl.metadata (1.5 kB)\n",
            "Collecting nvidia-cuda-cupti-cu12==12.4.127 (from torch>=1.8.0->ultralytics)\n",
            "  Downloading nvidia_cuda_cupti_cu12-12.4.127-py3-none-manylinux2014_x86_64.whl.metadata (1.6 kB)\n",
            "Collecting nvidia-cudnn-cu12==9.1.0.70 (from torch>=1.8.0->ultralytics)\n",
            "  Downloading nvidia_cudnn_cu12-9.1.0.70-py3-none-manylinux2014_x86_64.whl.metadata (1.6 kB)\n",
            "Collecting nvidia-cublas-cu12==12.4.5.8 (from torch>=1.8.0->ultralytics)\n",
            "  Downloading nvidia_cublas_cu12-12.4.5.8-py3-none-manylinux2014_x86_64.whl.metadata (1.5 kB)\n",
            "Collecting nvidia-cufft-cu12==11.2.1.3 (from torch>=1.8.0->ultralytics)\n",
            "  Downloading nvidia_cufft_cu12-11.2.1.3-py3-none-manylinux2014_x86_64.whl.metadata (1.5 kB)\n",
            "Collecting nvidia-curand-cu12==10.3.5.147 (from torch>=1.8.0->ultralytics)\n",
            "  Downloading nvidia_curand_cu12-10.3.5.147-py3-none-manylinux2014_x86_64.whl.metadata (1.5 kB)\n",
            "Collecting nvidia-cusolver-cu12==11.6.1.9 (from torch>=1.8.0->ultralytics)\n",
            "  Downloading nvidia_cusolver_cu12-11.6.1.9-py3-none-manylinux2014_x86_64.whl.metadata (1.6 kB)\n",
            "Collecting nvidia-cusparse-cu12==12.3.1.170 (from torch>=1.8.0->ultralytics)\n",
            "  Downloading nvidia_cusparse_cu12-12.3.1.170-py3-none-manylinux2014_x86_64.whl.metadata (1.6 kB)\n",
            "Requirement already satisfied: nvidia-cusparselt-cu12==0.6.2 in /usr/local/lib/python3.11/dist-packages (from torch>=1.8.0->ultralytics) (0.6.2)\n",
            "Requirement already satisfied: nvidia-nccl-cu12==2.21.5 in /usr/local/lib/python3.11/dist-packages (from torch>=1.8.0->ultralytics) (2.21.5)\n",
            "Requirement already satisfied: nvidia-nvtx-cu12==12.4.127 in /usr/local/lib/python3.11/dist-packages (from torch>=1.8.0->ultralytics) (12.4.127)\n",
            "Collecting nvidia-nvjitlink-cu12==12.4.127 (from torch>=1.8.0->ultralytics)\n",
            "  Downloading nvidia_nvjitlink_cu12-12.4.127-py3-none-manylinux2014_x86_64.whl.metadata (1.5 kB)\n",
            "Requirement already satisfied: triton==3.2.0 in /usr/local/lib/python3.11/dist-packages (from torch>=1.8.0->ultralytics) (3.2.0)\n",
            "Requirement already satisfied: sympy==1.13.1 in /usr/local/lib/python3.11/dist-packages (from torch>=1.8.0->ultralytics) (1.13.1)\n",
            "Requirement already satisfied: mpmath<1.4,>=1.1.0 in /usr/local/lib/python3.11/dist-packages (from sympy==1.13.1->torch>=1.8.0->ultralytics) (1.3.0)\n",
            "Requirement already satisfied: six>=1.5 in /usr/local/lib/python3.11/dist-packages (from python-dateutil>=2.7->matplotlib>=3.3.0->ultralytics) (1.17.0)\n",
            "Requirement already satisfied: MarkupSafe>=2.0 in /usr/local/lib/python3.11/dist-packages (from jinja2->torch>=1.8.0->ultralytics) (3.0.2)\n",
            "Downloading ultralytics-8.3.134-py3-none-any.whl (1.0 MB)\n",
            "\u001b[2K   \u001b[90m━━━━━━━━━━━━━━━━━━━━━━━━━━━━━━━━━━━━━━━━\u001b[0m \u001b[32m1.0/1.0 MB\u001b[0m \u001b[31m42.4 MB/s\u001b[0m eta \u001b[36m0:00:00\u001b[0m\n",
            "\u001b[?25hDownloading nvidia_cublas_cu12-12.4.5.8-py3-none-manylinux2014_x86_64.whl (363.4 MB)\n",
            "\u001b[2K   \u001b[90m━━━━━━━━━━━━━━━━━━━━━━━━━━━━━━━━━━━━━━━━\u001b[0m \u001b[32m363.4/363.4 MB\u001b[0m \u001b[31m3.6 MB/s\u001b[0m eta \u001b[36m0:00:00\u001b[0m\n",
            "\u001b[?25hDownloading nvidia_cuda_cupti_cu12-12.4.127-py3-none-manylinux2014_x86_64.whl (13.8 MB)\n",
            "\u001b[2K   \u001b[90m━━━━━━━━━━━━━━━━━━━━━━━━━━━━━━━━━━━━━━━━\u001b[0m \u001b[32m13.8/13.8 MB\u001b[0m \u001b[31m51.4 MB/s\u001b[0m eta \u001b[36m0:00:00\u001b[0m\n",
            "\u001b[?25hDownloading nvidia_cuda_nvrtc_cu12-12.4.127-py3-none-manylinux2014_x86_64.whl (24.6 MB)\n",
            "\u001b[2K   \u001b[90m━━━━━━━━━━━━━━━━━━━━━━━━━━━━━━━━━━━━━━━━\u001b[0m \u001b[32m24.6/24.6 MB\u001b[0m \u001b[31m31.6 MB/s\u001b[0m eta \u001b[36m0:00:00\u001b[0m\n",
            "\u001b[?25hDownloading nvidia_cuda_runtime_cu12-12.4.127-py3-none-manylinux2014_x86_64.whl (883 kB)\n",
            "\u001b[2K   \u001b[90m━━━━━━━━━━━━━━━━━━━━━━━━━━━━━━━━━━━━━━━━\u001b[0m \u001b[32m883.7/883.7 kB\u001b[0m \u001b[31m40.0 MB/s\u001b[0m eta \u001b[36m0:00:00\u001b[0m\n",
            "\u001b[?25hDownloading nvidia_cudnn_cu12-9.1.0.70-py3-none-manylinux2014_x86_64.whl (664.8 MB)\n",
            "\u001b[2K   \u001b[90m━━━━━━━━━━━━━━━━━━━━━━━━━━━━━━━━━━━━━━━━\u001b[0m \u001b[32m664.8/664.8 MB\u001b[0m \u001b[31m2.9 MB/s\u001b[0m eta \u001b[36m0:00:00\u001b[0m\n",
            "\u001b[?25hDownloading nvidia_cufft_cu12-11.2.1.3-py3-none-manylinux2014_x86_64.whl (211.5 MB)\n",
            "\u001b[2K   \u001b[90m━━━━━━━━━━━━━━━━━━━━━━━━━━━━━━━━━━━━━━━━\u001b[0m \u001b[32m211.5/211.5 MB\u001b[0m \u001b[31m5.5 MB/s\u001b[0m eta \u001b[36m0:00:00\u001b[0m\n",
            "\u001b[?25hDownloading nvidia_curand_cu12-10.3.5.147-py3-none-manylinux2014_x86_64.whl (56.3 MB)\n",
            "\u001b[2K   \u001b[90m━━━━━━━━━━━━━━━━━━━━━━━━━━━━━━━━━━━━━━━━\u001b[0m \u001b[32m56.3/56.3 MB\u001b[0m \u001b[31m13.5 MB/s\u001b[0m eta \u001b[36m0:00:00\u001b[0m\n",
            "\u001b[?25hDownloading nvidia_cusolver_cu12-11.6.1.9-py3-none-manylinux2014_x86_64.whl (127.9 MB)\n",
            "\u001b[2K   \u001b[90m━━━━━━━━━━━━━━━━━━━━━━━━━━━━━━━━━━━━━━━━\u001b[0m \u001b[32m127.9/127.9 MB\u001b[0m \u001b[31m7.4 MB/s\u001b[0m eta \u001b[36m0:00:00\u001b[0m\n",
            "\u001b[?25hDownloading nvidia_cusparse_cu12-12.3.1.170-py3-none-manylinux2014_x86_64.whl (207.5 MB)\n",
            "\u001b[2K   \u001b[90m━━━━━━━━━━━━━━━━━━━━━━━━━━━━━━━━━━━━━━━━\u001b[0m \u001b[32m207.5/207.5 MB\u001b[0m \u001b[31m6.0 MB/s\u001b[0m eta \u001b[36m0:00:00\u001b[0m\n",
            "\u001b[?25hDownloading nvidia_nvjitlink_cu12-12.4.127-py3-none-manylinux2014_x86_64.whl (21.1 MB)\n",
            "\u001b[2K   \u001b[90m━━━━━━━━━━━━━━━━━━━━━━━━━━━━━━━━━━━━━━━━\u001b[0m \u001b[32m21.1/21.1 MB\u001b[0m \u001b[31m56.6 MB/s\u001b[0m eta \u001b[36m0:00:00\u001b[0m\n",
            "\u001b[?25hDownloading ultralytics_thop-2.0.14-py3-none-any.whl (26 kB)\n",
            "Installing collected packages: nvidia-nvjitlink-cu12, nvidia-curand-cu12, nvidia-cufft-cu12, nvidia-cuda-runtime-cu12, nvidia-cuda-nvrtc-cu12, nvidia-cuda-cupti-cu12, nvidia-cublas-cu12, nvidia-cusparse-cu12, nvidia-cudnn-cu12, nvidia-cusolver-cu12, ultralytics-thop, ultralytics\n",
            "  Attempting uninstall: nvidia-nvjitlink-cu12\n",
            "    Found existing installation: nvidia-nvjitlink-cu12 12.5.82\n",
            "    Uninstalling nvidia-nvjitlink-cu12-12.5.82:\n",
            "      Successfully uninstalled nvidia-nvjitlink-cu12-12.5.82\n",
            "  Attempting uninstall: nvidia-curand-cu12\n",
            "    Found existing installation: nvidia-curand-cu12 10.3.6.82\n",
            "    Uninstalling nvidia-curand-cu12-10.3.6.82:\n",
            "      Successfully uninstalled nvidia-curand-cu12-10.3.6.82\n",
            "  Attempting uninstall: nvidia-cufft-cu12\n",
            "    Found existing installation: nvidia-cufft-cu12 11.2.3.61\n",
            "    Uninstalling nvidia-cufft-cu12-11.2.3.61:\n",
            "      Successfully uninstalled nvidia-cufft-cu12-11.2.3.61\n",
            "  Attempting uninstall: nvidia-cuda-runtime-cu12\n",
            "    Found existing installation: nvidia-cuda-runtime-cu12 12.5.82\n",
            "    Uninstalling nvidia-cuda-runtime-cu12-12.5.82:\n",
            "      Successfully uninstalled nvidia-cuda-runtime-cu12-12.5.82\n",
            "  Attempting uninstall: nvidia-cuda-nvrtc-cu12\n",
            "    Found existing installation: nvidia-cuda-nvrtc-cu12 12.5.82\n",
            "    Uninstalling nvidia-cuda-nvrtc-cu12-12.5.82:\n",
            "      Successfully uninstalled nvidia-cuda-nvrtc-cu12-12.5.82\n",
            "  Attempting uninstall: nvidia-cuda-cupti-cu12\n",
            "    Found existing installation: nvidia-cuda-cupti-cu12 12.5.82\n",
            "    Uninstalling nvidia-cuda-cupti-cu12-12.5.82:\n",
            "      Successfully uninstalled nvidia-cuda-cupti-cu12-12.5.82\n",
            "  Attempting uninstall: nvidia-cublas-cu12\n",
            "    Found existing installation: nvidia-cublas-cu12 12.5.3.2\n",
            "    Uninstalling nvidia-cublas-cu12-12.5.3.2:\n",
            "      Successfully uninstalled nvidia-cublas-cu12-12.5.3.2\n",
            "  Attempting uninstall: nvidia-cusparse-cu12\n",
            "    Found existing installation: nvidia-cusparse-cu12 12.5.1.3\n",
            "    Uninstalling nvidia-cusparse-cu12-12.5.1.3:\n",
            "      Successfully uninstalled nvidia-cusparse-cu12-12.5.1.3\n",
            "  Attempting uninstall: nvidia-cudnn-cu12\n",
            "    Found existing installation: nvidia-cudnn-cu12 9.3.0.75\n",
            "    Uninstalling nvidia-cudnn-cu12-9.3.0.75:\n",
            "      Successfully uninstalled nvidia-cudnn-cu12-9.3.0.75\n",
            "  Attempting uninstall: nvidia-cusolver-cu12\n",
            "    Found existing installation: nvidia-cusolver-cu12 11.6.3.83\n",
            "    Uninstalling nvidia-cusolver-cu12-11.6.3.83:\n",
            "      Successfully uninstalled nvidia-cusolver-cu12-11.6.3.83\n",
            "Successfully installed nvidia-cublas-cu12-12.4.5.8 nvidia-cuda-cupti-cu12-12.4.127 nvidia-cuda-nvrtc-cu12-12.4.127 nvidia-cuda-runtime-cu12-12.4.127 nvidia-cudnn-cu12-9.1.0.70 nvidia-cufft-cu12-11.2.1.3 nvidia-curand-cu12-10.3.5.147 nvidia-cusolver-cu12-11.6.1.9 nvidia-cusparse-cu12-12.3.1.170 nvidia-nvjitlink-cu12-12.4.127 ultralytics-8.3.134 ultralytics-thop-2.0.14\n"
          ]
        }
      ]
    },
    {
      "cell_type": "code",
      "source": [
        "from ultralytics import YOLO\n",
        "\n",
        "model = YOLO(\"yolov8s.pt\")\n",
        "\n",
        "results = model.train(data=\"cauli_disease-3/data.yaml\",epochs=200,batch=32)"
      ],
      "metadata": {
        "colab": {
          "base_uri": "https://localhost:8080/"
        },
        "id": "-lgbYZFPwTmi",
        "outputId": "7d1ee15d-8f96-4845-b4d9-1d913c5ce7cd"
      },
      "execution_count": null,
      "outputs": [
        {
          "output_type": "stream",
          "name": "stdout",
          "text": [
            "Ultralytics 8.3.134 🚀 Python-3.11.12 torch-2.6.0+cu124 CUDA:0 (Tesla T4, 15095MiB)\n",
            "\u001b[34m\u001b[1mengine/trainer: \u001b[0magnostic_nms=False, amp=True, augment=False, auto_augment=randaugment, batch=32, bgr=0.0, box=7.5, cache=False, cfg=None, classes=None, close_mosaic=10, cls=0.5, conf=None, copy_paste=0.0, copy_paste_mode=flip, cos_lr=False, cutmix=0.0, data=cauli_disease-3/data.yaml, degrees=0.0, deterministic=True, device=None, dfl=1.5, dnn=False, dropout=0.0, dynamic=False, embed=None, epochs=200, erasing=0.4, exist_ok=False, fliplr=0.5, flipud=0.0, format=torchscript, fraction=1.0, freeze=None, half=False, hsv_h=0.015, hsv_s=0.7, hsv_v=0.4, imgsz=640, int8=False, iou=0.7, keras=False, kobj=1.0, line_width=None, lr0=0.01, lrf=0.01, mask_ratio=4, max_det=300, mixup=0.0, mode=train, model=yolov8s.pt, momentum=0.937, mosaic=1.0, multi_scale=False, name=train3, nbs=64, nms=False, opset=None, optimize=False, optimizer=auto, overlap_mask=True, patience=100, perspective=0.0, plots=True, pose=12.0, pretrained=True, profile=False, project=None, rect=False, resume=False, retina_masks=False, save=True, save_conf=False, save_crop=False, save_dir=runs/detect/train3, save_frames=False, save_json=False, save_period=-1, save_txt=False, scale=0.5, seed=0, shear=0.0, show=False, show_boxes=True, show_conf=True, show_labels=True, simplify=True, single_cls=False, source=None, split=val, stream_buffer=False, task=detect, time=None, tracker=botsort.yaml, translate=0.1, val=True, verbose=True, vid_stride=1, visualize=False, warmup_bias_lr=0.1, warmup_epochs=3.0, warmup_momentum=0.8, weight_decay=0.0005, workers=8, workspace=None\n",
            "Downloading https://ultralytics.com/assets/Arial.ttf to '/root/.config/Ultralytics/Arial.ttf'...\n"
          ]
        },
        {
          "output_type": "stream",
          "name": "stderr",
          "text": [
            "100%|██████████| 755k/755k [00:00<00:00, 41.5MB/s]"
          ]
        },
        {
          "output_type": "stream",
          "name": "stdout",
          "text": [
            "Overriding model.yaml nc=80 with nc=5\n",
            "\n",
            "                   from  n    params  module                                       arguments                     \n",
            "  0                  -1  1       928  ultralytics.nn.modules.conv.Conv             [3, 32, 3, 2]                 \n",
            "  1                  -1  1     18560  ultralytics.nn.modules.conv.Conv             [32, 64, 3, 2]                \n",
            "  2                  -1  1     29056  ultralytics.nn.modules.block.C2f             [64, 64, 1, True]             \n",
            "  3                  -1  1     73984  ultralytics.nn.modules.conv.Conv             [64, 128, 3, 2]               \n",
            "  4                  -1  2    197632  ultralytics.nn.modules.block.C2f             [128, 128, 2, True]           \n",
            "  5                  -1  1    295424  ultralytics.nn.modules.conv.Conv             [128, 256, 3, 2]              \n",
            "  6                  -1  2    788480  ultralytics.nn.modules.block.C2f             [256, 256, 2, True]           \n",
            "  7                  -1  1   1180672  ultralytics.nn.modules.conv.Conv             [256, 512, 3, 2]              \n",
            "  8                  -1  1   1838080  ultralytics.nn.modules.block.C2f             [512, 512, 1, True]           \n",
            "  9                  -1  1    656896  ultralytics.nn.modules.block.SPPF            [512, 512, 5]                 \n",
            " 10                  -1  1         0  torch.nn.modules.upsampling.Upsample         [None, 2, 'nearest']          \n",
            " 11             [-1, 6]  1         0  ultralytics.nn.modules.conv.Concat           [1]                           \n",
            " 12                  -1  1    591360  ultralytics.nn.modules.block.C2f             [768, 256, 1]                 \n",
            " 13                  -1  1         0  torch.nn.modules.upsampling.Upsample         [None, 2, 'nearest']          \n",
            " 14             [-1, 4]  1         0  ultralytics.nn.modules.conv.Concat           [1]                           \n",
            " 15                  -1  1    148224  ultralytics.nn.modules.block.C2f             [384, 128, 1]                 \n",
            " 16                  -1  1    147712  ultralytics.nn.modules.conv.Conv             [128, 128, 3, 2]              \n",
            " 17            [-1, 12]  1         0  ultralytics.nn.modules.conv.Concat           [1]                           \n",
            " 18                  -1  1    493056  ultralytics.nn.modules.block.C2f             [384, 256, 1]                 \n",
            " 19                  -1  1    590336  ultralytics.nn.modules.conv.Conv             [256, 256, 3, 2]              \n",
            " 20             [-1, 9]  1         0  ultralytics.nn.modules.conv.Concat           [1]                           \n",
            " 21                  -1  1   1969152  ultralytics.nn.modules.block.C2f             [768, 512, 1]                 \n"
          ]
        },
        {
          "output_type": "stream",
          "name": "stderr",
          "text": [
            "\n"
          ]
        },
        {
          "output_type": "stream",
          "name": "stdout",
          "text": [
            " 22        [15, 18, 21]  1   2117983  ultralytics.nn.modules.head.Detect           [5, [128, 256, 512]]          \n",
            "Model summary: 129 layers, 11,137,535 parameters, 11,137,519 gradients, 28.7 GFLOPs\n",
            "\n",
            "Transferred 349/355 items from pretrained weights\n",
            "Freezing layer 'model.22.dfl.conv.weight'\n",
            "\u001b[34m\u001b[1mAMP: \u001b[0mrunning Automatic Mixed Precision (AMP) checks...\n",
            "Downloading https://github.com/ultralytics/assets/releases/download/v8.3.0/yolo11n.pt to 'yolo11n.pt'...\n"
          ]
        },
        {
          "output_type": "stream",
          "name": "stderr",
          "text": [
            "100%|██████████| 5.35M/5.35M [00:00<00:00, 151MB/s]\n"
          ]
        },
        {
          "output_type": "stream",
          "name": "stdout",
          "text": [
            "\u001b[34m\u001b[1mAMP: \u001b[0mchecks passed ✅\n",
            "\u001b[34m\u001b[1mtrain: \u001b[0mFast image access ✅ (ping: 0.0±0.0 ms, read: 218.3±285.5 MB/s, size: 65.7 KB)\n"
          ]
        },
        {
          "output_type": "stream",
          "name": "stderr",
          "text": [
            "\u001b[34m\u001b[1mtrain: \u001b[0mScanning /content/cauli_disease-3/train/labels... 810 images, 0 backgrounds, 0 corrupt: 100%|██████████| 810/810 [00:01<00:00, 635.39it/s]\n"
          ]
        },
        {
          "output_type": "stream",
          "name": "stdout",
          "text": [
            "\u001b[34m\u001b[1mtrain: \u001b[0mNew cache created: /content/cauli_disease-3/train/labels.cache\n",
            "\u001b[34m\u001b[1malbumentations: \u001b[0mBlur(p=0.01, blur_limit=(3, 7)), MedianBlur(p=0.01, blur_limit=(3, 7)), ToGray(p=0.01, method='weighted_average', num_output_channels=3), CLAHE(p=0.01, clip_limit=(1.0, 4.0), tile_grid_size=(8, 8))\n",
            "\u001b[34m\u001b[1mval: \u001b[0mFast image access ✅ (ping: 0.0±0.0 ms, read: 14.3±3.9 MB/s, size: 71.0 KB)\n"
          ]
        },
        {
          "output_type": "stream",
          "name": "stderr",
          "text": [
            "\u001b[34m\u001b[1mval: \u001b[0mScanning /content/cauli_disease-3/valid/labels... 30 images, 0 backgrounds, 0 corrupt: 100%|██████████| 30/30 [00:00<00:00, 319.02it/s]"
          ]
        },
        {
          "output_type": "stream",
          "name": "stdout",
          "text": [
            "\u001b[34m\u001b[1mval: \u001b[0mNew cache created: /content/cauli_disease-3/valid/labels.cache\n"
          ]
        },
        {
          "output_type": "stream",
          "name": "stderr",
          "text": [
            "\n"
          ]
        },
        {
          "output_type": "stream",
          "name": "stdout",
          "text": [
            "Plotting labels to runs/detect/train3/labels.jpg... \n",
            "\u001b[34m\u001b[1moptimizer:\u001b[0m 'optimizer=auto' found, ignoring 'lr0=0.01' and 'momentum=0.937' and determining best 'optimizer', 'lr0' and 'momentum' automatically... \n",
            "\u001b[34m\u001b[1moptimizer:\u001b[0m AdamW(lr=0.001111, momentum=0.9) with parameter groups 57 weight(decay=0.0), 64 weight(decay=0.0005), 63 bias(decay=0.0)\n",
            "Image sizes 640 train, 640 val\n",
            "Using 2 dataloader workers\n",
            "Logging results to \u001b[1mruns/detect/train3\u001b[0m\n",
            "Starting training for 200 epochs...\n",
            "\n",
            "      Epoch    GPU_mem   box_loss   cls_loss   dfl_loss  Instances       Size\n"
          ]
        },
        {
          "output_type": "stream",
          "name": "stderr",
          "text": [
            "      1/200      6.78G      2.537      3.971      2.391         90        640: 100%|██████████| 26/26 [00:18<00:00,  1.43it/s]\n",
            "                 Class     Images  Instances      Box(P          R      mAP50  mAP50-95): 100%|██████████| 1/1 [00:01<00:00,  1.69s/it]"
          ]
        },
        {
          "output_type": "stream",
          "name": "stdout",
          "text": [
            "                   all         30        162     0.0492       0.11     0.0282     0.0113\n"
          ]
        },
        {
          "output_type": "stream",
          "name": "stderr",
          "text": [
            "\n"
          ]
        },
        {
          "output_type": "stream",
          "name": "stdout",
          "text": [
            "\n",
            "      Epoch    GPU_mem   box_loss   cls_loss   dfl_loss  Instances       Size\n"
          ]
        },
        {
          "output_type": "stream",
          "name": "stderr",
          "text": [
            "      2/200      7.13G      2.236      3.287      2.225         62        640: 100%|██████████| 26/26 [00:15<00:00,  1.73it/s]\n",
            "                 Class     Images  Instances      Box(P          R      mAP50  mAP50-95): 100%|██████████| 1/1 [00:00<00:00,  1.24it/s]"
          ]
        },
        {
          "output_type": "stream",
          "name": "stdout",
          "text": [
            "                   all         30        162     0.0574      0.134     0.0296    0.00802\n"
          ]
        },
        {
          "output_type": "stream",
          "name": "stderr",
          "text": [
            "\n"
          ]
        },
        {
          "output_type": "stream",
          "name": "stdout",
          "text": [
            "\n",
            "      Epoch    GPU_mem   box_loss   cls_loss   dfl_loss  Instances       Size\n"
          ]
        },
        {
          "output_type": "stream",
          "name": "stderr",
          "text": [
            "      3/200      7.17G      2.164      3.012      2.186         83        640: 100%|██████████| 26/26 [00:14<00:00,  1.73it/s]\n",
            "                 Class     Images  Instances      Box(P          R      mAP50  mAP50-95): 100%|██████████| 1/1 [00:00<00:00,  1.43it/s]"
          ]
        },
        {
          "output_type": "stream",
          "name": "stdout",
          "text": [
            "                   all         30        162     0.0516     0.0826     0.0299     0.0104\n"
          ]
        },
        {
          "output_type": "stream",
          "name": "stderr",
          "text": [
            "\n"
          ]
        },
        {
          "output_type": "stream",
          "name": "stdout",
          "text": [
            "\n",
            "      Epoch    GPU_mem   box_loss   cls_loss   dfl_loss  Instances       Size\n"
          ]
        },
        {
          "output_type": "stream",
          "name": "stderr",
          "text": [
            "      4/200      7.21G      2.161      2.964      2.214        105        640: 100%|██████████| 26/26 [00:14<00:00,  1.74it/s]\n",
            "                 Class     Images  Instances      Box(P          R      mAP50  mAP50-95): 100%|██████████| 1/1 [00:00<00:00,  1.21it/s]"
          ]
        },
        {
          "output_type": "stream",
          "name": "stdout",
          "text": [
            "                   all         30        162      0.127     0.0862     0.0501     0.0163\n"
          ]
        },
        {
          "output_type": "stream",
          "name": "stderr",
          "text": [
            "\n"
          ]
        },
        {
          "output_type": "stream",
          "name": "stdout",
          "text": [
            "\n",
            "      Epoch    GPU_mem   box_loss   cls_loss   dfl_loss  Instances       Size\n"
          ]
        },
        {
          "output_type": "stream",
          "name": "stderr",
          "text": [
            "      5/200      7.24G      2.189       2.97      2.205         69        640: 100%|██████████| 26/26 [00:14<00:00,  1.75it/s]\n",
            "                 Class     Images  Instances      Box(P          R      mAP50  mAP50-95): 100%|██████████| 1/1 [00:00<00:00,  1.69it/s]"
          ]
        },
        {
          "output_type": "stream",
          "name": "stdout",
          "text": [
            "                   all         30        162      0.217     0.0816     0.0221    0.00582\n"
          ]
        },
        {
          "output_type": "stream",
          "name": "stderr",
          "text": [
            "\n"
          ]
        },
        {
          "output_type": "stream",
          "name": "stdout",
          "text": [
            "\n",
            "      Epoch    GPU_mem   box_loss   cls_loss   dfl_loss  Instances       Size\n"
          ]
        },
        {
          "output_type": "stream",
          "name": "stderr",
          "text": [
            "      6/200      7.28G      2.154      2.915       2.19        109        640: 100%|██████████| 26/26 [00:14<00:00,  1.74it/s]\n",
            "                 Class     Images  Instances      Box(P          R      mAP50  mAP50-95): 100%|██████████| 1/1 [00:00<00:00,  1.35it/s]"
          ]
        },
        {
          "output_type": "stream",
          "name": "stdout",
          "text": [
            "                   all         30        162     0.0846     0.0621     0.0209    0.00592\n"
          ]
        },
        {
          "output_type": "stream",
          "name": "stderr",
          "text": [
            "\n"
          ]
        },
        {
          "output_type": "stream",
          "name": "stdout",
          "text": [
            "\n",
            "      Epoch    GPU_mem   box_loss   cls_loss   dfl_loss  Instances       Size\n"
          ]
        },
        {
          "output_type": "stream",
          "name": "stderr",
          "text": [
            "      7/200      7.31G      2.128      2.911      2.178         60        640: 100%|██████████| 26/26 [00:15<00:00,  1.70it/s]\n",
            "                 Class     Images  Instances      Box(P          R      mAP50  mAP50-95): 100%|██████████| 1/1 [00:00<00:00,  1.46it/s]"
          ]
        },
        {
          "output_type": "stream",
          "name": "stdout",
          "text": [
            "                   all         30        162     0.0662      0.107     0.0611     0.0152\n"
          ]
        },
        {
          "output_type": "stream",
          "name": "stderr",
          "text": [
            "\n"
          ]
        },
        {
          "output_type": "stream",
          "name": "stdout",
          "text": [
            "\n",
            "      Epoch    GPU_mem   box_loss   cls_loss   dfl_loss  Instances       Size\n"
          ]
        },
        {
          "output_type": "stream",
          "name": "stderr",
          "text": [
            "      8/200      7.35G      2.053       2.81      2.125         61        640: 100%|██████████| 26/26 [00:15<00:00,  1.73it/s]\n",
            "                 Class     Images  Instances      Box(P          R      mAP50  mAP50-95): 100%|██████████| 1/1 [00:00<00:00,  1.47it/s]"
          ]
        },
        {
          "output_type": "stream",
          "name": "stdout",
          "text": [
            "                   all         30        162     0.0285     0.0987     0.0242     0.0094\n"
          ]
        },
        {
          "output_type": "stream",
          "name": "stderr",
          "text": [
            "\n"
          ]
        },
        {
          "output_type": "stream",
          "name": "stdout",
          "text": [
            "\n",
            "      Epoch    GPU_mem   box_loss   cls_loss   dfl_loss  Instances       Size\n"
          ]
        },
        {
          "output_type": "stream",
          "name": "stderr",
          "text": [
            "      9/200      7.39G      2.064      2.775       2.13         86        640: 100%|██████████| 26/26 [00:14<00:00,  1.78it/s]\n",
            "                 Class     Images  Instances      Box(P          R      mAP50  mAP50-95): 100%|██████████| 1/1 [00:00<00:00,  1.41it/s]"
          ]
        },
        {
          "output_type": "stream",
          "name": "stdout",
          "text": [
            "                   all         30        162     0.0699      0.143     0.0276       0.01\n"
          ]
        },
        {
          "output_type": "stream",
          "name": "stderr",
          "text": [
            "\n"
          ]
        },
        {
          "output_type": "stream",
          "name": "stdout",
          "text": [
            "\n",
            "      Epoch    GPU_mem   box_loss   cls_loss   dfl_loss  Instances       Size\n"
          ]
        },
        {
          "output_type": "stream",
          "name": "stderr",
          "text": [
            "     10/200      7.03G      2.037      2.777      2.145         59        640: 100%|██████████| 26/26 [00:15<00:00,  1.73it/s]\n",
            "                 Class     Images  Instances      Box(P          R      mAP50  mAP50-95): 100%|██████████| 1/1 [00:01<00:00,  1.09s/it]"
          ]
        },
        {
          "output_type": "stream",
          "name": "stdout",
          "text": [
            "                   all         30        162      0.144      0.137      0.083     0.0331\n"
          ]
        },
        {
          "output_type": "stream",
          "name": "stderr",
          "text": [
            "\n"
          ]
        },
        {
          "output_type": "stream",
          "name": "stdout",
          "text": [
            "\n",
            "      Epoch    GPU_mem   box_loss   cls_loss   dfl_loss  Instances       Size\n"
          ]
        },
        {
          "output_type": "stream",
          "name": "stderr",
          "text": [
            "     11/200      7.34G       2.04      2.738      2.125         62        640: 100%|██████████| 26/26 [00:15<00:00,  1.72it/s]\n",
            "                 Class     Images  Instances      Box(P          R      mAP50  mAP50-95): 100%|██████████| 1/1 [00:00<00:00,  1.45it/s]"
          ]
        },
        {
          "output_type": "stream",
          "name": "stdout",
          "text": [
            "                   all         30        162     0.0747     0.0929     0.0692     0.0171\n"
          ]
        },
        {
          "output_type": "stream",
          "name": "stderr",
          "text": [
            "\n"
          ]
        },
        {
          "output_type": "stream",
          "name": "stdout",
          "text": [
            "\n",
            "      Epoch    GPU_mem   box_loss   cls_loss   dfl_loss  Instances       Size\n"
          ]
        },
        {
          "output_type": "stream",
          "name": "stderr",
          "text": [
            "     12/200      7.34G      2.003       2.67       2.06         82        640: 100%|██████████| 26/26 [00:15<00:00,  1.71it/s]\n",
            "                 Class     Images  Instances      Box(P          R      mAP50  mAP50-95): 100%|██████████| 1/1 [00:00<00:00,  1.63it/s]"
          ]
        },
        {
          "output_type": "stream",
          "name": "stdout",
          "text": [
            "                   all         30        162     0.0289     0.0844     0.0188    0.00796\n"
          ]
        },
        {
          "output_type": "stream",
          "name": "stderr",
          "text": [
            "\n"
          ]
        },
        {
          "output_type": "stream",
          "name": "stdout",
          "text": [
            "\n",
            "      Epoch    GPU_mem   box_loss   cls_loss   dfl_loss  Instances       Size\n"
          ]
        },
        {
          "output_type": "stream",
          "name": "stderr",
          "text": [
            "     13/200      7.34G      2.018      2.669      2.101         77        640: 100%|██████████| 26/26 [00:14<00:00,  1.74it/s]\n",
            "                 Class     Images  Instances      Box(P          R      mAP50  mAP50-95): 100%|██████████| 1/1 [00:00<00:00,  1.56it/s]"
          ]
        },
        {
          "output_type": "stream",
          "name": "stdout",
          "text": [
            "                   all         30        162      0.628      0.083      0.093      0.033\n"
          ]
        },
        {
          "output_type": "stream",
          "name": "stderr",
          "text": [
            "\n"
          ]
        },
        {
          "output_type": "stream",
          "name": "stdout",
          "text": [
            "\n",
            "      Epoch    GPU_mem   box_loss   cls_loss   dfl_loss  Instances       Size\n"
          ]
        },
        {
          "output_type": "stream",
          "name": "stderr",
          "text": [
            "     14/200      7.36G      1.997      2.621      2.077         80        640: 100%|██████████| 26/26 [00:15<00:00,  1.68it/s]\n",
            "                 Class     Images  Instances      Box(P          R      mAP50  mAP50-95): 100%|██████████| 1/1 [00:00<00:00,  1.75it/s]"
          ]
        },
        {
          "output_type": "stream",
          "name": "stdout",
          "text": [
            "                   all         30        162      0.597      0.128     0.0996     0.0267\n"
          ]
        },
        {
          "output_type": "stream",
          "name": "stderr",
          "text": [
            "\n"
          ]
        },
        {
          "output_type": "stream",
          "name": "stdout",
          "text": [
            "\n",
            "      Epoch    GPU_mem   box_loss   cls_loss   dfl_loss  Instances       Size\n"
          ]
        },
        {
          "output_type": "stream",
          "name": "stderr",
          "text": [
            "     15/200      7.39G      1.986      2.574      2.073         81        640: 100%|██████████| 26/26 [00:14<00:00,  1.75it/s]\n",
            "                 Class     Images  Instances      Box(P          R      mAP50  mAP50-95): 100%|██████████| 1/1 [00:00<00:00,  1.74it/s]"
          ]
        },
        {
          "output_type": "stream",
          "name": "stdout",
          "text": [
            "                   all         30        162      0.147      0.152     0.0863     0.0356\n"
          ]
        },
        {
          "output_type": "stream",
          "name": "stderr",
          "text": [
            "\n"
          ]
        },
        {
          "output_type": "stream",
          "name": "stdout",
          "text": [
            "\n",
            "      Epoch    GPU_mem   box_loss   cls_loss   dfl_loss  Instances       Size\n"
          ]
        },
        {
          "output_type": "stream",
          "name": "stderr",
          "text": [
            "     16/200      7.24G      1.966       2.58      2.054         79        640: 100%|██████████| 26/26 [00:15<00:00,  1.72it/s]\n",
            "                 Class     Images  Instances      Box(P          R      mAP50  mAP50-95): 100%|██████████| 1/1 [00:00<00:00,  1.79it/s]"
          ]
        },
        {
          "output_type": "stream",
          "name": "stdout",
          "text": [
            "                   all         30        162      0.227      0.177      0.148     0.0596\n"
          ]
        },
        {
          "output_type": "stream",
          "name": "stderr",
          "text": [
            "\n"
          ]
        },
        {
          "output_type": "stream",
          "name": "stdout",
          "text": [
            "\n",
            "      Epoch    GPU_mem   box_loss   cls_loss   dfl_loss  Instances       Size\n"
          ]
        },
        {
          "output_type": "stream",
          "name": "stderr",
          "text": [
            "     17/200      6.72G      1.943      2.525       2.05         90        640: 100%|██████████| 26/26 [00:15<00:00,  1.72it/s]\n",
            "                 Class     Images  Instances      Box(P          R      mAP50  mAP50-95): 100%|██████████| 1/1 [00:00<00:00,  1.15it/s]"
          ]
        },
        {
          "output_type": "stream",
          "name": "stdout",
          "text": [
            "                   all         30        162      0.535      0.102     0.0603      0.022\n"
          ]
        },
        {
          "output_type": "stream",
          "name": "stderr",
          "text": [
            "\n"
          ]
        },
        {
          "output_type": "stream",
          "name": "stdout",
          "text": [
            "\n",
            "      Epoch    GPU_mem   box_loss   cls_loss   dfl_loss  Instances       Size\n"
          ]
        },
        {
          "output_type": "stream",
          "name": "stderr",
          "text": [
            "     18/200      7.06G      1.955      2.505      2.044         81        640: 100%|██████████| 26/26 [00:15<00:00,  1.73it/s]\n",
            "                 Class     Images  Instances      Box(P          R      mAP50  mAP50-95): 100%|██████████| 1/1 [00:00<00:00,  1.71it/s]"
          ]
        },
        {
          "output_type": "stream",
          "name": "stdout",
          "text": [
            "                   all         30        162      0.178      0.159      0.111     0.0319\n"
          ]
        },
        {
          "output_type": "stream",
          "name": "stderr",
          "text": [
            "\n"
          ]
        },
        {
          "output_type": "stream",
          "name": "stdout",
          "text": [
            "\n",
            "      Epoch    GPU_mem   box_loss   cls_loss   dfl_loss  Instances       Size\n"
          ]
        },
        {
          "output_type": "stream",
          "name": "stderr",
          "text": [
            "     19/200       7.1G      1.939      2.429      2.034         65        640: 100%|██████████| 26/26 [00:14<00:00,  1.78it/s]\n",
            "                 Class     Images  Instances      Box(P          R      mAP50  mAP50-95): 100%|██████████| 1/1 [00:00<00:00,  1.76it/s]"
          ]
        },
        {
          "output_type": "stream",
          "name": "stdout",
          "text": [
            "                   all         30        162      0.173      0.108     0.0717     0.0209\n"
          ]
        },
        {
          "output_type": "stream",
          "name": "stderr",
          "text": [
            "\n"
          ]
        },
        {
          "output_type": "stream",
          "name": "stdout",
          "text": [
            "\n",
            "      Epoch    GPU_mem   box_loss   cls_loss   dfl_loss  Instances       Size\n"
          ]
        },
        {
          "output_type": "stream",
          "name": "stderr",
          "text": [
            "     20/200      7.13G      1.934      2.416      2.011         48        640: 100%|██████████| 26/26 [00:15<00:00,  1.72it/s]\n",
            "                 Class     Images  Instances      Box(P          R      mAP50  mAP50-95): 100%|██████████| 1/1 [00:00<00:00,  1.82it/s]"
          ]
        },
        {
          "output_type": "stream",
          "name": "stdout",
          "text": [
            "                   all         30        162      0.419     0.0855     0.0938     0.0302\n"
          ]
        },
        {
          "output_type": "stream",
          "name": "stderr",
          "text": [
            "\n"
          ]
        },
        {
          "output_type": "stream",
          "name": "stdout",
          "text": [
            "\n",
            "      Epoch    GPU_mem   box_loss   cls_loss   dfl_loss  Instances       Size\n"
          ]
        },
        {
          "output_type": "stream",
          "name": "stderr",
          "text": [
            "     21/200      7.17G      1.924      2.409      2.011         57        640: 100%|██████████| 26/26 [00:15<00:00,  1.72it/s]\n",
            "                 Class     Images  Instances      Box(P          R      mAP50  mAP50-95): 100%|██████████| 1/1 [00:00<00:00,  1.11it/s]"
          ]
        },
        {
          "output_type": "stream",
          "name": "stdout",
          "text": [
            "                   all         30        162      0.344      0.131     0.0887      0.028\n"
          ]
        },
        {
          "output_type": "stream",
          "name": "stderr",
          "text": [
            "\n"
          ]
        },
        {
          "output_type": "stream",
          "name": "stdout",
          "text": [
            "\n",
            "      Epoch    GPU_mem   box_loss   cls_loss   dfl_loss  Instances       Size\n"
          ]
        },
        {
          "output_type": "stream",
          "name": "stderr",
          "text": [
            "     22/200      7.21G      1.901      2.376      1.982         77        640: 100%|██████████| 26/26 [00:14<00:00,  1.76it/s]\n",
            "                 Class     Images  Instances      Box(P          R      mAP50  mAP50-95): 100%|██████████| 1/1 [00:00<00:00,  1.85it/s]"
          ]
        },
        {
          "output_type": "stream",
          "name": "stdout",
          "text": [
            "                   all         30        162     0.0954       0.16     0.0737      0.023\n"
          ]
        },
        {
          "output_type": "stream",
          "name": "stderr",
          "text": [
            "\n"
          ]
        },
        {
          "output_type": "stream",
          "name": "stdout",
          "text": [
            "\n",
            "      Epoch    GPU_mem   box_loss   cls_loss   dfl_loss  Instances       Size\n"
          ]
        },
        {
          "output_type": "stream",
          "name": "stderr",
          "text": [
            "     23/200      7.24G      1.892      2.314      1.979         81        640: 100%|██████████| 26/26 [00:14<00:00,  1.78it/s]\n",
            "                 Class     Images  Instances      Box(P          R      mAP50  mAP50-95): 100%|██████████| 1/1 [00:00<00:00,  1.94it/s]"
          ]
        },
        {
          "output_type": "stream",
          "name": "stdout",
          "text": [
            "                   all         30        162      0.074      0.125     0.0563     0.0195\n"
          ]
        },
        {
          "output_type": "stream",
          "name": "stderr",
          "text": [
            "\n"
          ]
        },
        {
          "output_type": "stream",
          "name": "stdout",
          "text": [
            "\n",
            "      Epoch    GPU_mem   box_loss   cls_loss   dfl_loss  Instances       Size\n"
          ]
        },
        {
          "output_type": "stream",
          "name": "stderr",
          "text": [
            "     24/200      7.28G      1.894      2.304      1.958         78        640: 100%|██████████| 26/26 [00:15<00:00,  1.70it/s]\n",
            "                 Class     Images  Instances      Box(P          R      mAP50  mAP50-95): 100%|██████████| 1/1 [00:00<00:00,  1.83it/s]"
          ]
        },
        {
          "output_type": "stream",
          "name": "stdout",
          "text": [
            "                   all         30        162      0.519      0.123      0.127     0.0415\n"
          ]
        },
        {
          "output_type": "stream",
          "name": "stderr",
          "text": [
            "\n"
          ]
        },
        {
          "output_type": "stream",
          "name": "stdout",
          "text": [
            "\n",
            "      Epoch    GPU_mem   box_loss   cls_loss   dfl_loss  Instances       Size\n"
          ]
        },
        {
          "output_type": "stream",
          "name": "stderr",
          "text": [
            "     25/200      7.31G      1.884      2.289      1.963         65        640: 100%|██████████| 26/26 [00:15<00:00,  1.73it/s]\n",
            "                 Class     Images  Instances      Box(P          R      mAP50  mAP50-95): 100%|██████████| 1/1 [00:00<00:00,  1.37it/s]"
          ]
        },
        {
          "output_type": "stream",
          "name": "stdout",
          "text": [
            "                   all         30        162       0.18      0.103     0.0817     0.0298\n"
          ]
        },
        {
          "output_type": "stream",
          "name": "stderr",
          "text": [
            "\n"
          ]
        },
        {
          "output_type": "stream",
          "name": "stdout",
          "text": [
            "\n",
            "      Epoch    GPU_mem   box_loss   cls_loss   dfl_loss  Instances       Size\n"
          ]
        },
        {
          "output_type": "stream",
          "name": "stderr",
          "text": [
            "     26/200      7.35G      1.879      2.261      1.969        108        640: 100%|██████████| 26/26 [00:15<00:00,  1.69it/s]\n",
            "                 Class     Images  Instances      Box(P          R      mAP50  mAP50-95): 100%|██████████| 1/1 [00:00<00:00,  1.81it/s]"
          ]
        },
        {
          "output_type": "stream",
          "name": "stdout",
          "text": [
            "                   all         30        162      0.236      0.153      0.141     0.0454\n"
          ]
        },
        {
          "output_type": "stream",
          "name": "stderr",
          "text": [
            "\n"
          ]
        },
        {
          "output_type": "stream",
          "name": "stdout",
          "text": [
            "\n",
            "      Epoch    GPU_mem   box_loss   cls_loss   dfl_loss  Instances       Size\n"
          ]
        },
        {
          "output_type": "stream",
          "name": "stderr",
          "text": [
            "     27/200      7.39G      1.841      2.212      1.944         49        640: 100%|██████████| 26/26 [00:14<00:00,  1.77it/s]\n",
            "                 Class     Images  Instances      Box(P          R      mAP50  mAP50-95): 100%|██████████| 1/1 [00:00<00:00,  1.62it/s]"
          ]
        },
        {
          "output_type": "stream",
          "name": "stdout",
          "text": [
            "                   all         30        162      0.176       0.13       0.11     0.0473\n"
          ]
        },
        {
          "output_type": "stream",
          "name": "stderr",
          "text": [
            "\n"
          ]
        },
        {
          "output_type": "stream",
          "name": "stdout",
          "text": [
            "\n",
            "      Epoch    GPU_mem   box_loss   cls_loss   dfl_loss  Instances       Size\n"
          ]
        },
        {
          "output_type": "stream",
          "name": "stderr",
          "text": [
            "     28/200      7.56G      1.861      2.195       1.95         56        640: 100%|██████████| 26/26 [00:14<00:00,  1.74it/s]\n",
            "                 Class     Images  Instances      Box(P          R      mAP50  mAP50-95): 100%|██████████| 1/1 [00:00<00:00,  2.00it/s]"
          ]
        },
        {
          "output_type": "stream",
          "name": "stdout",
          "text": [
            "                   all         30        162      0.111      0.116     0.0656     0.0238\n"
          ]
        },
        {
          "output_type": "stream",
          "name": "stderr",
          "text": [
            "\n"
          ]
        },
        {
          "output_type": "stream",
          "name": "stdout",
          "text": [
            "\n",
            "      Epoch    GPU_mem   box_loss   cls_loss   dfl_loss  Instances       Size\n"
          ]
        },
        {
          "output_type": "stream",
          "name": "stderr",
          "text": [
            "     29/200      7.13G      1.815      2.179      1.939         55        640: 100%|██████████| 26/26 [00:15<00:00,  1.73it/s]\n",
            "                 Class     Images  Instances      Box(P          R      mAP50  mAP50-95): 100%|██████████| 1/1 [00:00<00:00,  1.28it/s]"
          ]
        },
        {
          "output_type": "stream",
          "name": "stdout",
          "text": [
            "                   all         30        162      0.171      0.155      0.108     0.0384\n"
          ]
        },
        {
          "output_type": "stream",
          "name": "stderr",
          "text": [
            "\n"
          ]
        },
        {
          "output_type": "stream",
          "name": "stdout",
          "text": [
            "\n",
            "      Epoch    GPU_mem   box_loss   cls_loss   dfl_loss  Instances       Size\n"
          ]
        },
        {
          "output_type": "stream",
          "name": "stderr",
          "text": [
            "     30/200      7.09G       1.82      2.132      1.926         74        640: 100%|██████████| 26/26 [00:14<00:00,  1.73it/s]\n",
            "                 Class     Images  Instances      Box(P          R      mAP50  mAP50-95): 100%|██████████| 1/1 [00:00<00:00,  1.89it/s]"
          ]
        },
        {
          "output_type": "stream",
          "name": "stdout",
          "text": [
            "                   all         30        162      0.158      0.133     0.0976     0.0263\n"
          ]
        },
        {
          "output_type": "stream",
          "name": "stderr",
          "text": [
            "\n"
          ]
        },
        {
          "output_type": "stream",
          "name": "stdout",
          "text": [
            "\n",
            "      Epoch    GPU_mem   box_loss   cls_loss   dfl_loss  Instances       Size\n"
          ]
        },
        {
          "output_type": "stream",
          "name": "stderr",
          "text": [
            "     31/200      6.85G      1.812      2.086      1.908         61        640: 100%|██████████| 26/26 [00:14<00:00,  1.75it/s]\n",
            "                 Class     Images  Instances      Box(P          R      mAP50  mAP50-95): 100%|██████████| 1/1 [00:00<00:00,  1.72it/s]"
          ]
        },
        {
          "output_type": "stream",
          "name": "stdout",
          "text": [
            "                   all         30        162      0.214      0.174      0.144     0.0477\n"
          ]
        },
        {
          "output_type": "stream",
          "name": "stderr",
          "text": [
            "\n"
          ]
        },
        {
          "output_type": "stream",
          "name": "stdout",
          "text": [
            "\n",
            "      Epoch    GPU_mem   box_loss   cls_loss   dfl_loss  Instances       Size\n"
          ]
        },
        {
          "output_type": "stream",
          "name": "stderr",
          "text": [
            "     32/200      7.19G        1.8      2.102      1.901         61        640: 100%|██████████| 26/26 [00:15<00:00,  1.69it/s]\n",
            "                 Class     Images  Instances      Box(P          R      mAP50  mAP50-95): 100%|██████████| 1/1 [00:00<00:00,  1.80it/s]"
          ]
        },
        {
          "output_type": "stream",
          "name": "stdout",
          "text": [
            "                   all         30        162      0.227        0.2      0.139     0.0388\n"
          ]
        },
        {
          "output_type": "stream",
          "name": "stderr",
          "text": [
            "\n"
          ]
        },
        {
          "output_type": "stream",
          "name": "stdout",
          "text": [
            "\n",
            "      Epoch    GPU_mem   box_loss   cls_loss   dfl_loss  Instances       Size\n"
          ]
        },
        {
          "output_type": "stream",
          "name": "stderr",
          "text": [
            "     33/200      7.23G      1.766      2.044      1.891         99        640: 100%|██████████| 26/26 [00:15<00:00,  1.70it/s]\n",
            "                 Class     Images  Instances      Box(P          R      mAP50  mAP50-95): 100%|██████████| 1/1 [00:00<00:00,  1.49it/s]"
          ]
        },
        {
          "output_type": "stream",
          "name": "stdout",
          "text": [
            "                   all         30        162      0.131      0.124     0.0829     0.0274\n"
          ]
        },
        {
          "output_type": "stream",
          "name": "stderr",
          "text": [
            "\n"
          ]
        },
        {
          "output_type": "stream",
          "name": "stdout",
          "text": [
            "\n",
            "      Epoch    GPU_mem   box_loss   cls_loss   dfl_loss  Instances       Size\n"
          ]
        },
        {
          "output_type": "stream",
          "name": "stderr",
          "text": [
            "     34/200      7.27G      1.764      1.998      1.876         98        640: 100%|██████████| 26/26 [00:14<00:00,  1.77it/s]\n",
            "                 Class     Images  Instances      Box(P          R      mAP50  mAP50-95): 100%|██████████| 1/1 [00:00<00:00,  1.74it/s]"
          ]
        },
        {
          "output_type": "stream",
          "name": "stdout",
          "text": [
            "                   all         30        162      0.226      0.173      0.109      0.038\n"
          ]
        },
        {
          "output_type": "stream",
          "name": "stderr",
          "text": [
            "\n"
          ]
        },
        {
          "output_type": "stream",
          "name": "stdout",
          "text": [
            "\n",
            "      Epoch    GPU_mem   box_loss   cls_loss   dfl_loss  Instances       Size\n"
          ]
        },
        {
          "output_type": "stream",
          "name": "stderr",
          "text": [
            "     35/200       7.3G      1.747      1.992       1.86        100        640: 100%|██████████| 26/26 [00:14<00:00,  1.76it/s]\n",
            "                 Class     Images  Instances      Box(P          R      mAP50  mAP50-95): 100%|██████████| 1/1 [00:00<00:00,  2.20it/s]"
          ]
        },
        {
          "output_type": "stream",
          "name": "stdout",
          "text": [
            "                   all         30        162      0.376      0.127      0.129     0.0439\n"
          ]
        },
        {
          "output_type": "stream",
          "name": "stderr",
          "text": [
            "\n"
          ]
        },
        {
          "output_type": "stream",
          "name": "stdout",
          "text": [
            "\n",
            "      Epoch    GPU_mem   box_loss   cls_loss   dfl_loss  Instances       Size\n"
          ]
        },
        {
          "output_type": "stream",
          "name": "stderr",
          "text": [
            "     36/200      7.34G      1.753      1.946      1.852         72        640: 100%|██████████| 26/26 [00:15<00:00,  1.71it/s]\n",
            "                 Class     Images  Instances      Box(P          R      mAP50  mAP50-95): 100%|██████████| 1/1 [00:00<00:00,  1.88it/s]"
          ]
        },
        {
          "output_type": "stream",
          "name": "stdout",
          "text": [
            "                   all         30        162      0.109      0.108      0.076     0.0235\n"
          ]
        },
        {
          "output_type": "stream",
          "name": "stderr",
          "text": [
            "\n"
          ]
        },
        {
          "output_type": "stream",
          "name": "stdout",
          "text": [
            "\n",
            "      Epoch    GPU_mem   box_loss   cls_loss   dfl_loss  Instances       Size\n"
          ]
        },
        {
          "output_type": "stream",
          "name": "stderr",
          "text": [
            "     37/200      7.38G      1.733      1.986      1.856         46        640: 100%|██████████| 26/26 [00:14<00:00,  1.74it/s]\n",
            "                 Class     Images  Instances      Box(P          R      mAP50  mAP50-95): 100%|██████████| 1/1 [00:00<00:00,  1.40it/s]"
          ]
        },
        {
          "output_type": "stream",
          "name": "stdout",
          "text": [
            "                   all         30        162      0.305      0.116     0.0938     0.0229\n"
          ]
        },
        {
          "output_type": "stream",
          "name": "stderr",
          "text": [
            "\n"
          ]
        },
        {
          "output_type": "stream",
          "name": "stdout",
          "text": [
            "\n",
            "      Epoch    GPU_mem   box_loss   cls_loss   dfl_loss  Instances       Size\n"
          ]
        },
        {
          "output_type": "stream",
          "name": "stderr",
          "text": [
            "     38/200      6.79G      1.714      1.863      1.827         72        640: 100%|██████████| 26/26 [00:14<00:00,  1.77it/s]\n",
            "                 Class     Images  Instances      Box(P          R      mAP50  mAP50-95): 100%|██████████| 1/1 [00:00<00:00,  1.99it/s]"
          ]
        },
        {
          "output_type": "stream",
          "name": "stdout",
          "text": [
            "                   all         30        162      0.228      0.108      0.123     0.0363\n"
          ]
        },
        {
          "output_type": "stream",
          "name": "stderr",
          "text": [
            "\n"
          ]
        },
        {
          "output_type": "stream",
          "name": "stdout",
          "text": [
            "\n",
            "      Epoch    GPU_mem   box_loss   cls_loss   dfl_loss  Instances       Size\n"
          ]
        },
        {
          "output_type": "stream",
          "name": "stderr",
          "text": [
            "     39/200       7.1G      1.706      1.856       1.82         74        640: 100%|██████████| 26/26 [00:15<00:00,  1.72it/s]\n",
            "                 Class     Images  Instances      Box(P          R      mAP50  mAP50-95): 100%|██████████| 1/1 [00:00<00:00,  1.88it/s]"
          ]
        },
        {
          "output_type": "stream",
          "name": "stdout",
          "text": [
            "                   all         30        162      0.256      0.171      0.122      0.046\n"
          ]
        },
        {
          "output_type": "stream",
          "name": "stderr",
          "text": [
            "\n"
          ]
        },
        {
          "output_type": "stream",
          "name": "stdout",
          "text": [
            "\n",
            "      Epoch    GPU_mem   box_loss   cls_loss   dfl_loss  Instances       Size\n"
          ]
        },
        {
          "output_type": "stream",
          "name": "stderr",
          "text": [
            "     40/200       7.1G      1.714      1.855      1.836         65        640: 100%|██████████| 26/26 [00:15<00:00,  1.73it/s]\n",
            "                 Class     Images  Instances      Box(P          R      mAP50  mAP50-95): 100%|██████████| 1/1 [00:00<00:00,  1.41it/s]"
          ]
        },
        {
          "output_type": "stream",
          "name": "stdout",
          "text": [
            "                   all         30        162      0.199      0.136     0.0905     0.0298\n"
          ]
        },
        {
          "output_type": "stream",
          "name": "stderr",
          "text": [
            "\n"
          ]
        },
        {
          "output_type": "stream",
          "name": "stdout",
          "text": [
            "\n",
            "      Epoch    GPU_mem   box_loss   cls_loss   dfl_loss  Instances       Size\n"
          ]
        },
        {
          "output_type": "stream",
          "name": "stderr",
          "text": [
            "     41/200      7.13G      1.683      1.825      1.817         95        640: 100%|██████████| 26/26 [00:15<00:00,  1.73it/s]\n",
            "                 Class     Images  Instances      Box(P          R      mAP50  mAP50-95): 100%|██████████| 1/1 [00:00<00:00,  1.98it/s]"
          ]
        },
        {
          "output_type": "stream",
          "name": "stdout",
          "text": [
            "                   all         30        162      0.144       0.15      0.105     0.0484\n"
          ]
        },
        {
          "output_type": "stream",
          "name": "stderr",
          "text": [
            "\n"
          ]
        },
        {
          "output_type": "stream",
          "name": "stdout",
          "text": [
            "\n",
            "      Epoch    GPU_mem   box_loss   cls_loss   dfl_loss  Instances       Size\n"
          ]
        },
        {
          "output_type": "stream",
          "name": "stderr",
          "text": [
            "     42/200      7.17G      1.686      1.802      1.793         72        640: 100%|██████████| 26/26 [00:14<00:00,  1.74it/s]\n",
            "                 Class     Images  Instances      Box(P          R      mAP50  mAP50-95): 100%|██████████| 1/1 [00:00<00:00,  1.47it/s]"
          ]
        },
        {
          "output_type": "stream",
          "name": "stdout",
          "text": [
            "                   all         30        162      0.273      0.148      0.124     0.0511\n"
          ]
        },
        {
          "output_type": "stream",
          "name": "stderr",
          "text": [
            "\n"
          ]
        },
        {
          "output_type": "stream",
          "name": "stdout",
          "text": [
            "\n",
            "      Epoch    GPU_mem   box_loss   cls_loss   dfl_loss  Instances       Size\n"
          ]
        },
        {
          "output_type": "stream",
          "name": "stderr",
          "text": [
            "     43/200       7.2G      1.681      1.776      1.787         54        640: 100%|██████████| 26/26 [00:14<00:00,  1.74it/s]\n",
            "                 Class     Images  Instances      Box(P          R      mAP50  mAP50-95): 100%|██████████| 1/1 [00:00<00:00,  1.94it/s]"
          ]
        },
        {
          "output_type": "stream",
          "name": "stdout",
          "text": [
            "                   all         30        162      0.215      0.164      0.138       0.05\n"
          ]
        },
        {
          "output_type": "stream",
          "name": "stderr",
          "text": [
            "\n"
          ]
        },
        {
          "output_type": "stream",
          "name": "stdout",
          "text": [
            "\n",
            "      Epoch    GPU_mem   box_loss   cls_loss   dfl_loss  Instances       Size\n"
          ]
        },
        {
          "output_type": "stream",
          "name": "stderr",
          "text": [
            "     44/200      7.24G      1.649      1.757       1.79         43        640: 100%|██████████| 26/26 [00:15<00:00,  1.72it/s]\n",
            "                 Class     Images  Instances      Box(P          R      mAP50  mAP50-95): 100%|██████████| 1/1 [00:00<00:00,  1.45it/s]"
          ]
        },
        {
          "output_type": "stream",
          "name": "stdout",
          "text": [
            "                   all         30        162      0.207      0.212       0.14     0.0533\n"
          ]
        },
        {
          "output_type": "stream",
          "name": "stderr",
          "text": [
            "\n"
          ]
        },
        {
          "output_type": "stream",
          "name": "stdout",
          "text": [
            "\n",
            "      Epoch    GPU_mem   box_loss   cls_loss   dfl_loss  Instances       Size\n"
          ]
        },
        {
          "output_type": "stream",
          "name": "stderr",
          "text": [
            "     45/200      7.28G      1.642      1.694      1.775         62        640: 100%|██████████| 26/26 [00:15<00:00,  1.71it/s]\n",
            "                 Class     Images  Instances      Box(P          R      mAP50  mAP50-95): 100%|██████████| 1/1 [00:00<00:00,  2.12it/s]"
          ]
        },
        {
          "output_type": "stream",
          "name": "stdout",
          "text": [
            "                   all         30        162      0.173      0.158      0.127     0.0496\n"
          ]
        },
        {
          "output_type": "stream",
          "name": "stderr",
          "text": [
            "\n"
          ]
        },
        {
          "output_type": "stream",
          "name": "stdout",
          "text": [
            "\n",
            "      Epoch    GPU_mem   box_loss   cls_loss   dfl_loss  Instances       Size\n"
          ]
        },
        {
          "output_type": "stream",
          "name": "stderr",
          "text": [
            "     46/200      7.31G      1.637      1.663      1.754         51        640: 100%|██████████| 26/26 [00:15<00:00,  1.65it/s]\n",
            "                 Class     Images  Instances      Box(P          R      mAP50  mAP50-95): 100%|██████████| 1/1 [00:00<00:00,  2.04it/s]"
          ]
        },
        {
          "output_type": "stream",
          "name": "stdout",
          "text": [
            "                   all         30        162       0.48       0.12      0.142     0.0585\n"
          ]
        },
        {
          "output_type": "stream",
          "name": "stderr",
          "text": [
            "\n"
          ]
        },
        {
          "output_type": "stream",
          "name": "stdout",
          "text": [
            "\n",
            "      Epoch    GPU_mem   box_loss   cls_loss   dfl_loss  Instances       Size\n"
          ]
        },
        {
          "output_type": "stream",
          "name": "stderr",
          "text": [
            "     47/200      7.35G      1.647      1.668      1.763         83        640: 100%|██████████| 26/26 [00:14<00:00,  1.75it/s]\n",
            "                 Class     Images  Instances      Box(P          R      mAP50  mAP50-95): 100%|██████████| 1/1 [00:00<00:00,  1.92it/s]"
          ]
        },
        {
          "output_type": "stream",
          "name": "stdout",
          "text": [
            "                   all         30        162      0.275      0.105     0.0953     0.0397\n"
          ]
        },
        {
          "output_type": "stream",
          "name": "stderr",
          "text": [
            "\n"
          ]
        },
        {
          "output_type": "stream",
          "name": "stdout",
          "text": [
            "\n",
            "      Epoch    GPU_mem   box_loss   cls_loss   dfl_loss  Instances       Size\n"
          ]
        },
        {
          "output_type": "stream",
          "name": "stderr",
          "text": [
            "     48/200      7.38G      1.613      1.633      1.739         60        640: 100%|██████████| 26/26 [00:14<00:00,  1.75it/s]\n",
            "                 Class     Images  Instances      Box(P          R      mAP50  mAP50-95): 100%|██████████| 1/1 [00:00<00:00,  1.37it/s]"
          ]
        },
        {
          "output_type": "stream",
          "name": "stdout",
          "text": [
            "                   all         30        162      0.143       0.16     0.0771      0.029\n"
          ]
        },
        {
          "output_type": "stream",
          "name": "stderr",
          "text": [
            "\n"
          ]
        },
        {
          "output_type": "stream",
          "name": "stdout",
          "text": [
            "\n",
            "      Epoch    GPU_mem   box_loss   cls_loss   dfl_loss  Instances       Size\n"
          ]
        },
        {
          "output_type": "stream",
          "name": "stderr",
          "text": [
            "     49/200      7.15G      1.589      1.619      1.731        103        640: 100%|██████████| 26/26 [00:15<00:00,  1.73it/s]\n",
            "                 Class     Images  Instances      Box(P          R      mAP50  mAP50-95): 100%|██████████| 1/1 [00:00<00:00,  2.05it/s]"
          ]
        },
        {
          "output_type": "stream",
          "name": "stdout",
          "text": [
            "                   all         30        162      0.314      0.173       0.15     0.0549\n"
          ]
        },
        {
          "output_type": "stream",
          "name": "stderr",
          "text": [
            "\n"
          ]
        },
        {
          "output_type": "stream",
          "name": "stdout",
          "text": [
            "\n",
            "      Epoch    GPU_mem   box_loss   cls_loss   dfl_loss  Instances       Size\n"
          ]
        },
        {
          "output_type": "stream",
          "name": "stderr",
          "text": [
            "     50/200      7.09G       1.61       1.65      1.741         69        640: 100%|██████████| 26/26 [00:15<00:00,  1.73it/s]\n",
            "                 Class     Images  Instances      Box(P          R      mAP50  mAP50-95): 100%|██████████| 1/1 [00:00<00:00,  2.52it/s]"
          ]
        },
        {
          "output_type": "stream",
          "name": "stdout",
          "text": [
            "                   all         30        162      0.216     0.0958     0.0634     0.0219\n"
          ]
        },
        {
          "output_type": "stream",
          "name": "stderr",
          "text": [
            "\n"
          ]
        },
        {
          "output_type": "stream",
          "name": "stdout",
          "text": [
            "\n",
            "      Epoch    GPU_mem   box_loss   cls_loss   dfl_loss  Instances       Size\n"
          ]
        },
        {
          "output_type": "stream",
          "name": "stderr",
          "text": [
            "     51/200      7.09G      1.542      1.576      1.699         81        640: 100%|██████████| 26/26 [00:14<00:00,  1.75it/s]\n",
            "                 Class     Images  Instances      Box(P          R      mAP50  mAP50-95): 100%|██████████| 1/1 [00:00<00:00,  1.84it/s]"
          ]
        },
        {
          "output_type": "stream",
          "name": "stdout",
          "text": [
            "                   all         30        162      0.202      0.144     0.0999     0.0243\n"
          ]
        },
        {
          "output_type": "stream",
          "name": "stderr",
          "text": [
            "\n"
          ]
        },
        {
          "output_type": "stream",
          "name": "stdout",
          "text": [
            "\n",
            "      Epoch    GPU_mem   box_loss   cls_loss   dfl_loss  Instances       Size\n"
          ]
        },
        {
          "output_type": "stream",
          "name": "stderr",
          "text": [
            "     52/200      6.78G       1.56      1.541      1.686         60        640: 100%|██████████| 26/26 [00:14<00:00,  1.75it/s]\n",
            "                 Class     Images  Instances      Box(P          R      mAP50  mAP50-95): 100%|██████████| 1/1 [00:00<00:00,  1.30it/s]"
          ]
        },
        {
          "output_type": "stream",
          "name": "stdout",
          "text": [
            "                   all         30        162      0.234       0.11     0.0887      0.028\n"
          ]
        },
        {
          "output_type": "stream",
          "name": "stderr",
          "text": [
            "\n"
          ]
        },
        {
          "output_type": "stream",
          "name": "stdout",
          "text": [
            "\n",
            "      Epoch    GPU_mem   box_loss   cls_loss   dfl_loss  Instances       Size\n"
          ]
        },
        {
          "output_type": "stream",
          "name": "stderr",
          "text": [
            "     53/200      7.12G       1.57      1.543      1.693         95        640: 100%|██████████| 26/26 [00:14<00:00,  1.74it/s]\n",
            "                 Class     Images  Instances      Box(P          R      mAP50  mAP50-95): 100%|██████████| 1/1 [00:00<00:00,  2.21it/s]"
          ]
        },
        {
          "output_type": "stream",
          "name": "stdout",
          "text": [
            "                   all         30        162      0.152      0.148     0.0758     0.0267\n"
          ]
        },
        {
          "output_type": "stream",
          "name": "stderr",
          "text": [
            "\n"
          ]
        },
        {
          "output_type": "stream",
          "name": "stdout",
          "text": [
            "\n",
            "      Epoch    GPU_mem   box_loss   cls_loss   dfl_loss  Instances       Size\n"
          ]
        },
        {
          "output_type": "stream",
          "name": "stderr",
          "text": [
            "     54/200      7.16G      1.559      1.542      1.713         47        640: 100%|██████████| 26/26 [00:15<00:00,  1.72it/s]\n",
            "                 Class     Images  Instances      Box(P          R      mAP50  mAP50-95): 100%|██████████| 1/1 [00:00<00:00,  1.98it/s]"
          ]
        },
        {
          "output_type": "stream",
          "name": "stdout",
          "text": [
            "                   all         30        162      0.113      0.171     0.0727     0.0282\n"
          ]
        },
        {
          "output_type": "stream",
          "name": "stderr",
          "text": [
            "\n"
          ]
        },
        {
          "output_type": "stream",
          "name": "stdout",
          "text": [
            "\n",
            "      Epoch    GPU_mem   box_loss   cls_loss   dfl_loss  Instances       Size\n"
          ]
        },
        {
          "output_type": "stream",
          "name": "stderr",
          "text": [
            "     55/200      7.19G      1.509      1.448      1.655         53        640: 100%|██████████| 26/26 [00:15<00:00,  1.73it/s]\n",
            "                 Class     Images  Instances      Box(P          R      mAP50  mAP50-95): 100%|██████████| 1/1 [00:00<00:00,  2.00it/s]"
          ]
        },
        {
          "output_type": "stream",
          "name": "stdout",
          "text": [
            "                   all         30        162      0.231       0.13      0.106     0.0525\n"
          ]
        },
        {
          "output_type": "stream",
          "name": "stderr",
          "text": [
            "\n"
          ]
        },
        {
          "output_type": "stream",
          "name": "stdout",
          "text": [
            "\n",
            "      Epoch    GPU_mem   box_loss   cls_loss   dfl_loss  Instances       Size\n"
          ]
        },
        {
          "output_type": "stream",
          "name": "stderr",
          "text": [
            "     56/200      7.23G      1.514      1.455      1.654         82        640: 100%|██████████| 26/26 [00:15<00:00,  1.72it/s]\n",
            "                 Class     Images  Instances      Box(P          R      mAP50  mAP50-95): 100%|██████████| 1/1 [00:00<00:00,  1.21it/s]"
          ]
        },
        {
          "output_type": "stream",
          "name": "stdout",
          "text": [
            "                   all         30        162      0.477      0.128      0.112     0.0513\n"
          ]
        },
        {
          "output_type": "stream",
          "name": "stderr",
          "text": [
            "\n"
          ]
        },
        {
          "output_type": "stream",
          "name": "stdout",
          "text": [
            "\n",
            "      Epoch    GPU_mem   box_loss   cls_loss   dfl_loss  Instances       Size\n"
          ]
        },
        {
          "output_type": "stream",
          "name": "stderr",
          "text": [
            "     57/200      7.26G        1.5      1.435      1.636         92        640: 100%|██████████| 26/26 [00:15<00:00,  1.71it/s]\n",
            "                 Class     Images  Instances      Box(P          R      mAP50  mAP50-95): 100%|██████████| 1/1 [00:00<00:00,  1.91it/s]"
          ]
        },
        {
          "output_type": "stream",
          "name": "stdout",
          "text": [
            "                   all         30        162      0.201      0.114     0.0939     0.0402\n"
          ]
        },
        {
          "output_type": "stream",
          "name": "stderr",
          "text": [
            "\n"
          ]
        },
        {
          "output_type": "stream",
          "name": "stdout",
          "text": [
            "\n",
            "      Epoch    GPU_mem   box_loss   cls_loss   dfl_loss  Instances       Size\n"
          ]
        },
        {
          "output_type": "stream",
          "name": "stderr",
          "text": [
            "     58/200       7.3G      1.513       1.45      1.639         72        640: 100%|██████████| 26/26 [00:14<00:00,  1.76it/s]\n",
            "                 Class     Images  Instances      Box(P          R      mAP50  mAP50-95): 100%|██████████| 1/1 [00:00<00:00,  2.01it/s]"
          ]
        },
        {
          "output_type": "stream",
          "name": "stdout",
          "text": [
            "                   all         30        162       0.18      0.184      0.111      0.045\n"
          ]
        },
        {
          "output_type": "stream",
          "name": "stderr",
          "text": [
            "\n"
          ]
        },
        {
          "output_type": "stream",
          "name": "stdout",
          "text": [
            "\n",
            "      Epoch    GPU_mem   box_loss   cls_loss   dfl_loss  Instances       Size\n"
          ]
        },
        {
          "output_type": "stream",
          "name": "stderr",
          "text": [
            "     59/200      7.33G      1.496      1.411      1.616         47        640: 100%|██████████| 26/26 [00:15<00:00,  1.73it/s]\n",
            "                 Class     Images  Instances      Box(P          R      mAP50  mAP50-95): 100%|██████████| 1/1 [00:00<00:00,  1.99it/s]"
          ]
        },
        {
          "output_type": "stream",
          "name": "stdout",
          "text": [
            "                   all         30        162      0.215      0.146      0.111     0.0466\n"
          ]
        },
        {
          "output_type": "stream",
          "name": "stderr",
          "text": [
            "\n"
          ]
        },
        {
          "output_type": "stream",
          "name": "stdout",
          "text": [
            "\n",
            "      Epoch    GPU_mem   box_loss   cls_loss   dfl_loss  Instances       Size\n"
          ]
        },
        {
          "output_type": "stream",
          "name": "stderr",
          "text": [
            "     60/200      7.37G      1.489      1.394      1.618         52        640: 100%|██████████| 26/26 [00:15<00:00,  1.72it/s]\n",
            "                 Class     Images  Instances      Box(P          R      mAP50  mAP50-95): 100%|██████████| 1/1 [00:00<00:00,  1.50it/s]"
          ]
        },
        {
          "output_type": "stream",
          "name": "stdout",
          "text": [
            "                   all         30        162      0.238      0.223      0.151     0.0582\n"
          ]
        },
        {
          "output_type": "stream",
          "name": "stderr",
          "text": [
            "\n"
          ]
        },
        {
          "output_type": "stream",
          "name": "stdout",
          "text": [
            "\n",
            "      Epoch    GPU_mem   box_loss   cls_loss   dfl_loss  Instances       Size\n"
          ]
        },
        {
          "output_type": "stream",
          "name": "stderr",
          "text": [
            "     61/200      7.31G      1.477      1.379      1.609         68        640: 100%|██████████| 26/26 [00:14<00:00,  1.74it/s]\n",
            "                 Class     Images  Instances      Box(P          R      mAP50  mAP50-95): 100%|██████████| 1/1 [00:00<00:00,  2.08it/s]"
          ]
        },
        {
          "output_type": "stream",
          "name": "stdout",
          "text": [
            "                   all         30        162      0.119      0.144     0.0815      0.034\n"
          ]
        },
        {
          "output_type": "stream",
          "name": "stderr",
          "text": [
            "\n"
          ]
        },
        {
          "output_type": "stream",
          "name": "stdout",
          "text": [
            "\n",
            "      Epoch    GPU_mem   box_loss   cls_loss   dfl_loss  Instances       Size\n"
          ]
        },
        {
          "output_type": "stream",
          "name": "stderr",
          "text": [
            "     62/200      6.79G      1.452      1.316      1.583         67        640: 100%|██████████| 26/26 [00:14<00:00,  1.76it/s]\n",
            "                 Class     Images  Instances      Box(P          R      mAP50  mAP50-95): 100%|██████████| 1/1 [00:00<00:00,  1.85it/s]"
          ]
        },
        {
          "output_type": "stream",
          "name": "stdout",
          "text": [
            "                   all         30        162      0.311       0.13      0.134     0.0538\n"
          ]
        },
        {
          "output_type": "stream",
          "name": "stderr",
          "text": [
            "\n"
          ]
        },
        {
          "output_type": "stream",
          "name": "stdout",
          "text": [
            "\n",
            "      Epoch    GPU_mem   box_loss   cls_loss   dfl_loss  Instances       Size\n"
          ]
        },
        {
          "output_type": "stream",
          "name": "stderr",
          "text": [
            "     63/200      7.12G      1.461      1.331      1.589         78        640: 100%|██████████| 26/26 [00:14<00:00,  1.77it/s]\n",
            "                 Class     Images  Instances      Box(P          R      mAP50  mAP50-95): 100%|██████████| 1/1 [00:00<00:00,  2.05it/s]"
          ]
        },
        {
          "output_type": "stream",
          "name": "stdout",
          "text": [
            "                   all         30        162      0.254      0.144     0.0866     0.0303\n"
          ]
        },
        {
          "output_type": "stream",
          "name": "stderr",
          "text": [
            "\n"
          ]
        },
        {
          "output_type": "stream",
          "name": "stdout",
          "text": [
            "\n",
            "      Epoch    GPU_mem   box_loss   cls_loss   dfl_loss  Instances       Size\n"
          ]
        },
        {
          "output_type": "stream",
          "name": "stderr",
          "text": [
            "     64/200      7.16G      1.453      1.325      1.573        106        640: 100%|██████████| 26/26 [00:15<00:00,  1.73it/s]\n",
            "                 Class     Images  Instances      Box(P          R      mAP50  mAP50-95): 100%|██████████| 1/1 [00:00<00:00,  1.49it/s]"
          ]
        },
        {
          "output_type": "stream",
          "name": "stdout",
          "text": [
            "                   all         30        162      0.405      0.143      0.142     0.0628\n"
          ]
        },
        {
          "output_type": "stream",
          "name": "stderr",
          "text": [
            "\n"
          ]
        },
        {
          "output_type": "stream",
          "name": "stdout",
          "text": [
            "\n",
            "      Epoch    GPU_mem   box_loss   cls_loss   dfl_loss  Instances       Size\n"
          ]
        },
        {
          "output_type": "stream",
          "name": "stderr",
          "text": [
            "     65/200       7.2G       1.42      1.286      1.571         61        640: 100%|██████████| 26/26 [00:14<00:00,  1.76it/s]\n",
            "                 Class     Images  Instances      Box(P          R      mAP50  mAP50-95): 100%|██████████| 1/1 [00:00<00:00,  2.00it/s]"
          ]
        },
        {
          "output_type": "stream",
          "name": "stdout",
          "text": [
            "                   all         30        162       0.27      0.205      0.142     0.0492\n"
          ]
        },
        {
          "output_type": "stream",
          "name": "stderr",
          "text": [
            "\n"
          ]
        },
        {
          "output_type": "stream",
          "name": "stdout",
          "text": [
            "\n",
            "      Epoch    GPU_mem   box_loss   cls_loss   dfl_loss  Instances       Size\n"
          ]
        },
        {
          "output_type": "stream",
          "name": "stderr",
          "text": [
            "     66/200      7.23G      1.418      1.318      1.565         22        640: 100%|██████████| 26/26 [00:14<00:00,  1.78it/s]\n",
            "                 Class     Images  Instances      Box(P          R      mAP50  mAP50-95): 100%|██████████| 1/1 [00:00<00:00,  1.82it/s]"
          ]
        },
        {
          "output_type": "stream",
          "name": "stdout",
          "text": [
            "                   all         30        162      0.231      0.136       0.12     0.0467\n"
          ]
        },
        {
          "output_type": "stream",
          "name": "stderr",
          "text": [
            "\n"
          ]
        },
        {
          "output_type": "stream",
          "name": "stdout",
          "text": [
            "\n",
            "      Epoch    GPU_mem   box_loss   cls_loss   dfl_loss  Instances       Size\n"
          ]
        },
        {
          "output_type": "stream",
          "name": "stderr",
          "text": [
            "     67/200      7.27G      1.399      1.268      1.541         90        640: 100%|██████████| 26/26 [00:14<00:00,  1.75it/s]\n",
            "                 Class     Images  Instances      Box(P          R      mAP50  mAP50-95): 100%|██████████| 1/1 [00:00<00:00,  2.46it/s]"
          ]
        },
        {
          "output_type": "stream",
          "name": "stdout",
          "text": [
            "                   all         30        162      0.245      0.141      0.105     0.0471\n"
          ]
        },
        {
          "output_type": "stream",
          "name": "stderr",
          "text": [
            "\n"
          ]
        },
        {
          "output_type": "stream",
          "name": "stdout",
          "text": [
            "\n",
            "      Epoch    GPU_mem   box_loss   cls_loss   dfl_loss  Instances       Size\n"
          ]
        },
        {
          "output_type": "stream",
          "name": "stderr",
          "text": [
            "     68/200      7.31G      1.388      1.235      1.536         77        640: 100%|██████████| 26/26 [00:14<00:00,  1.75it/s]\n",
            "                 Class     Images  Instances      Box(P          R      mAP50  mAP50-95): 100%|██████████| 1/1 [00:00<00:00,  1.51it/s]"
          ]
        },
        {
          "output_type": "stream",
          "name": "stdout",
          "text": [
            "                   all         30        162      0.169      0.155     0.0783     0.0284\n"
          ]
        },
        {
          "output_type": "stream",
          "name": "stderr",
          "text": [
            "\n"
          ]
        },
        {
          "output_type": "stream",
          "name": "stdout",
          "text": [
            "\n",
            "      Epoch    GPU_mem   box_loss   cls_loss   dfl_loss  Instances       Size\n"
          ]
        },
        {
          "output_type": "stream",
          "name": "stderr",
          "text": [
            "     69/200      7.34G      1.395      1.216      1.536         79        640: 100%|██████████| 26/26 [00:14<00:00,  1.78it/s]\n",
            "                 Class     Images  Instances      Box(P          R      mAP50  mAP50-95): 100%|██████████| 1/1 [00:00<00:00,  2.28it/s]"
          ]
        },
        {
          "output_type": "stream",
          "name": "stdout",
          "text": [
            "                   all         30        162      0.191      0.116     0.0979     0.0286\n"
          ]
        },
        {
          "output_type": "stream",
          "name": "stderr",
          "text": [
            "\n"
          ]
        },
        {
          "output_type": "stream",
          "name": "stdout",
          "text": [
            "\n",
            "      Epoch    GPU_mem   box_loss   cls_loss   dfl_loss  Instances       Size\n"
          ]
        },
        {
          "output_type": "stream",
          "name": "stderr",
          "text": [
            "     70/200      7.38G      1.368      1.199       1.52         77        640: 100%|██████████| 26/26 [00:15<00:00,  1.63it/s]\n",
            "                 Class     Images  Instances      Box(P          R      mAP50  mAP50-95): 100%|██████████| 1/1 [00:00<00:00,  2.14it/s]"
          ]
        },
        {
          "output_type": "stream",
          "name": "stdout",
          "text": [
            "                   all         30        162      0.209      0.124      0.108     0.0464\n"
          ]
        },
        {
          "output_type": "stream",
          "name": "stderr",
          "text": [
            "\n"
          ]
        },
        {
          "output_type": "stream",
          "name": "stdout",
          "text": [
            "\n",
            "      Epoch    GPU_mem   box_loss   cls_loss   dfl_loss  Instances       Size\n"
          ]
        },
        {
          "output_type": "stream",
          "name": "stderr",
          "text": [
            "     71/200      6.99G      1.361      1.208      1.523         70        640: 100%|██████████| 26/26 [00:14<00:00,  1.74it/s]\n",
            "                 Class     Images  Instances      Box(P          R      mAP50  mAP50-95): 100%|██████████| 1/1 [00:00<00:00,  1.83it/s]"
          ]
        },
        {
          "output_type": "stream",
          "name": "stdout",
          "text": [
            "                   all         30        162       0.18      0.167      0.104      0.035\n"
          ]
        },
        {
          "output_type": "stream",
          "name": "stderr",
          "text": [
            "\n"
          ]
        },
        {
          "output_type": "stream",
          "name": "stdout",
          "text": [
            "\n",
            "      Epoch    GPU_mem   box_loss   cls_loss   dfl_loss  Instances       Size\n"
          ]
        },
        {
          "output_type": "stream",
          "name": "stderr",
          "text": [
            "     72/200      7.29G      1.345      1.176      1.492        101        640: 100%|██████████| 26/26 [00:14<00:00,  1.76it/s]\n",
            "                 Class     Images  Instances      Box(P          R      mAP50  mAP50-95): 100%|██████████| 1/1 [00:00<00:00,  2.78it/s]"
          ]
        },
        {
          "output_type": "stream",
          "name": "stdout",
          "text": [
            "                   all         30        162       0.24       0.15      0.114      0.037\n"
          ]
        },
        {
          "output_type": "stream",
          "name": "stderr",
          "text": [
            "\n"
          ]
        },
        {
          "output_type": "stream",
          "name": "stdout",
          "text": [
            "\n",
            "      Epoch    GPU_mem   box_loss   cls_loss   dfl_loss  Instances       Size\n"
          ]
        },
        {
          "output_type": "stream",
          "name": "stderr",
          "text": [
            "     73/200      7.29G      1.351      1.178      1.507         47        640: 100%|██████████| 26/26 [00:14<00:00,  1.75it/s]\n",
            "                 Class     Images  Instances      Box(P          R      mAP50  mAP50-95): 100%|██████████| 1/1 [00:00<00:00,  2.06it/s]"
          ]
        },
        {
          "output_type": "stream",
          "name": "stdout",
          "text": [
            "                   all         30        162      0.196      0.155      0.128     0.0521\n"
          ]
        },
        {
          "output_type": "stream",
          "name": "stderr",
          "text": [
            "\n"
          ]
        },
        {
          "output_type": "stream",
          "name": "stdout",
          "text": [
            "\n",
            "      Epoch    GPU_mem   box_loss   cls_loss   dfl_loss  Instances       Size\n"
          ]
        },
        {
          "output_type": "stream",
          "name": "stderr",
          "text": [
            "     74/200       7.3G      1.342      1.192      1.509         63        640: 100%|██████████| 26/26 [00:14<00:00,  1.77it/s]\n",
            "                 Class     Images  Instances      Box(P          R      mAP50  mAP50-95): 100%|██████████| 1/1 [00:00<00:00,  2.58it/s]"
          ]
        },
        {
          "output_type": "stream",
          "name": "stdout",
          "text": [
            "                   all         30        162      0.151        0.2     0.0938     0.0313\n"
          ]
        },
        {
          "output_type": "stream",
          "name": "stderr",
          "text": [
            "\n"
          ]
        },
        {
          "output_type": "stream",
          "name": "stdout",
          "text": [
            "\n",
            "      Epoch    GPU_mem   box_loss   cls_loss   dfl_loss  Instances       Size\n"
          ]
        },
        {
          "output_type": "stream",
          "name": "stderr",
          "text": [
            "     75/200      7.34G      1.347      1.178      1.503         60        640: 100%|██████████| 26/26 [00:14<00:00,  1.76it/s]\n",
            "                 Class     Images  Instances      Box(P          R      mAP50  mAP50-95): 100%|██████████| 1/1 [00:00<00:00,  2.19it/s]"
          ]
        },
        {
          "output_type": "stream",
          "name": "stdout",
          "text": [
            "                   all         30        162      0.352      0.111      0.125     0.0424\n"
          ]
        },
        {
          "output_type": "stream",
          "name": "stderr",
          "text": [
            "\n"
          ]
        },
        {
          "output_type": "stream",
          "name": "stdout",
          "text": [
            "\n",
            "      Epoch    GPU_mem   box_loss   cls_loss   dfl_loss  Instances       Size\n"
          ]
        },
        {
          "output_type": "stream",
          "name": "stderr",
          "text": [
            "     76/200      7.37G      1.337      1.171      1.496         54        640: 100%|██████████| 26/26 [00:14<00:00,  1.75it/s]\n",
            "                 Class     Images  Instances      Box(P          R      mAP50  mAP50-95): 100%|██████████| 1/1 [00:00<00:00,  2.18it/s]"
          ]
        },
        {
          "output_type": "stream",
          "name": "stdout",
          "text": [
            "                   all         30        162       0.28      0.119     0.0996     0.0478\n"
          ]
        },
        {
          "output_type": "stream",
          "name": "stderr",
          "text": [
            "\n"
          ]
        },
        {
          "output_type": "stream",
          "name": "stdout",
          "text": [
            "\n",
            "      Epoch    GPU_mem   box_loss   cls_loss   dfl_loss  Instances       Size\n"
          ]
        },
        {
          "output_type": "stream",
          "name": "stderr",
          "text": [
            "     77/200      7.17G      1.313      1.123      1.488         59        640: 100%|██████████| 26/26 [00:14<00:00,  1.77it/s]\n",
            "                 Class     Images  Instances      Box(P          R      mAP50  mAP50-95): 100%|██████████| 1/1 [00:00<00:00,  1.47it/s]"
          ]
        },
        {
          "output_type": "stream",
          "name": "stdout",
          "text": [
            "                   all         30        162      0.226      0.171      0.127     0.0495\n"
          ]
        },
        {
          "output_type": "stream",
          "name": "stderr",
          "text": [
            "\n"
          ]
        },
        {
          "output_type": "stream",
          "name": "stdout",
          "text": [
            "\n",
            "      Epoch    GPU_mem   box_loss   cls_loss   dfl_loss  Instances       Size\n"
          ]
        },
        {
          "output_type": "stream",
          "name": "stderr",
          "text": [
            "     78/200      6.88G      1.304      1.075      1.461         70        640: 100%|██████████| 26/26 [00:14<00:00,  1.78it/s]\n",
            "                 Class     Images  Instances      Box(P          R      mAP50  mAP50-95): 100%|██████████| 1/1 [00:00<00:00,  2.39it/s]"
          ]
        },
        {
          "output_type": "stream",
          "name": "stdout",
          "text": [
            "                   all         30        162      0.252      0.136      0.122       0.05\n"
          ]
        },
        {
          "output_type": "stream",
          "name": "stderr",
          "text": [
            "\n"
          ]
        },
        {
          "output_type": "stream",
          "name": "stdout",
          "text": [
            "\n",
            "      Epoch    GPU_mem   box_loss   cls_loss   dfl_loss  Instances       Size\n"
          ]
        },
        {
          "output_type": "stream",
          "name": "stderr",
          "text": [
            "     79/200      7.22G      1.308      1.085      1.452         60        640: 100%|██████████| 26/26 [00:14<00:00,  1.78it/s]\n",
            "                 Class     Images  Instances      Box(P          R      mAP50  mAP50-95): 100%|██████████| 1/1 [00:00<00:00,  2.06it/s]"
          ]
        },
        {
          "output_type": "stream",
          "name": "stdout",
          "text": [
            "                   all         30        162      0.292       0.13      0.117     0.0497\n"
          ]
        },
        {
          "output_type": "stream",
          "name": "stderr",
          "text": [
            "\n"
          ]
        },
        {
          "output_type": "stream",
          "name": "stdout",
          "text": [
            "\n",
            "      Epoch    GPU_mem   box_loss   cls_loss   dfl_loss  Instances       Size\n"
          ]
        },
        {
          "output_type": "stream",
          "name": "stderr",
          "text": [
            "     80/200      7.25G      1.297       1.11      1.465         72        640: 100%|██████████| 26/26 [00:15<00:00,  1.71it/s]\n",
            "                 Class     Images  Instances      Box(P          R      mAP50  mAP50-95): 100%|██████████| 1/1 [00:00<00:00,  1.88it/s]"
          ]
        },
        {
          "output_type": "stream",
          "name": "stdout",
          "text": [
            "                   all         30        162      0.295      0.148       0.12     0.0473\n"
          ]
        },
        {
          "output_type": "stream",
          "name": "stderr",
          "text": [
            "\n"
          ]
        },
        {
          "output_type": "stream",
          "name": "stdout",
          "text": [
            "\n",
            "      Epoch    GPU_mem   box_loss   cls_loss   dfl_loss  Instances       Size\n"
          ]
        },
        {
          "output_type": "stream",
          "name": "stderr",
          "text": [
            "     81/200      7.29G      1.266      1.066       1.44         60        640: 100%|██████████| 26/26 [00:17<00:00,  1.51it/s]\n",
            "                 Class     Images  Instances      Box(P          R      mAP50  mAP50-95): 100%|██████████| 1/1 [00:00<00:00,  1.94it/s]"
          ]
        },
        {
          "output_type": "stream",
          "name": "stdout",
          "text": [
            "                   all         30        162      0.349      0.174      0.167     0.0638\n"
          ]
        },
        {
          "output_type": "stream",
          "name": "stderr",
          "text": [
            "\n"
          ]
        },
        {
          "output_type": "stream",
          "name": "stdout",
          "text": [
            "\n",
            "      Epoch    GPU_mem   box_loss   cls_loss   dfl_loss  Instances       Size\n"
          ]
        },
        {
          "output_type": "stream",
          "name": "stderr",
          "text": [
            "     82/200      7.33G      1.256      1.077      1.429         47        640: 100%|██████████| 26/26 [00:16<00:00,  1.62it/s]\n",
            "                 Class     Images  Instances      Box(P          R      mAP50  mAP50-95): 100%|██████████| 1/1 [00:00<00:00,  1.87it/s]"
          ]
        },
        {
          "output_type": "stream",
          "name": "stdout",
          "text": [
            "                   all         30        162      0.316      0.197       0.14     0.0403\n"
          ]
        },
        {
          "output_type": "stream",
          "name": "stderr",
          "text": [
            "\n"
          ]
        },
        {
          "output_type": "stream",
          "name": "stdout",
          "text": [
            "\n",
            "      Epoch    GPU_mem   box_loss   cls_loss   dfl_loss  Instances       Size\n"
          ]
        },
        {
          "output_type": "stream",
          "name": "stderr",
          "text": [
            "     83/200      7.36G       1.25      1.081      1.434         53        640: 100%|██████████| 26/26 [00:15<00:00,  1.63it/s]\n",
            "                 Class     Images  Instances      Box(P          R      mAP50  mAP50-95): 100%|██████████| 1/1 [00:00<00:00,  1.70it/s]"
          ]
        },
        {
          "output_type": "stream",
          "name": "stdout",
          "text": [
            "                   all         30        162      0.316      0.155      0.138     0.0519\n"
          ]
        },
        {
          "output_type": "stream",
          "name": "stderr",
          "text": [
            "\n"
          ]
        },
        {
          "output_type": "stream",
          "name": "stdout",
          "text": [
            "\n",
            "      Epoch    GPU_mem   box_loss   cls_loss   dfl_loss  Instances       Size\n"
          ]
        },
        {
          "output_type": "stream",
          "name": "stderr",
          "text": [
            "     84/200       7.4G      1.253      1.061      1.422         71        640: 100%|██████████| 26/26 [00:17<00:00,  1.53it/s]\n",
            "                 Class     Images  Instances      Box(P          R      mAP50  mAP50-95): 100%|██████████| 1/1 [00:00<00:00,  1.74it/s]"
          ]
        },
        {
          "output_type": "stream",
          "name": "stdout",
          "text": [
            "                   all         30        162      0.248      0.101     0.0855     0.0295\n"
          ]
        },
        {
          "output_type": "stream",
          "name": "stderr",
          "text": [
            "\n"
          ]
        },
        {
          "output_type": "stream",
          "name": "stdout",
          "text": [
            "\n",
            "      Epoch    GPU_mem   box_loss   cls_loss   dfl_loss  Instances       Size\n"
          ]
        },
        {
          "output_type": "stream",
          "name": "stderr",
          "text": [
            "     85/200      7.27G      1.266      1.068      1.431         68        640: 100%|██████████| 26/26 [00:16<00:00,  1.59it/s]\n",
            "                 Class     Images  Instances      Box(P          R      mAP50  mAP50-95): 100%|██████████| 1/1 [00:00<00:00,  2.14it/s]"
          ]
        },
        {
          "output_type": "stream",
          "name": "stdout",
          "text": [
            "                   all         30        162      0.269      0.105     0.0904     0.0339\n"
          ]
        },
        {
          "output_type": "stream",
          "name": "stderr",
          "text": [
            "\n"
          ]
        },
        {
          "output_type": "stream",
          "name": "stdout",
          "text": [
            "\n",
            "      Epoch    GPU_mem   box_loss   cls_loss   dfl_loss  Instances       Size\n"
          ]
        },
        {
          "output_type": "stream",
          "name": "stderr",
          "text": [
            "     86/200      6.83G      1.225      1.002       1.39         87        640: 100%|██████████| 26/26 [00:14<00:00,  1.76it/s]\n",
            "                 Class     Images  Instances      Box(P          R      mAP50  mAP50-95): 100%|██████████| 1/1 [00:00<00:00,  2.24it/s]"
          ]
        },
        {
          "output_type": "stream",
          "name": "stdout",
          "text": [
            "                   all         30        162      0.417      0.152      0.157     0.0513\n"
          ]
        },
        {
          "output_type": "stream",
          "name": "stderr",
          "text": [
            "\n"
          ]
        },
        {
          "output_type": "stream",
          "name": "stdout",
          "text": [
            "\n",
            "      Epoch    GPU_mem   box_loss   cls_loss   dfl_loss  Instances       Size\n"
          ]
        },
        {
          "output_type": "stream",
          "name": "stderr",
          "text": [
            "     87/200      7.17G      1.241       1.04      1.396         60        640: 100%|██████████| 26/26 [00:15<00:00,  1.73it/s]\n",
            "                 Class     Images  Instances      Box(P          R      mAP50  mAP50-95): 100%|██████████| 1/1 [00:00<00:00,  1.43it/s]"
          ]
        },
        {
          "output_type": "stream",
          "name": "stdout",
          "text": [
            "                   all         30        162      0.319      0.167      0.125     0.0493\n"
          ]
        },
        {
          "output_type": "stream",
          "name": "stderr",
          "text": [
            "\n"
          ]
        },
        {
          "output_type": "stream",
          "name": "stdout",
          "text": [
            "\n",
            "      Epoch    GPU_mem   box_loss   cls_loss   dfl_loss  Instances       Size\n"
          ]
        },
        {
          "output_type": "stream",
          "name": "stderr",
          "text": [
            "     88/200      7.21G      1.198      1.008      1.376         37        640: 100%|██████████| 26/26 [00:14<00:00,  1.76it/s]\n",
            "                 Class     Images  Instances      Box(P          R      mAP50  mAP50-95): 100%|██████████| 1/1 [00:00<00:00,  2.47it/s]"
          ]
        },
        {
          "output_type": "stream",
          "name": "stdout",
          "text": [
            "                   all         30        162      0.323      0.136      0.139     0.0578\n"
          ]
        },
        {
          "output_type": "stream",
          "name": "stderr",
          "text": [
            "\n"
          ]
        },
        {
          "output_type": "stream",
          "name": "stdout",
          "text": [
            "\n",
            "      Epoch    GPU_mem   box_loss   cls_loss   dfl_loss  Instances       Size\n"
          ]
        },
        {
          "output_type": "stream",
          "name": "stderr",
          "text": [
            "     89/200      7.24G      1.236      1.001      1.398         85        640: 100%|██████████| 26/26 [00:14<00:00,  1.76it/s]\n",
            "                 Class     Images  Instances      Box(P          R      mAP50  mAP50-95): 100%|██████████| 1/1 [00:00<00:00,  2.03it/s]"
          ]
        },
        {
          "output_type": "stream",
          "name": "stdout",
          "text": [
            "                   all         30        162        0.2      0.197      0.146     0.0602\n"
          ]
        },
        {
          "output_type": "stream",
          "name": "stderr",
          "text": [
            "\n"
          ]
        },
        {
          "output_type": "stream",
          "name": "stdout",
          "text": [
            "\n",
            "      Epoch    GPU_mem   box_loss   cls_loss   dfl_loss  Instances       Size\n"
          ]
        },
        {
          "output_type": "stream",
          "name": "stderr",
          "text": [
            "     90/200      7.28G      1.199     0.9637      1.371         71        640: 100%|██████████| 26/26 [00:14<00:00,  1.77it/s]\n",
            "                 Class     Images  Instances      Box(P          R      mAP50  mAP50-95): 100%|██████████| 1/1 [00:00<00:00,  2.10it/s]"
          ]
        },
        {
          "output_type": "stream",
          "name": "stdout",
          "text": [
            "                   all         30        162      0.304      0.141      0.129     0.0545\n"
          ]
        },
        {
          "output_type": "stream",
          "name": "stderr",
          "text": [
            "\n"
          ]
        },
        {
          "output_type": "stream",
          "name": "stdout",
          "text": [
            "\n",
            "      Epoch    GPU_mem   box_loss   cls_loss   dfl_loss  Instances       Size\n"
          ]
        },
        {
          "output_type": "stream",
          "name": "stderr",
          "text": [
            "     91/200      7.31G      1.198     0.9734      1.379         86        640: 100%|██████████| 26/26 [00:14<00:00,  1.74it/s]\n",
            "                 Class     Images  Instances      Box(P          R      mAP50  mAP50-95): 100%|██████████| 1/1 [00:00<00:00,  1.43it/s]"
          ]
        },
        {
          "output_type": "stream",
          "name": "stdout",
          "text": [
            "                   all         30        162      0.323      0.159      0.136     0.0566\n"
          ]
        },
        {
          "output_type": "stream",
          "name": "stderr",
          "text": [
            "\n"
          ]
        },
        {
          "output_type": "stream",
          "name": "stdout",
          "text": [
            "\n",
            "      Epoch    GPU_mem   box_loss   cls_loss   dfl_loss  Instances       Size\n"
          ]
        },
        {
          "output_type": "stream",
          "name": "stderr",
          "text": [
            "     92/200      7.35G      1.182      0.949       1.35         76        640: 100%|██████████| 26/26 [00:14<00:00,  1.77it/s]\n",
            "                 Class     Images  Instances      Box(P          R      mAP50  mAP50-95): 100%|██████████| 1/1 [00:00<00:00,  1.84it/s]"
          ]
        },
        {
          "output_type": "stream",
          "name": "stdout",
          "text": [
            "                   all         30        162      0.285      0.168      0.143     0.0597\n"
          ]
        },
        {
          "output_type": "stream",
          "name": "stderr",
          "text": [
            "\n"
          ]
        },
        {
          "output_type": "stream",
          "name": "stdout",
          "text": [
            "\n",
            "      Epoch    GPU_mem   box_loss   cls_loss   dfl_loss  Instances       Size\n"
          ]
        },
        {
          "output_type": "stream",
          "name": "stderr",
          "text": [
            "     93/200      7.39G      1.177     0.9687      1.352         66        640: 100%|██████████| 26/26 [00:14<00:00,  1.76it/s]\n",
            "                 Class     Images  Instances      Box(P          R      mAP50  mAP50-95): 100%|██████████| 1/1 [00:00<00:00,  2.11it/s]"
          ]
        },
        {
          "output_type": "stream",
          "name": "stdout",
          "text": [
            "                   all         30        162      0.208      0.194       0.14     0.0503\n"
          ]
        },
        {
          "output_type": "stream",
          "name": "stderr",
          "text": [
            "\n"
          ]
        },
        {
          "output_type": "stream",
          "name": "stdout",
          "text": [
            "\n",
            "      Epoch    GPU_mem   box_loss   cls_loss   dfl_loss  Instances       Size\n"
          ]
        },
        {
          "output_type": "stream",
          "name": "stderr",
          "text": [
            "     94/200      7.25G      1.168     0.9306      1.356         94        640: 100%|██████████| 26/26 [00:15<00:00,  1.71it/s]\n",
            "                 Class     Images  Instances      Box(P          R      mAP50  mAP50-95): 100%|██████████| 1/1 [00:00<00:00,  1.44it/s]"
          ]
        },
        {
          "output_type": "stream",
          "name": "stdout",
          "text": [
            "                   all         30        162      0.351      0.159       0.16      0.075\n"
          ]
        },
        {
          "output_type": "stream",
          "name": "stderr",
          "text": [
            "\n"
          ]
        },
        {
          "output_type": "stream",
          "name": "stdout",
          "text": [
            "\n",
            "      Epoch    GPU_mem   box_loss   cls_loss   dfl_loss  Instances       Size\n"
          ]
        },
        {
          "output_type": "stream",
          "name": "stderr",
          "text": [
            "     95/200      6.84G      1.177     0.9485      1.368         81        640: 100%|██████████| 26/26 [00:15<00:00,  1.72it/s]\n",
            "                 Class     Images  Instances      Box(P          R      mAP50  mAP50-95): 100%|██████████| 1/1 [00:00<00:00,  1.54it/s]"
          ]
        },
        {
          "output_type": "stream",
          "name": "stdout",
          "text": [
            "                   all         30        162      0.318      0.141      0.131     0.0613\n"
          ]
        },
        {
          "output_type": "stream",
          "name": "stderr",
          "text": [
            "\n"
          ]
        },
        {
          "output_type": "stream",
          "name": "stdout",
          "text": [
            "\n",
            "      Epoch    GPU_mem   box_loss   cls_loss   dfl_loss  Instances       Size\n"
          ]
        },
        {
          "output_type": "stream",
          "name": "stderr",
          "text": [
            "     96/200      7.18G       1.15     0.9112      1.327         80        640: 100%|██████████| 26/26 [00:14<00:00,  1.76it/s]\n",
            "                 Class     Images  Instances      Box(P          R      mAP50  mAP50-95): 100%|██████████| 1/1 [00:00<00:00,  2.15it/s]"
          ]
        },
        {
          "output_type": "stream",
          "name": "stdout",
          "text": [
            "                   all         30        162      0.298      0.144      0.154     0.0625\n"
          ]
        },
        {
          "output_type": "stream",
          "name": "stderr",
          "text": [
            "\n"
          ]
        },
        {
          "output_type": "stream",
          "name": "stdout",
          "text": [
            "\n",
            "      Epoch    GPU_mem   box_loss   cls_loss   dfl_loss  Instances       Size\n"
          ]
        },
        {
          "output_type": "stream",
          "name": "stderr",
          "text": [
            "     97/200      7.21G       1.19     0.9494      1.361         46        640: 100%|██████████| 26/26 [00:14<00:00,  1.74it/s]\n",
            "                 Class     Images  Instances      Box(P          R      mAP50  mAP50-95): 100%|██████████| 1/1 [00:00<00:00,  2.15it/s]"
          ]
        },
        {
          "output_type": "stream",
          "name": "stdout",
          "text": [
            "                   all         30        162      0.342       0.13      0.123     0.0482\n"
          ]
        },
        {
          "output_type": "stream",
          "name": "stderr",
          "text": [
            "\n"
          ]
        },
        {
          "output_type": "stream",
          "name": "stdout",
          "text": [
            "\n",
            "      Epoch    GPU_mem   box_loss   cls_loss   dfl_loss  Instances       Size\n"
          ]
        },
        {
          "output_type": "stream",
          "name": "stderr",
          "text": [
            "     98/200      7.25G      1.139     0.9255      1.328         78        640: 100%|██████████| 26/26 [00:14<00:00,  1.75it/s]\n",
            "                 Class     Images  Instances      Box(P          R      mAP50  mAP50-95): 100%|██████████| 1/1 [00:00<00:00,  2.29it/s]"
          ]
        },
        {
          "output_type": "stream",
          "name": "stdout",
          "text": [
            "                   all         30        162      0.313      0.133      0.126     0.0473\n"
          ]
        },
        {
          "output_type": "stream",
          "name": "stderr",
          "text": [
            "\n"
          ]
        },
        {
          "output_type": "stream",
          "name": "stdout",
          "text": [
            "\n",
            "      Epoch    GPU_mem   box_loss   cls_loss   dfl_loss  Instances       Size\n"
          ]
        },
        {
          "output_type": "stream",
          "name": "stderr",
          "text": [
            "     99/200      7.29G      1.148     0.9424      1.339         52        640: 100%|██████████| 26/26 [00:14<00:00,  1.75it/s]\n",
            "                 Class     Images  Instances      Box(P          R      mAP50  mAP50-95): 100%|██████████| 1/1 [00:00<00:00,  1.71it/s]"
          ]
        },
        {
          "output_type": "stream",
          "name": "stdout",
          "text": [
            "                   all         30        162      0.381      0.121      0.121     0.0526\n"
          ]
        },
        {
          "output_type": "stream",
          "name": "stderr",
          "text": [
            "\n"
          ]
        },
        {
          "output_type": "stream",
          "name": "stdout",
          "text": [
            "\n",
            "      Epoch    GPU_mem   box_loss   cls_loss   dfl_loss  Instances       Size\n"
          ]
        },
        {
          "output_type": "stream",
          "name": "stderr",
          "text": [
            "    100/200      7.32G      1.154      0.945      1.339         82        640: 100%|██████████| 26/26 [00:14<00:00,  1.78it/s]\n",
            "                 Class     Images  Instances      Box(P          R      mAP50  mAP50-95): 100%|██████████| 1/1 [00:00<00:00,  2.11it/s]"
          ]
        },
        {
          "output_type": "stream",
          "name": "stdout",
          "text": [
            "                   all         30        162      0.347       0.18      0.151     0.0599\n"
          ]
        },
        {
          "output_type": "stream",
          "name": "stderr",
          "text": [
            "\n"
          ]
        },
        {
          "output_type": "stream",
          "name": "stdout",
          "text": [
            "\n",
            "      Epoch    GPU_mem   box_loss   cls_loss   dfl_loss  Instances       Size\n"
          ]
        },
        {
          "output_type": "stream",
          "name": "stderr",
          "text": [
            "    101/200      7.36G      1.113     0.8889      1.304         46        640: 100%|██████████| 26/26 [00:14<00:00,  1.75it/s]\n",
            "                 Class     Images  Instances      Box(P          R      mAP50  mAP50-95): 100%|██████████| 1/1 [00:00<00:00,  2.34it/s]"
          ]
        },
        {
          "output_type": "stream",
          "name": "stdout",
          "text": [
            "                   all         30        162      0.282      0.135      0.121     0.0421\n"
          ]
        },
        {
          "output_type": "stream",
          "name": "stderr",
          "text": [
            "\n"
          ]
        },
        {
          "output_type": "stream",
          "name": "stdout",
          "text": [
            "\n",
            "      Epoch    GPU_mem   box_loss   cls_loss   dfl_loss  Instances       Size\n"
          ]
        },
        {
          "output_type": "stream",
          "name": "stderr",
          "text": [
            "    102/200      7.39G      1.104     0.8577      1.303         82        640: 100%|██████████| 26/26 [00:14<00:00,  1.75it/s]\n",
            "                 Class     Images  Instances      Box(P          R      mAP50  mAP50-95): 100%|██████████| 1/1 [00:00<00:00,  2.34it/s]"
          ]
        },
        {
          "output_type": "stream",
          "name": "stdout",
          "text": [
            "                   all         30        162      0.254      0.146      0.103      0.045\n"
          ]
        },
        {
          "output_type": "stream",
          "name": "stderr",
          "text": [
            "\n"
          ]
        },
        {
          "output_type": "stream",
          "name": "stdout",
          "text": [
            "\n",
            "      Epoch    GPU_mem   box_loss   cls_loss   dfl_loss  Instances       Size\n"
          ]
        },
        {
          "output_type": "stream",
          "name": "stderr",
          "text": [
            "    103/200       6.9G      1.103     0.8757      1.302         54        640: 100%|██████████| 26/26 [00:14<00:00,  1.73it/s]\n",
            "                 Class     Images  Instances      Box(P          R      mAP50  mAP50-95): 100%|██████████| 1/1 [00:00<00:00,  1.65it/s]"
          ]
        },
        {
          "output_type": "stream",
          "name": "stdout",
          "text": [
            "                   all         30        162      0.335      0.146      0.142     0.0428\n"
          ]
        },
        {
          "output_type": "stream",
          "name": "stderr",
          "text": [
            "\n"
          ]
        },
        {
          "output_type": "stream",
          "name": "stdout",
          "text": [
            "\n",
            "      Epoch    GPU_mem   box_loss   cls_loss   dfl_loss  Instances       Size\n"
          ]
        },
        {
          "output_type": "stream",
          "name": "stderr",
          "text": [
            "    104/200       7.2G      1.104     0.8746      1.303         72        640: 100%|██████████| 26/26 [00:14<00:00,  1.76it/s]\n",
            "                 Class     Images  Instances      Box(P          R      mAP50  mAP50-95): 100%|██████████| 1/1 [00:00<00:00,  2.24it/s]"
          ]
        },
        {
          "output_type": "stream",
          "name": "stdout",
          "text": [
            "                   all         30        162      0.336      0.144      0.137     0.0423\n"
          ]
        },
        {
          "output_type": "stream",
          "name": "stderr",
          "text": [
            "\n"
          ]
        },
        {
          "output_type": "stream",
          "name": "stdout",
          "text": [
            "\n",
            "      Epoch    GPU_mem   box_loss   cls_loss   dfl_loss  Instances       Size\n"
          ]
        },
        {
          "output_type": "stream",
          "name": "stderr",
          "text": [
            "    105/200       7.2G      1.091     0.8515      1.294         66        640: 100%|██████████| 26/26 [00:14<00:00,  1.77it/s]\n",
            "                 Class     Images  Instances      Box(P          R      mAP50  mAP50-95): 100%|██████████| 1/1 [00:00<00:00,  1.80it/s]"
          ]
        },
        {
          "output_type": "stream",
          "name": "stdout",
          "text": [
            "                   all         30        162      0.327      0.183      0.163     0.0519\n"
          ]
        },
        {
          "output_type": "stream",
          "name": "stderr",
          "text": [
            "\n"
          ]
        },
        {
          "output_type": "stream",
          "name": "stdout",
          "text": [
            "\n",
            "      Epoch    GPU_mem   box_loss   cls_loss   dfl_loss  Instances       Size\n"
          ]
        },
        {
          "output_type": "stream",
          "name": "stderr",
          "text": [
            "    106/200      7.22G      1.074     0.8476      1.279        111        640: 100%|██████████| 26/26 [00:14<00:00,  1.74it/s]\n",
            "                 Class     Images  Instances      Box(P          R      mAP50  mAP50-95): 100%|██████████| 1/1 [00:00<00:00,  2.06it/s]"
          ]
        },
        {
          "output_type": "stream",
          "name": "stdout",
          "text": [
            "                   all         30        162      0.251      0.188      0.171     0.0588\n"
          ]
        },
        {
          "output_type": "stream",
          "name": "stderr",
          "text": [
            "\n"
          ]
        },
        {
          "output_type": "stream",
          "name": "stdout",
          "text": [
            "\n",
            "      Epoch    GPU_mem   box_loss   cls_loss   dfl_loss  Instances       Size\n"
          ]
        },
        {
          "output_type": "stream",
          "name": "stderr",
          "text": [
            "    107/200      7.26G      1.065     0.8383      1.281         59        640: 100%|██████████| 26/26 [00:15<00:00,  1.72it/s]\n",
            "                 Class     Images  Instances      Box(P          R      mAP50  mAP50-95): 100%|██████████| 1/1 [00:00<00:00,  1.93it/s]"
          ]
        },
        {
          "output_type": "stream",
          "name": "stdout",
          "text": [
            "                   all         30        162      0.367       0.16      0.139     0.0608\n"
          ]
        },
        {
          "output_type": "stream",
          "name": "stderr",
          "text": [
            "\n"
          ]
        },
        {
          "output_type": "stream",
          "name": "stdout",
          "text": [
            "\n",
            "      Epoch    GPU_mem   box_loss   cls_loss   dfl_loss  Instances       Size\n"
          ]
        },
        {
          "output_type": "stream",
          "name": "stderr",
          "text": [
            "    108/200      7.29G      1.077     0.8552       1.28         79        640: 100%|██████████| 26/26 [00:14<00:00,  1.77it/s]\n",
            "                 Class     Images  Instances      Box(P          R      mAP50  mAP50-95): 100%|██████████| 1/1 [00:00<00:00,  1.32it/s]"
          ]
        },
        {
          "output_type": "stream",
          "name": "stdout",
          "text": [
            "                   all         30        162      0.291      0.191      0.132     0.0536\n"
          ]
        },
        {
          "output_type": "stream",
          "name": "stderr",
          "text": [
            "\n"
          ]
        },
        {
          "output_type": "stream",
          "name": "stdout",
          "text": [
            "\n",
            "      Epoch    GPU_mem   box_loss   cls_loss   dfl_loss  Instances       Size\n"
          ]
        },
        {
          "output_type": "stream",
          "name": "stderr",
          "text": [
            "    109/200      7.33G      1.077     0.8317      1.274        111        640: 100%|██████████| 26/26 [00:14<00:00,  1.78it/s]\n",
            "                 Class     Images  Instances      Box(P          R      mAP50  mAP50-95): 100%|██████████| 1/1 [00:00<00:00,  1.90it/s]"
          ]
        },
        {
          "output_type": "stream",
          "name": "stdout",
          "text": [
            "                   all         30        162       0.26      0.166      0.114     0.0539\n"
          ]
        },
        {
          "output_type": "stream",
          "name": "stderr",
          "text": [
            "\n"
          ]
        },
        {
          "output_type": "stream",
          "name": "stdout",
          "text": [
            "\n",
            "      Epoch    GPU_mem   box_loss   cls_loss   dfl_loss  Instances       Size\n"
          ]
        },
        {
          "output_type": "stream",
          "name": "stderr",
          "text": [
            "    110/200      7.37G      1.059      0.819      1.262         68        640: 100%|██████████| 26/26 [00:14<00:00,  1.74it/s]\n",
            "                 Class     Images  Instances      Box(P          R      mAP50  mAP50-95): 100%|██████████| 1/1 [00:00<00:00,  2.31it/s]"
          ]
        },
        {
          "output_type": "stream",
          "name": "stdout",
          "text": [
            "                   all         30        162      0.234       0.15      0.119      0.041\n"
          ]
        },
        {
          "output_type": "stream",
          "name": "stderr",
          "text": [
            "\n"
          ]
        },
        {
          "output_type": "stream",
          "name": "stdout",
          "text": [
            "\n",
            "      Epoch    GPU_mem   box_loss   cls_loss   dfl_loss  Instances       Size\n"
          ]
        },
        {
          "output_type": "stream",
          "name": "stderr",
          "text": [
            "    111/200       7.4G      1.045     0.8297       1.26         70        640: 100%|██████████| 26/26 [00:14<00:00,  1.75it/s]\n",
            "                 Class     Images  Instances      Box(P          R      mAP50  mAP50-95): 100%|██████████| 1/1 [00:00<00:00,  2.77it/s]"
          ]
        },
        {
          "output_type": "stream",
          "name": "stdout",
          "text": [
            "                   all         30        162      0.316       0.13      0.128     0.0525\n"
          ]
        },
        {
          "output_type": "stream",
          "name": "stderr",
          "text": [
            "\n"
          ]
        },
        {
          "output_type": "stream",
          "name": "stdout",
          "text": [
            "\n",
            "      Epoch    GPU_mem   box_loss   cls_loss   dfl_loss  Instances       Size\n"
          ]
        },
        {
          "output_type": "stream",
          "name": "stderr",
          "text": [
            "    112/200      7.26G      1.039     0.8109      1.256        103        640: 100%|██████████| 26/26 [00:14<00:00,  1.74it/s]\n",
            "                 Class     Images  Instances      Box(P          R      mAP50  mAP50-95): 100%|██████████| 1/1 [00:00<00:00,  1.45it/s]"
          ]
        },
        {
          "output_type": "stream",
          "name": "stdout",
          "text": [
            "                   all         30        162      0.283      0.185      0.155     0.0563\n"
          ]
        },
        {
          "output_type": "stream",
          "name": "stderr",
          "text": [
            "\n"
          ]
        },
        {
          "output_type": "stream",
          "name": "stdout",
          "text": [
            "\n",
            "      Epoch    GPU_mem   box_loss   cls_loss   dfl_loss  Instances       Size\n"
          ]
        },
        {
          "output_type": "stream",
          "name": "stderr",
          "text": [
            "    113/200      6.78G      1.064     0.8325      1.276         44        640: 100%|██████████| 26/26 [00:14<00:00,  1.74it/s]\n",
            "                 Class     Images  Instances      Box(P          R      mAP50  mAP50-95): 100%|██████████| 1/1 [00:00<00:00,  2.01it/s]"
          ]
        },
        {
          "output_type": "stream",
          "name": "stdout",
          "text": [
            "                   all         30        162      0.205      0.163      0.128     0.0523\n"
          ]
        },
        {
          "output_type": "stream",
          "name": "stderr",
          "text": [
            "\n"
          ]
        },
        {
          "output_type": "stream",
          "name": "stdout",
          "text": [
            "\n",
            "      Epoch    GPU_mem   box_loss   cls_loss   dfl_loss  Instances       Size\n"
          ]
        },
        {
          "output_type": "stream",
          "name": "stderr",
          "text": [
            "    114/200      7.12G      1.046     0.8076      1.263         65        640: 100%|██████████| 26/26 [00:14<00:00,  1.77it/s]\n",
            "                 Class     Images  Instances      Box(P          R      mAP50  mAP50-95): 100%|██████████| 1/1 [00:00<00:00,  1.98it/s]"
          ]
        },
        {
          "output_type": "stream",
          "name": "stdout",
          "text": [
            "                   all         30        162      0.285      0.203      0.167     0.0691\n"
          ]
        },
        {
          "output_type": "stream",
          "name": "stderr",
          "text": [
            "\n"
          ]
        },
        {
          "output_type": "stream",
          "name": "stdout",
          "text": [
            "\n",
            "      Epoch    GPU_mem   box_loss   cls_loss   dfl_loss  Instances       Size\n"
          ]
        },
        {
          "output_type": "stream",
          "name": "stderr",
          "text": [
            "    115/200      7.15G      1.032     0.7991      1.249         66        640: 100%|██████████| 26/26 [00:14<00:00,  1.78it/s]\n",
            "                 Class     Images  Instances      Box(P          R      mAP50  mAP50-95): 100%|██████████| 1/1 [00:00<00:00,  1.97it/s]"
          ]
        },
        {
          "output_type": "stream",
          "name": "stdout",
          "text": [
            "                   all         30        162      0.293      0.192      0.165     0.0643\n"
          ]
        },
        {
          "output_type": "stream",
          "name": "stderr",
          "text": [
            "\n"
          ]
        },
        {
          "output_type": "stream",
          "name": "stdout",
          "text": [
            "\n",
            "      Epoch    GPU_mem   box_loss   cls_loss   dfl_loss  Instances       Size\n"
          ]
        },
        {
          "output_type": "stream",
          "name": "stderr",
          "text": [
            "    116/200      7.19G      1.009       0.78      1.237         80        640: 100%|██████████| 26/26 [00:15<00:00,  1.64it/s]\n",
            "                 Class     Images  Instances      Box(P          R      mAP50  mAP50-95): 100%|██████████| 1/1 [00:00<00:00,  1.45it/s]"
          ]
        },
        {
          "output_type": "stream",
          "name": "stdout",
          "text": [
            "                   all         30        162      0.333      0.168      0.157     0.0642\n"
          ]
        },
        {
          "output_type": "stream",
          "name": "stderr",
          "text": [
            "\n"
          ]
        },
        {
          "output_type": "stream",
          "name": "stdout",
          "text": [
            "\n",
            "      Epoch    GPU_mem   box_loss   cls_loss   dfl_loss  Instances       Size\n"
          ]
        },
        {
          "output_type": "stream",
          "name": "stderr",
          "text": [
            "    117/200      7.23G       1.02     0.7826      1.237         68        640: 100%|██████████| 26/26 [00:14<00:00,  1.74it/s]\n",
            "                 Class     Images  Instances      Box(P          R      mAP50  mAP50-95): 100%|██████████| 1/1 [00:00<00:00,  2.20it/s]"
          ]
        },
        {
          "output_type": "stream",
          "name": "stdout",
          "text": [
            "                   all         30        162      0.363      0.181      0.159     0.0555\n"
          ]
        },
        {
          "output_type": "stream",
          "name": "stderr",
          "text": [
            "\n"
          ]
        },
        {
          "output_type": "stream",
          "name": "stdout",
          "text": [
            "\n",
            "      Epoch    GPU_mem   box_loss   cls_loss   dfl_loss  Instances       Size\n"
          ]
        },
        {
          "output_type": "stream",
          "name": "stderr",
          "text": [
            "    118/200      7.26G      1.004     0.7854      1.241         57        640: 100%|██████████| 26/26 [00:14<00:00,  1.75it/s]\n",
            "                 Class     Images  Instances      Box(P          R      mAP50  mAP50-95): 100%|██████████| 1/1 [00:00<00:00,  2.23it/s]"
          ]
        },
        {
          "output_type": "stream",
          "name": "stdout",
          "text": [
            "                   all         30        162        0.3      0.167      0.149      0.052\n"
          ]
        },
        {
          "output_type": "stream",
          "name": "stderr",
          "text": [
            "\n"
          ]
        },
        {
          "output_type": "stream",
          "name": "stdout",
          "text": [
            "\n",
            "      Epoch    GPU_mem   box_loss   cls_loss   dfl_loss  Instances       Size\n"
          ]
        },
        {
          "output_type": "stream",
          "name": "stderr",
          "text": [
            "    119/200       7.3G      1.018     0.8087      1.242         76        640: 100%|██████████| 26/26 [00:14<00:00,  1.74it/s]\n",
            "                 Class     Images  Instances      Box(P          R      mAP50  mAP50-95): 100%|██████████| 1/1 [00:00<00:00,  2.19it/s]"
          ]
        },
        {
          "output_type": "stream",
          "name": "stdout",
          "text": [
            "                   all         30        162      0.226      0.166      0.131     0.0393\n"
          ]
        },
        {
          "output_type": "stream",
          "name": "stderr",
          "text": [
            "\n"
          ]
        },
        {
          "output_type": "stream",
          "name": "stdout",
          "text": [
            "\n",
            "      Epoch    GPU_mem   box_loss   cls_loss   dfl_loss  Instances       Size\n"
          ]
        },
        {
          "output_type": "stream",
          "name": "stderr",
          "text": [
            "    120/200      7.34G      1.002     0.7915      1.239         66        640: 100%|██████████| 26/26 [00:15<00:00,  1.70it/s]\n",
            "                 Class     Images  Instances      Box(P          R      mAP50  mAP50-95): 100%|██████████| 1/1 [00:00<00:00,  1.42it/s]"
          ]
        },
        {
          "output_type": "stream",
          "name": "stdout",
          "text": [
            "                   all         30        162      0.309      0.164      0.149     0.0616\n"
          ]
        },
        {
          "output_type": "stream",
          "name": "stderr",
          "text": [
            "\n"
          ]
        },
        {
          "output_type": "stream",
          "name": "stdout",
          "text": [
            "\n",
            "      Epoch    GPU_mem   box_loss   cls_loss   dfl_loss  Instances       Size\n"
          ]
        },
        {
          "output_type": "stream",
          "name": "stderr",
          "text": [
            "    121/200      7.37G     0.9956     0.7786       1.23         43        640: 100%|██████████| 26/26 [00:14<00:00,  1.74it/s]\n",
            "                 Class     Images  Instances      Box(P          R      mAP50  mAP50-95): 100%|██████████| 1/1 [00:00<00:00,  2.05it/s]"
          ]
        },
        {
          "output_type": "stream",
          "name": "stdout",
          "text": [
            "                   all         30        162      0.362      0.188      0.161     0.0641\n"
          ]
        },
        {
          "output_type": "stream",
          "name": "stderr",
          "text": [
            "\n"
          ]
        },
        {
          "output_type": "stream",
          "name": "stdout",
          "text": [
            "\n",
            "      Epoch    GPU_mem   box_loss   cls_loss   dfl_loss  Instances       Size\n"
          ]
        },
        {
          "output_type": "stream",
          "name": "stderr",
          "text": [
            "    122/200      7.16G      1.032     0.7923      1.239        101        640: 100%|██████████| 26/26 [00:14<00:00,  1.76it/s]\n",
            "                 Class     Images  Instances      Box(P          R      mAP50  mAP50-95): 100%|██████████| 1/1 [00:00<00:00,  1.91it/s]"
          ]
        },
        {
          "output_type": "stream",
          "name": "stdout",
          "text": [
            "                   all         30        162      0.384      0.125       0.14      0.061\n"
          ]
        },
        {
          "output_type": "stream",
          "name": "stderr",
          "text": [
            "\n"
          ]
        },
        {
          "output_type": "stream",
          "name": "stdout",
          "text": [
            "\n",
            "      Epoch    GPU_mem   box_loss   cls_loss   dfl_loss  Instances       Size\n"
          ]
        },
        {
          "output_type": "stream",
          "name": "stderr",
          "text": [
            "    123/200      6.86G     0.9889     0.7628      1.219         71        640: 100%|██████████| 26/26 [00:15<00:00,  1.73it/s]\n",
            "                 Class     Images  Instances      Box(P          R      mAP50  mAP50-95): 100%|██████████| 1/1 [00:00<00:00,  2.03it/s]"
          ]
        },
        {
          "output_type": "stream",
          "name": "stdout",
          "text": [
            "                   all         30        162      0.335      0.149      0.131     0.0558\n"
          ]
        },
        {
          "output_type": "stream",
          "name": "stderr",
          "text": [
            "\n"
          ]
        },
        {
          "output_type": "stream",
          "name": "stdout",
          "text": [
            "\n",
            "      Epoch    GPU_mem   box_loss   cls_loss   dfl_loss  Instances       Size\n"
          ]
        },
        {
          "output_type": "stream",
          "name": "stderr",
          "text": [
            "    124/200       7.2G     0.9911     0.7385      1.209         74        640: 100%|██████████| 26/26 [00:14<00:00,  1.74it/s]\n",
            "                 Class     Images  Instances      Box(P          R      mAP50  mAP50-95): 100%|██████████| 1/1 [00:00<00:00,  1.34it/s]"
          ]
        },
        {
          "output_type": "stream",
          "name": "stdout",
          "text": [
            "                   all         30        162      0.342      0.141      0.138     0.0569\n"
          ]
        },
        {
          "output_type": "stream",
          "name": "stderr",
          "text": [
            "\n"
          ]
        },
        {
          "output_type": "stream",
          "name": "stdout",
          "text": [
            "\n",
            "      Epoch    GPU_mem   box_loss   cls_loss   dfl_loss  Instances       Size\n"
          ]
        },
        {
          "output_type": "stream",
          "name": "stderr",
          "text": [
            "    125/200      7.24G     0.9656     0.7394      1.198         56        640: 100%|██████████| 26/26 [00:15<00:00,  1.72it/s]\n",
            "                 Class     Images  Instances      Box(P          R      mAP50  mAP50-95): 100%|██████████| 1/1 [00:00<00:00,  2.01it/s]"
          ]
        },
        {
          "output_type": "stream",
          "name": "stdout",
          "text": [
            "                   all         30        162      0.297      0.163      0.135     0.0472\n"
          ]
        },
        {
          "output_type": "stream",
          "name": "stderr",
          "text": [
            "\n"
          ]
        },
        {
          "output_type": "stream",
          "name": "stdout",
          "text": [
            "\n",
            "      Epoch    GPU_mem   box_loss   cls_loss   dfl_loss  Instances       Size\n"
          ]
        },
        {
          "output_type": "stream",
          "name": "stderr",
          "text": [
            "    126/200      7.27G     0.9885     0.7628      1.213         92        640: 100%|██████████| 26/26 [00:14<00:00,  1.77it/s]\n",
            "                 Class     Images  Instances      Box(P          R      mAP50  mAP50-95): 100%|██████████| 1/1 [00:00<00:00,  2.06it/s]"
          ]
        },
        {
          "output_type": "stream",
          "name": "stdout",
          "text": [
            "                   all         30        162      0.233       0.19       0.13     0.0507\n"
          ]
        },
        {
          "output_type": "stream",
          "name": "stderr",
          "text": [
            "\n"
          ]
        },
        {
          "output_type": "stream",
          "name": "stdout",
          "text": [
            "\n",
            "      Epoch    GPU_mem   box_loss   cls_loss   dfl_loss  Instances       Size\n"
          ]
        },
        {
          "output_type": "stream",
          "name": "stderr",
          "text": [
            "    127/200      7.31G     0.9933     0.7568      1.213         91        640: 100%|██████████| 26/26 [00:14<00:00,  1.76it/s]\n",
            "                 Class     Images  Instances      Box(P          R      mAP50  mAP50-95): 100%|██████████| 1/1 [00:00<00:00,  2.07it/s]"
          ]
        },
        {
          "output_type": "stream",
          "name": "stdout",
          "text": [
            "                   all         30        162       0.23      0.161      0.144      0.054\n"
          ]
        },
        {
          "output_type": "stream",
          "name": "stderr",
          "text": [
            "\n"
          ]
        },
        {
          "output_type": "stream",
          "name": "stdout",
          "text": [
            "\n",
            "      Epoch    GPU_mem   box_loss   cls_loss   dfl_loss  Instances       Size\n"
          ]
        },
        {
          "output_type": "stream",
          "name": "stderr",
          "text": [
            "    128/200      7.35G     0.9498     0.7167      1.186         94        640: 100%|██████████| 26/26 [00:15<00:00,  1.70it/s]\n",
            "                 Class     Images  Instances      Box(P          R      mAP50  mAP50-95): 100%|██████████| 1/1 [00:00<00:00,  1.52it/s]"
          ]
        },
        {
          "output_type": "stream",
          "name": "stdout",
          "text": [
            "                   all         30        162      0.297      0.161      0.145     0.0586\n"
          ]
        },
        {
          "output_type": "stream",
          "name": "stderr",
          "text": [
            "\n"
          ]
        },
        {
          "output_type": "stream",
          "name": "stdout",
          "text": [
            "\n",
            "      Epoch    GPU_mem   box_loss   cls_loss   dfl_loss  Instances       Size\n"
          ]
        },
        {
          "output_type": "stream",
          "name": "stderr",
          "text": [
            "    129/200      7.38G     0.9702     0.7471      1.192        114        640: 100%|██████████| 26/26 [00:14<00:00,  1.75it/s]\n",
            "                 Class     Images  Instances      Box(P          R      mAP50  mAP50-95): 100%|██████████| 1/1 [00:00<00:00,  2.11it/s]"
          ]
        },
        {
          "output_type": "stream",
          "name": "stdout",
          "text": [
            "                   all         30        162      0.313      0.191      0.156     0.0591\n"
          ]
        },
        {
          "output_type": "stream",
          "name": "stderr",
          "text": [
            "\n"
          ]
        },
        {
          "output_type": "stream",
          "name": "stdout",
          "text": [
            "\n",
            "      Epoch    GPU_mem   box_loss   cls_loss   dfl_loss  Instances       Size\n"
          ]
        },
        {
          "output_type": "stream",
          "name": "stderr",
          "text": [
            "    130/200      6.97G       0.96     0.7331        1.2         86        640: 100%|██████████| 26/26 [00:14<00:00,  1.75it/s]\n",
            "                 Class     Images  Instances      Box(P          R      mAP50  mAP50-95): 100%|██████████| 1/1 [00:00<00:00,  2.22it/s]"
          ]
        },
        {
          "output_type": "stream",
          "name": "stdout",
          "text": [
            "                   all         30        162      0.332      0.161      0.152      0.058\n"
          ]
        },
        {
          "output_type": "stream",
          "name": "stderr",
          "text": [
            "\n"
          ]
        },
        {
          "output_type": "stream",
          "name": "stdout",
          "text": [
            "\n",
            "      Epoch    GPU_mem   box_loss   cls_loss   dfl_loss  Instances       Size\n"
          ]
        },
        {
          "output_type": "stream",
          "name": "stderr",
          "text": [
            "    131/200      7.27G     0.9266     0.7129      1.173         61        640: 100%|██████████| 26/26 [00:14<00:00,  1.73it/s]\n",
            "                 Class     Images  Instances      Box(P          R      mAP50  mAP50-95): 100%|██████████| 1/1 [00:00<00:00,  2.04it/s]"
          ]
        },
        {
          "output_type": "stream",
          "name": "stdout",
          "text": [
            "                   all         30        162       0.33      0.152      0.138     0.0506\n"
          ]
        },
        {
          "output_type": "stream",
          "name": "stderr",
          "text": [
            "\n"
          ]
        },
        {
          "output_type": "stream",
          "name": "stdout",
          "text": [
            "\n",
            "      Epoch    GPU_mem   box_loss   cls_loss   dfl_loss  Instances       Size\n"
          ]
        },
        {
          "output_type": "stream",
          "name": "stderr",
          "text": [
            "    132/200      7.27G     0.9545     0.7254      1.193         75        640: 100%|██████████| 26/26 [00:15<00:00,  1.70it/s]\n",
            "                 Class     Images  Instances      Box(P          R      mAP50  mAP50-95): 100%|██████████| 1/1 [00:00<00:00,  1.57it/s]"
          ]
        },
        {
          "output_type": "stream",
          "name": "stdout",
          "text": [
            "                   all         30        162      0.324      0.134       0.13     0.0507\n"
          ]
        },
        {
          "output_type": "stream",
          "name": "stderr",
          "text": [
            "\n"
          ]
        },
        {
          "output_type": "stream",
          "name": "stdout",
          "text": [
            "\n",
            "      Epoch    GPU_mem   box_loss   cls_loss   dfl_loss  Instances       Size\n"
          ]
        },
        {
          "output_type": "stream",
          "name": "stderr",
          "text": [
            "    133/200       7.3G      0.941     0.7266      1.187         67        640: 100%|██████████| 26/26 [00:15<00:00,  1.71it/s]\n",
            "                 Class     Images  Instances      Box(P          R      mAP50  mAP50-95): 100%|██████████| 1/1 [00:00<00:00,  2.25it/s]"
          ]
        },
        {
          "output_type": "stream",
          "name": "stdout",
          "text": [
            "                   all         30        162      0.257      0.168      0.138     0.0505\n"
          ]
        },
        {
          "output_type": "stream",
          "name": "stderr",
          "text": [
            "\n"
          ]
        },
        {
          "output_type": "stream",
          "name": "stdout",
          "text": [
            "\n",
            "      Epoch    GPU_mem   box_loss   cls_loss   dfl_loss  Instances       Size\n"
          ]
        },
        {
          "output_type": "stream",
          "name": "stderr",
          "text": [
            "    134/200      7.34G     0.9332     0.7002      1.169         85        640: 100%|██████████| 26/26 [00:14<00:00,  1.75it/s]\n",
            "                 Class     Images  Instances      Box(P          R      mAP50  mAP50-95): 100%|██████████| 1/1 [00:00<00:00,  2.08it/s]"
          ]
        },
        {
          "output_type": "stream",
          "name": "stdout",
          "text": [
            "                   all         30        162      0.231      0.172      0.131     0.0549\n"
          ]
        },
        {
          "output_type": "stream",
          "name": "stderr",
          "text": [
            "\n"
          ]
        },
        {
          "output_type": "stream",
          "name": "stdout",
          "text": [
            "\n",
            "      Epoch    GPU_mem   box_loss   cls_loss   dfl_loss  Instances       Size\n"
          ]
        },
        {
          "output_type": "stream",
          "name": "stderr",
          "text": [
            "    135/200      7.38G     0.9333     0.7083      1.172         78        640: 100%|██████████| 26/26 [00:14<00:00,  1.75it/s]\n",
            "                 Class     Images  Instances      Box(P          R      mAP50  mAP50-95): 100%|██████████| 1/1 [00:00<00:00,  1.89it/s]"
          ]
        },
        {
          "output_type": "stream",
          "name": "stdout",
          "text": [
            "                   all         30        162      0.269      0.182       0.15     0.0607\n"
          ]
        },
        {
          "output_type": "stream",
          "name": "stderr",
          "text": [
            "\n"
          ]
        },
        {
          "output_type": "stream",
          "name": "stdout",
          "text": [
            "\n",
            "      Epoch    GPU_mem   box_loss   cls_loss   dfl_loss  Instances       Size\n"
          ]
        },
        {
          "output_type": "stream",
          "name": "stderr",
          "text": [
            "    136/200      7.23G      0.943     0.7026      1.181         80        640: 100%|██████████| 26/26 [00:14<00:00,  1.74it/s]\n",
            "                 Class     Images  Instances      Box(P          R      mAP50  mAP50-95): 100%|██████████| 1/1 [00:00<00:00,  1.29it/s]"
          ]
        },
        {
          "output_type": "stream",
          "name": "stdout",
          "text": [
            "                   all         30        162      0.378      0.149      0.136     0.0518\n"
          ]
        },
        {
          "output_type": "stream",
          "name": "stderr",
          "text": [
            "\n"
          ]
        },
        {
          "output_type": "stream",
          "name": "stdout",
          "text": [
            "\n",
            "      Epoch    GPU_mem   box_loss   cls_loss   dfl_loss  Instances       Size\n"
          ]
        },
        {
          "output_type": "stream",
          "name": "stderr",
          "text": [
            "    137/200      7.16G     0.9329     0.7025      1.173         88        640: 100%|██████████| 26/26 [00:14<00:00,  1.74it/s]\n",
            "                 Class     Images  Instances      Box(P          R      mAP50  mAP50-95): 100%|██████████| 1/1 [00:00<00:00,  1.91it/s]"
          ]
        },
        {
          "output_type": "stream",
          "name": "stdout",
          "text": [
            "                   all         30        162      0.415      0.135       0.14     0.0511\n"
          ]
        },
        {
          "output_type": "stream",
          "name": "stderr",
          "text": [
            "\n"
          ]
        },
        {
          "output_type": "stream",
          "name": "stdout",
          "text": [
            "\n",
            "      Epoch    GPU_mem   box_loss   cls_loss   dfl_loss  Instances       Size\n"
          ]
        },
        {
          "output_type": "stream",
          "name": "stderr",
          "text": [
            "    138/200      6.84G     0.9106     0.6884      1.165         70        640: 100%|██████████| 26/26 [00:14<00:00,  1.76it/s]\n",
            "                 Class     Images  Instances      Box(P          R      mAP50  mAP50-95): 100%|██████████| 1/1 [00:00<00:00,  1.97it/s]"
          ]
        },
        {
          "output_type": "stream",
          "name": "stdout",
          "text": [
            "                   all         30        162      0.362      0.164       0.15     0.0521\n"
          ]
        },
        {
          "output_type": "stream",
          "name": "stderr",
          "text": [
            "\n"
          ]
        },
        {
          "output_type": "stream",
          "name": "stdout",
          "text": [
            "\n",
            "      Epoch    GPU_mem   box_loss   cls_loss   dfl_loss  Instances       Size\n"
          ]
        },
        {
          "output_type": "stream",
          "name": "stderr",
          "text": [
            "    139/200      7.18G      0.924      0.714      1.178         69        640: 100%|██████████| 26/26 [00:15<00:00,  1.73it/s]\n",
            "                 Class     Images  Instances      Box(P          R      mAP50  mAP50-95): 100%|██████████| 1/1 [00:00<00:00,  2.11it/s]"
          ]
        },
        {
          "output_type": "stream",
          "name": "stdout",
          "text": [
            "                   all         30        162      0.282      0.167      0.118     0.0444\n"
          ]
        },
        {
          "output_type": "stream",
          "name": "stderr",
          "text": [
            "\n"
          ]
        },
        {
          "output_type": "stream",
          "name": "stdout",
          "text": [
            "\n",
            "      Epoch    GPU_mem   box_loss   cls_loss   dfl_loss  Instances       Size\n"
          ]
        },
        {
          "output_type": "stream",
          "name": "stderr",
          "text": [
            "    140/200      7.22G     0.9107      0.693      1.166         67        640: 100%|██████████| 26/26 [00:14<00:00,  1.75it/s]\n",
            "                 Class     Images  Instances      Box(P          R      mAP50  mAP50-95): 100%|██████████| 1/1 [00:00<00:00,  1.20it/s]"
          ]
        },
        {
          "output_type": "stream",
          "name": "stdout",
          "text": [
            "                   all         30        162      0.314       0.16      0.131     0.0395\n"
          ]
        },
        {
          "output_type": "stream",
          "name": "stderr",
          "text": [
            "\n"
          ]
        },
        {
          "output_type": "stream",
          "name": "stdout",
          "text": [
            "\n",
            "      Epoch    GPU_mem   box_loss   cls_loss   dfl_loss  Instances       Size\n"
          ]
        },
        {
          "output_type": "stream",
          "name": "stderr",
          "text": [
            "    141/200      7.26G     0.9282     0.6982      1.176         63        640: 100%|██████████| 26/26 [00:16<00:00,  1.61it/s]\n",
            "                 Class     Images  Instances      Box(P          R      mAP50  mAP50-95): 100%|██████████| 1/1 [00:00<00:00,  1.96it/s]"
          ]
        },
        {
          "output_type": "stream",
          "name": "stdout",
          "text": [
            "                   all         30        162      0.167      0.149      0.106     0.0362\n"
          ]
        },
        {
          "output_type": "stream",
          "name": "stderr",
          "text": [
            "\n"
          ]
        },
        {
          "output_type": "stream",
          "name": "stdout",
          "text": [
            "\n",
            "      Epoch    GPU_mem   box_loss   cls_loss   dfl_loss  Instances       Size\n"
          ]
        },
        {
          "output_type": "stream",
          "name": "stderr",
          "text": [
            "    142/200      7.29G     0.8976     0.6793      1.153         76        640: 100%|██████████| 26/26 [00:15<00:00,  1.73it/s]\n",
            "                 Class     Images  Instances      Box(P          R      mAP50  mAP50-95): 100%|██████████| 1/1 [00:00<00:00,  2.44it/s]"
          ]
        },
        {
          "output_type": "stream",
          "name": "stdout",
          "text": [
            "                   all         30        162      0.338      0.138      0.125      0.035\n"
          ]
        },
        {
          "output_type": "stream",
          "name": "stderr",
          "text": [
            "\n"
          ]
        },
        {
          "output_type": "stream",
          "name": "stdout",
          "text": [
            "\n",
            "      Epoch    GPU_mem   box_loss   cls_loss   dfl_loss  Instances       Size\n"
          ]
        },
        {
          "output_type": "stream",
          "name": "stderr",
          "text": [
            "    143/200      7.33G     0.8944     0.6749       1.15         79        640: 100%|██████████| 26/26 [00:15<00:00,  1.73it/s]\n",
            "                 Class     Images  Instances      Box(P          R      mAP50  mAP50-95): 100%|██████████| 1/1 [00:00<00:00,  1.57it/s]"
          ]
        },
        {
          "output_type": "stream",
          "name": "stdout",
          "text": [
            "                   all         30        162      0.404      0.176      0.158     0.0539\n"
          ]
        },
        {
          "output_type": "stream",
          "name": "stderr",
          "text": [
            "\n"
          ]
        },
        {
          "output_type": "stream",
          "name": "stdout",
          "text": [
            "\n",
            "      Epoch    GPU_mem   box_loss   cls_loss   dfl_loss  Instances       Size\n"
          ]
        },
        {
          "output_type": "stream",
          "name": "stderr",
          "text": [
            "    144/200      7.37G     0.8823     0.6594      1.143         39        640: 100%|██████████| 26/26 [00:15<00:00,  1.73it/s]\n",
            "                 Class     Images  Instances      Box(P          R      mAP50  mAP50-95): 100%|██████████| 1/1 [00:00<00:00,  2.36it/s]"
          ]
        },
        {
          "output_type": "stream",
          "name": "stdout",
          "text": [
            "                   all         30        162      0.374      0.165      0.142     0.0568\n"
          ]
        },
        {
          "output_type": "stream",
          "name": "stderr",
          "text": [
            "\n"
          ]
        },
        {
          "output_type": "stream",
          "name": "stdout",
          "text": [
            "\n",
            "      Epoch    GPU_mem   box_loss   cls_loss   dfl_loss  Instances       Size\n"
          ]
        },
        {
          "output_type": "stream",
          "name": "stderr",
          "text": [
            "    145/200       7.4G     0.8863     0.6639      1.145         66        640: 100%|██████████| 26/26 [00:14<00:00,  1.74it/s]\n",
            "                 Class     Images  Instances      Box(P          R      mAP50  mAP50-95): 100%|██████████| 1/1 [00:00<00:00,  2.05it/s]"
          ]
        },
        {
          "output_type": "stream",
          "name": "stdout",
          "text": [
            "                   all         30        162      0.384      0.181      0.154     0.0631\n"
          ]
        },
        {
          "output_type": "stream",
          "name": "stderr",
          "text": [
            "\n"
          ]
        },
        {
          "output_type": "stream",
          "name": "stdout",
          "text": [
            "\n",
            "      Epoch    GPU_mem   box_loss   cls_loss   dfl_loss  Instances       Size\n"
          ]
        },
        {
          "output_type": "stream",
          "name": "stderr",
          "text": [
            "    146/200      7.57G     0.8567     0.6555      1.131         80        640: 100%|██████████| 26/26 [00:14<00:00,  1.75it/s]\n",
            "                 Class     Images  Instances      Box(P          R      mAP50  mAP50-95): 100%|██████████| 1/1 [00:00<00:00,  1.82it/s]"
          ]
        },
        {
          "output_type": "stream",
          "name": "stdout",
          "text": [
            "                   all         30        162      0.364      0.157      0.144     0.0575\n"
          ]
        },
        {
          "output_type": "stream",
          "name": "stderr",
          "text": [
            "\n"
          ]
        },
        {
          "output_type": "stream",
          "name": "stdout",
          "text": [
            "\n",
            "      Epoch    GPU_mem   box_loss   cls_loss   dfl_loss  Instances       Size\n"
          ]
        },
        {
          "output_type": "stream",
          "name": "stderr",
          "text": [
            "    147/200      6.88G     0.8935     0.6793      1.156         75        640: 100%|██████████| 26/26 [00:15<00:00,  1.73it/s]\n",
            "                 Class     Images  Instances      Box(P          R      mAP50  mAP50-95): 100%|██████████| 1/1 [00:00<00:00,  1.42it/s]"
          ]
        },
        {
          "output_type": "stream",
          "name": "stdout",
          "text": [
            "                   all         30        162      0.388      0.173      0.153     0.0581\n"
          ]
        },
        {
          "output_type": "stream",
          "name": "stderr",
          "text": [
            "\n"
          ]
        },
        {
          "output_type": "stream",
          "name": "stdout",
          "text": [
            "\n",
            "      Epoch    GPU_mem   box_loss   cls_loss   dfl_loss  Instances       Size\n"
          ]
        },
        {
          "output_type": "stream",
          "name": "stderr",
          "text": [
            "    148/200      7.22G     0.8682     0.6471      1.131         58        640: 100%|██████████| 26/26 [00:14<00:00,  1.76it/s]\n",
            "                 Class     Images  Instances      Box(P          R      mAP50  mAP50-95): 100%|██████████| 1/1 [00:00<00:00,  1.82it/s]"
          ]
        },
        {
          "output_type": "stream",
          "name": "stdout",
          "text": [
            "                   all         30        162      0.369      0.175      0.146     0.0584\n"
          ]
        },
        {
          "output_type": "stream",
          "name": "stderr",
          "text": [
            "\n"
          ]
        },
        {
          "output_type": "stream",
          "name": "stdout",
          "text": [
            "\n",
            "      Epoch    GPU_mem   box_loss   cls_loss   dfl_loss  Instances       Size\n"
          ]
        },
        {
          "output_type": "stream",
          "name": "stderr",
          "text": [
            "    149/200      7.25G     0.8842     0.6789      1.154         80        640: 100%|██████████| 26/26 [00:14<00:00,  1.75it/s]\n",
            "                 Class     Images  Instances      Box(P          R      mAP50  mAP50-95): 100%|██████████| 1/1 [00:00<00:00,  2.11it/s]"
          ]
        },
        {
          "output_type": "stream",
          "name": "stdout",
          "text": [
            "                   all         30        162      0.299      0.144      0.121     0.0518\n"
          ]
        },
        {
          "output_type": "stream",
          "name": "stderr",
          "text": [
            "\n"
          ]
        },
        {
          "output_type": "stream",
          "name": "stdout",
          "text": [
            "\n",
            "      Epoch    GPU_mem   box_loss   cls_loss   dfl_loss  Instances       Size\n"
          ]
        },
        {
          "output_type": "stream",
          "name": "stderr",
          "text": [
            "    150/200      7.29G     0.8587     0.6525      1.136         72        640: 100%|██████████| 26/26 [00:14<00:00,  1.76it/s]\n",
            "                 Class     Images  Instances      Box(P          R      mAP50  mAP50-95): 100%|██████████| 1/1 [00:00<00:00,  2.01it/s]"
          ]
        },
        {
          "output_type": "stream",
          "name": "stdout",
          "text": [
            "                   all         30        162      0.354      0.166      0.135     0.0571\n"
          ]
        },
        {
          "output_type": "stream",
          "name": "stderr",
          "text": [
            "\n"
          ]
        },
        {
          "output_type": "stream",
          "name": "stdout",
          "text": [
            "\n",
            "      Epoch    GPU_mem   box_loss   cls_loss   dfl_loss  Instances       Size\n"
          ]
        },
        {
          "output_type": "stream",
          "name": "stderr",
          "text": [
            "    151/200      7.33G      0.861      0.632      1.126         78        640: 100%|██████████| 26/26 [00:14<00:00,  1.75it/s]\n",
            "                 Class     Images  Instances      Box(P          R      mAP50  mAP50-95): 100%|██████████| 1/1 [00:00<00:00,  1.80it/s]"
          ]
        },
        {
          "output_type": "stream",
          "name": "stdout",
          "text": [
            "                   all         30        162       0.35      0.144       0.15     0.0648\n"
          ]
        },
        {
          "output_type": "stream",
          "name": "stderr",
          "text": [
            "\n"
          ]
        },
        {
          "output_type": "stream",
          "name": "stdout",
          "text": [
            "\n",
            "      Epoch    GPU_mem   box_loss   cls_loss   dfl_loss  Instances       Size\n"
          ]
        },
        {
          "output_type": "stream",
          "name": "stderr",
          "text": [
            "    152/200      7.36G     0.8627     0.6426      1.138         80        640: 100%|██████████| 26/26 [00:14<00:00,  1.75it/s]\n",
            "                 Class     Images  Instances      Box(P          R      mAP50  mAP50-95): 100%|██████████| 1/1 [00:00<00:00,  2.11it/s]"
          ]
        },
        {
          "output_type": "stream",
          "name": "stdout",
          "text": [
            "                   all         30        162      0.333      0.153      0.146     0.0531\n"
          ]
        },
        {
          "output_type": "stream",
          "name": "stderr",
          "text": [
            "\n"
          ]
        },
        {
          "output_type": "stream",
          "name": "stdout",
          "text": [
            "\n",
            "      Epoch    GPU_mem   box_loss   cls_loss   dfl_loss  Instances       Size\n"
          ]
        },
        {
          "output_type": "stream",
          "name": "stderr",
          "text": [
            "    153/200       7.4G     0.8479      0.632       1.13         66        640: 100%|██████████| 26/26 [00:14<00:00,  1.78it/s]\n",
            "                 Class     Images  Instances      Box(P          R      mAP50  mAP50-95): 100%|██████████| 1/1 [00:00<00:00,  2.08it/s]"
          ]
        },
        {
          "output_type": "stream",
          "name": "stdout",
          "text": [
            "                   all         30        162      0.217      0.161      0.117     0.0484\n"
          ]
        },
        {
          "output_type": "stream",
          "name": "stderr",
          "text": [
            "\n"
          ]
        },
        {
          "output_type": "stream",
          "name": "stdout",
          "text": [
            "\n",
            "      Epoch    GPU_mem   box_loss   cls_loss   dfl_loss  Instances       Size\n"
          ]
        },
        {
          "output_type": "stream",
          "name": "stderr",
          "text": [
            "    154/200      6.87G      0.841     0.6214      1.114         86        640: 100%|██████████| 26/26 [00:14<00:00,  1.74it/s]\n",
            "                 Class     Images  Instances      Box(P          R      mAP50  mAP50-95): 100%|██████████| 1/1 [00:00<00:00,  2.18it/s]"
          ]
        },
        {
          "output_type": "stream",
          "name": "stdout",
          "text": [
            "                   all         30        162      0.228      0.185      0.137      0.047\n"
          ]
        },
        {
          "output_type": "stream",
          "name": "stderr",
          "text": [
            "\n"
          ]
        },
        {
          "output_type": "stream",
          "name": "stdout",
          "text": [
            "\n",
            "      Epoch    GPU_mem   box_loss   cls_loss   dfl_loss  Instances       Size\n"
          ]
        },
        {
          "output_type": "stream",
          "name": "stderr",
          "text": [
            "    155/200      7.18G      0.845     0.6434      1.126         90        640: 100%|██████████| 26/26 [00:14<00:00,  1.76it/s]\n",
            "                 Class     Images  Instances      Box(P          R      mAP50  mAP50-95): 100%|██████████| 1/1 [00:00<00:00,  1.64it/s]"
          ]
        },
        {
          "output_type": "stream",
          "name": "stdout",
          "text": [
            "                   all         30        162      0.231      0.152      0.127     0.0408\n"
          ]
        },
        {
          "output_type": "stream",
          "name": "stderr",
          "text": [
            "\n"
          ]
        },
        {
          "output_type": "stream",
          "name": "stdout",
          "text": [
            "\n",
            "      Epoch    GPU_mem   box_loss   cls_loss   dfl_loss  Instances       Size\n"
          ]
        },
        {
          "output_type": "stream",
          "name": "stderr",
          "text": [
            "    156/200      7.18G     0.8316     0.6205      1.118         70        640: 100%|██████████| 26/26 [00:14<00:00,  1.76it/s]\n",
            "                 Class     Images  Instances      Box(P          R      mAP50  mAP50-95): 100%|██████████| 1/1 [00:00<00:00,  2.16it/s]"
          ]
        },
        {
          "output_type": "stream",
          "name": "stdout",
          "text": [
            "                   all         30        162      0.285      0.175      0.148     0.0535\n"
          ]
        },
        {
          "output_type": "stream",
          "name": "stderr",
          "text": [
            "\n"
          ]
        },
        {
          "output_type": "stream",
          "name": "stdout",
          "text": [
            "\n",
            "      Epoch    GPU_mem   box_loss   cls_loss   dfl_loss  Instances       Size\n"
          ]
        },
        {
          "output_type": "stream",
          "name": "stderr",
          "text": [
            "    157/200      7.22G     0.8617     0.6532      1.146         56        640: 100%|██████████| 26/26 [00:14<00:00,  1.77it/s]\n",
            "                 Class     Images  Instances      Box(P          R      mAP50  mAP50-95): 100%|██████████| 1/1 [00:00<00:00,  1.97it/s]"
          ]
        },
        {
          "output_type": "stream",
          "name": "stdout",
          "text": [
            "                   all         30        162      0.355      0.165      0.145     0.0562\n"
          ]
        },
        {
          "output_type": "stream",
          "name": "stderr",
          "text": [
            "\n"
          ]
        },
        {
          "output_type": "stream",
          "name": "stdout",
          "text": [
            "\n",
            "      Epoch    GPU_mem   box_loss   cls_loss   dfl_loss  Instances       Size\n"
          ]
        },
        {
          "output_type": "stream",
          "name": "stderr",
          "text": [
            "    158/200      7.25G     0.8272     0.6182      1.106         67        640: 100%|██████████| 26/26 [00:14<00:00,  1.74it/s]\n",
            "                 Class     Images  Instances      Box(P          R      mAP50  mAP50-95): 100%|██████████| 1/1 [00:00<00:00,  2.11it/s]"
          ]
        },
        {
          "output_type": "stream",
          "name": "stdout",
          "text": [
            "                   all         30        162       0.33      0.138      0.116     0.0467\n"
          ]
        },
        {
          "output_type": "stream",
          "name": "stderr",
          "text": [
            "\n"
          ]
        },
        {
          "output_type": "stream",
          "name": "stdout",
          "text": [
            "\n",
            "      Epoch    GPU_mem   box_loss   cls_loss   dfl_loss  Instances       Size\n"
          ]
        },
        {
          "output_type": "stream",
          "name": "stderr",
          "text": [
            "    159/200      7.29G     0.8103     0.6079      1.109         63        640: 100%|██████████| 26/26 [00:15<00:00,  1.73it/s]\n",
            "                 Class     Images  Instances      Box(P          R      mAP50  mAP50-95): 100%|██████████| 1/1 [00:00<00:00,  1.57it/s]"
          ]
        },
        {
          "output_type": "stream",
          "name": "stdout",
          "text": [
            "                   all         30        162      0.271      0.122      0.115     0.0438\n"
          ]
        },
        {
          "output_type": "stream",
          "name": "stderr",
          "text": [
            "\n"
          ]
        },
        {
          "output_type": "stream",
          "name": "stdout",
          "text": [
            "\n",
            "      Epoch    GPU_mem   box_loss   cls_loss   dfl_loss  Instances       Size\n"
          ]
        },
        {
          "output_type": "stream",
          "name": "stderr",
          "text": [
            "    160/200      7.33G     0.8298     0.6304      1.122         72        640: 100%|██████████| 26/26 [00:14<00:00,  1.75it/s]\n",
            "                 Class     Images  Instances      Box(P          R      mAP50  mAP50-95): 100%|██████████| 1/1 [00:00<00:00,  1.92it/s]"
          ]
        },
        {
          "output_type": "stream",
          "name": "stdout",
          "text": [
            "                   all         30        162      0.329      0.128      0.113     0.0487\n"
          ]
        },
        {
          "output_type": "stream",
          "name": "stderr",
          "text": [
            "\n"
          ]
        },
        {
          "output_type": "stream",
          "name": "stdout",
          "text": [
            "\n",
            "      Epoch    GPU_mem   box_loss   cls_loss   dfl_loss  Instances       Size\n"
          ]
        },
        {
          "output_type": "stream",
          "name": "stderr",
          "text": [
            "    161/200      7.36G     0.8329     0.6265      1.119         83        640: 100%|██████████| 26/26 [00:14<00:00,  1.74it/s]\n",
            "                 Class     Images  Instances      Box(P          R      mAP50  mAP50-95): 100%|██████████| 1/1 [00:00<00:00,  2.00it/s]"
          ]
        },
        {
          "output_type": "stream",
          "name": "stdout",
          "text": [
            "                   all         30        162      0.389      0.146      0.145     0.0598\n"
          ]
        },
        {
          "output_type": "stream",
          "name": "stderr",
          "text": [
            "\n"
          ]
        },
        {
          "output_type": "stream",
          "name": "stdout",
          "text": [
            "\n",
            "      Epoch    GPU_mem   box_loss   cls_loss   dfl_loss  Instances       Size\n"
          ]
        },
        {
          "output_type": "stream",
          "name": "stderr",
          "text": [
            "    162/200       7.4G     0.8065     0.6002      1.105         50        640: 100%|██████████| 26/26 [00:14<00:00,  1.76it/s]\n",
            "                 Class     Images  Instances      Box(P          R      mAP50  mAP50-95): 100%|██████████| 1/1 [00:00<00:00,  1.87it/s]"
          ]
        },
        {
          "output_type": "stream",
          "name": "stdout",
          "text": [
            "                   all         30        162      0.347      0.122      0.119     0.0487\n"
          ]
        },
        {
          "output_type": "stream",
          "name": "stderr",
          "text": [
            "\n"
          ]
        },
        {
          "output_type": "stream",
          "name": "stdout",
          "text": [
            "\n",
            "      Epoch    GPU_mem   box_loss   cls_loss   dfl_loss  Instances       Size\n"
          ]
        },
        {
          "output_type": "stream",
          "name": "stderr",
          "text": [
            "    163/200      7.12G     0.8095     0.6046        1.1         75        640: 100%|██████████| 26/26 [00:14<00:00,  1.75it/s]\n",
            "                 Class     Images  Instances      Box(P          R      mAP50  mAP50-95): 100%|██████████| 1/1 [00:00<00:00,  1.90it/s]"
          ]
        },
        {
          "output_type": "stream",
          "name": "stdout",
          "text": [
            "                   all         30        162      0.363      0.155      0.125     0.0424\n"
          ]
        },
        {
          "output_type": "stream",
          "name": "stderr",
          "text": [
            "\n"
          ]
        },
        {
          "output_type": "stream",
          "name": "stdout",
          "text": [
            "\n",
            "      Epoch    GPU_mem   box_loss   cls_loss   dfl_loss  Instances       Size\n"
          ]
        },
        {
          "output_type": "stream",
          "name": "stderr",
          "text": [
            "    164/200      6.85G     0.8214     0.6067      1.098         78        640: 100%|██████████| 26/26 [00:15<00:00,  1.69it/s]\n",
            "                 Class     Images  Instances      Box(P          R      mAP50  mAP50-95): 100%|██████████| 1/1 [00:00<00:00,  2.22it/s]"
          ]
        },
        {
          "output_type": "stream",
          "name": "stdout",
          "text": [
            "                   all         30        162       0.31      0.176      0.158     0.0569\n"
          ]
        },
        {
          "output_type": "stream",
          "name": "stderr",
          "text": [
            "\n"
          ]
        },
        {
          "output_type": "stream",
          "name": "stdout",
          "text": [
            "\n",
            "      Epoch    GPU_mem   box_loss   cls_loss   dfl_loss  Instances       Size\n"
          ]
        },
        {
          "output_type": "stream",
          "name": "stderr",
          "text": [
            "    165/200       7.2G     0.8086     0.6087      1.095         77        640: 100%|██████████| 26/26 [00:14<00:00,  1.75it/s]\n",
            "                 Class     Images  Instances      Box(P          R      mAP50  mAP50-95): 100%|██████████| 1/1 [00:00<00:00,  2.10it/s]"
          ]
        },
        {
          "output_type": "stream",
          "name": "stdout",
          "text": [
            "                   all         30        162      0.253      0.165      0.117     0.0507\n"
          ]
        },
        {
          "output_type": "stream",
          "name": "stderr",
          "text": [
            "\n"
          ]
        },
        {
          "output_type": "stream",
          "name": "stdout",
          "text": [
            "\n",
            "      Epoch    GPU_mem   box_loss   cls_loss   dfl_loss  Instances       Size\n"
          ]
        },
        {
          "output_type": "stream",
          "name": "stderr",
          "text": [
            "    166/200      7.23G     0.8073     0.6037      1.099         60        640: 100%|██████████| 26/26 [00:15<00:00,  1.63it/s]\n",
            "                 Class     Images  Instances      Box(P          R      mAP50  mAP50-95): 100%|██████████| 1/1 [00:00<00:00,  2.22it/s]"
          ]
        },
        {
          "output_type": "stream",
          "name": "stdout",
          "text": [
            "                   all         30        162      0.314      0.142      0.118      0.051\n"
          ]
        },
        {
          "output_type": "stream",
          "name": "stderr",
          "text": [
            "\n"
          ]
        },
        {
          "output_type": "stream",
          "name": "stdout",
          "text": [
            "\n",
            "      Epoch    GPU_mem   box_loss   cls_loss   dfl_loss  Instances       Size\n"
          ]
        },
        {
          "output_type": "stream",
          "name": "stderr",
          "text": [
            "    167/200      7.27G     0.7937     0.5961      1.093         79        640: 100%|██████████| 26/26 [00:14<00:00,  1.74it/s]\n",
            "                 Class     Images  Instances      Box(P          R      mAP50  mAP50-95): 100%|██████████| 1/1 [00:00<00:00,  1.37it/s]"
          ]
        },
        {
          "output_type": "stream",
          "name": "stdout",
          "text": [
            "                   all         30        162      0.286      0.136      0.113     0.0467\n"
          ]
        },
        {
          "output_type": "stream",
          "name": "stderr",
          "text": [
            "\n"
          ]
        },
        {
          "output_type": "stream",
          "name": "stdout",
          "text": [
            "\n",
            "      Epoch    GPU_mem   box_loss   cls_loss   dfl_loss  Instances       Size\n"
          ]
        },
        {
          "output_type": "stream",
          "name": "stderr",
          "text": [
            "    168/200       7.3G     0.8037     0.5988      1.099         58        640: 100%|██████████| 26/26 [00:15<00:00,  1.72it/s]\n",
            "                 Class     Images  Instances      Box(P          R      mAP50  mAP50-95): 100%|██████████| 1/1 [00:00<00:00,  2.23it/s]"
          ]
        },
        {
          "output_type": "stream",
          "name": "stdout",
          "text": [
            "                   all         30        162      0.257      0.159      0.117     0.0529\n"
          ]
        },
        {
          "output_type": "stream",
          "name": "stderr",
          "text": [
            "\n"
          ]
        },
        {
          "output_type": "stream",
          "name": "stdout",
          "text": [
            "\n",
            "      Epoch    GPU_mem   box_loss   cls_loss   dfl_loss  Instances       Size\n"
          ]
        },
        {
          "output_type": "stream",
          "name": "stderr",
          "text": [
            "    169/200      7.34G     0.7894     0.5845      1.084         77        640: 100%|██████████| 26/26 [00:15<00:00,  1.73it/s]\n",
            "                 Class     Images  Instances      Box(P          R      mAP50  mAP50-95): 100%|██████████| 1/1 [00:00<00:00,  2.36it/s]"
          ]
        },
        {
          "output_type": "stream",
          "name": "stdout",
          "text": [
            "                   all         30        162      0.354       0.16      0.113     0.0492\n"
          ]
        },
        {
          "output_type": "stream",
          "name": "stderr",
          "text": [
            "\n"
          ]
        },
        {
          "output_type": "stream",
          "name": "stdout",
          "text": [
            "\n",
            "      Epoch    GPU_mem   box_loss   cls_loss   dfl_loss  Instances       Size\n"
          ]
        },
        {
          "output_type": "stream",
          "name": "stderr",
          "text": [
            "    170/200      7.38G     0.7917     0.5961      1.097         75        640: 100%|██████████| 26/26 [00:14<00:00,  1.76it/s]\n",
            "                 Class     Images  Instances      Box(P          R      mAP50  mAP50-95): 100%|██████████| 1/1 [00:00<00:00,  1.61it/s]"
          ]
        },
        {
          "output_type": "stream",
          "name": "stdout",
          "text": [
            "                   all         30        162      0.337       0.16      0.124     0.0499\n"
          ]
        },
        {
          "output_type": "stream",
          "name": "stderr",
          "text": [
            "\n"
          ]
        },
        {
          "output_type": "stream",
          "name": "stdout",
          "text": [
            "\n",
            "      Epoch    GPU_mem   box_loss   cls_loss   dfl_loss  Instances       Size\n"
          ]
        },
        {
          "output_type": "stream",
          "name": "stderr",
          "text": [
            "    171/200      6.93G     0.7901     0.5861      1.086         59        640: 100%|██████████| 26/26 [00:14<00:00,  1.74it/s]\n",
            "                 Class     Images  Instances      Box(P          R      mAP50  mAP50-95): 100%|██████████| 1/1 [00:00<00:00,  1.26it/s]"
          ]
        },
        {
          "output_type": "stream",
          "name": "stdout",
          "text": [
            "                   all         30        162      0.259      0.168      0.138     0.0599\n"
          ]
        },
        {
          "output_type": "stream",
          "name": "stderr",
          "text": [
            "\n"
          ]
        },
        {
          "output_type": "stream",
          "name": "stdout",
          "text": [
            "\n",
            "      Epoch    GPU_mem   box_loss   cls_loss   dfl_loss  Instances       Size\n"
          ]
        },
        {
          "output_type": "stream",
          "name": "stderr",
          "text": [
            "    172/200      7.23G     0.7896     0.5816      1.089         83        640: 100%|██████████| 26/26 [00:14<00:00,  1.75it/s]\n",
            "                 Class     Images  Instances      Box(P          R      mAP50  mAP50-95): 100%|██████████| 1/1 [00:00<00:00,  2.28it/s]"
          ]
        },
        {
          "output_type": "stream",
          "name": "stdout",
          "text": [
            "                   all         30        162      0.273      0.162      0.116     0.0458\n"
          ]
        },
        {
          "output_type": "stream",
          "name": "stderr",
          "text": [
            "\n"
          ]
        },
        {
          "output_type": "stream",
          "name": "stdout",
          "text": [
            "\n",
            "      Epoch    GPU_mem   box_loss   cls_loss   dfl_loss  Instances       Size\n"
          ]
        },
        {
          "output_type": "stream",
          "name": "stderr",
          "text": [
            "    173/200      7.24G     0.7651     0.5592      1.075         94        640: 100%|██████████| 26/26 [00:15<00:00,  1.69it/s]\n",
            "                 Class     Images  Instances      Box(P          R      mAP50  mAP50-95): 100%|██████████| 1/1 [00:00<00:00,  2.12it/s]"
          ]
        },
        {
          "output_type": "stream",
          "name": "stdout",
          "text": [
            "                   all         30        162      0.297      0.146      0.116     0.0516\n"
          ]
        },
        {
          "output_type": "stream",
          "name": "stderr",
          "text": [
            "\n"
          ]
        },
        {
          "output_type": "stream",
          "name": "stdout",
          "text": [
            "\n",
            "      Epoch    GPU_mem   box_loss   cls_loss   dfl_loss  Instances       Size\n"
          ]
        },
        {
          "output_type": "stream",
          "name": "stderr",
          "text": [
            "    174/200      7.28G     0.7835     0.5676       1.08         84        640: 100%|██████████| 26/26 [00:15<00:00,  1.72it/s]\n",
            "                 Class     Images  Instances      Box(P          R      mAP50  mAP50-95): 100%|██████████| 1/1 [00:00<00:00,  2.10it/s]"
          ]
        },
        {
          "output_type": "stream",
          "name": "stdout",
          "text": [
            "                   all         30        162      0.311      0.138      0.109      0.053\n"
          ]
        },
        {
          "output_type": "stream",
          "name": "stderr",
          "text": [
            "\n"
          ]
        },
        {
          "output_type": "stream",
          "name": "stdout",
          "text": [
            "\n",
            "      Epoch    GPU_mem   box_loss   cls_loss   dfl_loss  Instances       Size\n"
          ]
        },
        {
          "output_type": "stream",
          "name": "stderr",
          "text": [
            "    175/200      7.32G     0.7958     0.5881      1.089         68        640: 100%|██████████| 26/26 [00:15<00:00,  1.71it/s]\n",
            "                 Class     Images  Instances      Box(P          R      mAP50  mAP50-95): 100%|██████████| 1/1 [00:00<00:00,  1.50it/s]"
          ]
        },
        {
          "output_type": "stream",
          "name": "stdout",
          "text": [
            "                   all         30        162      0.305       0.15      0.112     0.0519\n"
          ]
        },
        {
          "output_type": "stream",
          "name": "stderr",
          "text": [
            "\n"
          ]
        },
        {
          "output_type": "stream",
          "name": "stdout",
          "text": [
            "\n",
            "      Epoch    GPU_mem   box_loss   cls_loss   dfl_loss  Instances       Size\n"
          ]
        },
        {
          "output_type": "stream",
          "name": "stderr",
          "text": [
            "    176/200      7.35G     0.7575     0.5553       1.06         74        640: 100%|██████████| 26/26 [00:14<00:00,  1.74it/s]\n",
            "                 Class     Images  Instances      Box(P          R      mAP50  mAP50-95): 100%|██████████| 1/1 [00:00<00:00,  1.98it/s]"
          ]
        },
        {
          "output_type": "stream",
          "name": "stdout",
          "text": [
            "                   all         30        162      0.197      0.149      0.111     0.0514\n"
          ]
        },
        {
          "output_type": "stream",
          "name": "stderr",
          "text": [
            "\n"
          ]
        },
        {
          "output_type": "stream",
          "name": "stdout",
          "text": [
            "\n",
            "      Epoch    GPU_mem   box_loss   cls_loss   dfl_loss  Instances       Size\n"
          ]
        },
        {
          "output_type": "stream",
          "name": "stderr",
          "text": [
            "    177/200      7.39G     0.7754     0.5786      1.085         61        640: 100%|██████████| 26/26 [00:15<00:00,  1.72it/s]\n",
            "                 Class     Images  Instances      Box(P          R      mAP50  mAP50-95): 100%|██████████| 1/1 [00:00<00:00,  2.03it/s]"
          ]
        },
        {
          "output_type": "stream",
          "name": "stdout",
          "text": [
            "                   all         30        162      0.234      0.157      0.121     0.0564\n"
          ]
        },
        {
          "output_type": "stream",
          "name": "stderr",
          "text": [
            "\n"
          ]
        },
        {
          "output_type": "stream",
          "name": "stdout",
          "text": [
            "\n",
            "      Epoch    GPU_mem   box_loss   cls_loss   dfl_loss  Instances       Size\n"
          ]
        },
        {
          "output_type": "stream",
          "name": "stderr",
          "text": [
            "    178/200      7.21G     0.7484     0.5608       1.06         60        640: 100%|██████████| 26/26 [00:15<00:00,  1.72it/s]\n",
            "                 Class     Images  Instances      Box(P          R      mAP50  mAP50-95): 100%|██████████| 1/1 [00:00<00:00,  2.11it/s]"
          ]
        },
        {
          "output_type": "stream",
          "name": "stdout",
          "text": [
            "                   all         30        162      0.313      0.159      0.127     0.0582\n"
          ]
        },
        {
          "output_type": "stream",
          "name": "stderr",
          "text": [
            "\n"
          ]
        },
        {
          "output_type": "stream",
          "name": "stdout",
          "text": [
            "\n",
            "      Epoch    GPU_mem   box_loss   cls_loss   dfl_loss  Instances       Size\n"
          ]
        },
        {
          "output_type": "stream",
          "name": "stderr",
          "text": [
            "    179/200      6.86G     0.7693     0.5783      1.082         90        640: 100%|██████████| 26/26 [00:15<00:00,  1.71it/s]\n",
            "                 Class     Images  Instances      Box(P          R      mAP50  mAP50-95): 100%|██████████| 1/1 [00:00<00:00,  1.47it/s]"
          ]
        },
        {
          "output_type": "stream",
          "name": "stdout",
          "text": [
            "                   all         30        162      0.303      0.152      0.112      0.051\n"
          ]
        },
        {
          "output_type": "stream",
          "name": "stderr",
          "text": [
            "\n"
          ]
        },
        {
          "output_type": "stream",
          "name": "stdout",
          "text": [
            "\n",
            "      Epoch    GPU_mem   box_loss   cls_loss   dfl_loss  Instances       Size\n"
          ]
        },
        {
          "output_type": "stream",
          "name": "stderr",
          "text": [
            "    180/200       7.2G     0.7582     0.5538      1.061         82        640: 100%|██████████| 26/26 [00:14<00:00,  1.74it/s]\n",
            "                 Class     Images  Instances      Box(P          R      mAP50  mAP50-95): 100%|██████████| 1/1 [00:00<00:00,  2.16it/s]"
          ]
        },
        {
          "output_type": "stream",
          "name": "stdout",
          "text": [
            "                   all         30        162      0.314      0.154      0.124     0.0563\n"
          ]
        },
        {
          "output_type": "stream",
          "name": "stderr",
          "text": [
            "\n"
          ]
        },
        {
          "output_type": "stream",
          "name": "stdout",
          "text": [
            "\n",
            "      Epoch    GPU_mem   box_loss   cls_loss   dfl_loss  Instances       Size\n"
          ]
        },
        {
          "output_type": "stream",
          "name": "stderr",
          "text": [
            "    181/200      7.24G     0.7742     0.5655      1.074         71        640: 100%|██████████| 26/26 [00:14<00:00,  1.75it/s]\n",
            "                 Class     Images  Instances      Box(P          R      mAP50  mAP50-95): 100%|██████████| 1/1 [00:00<00:00,  2.07it/s]"
          ]
        },
        {
          "output_type": "stream",
          "name": "stdout",
          "text": [
            "                   all         30        162      0.314      0.149      0.124     0.0525\n"
          ]
        },
        {
          "output_type": "stream",
          "name": "stderr",
          "text": [
            "\n"
          ]
        },
        {
          "output_type": "stream",
          "name": "stdout",
          "text": [
            "\n",
            "      Epoch    GPU_mem   box_loss   cls_loss   dfl_loss  Instances       Size\n"
          ]
        },
        {
          "output_type": "stream",
          "name": "stderr",
          "text": [
            "    182/200      7.27G     0.7515     0.5558      1.061         82        640: 100%|██████████| 26/26 [00:14<00:00,  1.75it/s]\n",
            "                 Class     Images  Instances      Box(P          R      mAP50  mAP50-95): 100%|██████████| 1/1 [00:00<00:00,  1.96it/s]"
          ]
        },
        {
          "output_type": "stream",
          "name": "stdout",
          "text": [
            "                   all         30        162      0.293      0.154      0.119     0.0517\n"
          ]
        },
        {
          "output_type": "stream",
          "name": "stderr",
          "text": [
            "\n"
          ]
        },
        {
          "output_type": "stream",
          "name": "stdout",
          "text": [
            "\n",
            "      Epoch    GPU_mem   box_loss   cls_loss   dfl_loss  Instances       Size\n"
          ]
        },
        {
          "output_type": "stream",
          "name": "stderr",
          "text": [
            "    183/200      7.31G     0.7424     0.5495      1.059         77        640: 100%|██████████| 26/26 [00:15<00:00,  1.72it/s]\n",
            "                 Class     Images  Instances      Box(P          R      mAP50  mAP50-95): 100%|██████████| 1/1 [00:00<00:00,  1.43it/s]"
          ]
        },
        {
          "output_type": "stream",
          "name": "stdout",
          "text": [
            "                   all         30        162      0.314      0.141       0.11     0.0467\n"
          ]
        },
        {
          "output_type": "stream",
          "name": "stderr",
          "text": [
            "\n"
          ]
        },
        {
          "output_type": "stream",
          "name": "stdout",
          "text": [
            "\n",
            "      Epoch    GPU_mem   box_loss   cls_loss   dfl_loss  Instances       Size\n"
          ]
        },
        {
          "output_type": "stream",
          "name": "stderr",
          "text": [
            "    184/200      7.35G     0.7375     0.5391      1.057         72        640: 100%|██████████| 26/26 [00:14<00:00,  1.74it/s]\n",
            "                 Class     Images  Instances      Box(P          R      mAP50  mAP50-95): 100%|██████████| 1/1 [00:00<00:00,  2.11it/s]"
          ]
        },
        {
          "output_type": "stream",
          "name": "stdout",
          "text": [
            "                   all         30        162      0.295      0.155      0.122     0.0517\n"
          ]
        },
        {
          "output_type": "stream",
          "name": "stderr",
          "text": [
            "\n"
          ]
        },
        {
          "output_type": "stream",
          "name": "stdout",
          "text": [
            "\n",
            "      Epoch    GPU_mem   box_loss   cls_loss   dfl_loss  Instances       Size\n"
          ]
        },
        {
          "output_type": "stream",
          "name": "stderr",
          "text": [
            "    185/200      7.38G     0.7549     0.5648      1.064         50        640: 100%|██████████| 26/26 [00:15<00:00,  1.72it/s]\n",
            "                 Class     Images  Instances      Box(P          R      mAP50  mAP50-95): 100%|██████████| 1/1 [00:00<00:00,  2.05it/s]"
          ]
        },
        {
          "output_type": "stream",
          "name": "stdout",
          "text": [
            "                   all         30        162      0.298      0.157      0.134     0.0553\n"
          ]
        },
        {
          "output_type": "stream",
          "name": "stderr",
          "text": [
            "\n"
          ]
        },
        {
          "output_type": "stream",
          "name": "stdout",
          "text": [
            "\n",
            "      Epoch    GPU_mem   box_loss   cls_loss   dfl_loss  Instances       Size\n"
          ]
        },
        {
          "output_type": "stream",
          "name": "stderr",
          "text": [
            "    186/200      7.24G     0.7458     0.5536      1.055         74        640: 100%|██████████| 26/26 [00:15<00:00,  1.73it/s]\n",
            "                 Class     Images  Instances      Box(P          R      mAP50  mAP50-95): 100%|██████████| 1/1 [00:00<00:00,  1.94it/s]"
          ]
        },
        {
          "output_type": "stream",
          "name": "stdout",
          "text": [
            "                   all         30        162      0.304      0.149      0.121     0.0504\n"
          ]
        },
        {
          "output_type": "stream",
          "name": "stderr",
          "text": [
            "\n"
          ]
        },
        {
          "output_type": "stream",
          "name": "stdout",
          "text": [
            "\n",
            "      Epoch    GPU_mem   box_loss   cls_loss   dfl_loss  Instances       Size\n"
          ]
        },
        {
          "output_type": "stream",
          "name": "stderr",
          "text": [
            "    187/200      6.83G     0.7475     0.5505      1.058         60        640: 100%|██████████| 26/26 [00:16<00:00,  1.60it/s]\n",
            "                 Class     Images  Instances      Box(P          R      mAP50  mAP50-95): 100%|██████████| 1/1 [00:00<00:00,  1.97it/s]"
          ]
        },
        {
          "output_type": "stream",
          "name": "stdout",
          "text": [
            "                   all         30        162       0.33      0.134      0.127     0.0522\n"
          ]
        },
        {
          "output_type": "stream",
          "name": "stderr",
          "text": [
            "\n"
          ]
        },
        {
          "output_type": "stream",
          "name": "stdout",
          "text": [
            "\n",
            "      Epoch    GPU_mem   box_loss   cls_loss   dfl_loss  Instances       Size\n"
          ]
        },
        {
          "output_type": "stream",
          "name": "stderr",
          "text": [
            "    188/200      7.17G     0.7326     0.5381      1.052        102        640: 100%|██████████| 26/26 [00:14<00:00,  1.74it/s]\n",
            "                 Class     Images  Instances      Box(P          R      mAP50  mAP50-95): 100%|██████████| 1/1 [00:00<00:00,  1.77it/s]"
          ]
        },
        {
          "output_type": "stream",
          "name": "stdout",
          "text": [
            "                   all         30        162      0.264      0.146      0.127     0.0553\n"
          ]
        },
        {
          "output_type": "stream",
          "name": "stderr",
          "text": [
            "\n"
          ]
        },
        {
          "output_type": "stream",
          "name": "stdout",
          "text": [
            "\n",
            "      Epoch    GPU_mem   box_loss   cls_loss   dfl_loss  Instances       Size\n"
          ]
        },
        {
          "output_type": "stream",
          "name": "stderr",
          "text": [
            "    189/200       7.2G     0.7324     0.5457      1.054         48        640: 100%|██████████| 26/26 [00:15<00:00,  1.70it/s]\n",
            "                 Class     Images  Instances      Box(P          R      mAP50  mAP50-95): 100%|██████████| 1/1 [00:00<00:00,  2.11it/s]"
          ]
        },
        {
          "output_type": "stream",
          "name": "stdout",
          "text": [
            "                   all         30        162      0.297      0.144      0.127     0.0575\n"
          ]
        },
        {
          "output_type": "stream",
          "name": "stderr",
          "text": [
            "\n"
          ]
        },
        {
          "output_type": "stream",
          "name": "stdout",
          "text": [
            "\n",
            "      Epoch    GPU_mem   box_loss   cls_loss   dfl_loss  Instances       Size\n"
          ]
        },
        {
          "output_type": "stream",
          "name": "stderr",
          "text": [
            "    190/200      7.24G     0.7241      0.536      1.051         94        640: 100%|██████████| 26/26 [00:15<00:00,  1.69it/s]\n",
            "                 Class     Images  Instances      Box(P          R      mAP50  mAP50-95): 100%|██████████| 1/1 [00:00<00:00,  1.39it/s]"
          ]
        },
        {
          "output_type": "stream",
          "name": "stdout",
          "text": [
            "                   all         30        162      0.312      0.144      0.129     0.0589\n"
          ]
        },
        {
          "output_type": "stream",
          "name": "stderr",
          "text": [
            "\n"
          ]
        },
        {
          "output_type": "stream",
          "name": "stdout",
          "text": [
            "Closing dataloader mosaic\n",
            "\u001b[34m\u001b[1malbumentations: \u001b[0mBlur(p=0.01, blur_limit=(3, 7)), MedianBlur(p=0.01, blur_limit=(3, 7)), ToGray(p=0.01, method='weighted_average', num_output_channels=3), CLAHE(p=0.01, clip_limit=(1.0, 4.0), tile_grid_size=(8, 8))\n",
            "\n",
            "      Epoch    GPU_mem   box_loss   cls_loss   dfl_loss  Instances       Size\n"
          ]
        },
        {
          "output_type": "stream",
          "name": "stderr",
          "text": [
            "    191/200      7.28G     0.7405     0.5119      1.057         31        640: 100%|██████████| 26/26 [00:18<00:00,  1.39it/s]\n",
            "                 Class     Images  Instances      Box(P          R      mAP50  mAP50-95): 100%|██████████| 1/1 [00:00<00:00,  2.05it/s]"
          ]
        },
        {
          "output_type": "stream",
          "name": "stdout",
          "text": [
            "                   all         30        162      0.302      0.133      0.119      0.055\n"
          ]
        },
        {
          "output_type": "stream",
          "name": "stderr",
          "text": [
            "\n"
          ]
        },
        {
          "output_type": "stream",
          "name": "stdout",
          "text": [
            "\n",
            "      Epoch    GPU_mem   box_loss   cls_loss   dfl_loss  Instances       Size\n"
          ]
        },
        {
          "output_type": "stream",
          "name": "stderr",
          "text": [
            "    192/200      7.31G     0.7169     0.4771      1.035         42        640: 100%|██████████| 26/26 [00:15<00:00,  1.70it/s]\n",
            "                 Class     Images  Instances      Box(P          R      mAP50  mAP50-95): 100%|██████████| 1/1 [00:00<00:00,  2.04it/s]"
          ]
        },
        {
          "output_type": "stream",
          "name": "stdout",
          "text": [
            "                   all         30        162      0.324      0.163      0.134     0.0576\n"
          ]
        },
        {
          "output_type": "stream",
          "name": "stderr",
          "text": [
            "\n"
          ]
        },
        {
          "output_type": "stream",
          "name": "stdout",
          "text": [
            "\n",
            "      Epoch    GPU_mem   box_loss   cls_loss   dfl_loss  Instances       Size\n"
          ]
        },
        {
          "output_type": "stream",
          "name": "stderr",
          "text": [
            "    193/200      7.35G     0.6903     0.4353      1.019         30        640: 100%|██████████| 26/26 [00:14<00:00,  1.74it/s]\n",
            "                 Class     Images  Instances      Box(P          R      mAP50  mAP50-95): 100%|██████████| 1/1 [00:00<00:00,  2.16it/s]"
          ]
        },
        {
          "output_type": "stream",
          "name": "stdout",
          "text": [
            "                   all         30        162      0.355      0.162       0.14     0.0591\n"
          ]
        },
        {
          "output_type": "stream",
          "name": "stderr",
          "text": [
            "\n"
          ]
        },
        {
          "output_type": "stream",
          "name": "stdout",
          "text": [
            "\n",
            "      Epoch    GPU_mem   box_loss   cls_loss   dfl_loss  Instances       Size\n"
          ]
        },
        {
          "output_type": "stream",
          "name": "stderr",
          "text": [
            "    194/200      7.38G     0.6633     0.4306      1.008         41        640: 100%|██████████| 26/26 [00:14<00:00,  1.74it/s]\n",
            "                 Class     Images  Instances      Box(P          R      mAP50  mAP50-95): 100%|██████████| 1/1 [00:00<00:00,  1.42it/s]"
          ]
        },
        {
          "output_type": "stream",
          "name": "stdout",
          "text": [
            "                   all         30        162       0.33      0.163      0.143     0.0626\n",
            "\u001b[34m\u001b[1mEarlyStopping: \u001b[0mTraining stopped early as no improvement observed in last 100 epochs. Best results observed at epoch 94, best model saved as best.pt.\n",
            "To update EarlyStopping(patience=100) pass a new patience value, i.e. `patience=300` or use `patience=0` to disable EarlyStopping.\n"
          ]
        },
        {
          "output_type": "stream",
          "name": "stderr",
          "text": [
            "\n"
          ]
        },
        {
          "output_type": "stream",
          "name": "stdout",
          "text": [
            "\n",
            "194 epochs completed in 0.897 hours.\n",
            "Optimizer stripped from runs/detect/train3/weights/last.pt, 22.5MB\n",
            "Optimizer stripped from runs/detect/train3/weights/best.pt, 22.5MB\n",
            "\n",
            "Validating runs/detect/train3/weights/best.pt...\n",
            "Ultralytics 8.3.134 🚀 Python-3.11.12 torch-2.6.0+cu124 CUDA:0 (Tesla T4, 15095MiB)\n",
            "Model summary (fused): 72 layers, 11,127,519 parameters, 0 gradients, 28.4 GFLOPs\n"
          ]
        },
        {
          "output_type": "stream",
          "name": "stderr",
          "text": [
            "                 Class     Images  Instances      Box(P          R      mAP50  mAP50-95): 100%|██████████| 1/1 [00:00<00:00,  3.10it/s]\n"
          ]
        },
        {
          "output_type": "stream",
          "name": "stdout",
          "text": [
            "                   all         30        162      0.351       0.16       0.16     0.0716\n",
            "  alternaria_leaf_spot          9         70      0.325        0.1     0.0974     0.0327\n",
            "             black_rot          8         12      0.852      0.481      0.491      0.252\n",
            "         downey_mildew          5         19          0          0     0.0532     0.0256\n",
            "       insect_infested          9         37      0.458      0.135      0.134     0.0406\n",
            "   nutrient_deficiency          5         24      0.122     0.0833     0.0241    0.00661\n",
            "Speed: 0.2ms preprocess, 4.6ms inference, 0.0ms loss, 1.5ms postprocess per image\n",
            "Results saved to \u001b[1mruns/detect/train3\u001b[0m\n"
          ]
        }
      ]
    },
    {
      "cell_type": "code",
      "source": [
        "model = YOLO(\"runs/detect/train3/weights/best.pt\")\n",
        "\n",
        "results = model.predict(source=\"/content/cauli_disease-3/test/images\", save=True,stream=True)\n",
        "\n",
        "for result in results:\n",
        "  pass"
      ],
      "metadata": {
        "id": "PxumsXcow-OE",
        "colab": {
          "base_uri": "https://localhost:8080/"
        },
        "outputId": "1422aebe-e383-4202-fcbd-9ea8840ee60d"
      },
      "execution_count": null,
      "outputs": [
        {
          "output_type": "stream",
          "name": "stdout",
          "text": [
            "\n",
            "image 1/16 /content/cauli_disease-3/test/images/cauli_102_jpg.rf.3a55fae8de5e9366215a055148e0dffc.jpg: 640x640 10 insect_infesteds, 16.3ms\n",
            "image 2/16 /content/cauli_disease-3/test/images/cauli_106_jpg.rf.320a3670ca8063dc2d0ed3eb3de92295.jpg: 640x640 (no detections), 16.3ms\n",
            "image 3/16 /content/cauli_disease-3/test/images/cauli_163_jpg.rf.ba49e0ff3c08511e4e65beae0349c7fb.jpg: 640x640 2 nutrient_deficiencys, 16.2ms\n",
            "image 4/16 /content/cauli_disease-3/test/images/cauli_209_jpg.rf.d94850d48079b7924c57f883f6012e1e.jpg: 640x640 2 black_rots, 16.2ms\n",
            "image 5/16 /content/cauli_disease-3/test/images/cauli_254_JPG.rf.4fb09e5e86a60f3f24f8813b0b9d58ca.jpg: 640x640 5 black_rots, 16.2ms\n",
            "image 6/16 /content/cauli_disease-3/test/images/cauli_259_JPG.rf.4aee7664d6fc36f2e8c4c3a783de2578.jpg: 640x640 1 black_rot, 16.2ms\n",
            "image 7/16 /content/cauli_disease-3/test/images/cauli_272_JPG.rf.bf209ac6c9f4bcacbd8953a98d5a3350.jpg: 640x640 2 alternaria_leaf_spots, 2 black_rots, 16.3ms\n",
            "image 8/16 /content/cauli_disease-3/test/images/cauli_300_JPG.rf.cacd3f55bd6c6d84c4f1a0868e6e7e41.jpg: 640x640 1 alternaria_leaf_spot, 1 black_rot, 13.9ms\n",
            "image 9/16 /content/cauli_disease-3/test/images/cauli_327_jpeg.rf.bcaad3187b8b9e658e0f59fa89d4b2d9.jpg: 640x640 1 downey_mildew, 13.9ms\n",
            "image 10/16 /content/cauli_disease-3/test/images/cauli_33_jpg.rf.64cd64d9e861b5ad13885ae2a30b51f6.jpg: 640x640 1 nutrient_deficiency, 13.9ms\n",
            "image 11/16 /content/cauli_disease-3/test/images/cauli_38_jpg.rf.54f247c69cefb27541f28c7d0d6226a9.jpg: 640x640 (no detections), 13.8ms\n",
            "image 12/16 /content/cauli_disease-3/test/images/cauli_42_jpg.rf.61b56b2568890c4472faa803bc5d3e25.jpg: 640x640 1 alternaria_leaf_spot, 2 insect_infesteds, 13.8ms\n",
            "image 13/16 /content/cauli_disease-3/test/images/cauli_57_jpg.rf.59bb700e4ad5cf0a37050e6c8f29928b.jpg: 640x640 7 nutrient_deficiencys, 13.9ms\n",
            "image 14/16 /content/cauli_disease-3/test/images/cauli_61_jpg.rf.e51151ac44e21aac5dfdaf626119771c.jpg: 640x640 1 alternaria_leaf_spot, 4 insect_infesteds, 13.9ms\n",
            "image 15/16 /content/cauli_disease-3/test/images/cauli_69_jpg.rf.44041a3c500df0c8ec72c19a0b0596ce.jpg: 640x640 2 alternaria_leaf_spots, 2 insect_infesteds, 13.8ms\n",
            "image 16/16 /content/cauli_disease-3/test/images/cauli_76_jpg.rf.0ea8d3f32e29e2a361efed1c2b058285.jpg: 640x640 4 insect_infesteds, 10.5ms\n",
            "Speed: 1.8ms preprocess, 14.7ms inference, 1.5ms postprocess per image at shape (1, 3, 640, 640)\n",
            "Results saved to \u001b[1mruns/detect/predict\u001b[0m\n"
          ]
        }
      ]
    },
    {
      "cell_type": "code",
      "source": [
        "!zip -r /content/log.zip /content/"
      ],
      "metadata": {
        "colab": {
          "base_uri": "https://localhost:8080/"
        },
        "id": "7ARah31jLgzh",
        "outputId": "eb97b36f-b139-420e-8ce6-9961ca4a32ca"
      },
      "execution_count": null,
      "outputs": [
        {
          "output_type": "stream",
          "name": "stdout",
          "text": [
            "  adding: content/ (stored 0%)\n",
            "  adding: content/.config/ (stored 0%)\n",
            "  adding: content/.config/.last_opt_in_prompt.yaml (stored 0%)\n",
            "  adding: content/.config/active_config (stored 0%)\n",
            "  adding: content/.config/.last_survey_prompt.yaml (stored 0%)\n",
            "  adding: content/.config/gce (stored 0%)\n",
            "  adding: content/.config/config_sentinel (stored 0%)\n",
            "  adding: content/.config/configurations/ (stored 0%)\n",
            "  adding: content/.config/configurations/config_default (deflated 15%)\n",
            "  adding: content/.config/hidden_gcloud_config_universe_descriptor_data_cache_configs.db (deflated 97%)\n",
            "  adding: content/.config/.last_update_check.json (deflated 22%)\n",
            "  adding: content/.config/logs/ (stored 0%)\n",
            "  adding: content/.config/logs/2025.05.12/ (stored 0%)\n",
            "  adding: content/.config/logs/2025.05.12/13.37.09.418759.log (deflated 58%)\n",
            "  adding: content/.config/logs/2025.05.12/13.37.07.817575.log (deflated 86%)\n",
            "  adding: content/.config/logs/2025.05.12/13.36.58.869156.log (deflated 58%)\n",
            "  adding: content/.config/logs/2025.05.12/13.36.34.925125.log (deflated 93%)\n",
            "  adding: content/.config/logs/2025.05.12/13.37.18.758811.log (deflated 56%)\n",
            "  adding: content/.config/logs/2025.05.12/13.37.18.051962.log (deflated 57%)\n",
            "  adding: content/.config/default_configs.db (deflated 98%)\n",
            "  adding: content/cauli_disease-3/ (stored 0%)\n",
            "  adding: content/cauli_disease-3/data.yaml (deflated 47%)\n",
            "  adding: content/cauli_disease-3/valid/ (stored 0%)\n",
            "  adding: content/cauli_disease-3/valid/labels/ (stored 0%)\n",
            "  adding: content/cauli_disease-3/valid/labels/cauli_80_jpg.rf.776f58b627ea0ecf78a04800b7014db9.txt (deflated 51%)\n",
            "  adding: content/cauli_disease-3/valid/labels/cauli_27_jpg.rf.f453a356f579584a43e1f85f90a7fab4.txt (deflated 20%)\n",
            "  adding: content/cauli_disease-3/valid/labels/cauli_307_jpg.rf.f3f685c17da643f8a295828fcaf9ec1d.txt (deflated 54%)\n",
            "  adding: content/cauli_disease-3/valid/labels/cauli_70_jpg.rf.76273a983c19a639c3370ad748a49137.txt (deflated 72%)\n",
            "  adding: content/cauli_disease-3/valid/labels/cauli_310_jpg.rf.54ef39d3619b360b7a4bf0d3a9094059.txt (deflated 55%)\n",
            "  adding: content/cauli_disease-3/valid/labels/cauli_153_jpg.rf.cf8843db309d2357e67fd76164d822c2.txt (deflated 62%)\n",
            "  adding: content/cauli_disease-3/valid/labels/cauli_146_jpg.rf.5e1884bd3be7202b4401812ffb3e6689.txt (deflated 56%)\n",
            "  adding: content/cauli_disease-3/valid/labels/cauli_83_jpg.rf.967e69d390817ed2772b1fc4252199c1.txt (deflated 49%)\n",
            "  adding: content/cauli_disease-3/valid/labels/cauli_257_JPG.rf.e9036226095837378bc7b88eeece18d9.txt (deflated 44%)\n",
            "  adding: content/cauli_disease-3/valid/labels/cauli_138_jpg.rf.1ffbbb8a4469a6e356dc1931789ce5c2.txt (deflated 47%)\n",
            "  adding: content/cauli_disease-3/valid/labels/cauli_127_jpg.rf.513723aeaa2b27d04885d9af8b610800.txt (deflated 59%)\n",
            "  adding: content/cauli_disease-3/valid/labels/cauli_71_jpg.rf.dbd020fb90af7d2f00224634dcc3a394.txt (deflated 58%)\n",
            "  adding: content/cauli_disease-3/valid/labels/cauli_5_jpg.rf.cf5e4cabfa9b9c6cbd11955ed7af09f1.txt (deflated 33%)\n",
            "  adding: content/cauli_disease-3/valid/labels/cauli_251_JPG.rf.82f63d78aa46c7f032912219a8a631e4.txt (deflated 20%)\n",
            "  adding: content/cauli_disease-3/valid/labels/cauli_228_jpg.rf.9fb212a6fffec5b0e1fb5f62367f18c7.txt (deflated 17%)\n",
            "  adding: content/cauli_disease-3/valid/labels/cauli_312_jpeg.rf.97be43f3103dc4d09495bb7ac6554a31.txt (deflated 67%)\n",
            "  adding: content/cauli_disease-3/valid/labels/cauli_212_jpg.rf.6f54f6cace73972bb89bcf4abf8fceee.txt (deflated 39%)\n",
            "  adding: content/cauli_disease-3/valid/labels/cauli_91_jpg.rf.1bfb1662484ca08a073e8141eadbea6d.txt (deflated 70%)\n",
            "  adding: content/cauli_disease-3/valid/labels/cauli_287_JPG.rf.8744b3a589880bd16239e42df8dfab3b.txt (deflated 30%)\n",
            "  adding: content/cauli_disease-3/valid/labels/cauli_214_jpg.rf.97fdfaed2b097c8d61662e0698c04e3b.txt (deflated 57%)\n",
            "  adding: content/cauli_disease-3/valid/labels/cauli_218_jpg.rf.66cdba58d72c5e69818be2ee08ae6b29.txt (deflated 48%)\n",
            "  adding: content/cauli_disease-3/valid/labels/cauli_193_jpg.rf.47fbc227ec8627f09370cd9e1beeacde.txt (deflated 47%)\n",
            "  adding: content/cauli_disease-3/valid/labels/cauli_292_JPG.rf.b7bc5b20fa5c3e747196556d4a5f8f12.txt (deflated 55%)\n",
            "  adding: content/cauli_disease-3/valid/labels/cauli_273_JPG.rf.ead32a8646f67543588a06e9868c8c1d.txt (deflated 35%)\n",
            "  adding: content/cauli_disease-3/valid/labels/cauli_9_jpg.rf.fc790b559e3ad6c31c4a99f7c997d810.txt (deflated 16%)\n",
            "  adding: content/cauli_disease-3/valid/labels/cauli_235_JPG.rf.0c2aa5da7c1d914fe33ad4dbd1a474db.txt (deflated 39%)\n",
            "  adding: content/cauli_disease-3/valid/labels/cauli_12_jpg.rf.cba77ba8b863d6eba139aec4dca0cdbc.txt (deflated 56%)\n",
            "  adding: content/cauli_disease-3/valid/labels/cauli_185_jpg.rf.f012d62d99b3e748a328f353ac09b30b.txt (deflated 50%)\n",
            "  adding: content/cauli_disease-3/valid/labels/cauli_116_jpg.rf.6f6dc900ed3dac9e83693688eac90444.txt (deflated 38%)\n",
            "  adding: content/cauli_disease-3/valid/labels/cauli_157_jpg.rf.8853588fd013b40e601fcebf2f7942b7.txt (deflated 66%)\n",
            "  adding: content/cauli_disease-3/valid/images/ (stored 0%)\n",
            "  adding: content/cauli_disease-3/valid/images/cauli_83_jpg.rf.967e69d390817ed2772b1fc4252199c1.jpg (deflated 0%)\n",
            "  adding: content/cauli_disease-3/valid/images/cauli_307_jpg.rf.f3f685c17da643f8a295828fcaf9ec1d.jpg (deflated 0%)\n",
            "  adding: content/cauli_disease-3/valid/images/cauli_91_jpg.rf.1bfb1662484ca08a073e8141eadbea6d.jpg (deflated 0%)\n",
            "  adding: content/cauli_disease-3/valid/images/cauli_292_JPG.rf.b7bc5b20fa5c3e747196556d4a5f8f12.jpg (deflated 0%)\n",
            "  adding: content/cauli_disease-3/valid/images/cauli_193_jpg.rf.47fbc227ec8627f09370cd9e1beeacde.jpg (deflated 0%)\n",
            "  adding: content/cauli_disease-3/valid/images/cauli_273_JPG.rf.ead32a8646f67543588a06e9868c8c1d.jpg (deflated 0%)\n",
            "  adding: content/cauli_disease-3/valid/images/cauli_71_jpg.rf.dbd020fb90af7d2f00224634dcc3a394.jpg (deflated 0%)\n",
            "  adding: content/cauli_disease-3/valid/images/cauli_287_JPG.rf.8744b3a589880bd16239e42df8dfab3b.jpg (deflated 0%)\n",
            "  adding: content/cauli_disease-3/valid/images/cauli_9_jpg.rf.fc790b559e3ad6c31c4a99f7c997d810.jpg (deflated 0%)\n",
            "  adding: content/cauli_disease-3/valid/images/cauli_153_jpg.rf.cf8843db309d2357e67fd76164d822c2.jpg (deflated 0%)\n",
            "  adding: content/cauli_disease-3/valid/images/cauli_127_jpg.rf.513723aeaa2b27d04885d9af8b610800.jpg (deflated 0%)\n",
            "  adding: content/cauli_disease-3/valid/images/cauli_312_jpeg.rf.97be43f3103dc4d09495bb7ac6554a31.jpg (deflated 0%)\n",
            "  adding: content/cauli_disease-3/valid/images/cauli_12_jpg.rf.cba77ba8b863d6eba139aec4dca0cdbc.jpg (deflated 0%)\n",
            "  adding: content/cauli_disease-3/valid/images/cauli_70_jpg.rf.76273a983c19a639c3370ad748a49137.jpg (deflated 0%)\n",
            "  adding: content/cauli_disease-3/valid/images/cauli_27_jpg.rf.f453a356f579584a43e1f85f90a7fab4.jpg (deflated 0%)\n",
            "  adding: content/cauli_disease-3/valid/images/cauli_212_jpg.rf.6f54f6cace73972bb89bcf4abf8fceee.jpg (deflated 0%)\n",
            "  adding: content/cauli_disease-3/valid/images/cauli_251_JPG.rf.82f63d78aa46c7f032912219a8a631e4.jpg (deflated 0%)\n",
            "  adding: content/cauli_disease-3/valid/images/cauli_228_jpg.rf.9fb212a6fffec5b0e1fb5f62367f18c7.jpg (deflated 0%)\n",
            "  adding: content/cauli_disease-3/valid/images/cauli_310_jpg.rf.54ef39d3619b360b7a4bf0d3a9094059.jpg (deflated 0%)\n",
            "  adding: content/cauli_disease-3/valid/images/cauli_235_JPG.rf.0c2aa5da7c1d914fe33ad4dbd1a474db.jpg (deflated 0%)\n",
            "  adding: content/cauli_disease-3/valid/images/cauli_257_JPG.rf.e9036226095837378bc7b88eeece18d9.jpg (deflated 0%)\n",
            "  adding: content/cauli_disease-3/valid/images/cauli_80_jpg.rf.776f58b627ea0ecf78a04800b7014db9.jpg (deflated 0%)\n",
            "  adding: content/cauli_disease-3/valid/images/cauli_146_jpg.rf.5e1884bd3be7202b4401812ffb3e6689.jpg (deflated 0%)\n",
            "  adding: content/cauli_disease-3/valid/images/cauli_5_jpg.rf.cf5e4cabfa9b9c6cbd11955ed7af09f1.jpg (deflated 0%)\n",
            "  adding: content/cauli_disease-3/valid/images/cauli_218_jpg.rf.66cdba58d72c5e69818be2ee08ae6b29.jpg (deflated 0%)\n",
            "  adding: content/cauli_disease-3/valid/images/cauli_185_jpg.rf.f012d62d99b3e748a328f353ac09b30b.jpg (deflated 0%)\n",
            "  adding: content/cauli_disease-3/valid/images/cauli_116_jpg.rf.6f6dc900ed3dac9e83693688eac90444.jpg (deflated 0%)\n",
            "  adding: content/cauli_disease-3/valid/images/cauli_138_jpg.rf.1ffbbb8a4469a6e356dc1931789ce5c2.jpg (deflated 0%)\n",
            "  adding: content/cauli_disease-3/valid/images/cauli_157_jpg.rf.8853588fd013b40e601fcebf2f7942b7.jpg (deflated 0%)\n",
            "  adding: content/cauli_disease-3/valid/images/cauli_214_jpg.rf.97fdfaed2b097c8d61662e0698c04e3b.jpg (deflated 0%)\n",
            "  adding: content/cauli_disease-3/valid/labels.cache (deflated 64%)\n",
            "  adding: content/cauli_disease-3/test/ (stored 0%)\n",
            "  adding: content/cauli_disease-3/test/labels/ (stored 0%)\n",
            "  adding: content/cauli_disease-3/test/labels/cauli_259_JPG.rf.4aee7664d6fc36f2e8c4c3a783de2578.txt (deflated 32%)\n",
            "  adding: content/cauli_disease-3/test/labels/cauli_42_jpg.rf.61b56b2568890c4472faa803bc5d3e25.txt (deflated 63%)\n",
            "  adding: content/cauli_disease-3/test/labels/cauli_272_JPG.rf.bf209ac6c9f4bcacbd8953a98d5a3350.txt (deflated 44%)\n",
            "  adding: content/cauli_disease-3/test/labels/cauli_254_JPG.rf.4fb09e5e86a60f3f24f8813b0b9d58ca.txt (deflated 52%)\n",
            "  adding: content/cauli_disease-3/test/labels/cauli_57_jpg.rf.59bb700e4ad5cf0a37050e6c8f29928b.txt (deflated 33%)\n",
            "  adding: content/cauli_disease-3/test/labels/cauli_163_jpg.rf.ba49e0ff3c08511e4e65beae0349c7fb.txt (deflated 14%)\n",
            "  adding: content/cauli_disease-3/test/labels/cauli_300_JPG.rf.cacd3f55bd6c6d84c4f1a0868e6e7e41.txt (deflated 65%)\n",
            "  adding: content/cauli_disease-3/test/labels/cauli_106_jpg.rf.320a3670ca8063dc2d0ed3eb3de92295.txt (deflated 55%)\n",
            "  adding: content/cauli_disease-3/test/labels/cauli_209_jpg.rf.d94850d48079b7924c57f883f6012e1e.txt (deflated 46%)\n",
            "  adding: content/cauli_disease-3/test/labels/cauli_69_jpg.rf.44041a3c500df0c8ec72c19a0b0596ce.txt (deflated 54%)\n",
            "  adding: content/cauli_disease-3/test/labels/cauli_33_jpg.rf.64cd64d9e861b5ad13885ae2a30b51f6.txt (deflated 22%)\n",
            "  adding: content/cauli_disease-3/test/labels/cauli_76_jpg.rf.0ea8d3f32e29e2a361efed1c2b058285.txt (deflated 33%)\n",
            "  adding: content/cauli_disease-3/test/labels/cauli_38_jpg.rf.54f247c69cefb27541f28c7d0d6226a9.txt (deflated 52%)\n",
            "  adding: content/cauli_disease-3/test/labels/cauli_102_jpg.rf.3a55fae8de5e9366215a055148e0dffc.txt (deflated 32%)\n",
            "  adding: content/cauli_disease-3/test/labels/cauli_61_jpg.rf.e51151ac44e21aac5dfdaf626119771c.txt (deflated 43%)\n",
            "  adding: content/cauli_disease-3/test/labels/cauli_327_jpeg.rf.bcaad3187b8b9e658e0f59fa89d4b2d9.txt (deflated 52%)\n",
            "  adding: content/cauli_disease-3/test/images/ (stored 0%)\n",
            "  adding: content/cauli_disease-3/test/images/cauli_102_jpg.rf.3a55fae8de5e9366215a055148e0dffc.jpg (deflated 0%)\n",
            "  adding: content/cauli_disease-3/test/images/cauli_42_jpg.rf.61b56b2568890c4472faa803bc5d3e25.jpg (deflated 0%)\n",
            "  adding: content/cauli_disease-3/test/images/cauli_327_jpeg.rf.bcaad3187b8b9e658e0f59fa89d4b2d9.jpg (deflated 0%)\n",
            "  adding: content/cauli_disease-3/test/images/cauli_106_jpg.rf.320a3670ca8063dc2d0ed3eb3de92295.jpg (deflated 0%)\n",
            "  adding: content/cauli_disease-3/test/images/cauli_57_jpg.rf.59bb700e4ad5cf0a37050e6c8f29928b.jpg (deflated 0%)\n",
            "  adding: content/cauli_disease-3/test/images/cauli_254_JPG.rf.4fb09e5e86a60f3f24f8813b0b9d58ca.jpg (deflated 0%)\n",
            "  adding: content/cauli_disease-3/test/images/cauli_163_jpg.rf.ba49e0ff3c08511e4e65beae0349c7fb.jpg (deflated 0%)\n",
            "  adding: content/cauli_disease-3/test/images/cauli_61_jpg.rf.e51151ac44e21aac5dfdaf626119771c.jpg (deflated 0%)\n",
            "  adding: content/cauli_disease-3/test/images/cauli_33_jpg.rf.64cd64d9e861b5ad13885ae2a30b51f6.jpg (deflated 0%)\n",
            "  adding: content/cauli_disease-3/test/images/cauli_209_jpg.rf.d94850d48079b7924c57f883f6012e1e.jpg (deflated 0%)\n",
            "  adding: content/cauli_disease-3/test/images/cauli_69_jpg.rf.44041a3c500df0c8ec72c19a0b0596ce.jpg (deflated 0%)\n",
            "  adding: content/cauli_disease-3/test/images/cauli_38_jpg.rf.54f247c69cefb27541f28c7d0d6226a9.jpg (deflated 0%)\n",
            "  adding: content/cauli_disease-3/test/images/cauli_272_JPG.rf.bf209ac6c9f4bcacbd8953a98d5a3350.jpg (deflated 0%)\n",
            "  adding: content/cauli_disease-3/test/images/cauli_300_JPG.rf.cacd3f55bd6c6d84c4f1a0868e6e7e41.jpg (deflated 0%)\n",
            "  adding: content/cauli_disease-3/test/images/cauli_76_jpg.rf.0ea8d3f32e29e2a361efed1c2b058285.jpg (deflated 0%)\n",
            "  adding: content/cauli_disease-3/test/images/cauli_259_JPG.rf.4aee7664d6fc36f2e8c4c3a783de2578.jpg (deflated 0%)\n",
            "  adding: content/cauli_disease-3/README.roboflow.txt (deflated 50%)\n",
            "  adding: content/cauli_disease-3/README.dataset.txt (deflated 17%)\n",
            "  adding: content/cauli_disease-3/train/ (stored 0%)\n",
            "  adding: content/cauli_disease-3/train/labels/ (stored 0%)\n",
            "  adding: content/cauli_disease-3/train/labels/cauli_304_JPG.rf.9f9279d52d7f5179612275a10494ea29.txt (deflated 50%)\n",
            "  adding: content/cauli_disease-3/train/labels/cauli_82_jpg.rf.1e976b9c07fa41c5e766fc5a04e6a7a4.txt (deflated 24%)\n",
            "  adding: content/cauli_disease-3/train/labels/cauli_56_jpg.rf.dd87a1b571c4f44e2cc6e76a458b8cfd.txt (deflated 50%)\n",
            "  adding: content/cauli_disease-3/train/labels/cauli_19_jpg.rf.318225374bccf80eae1772c069c8285c.txt (deflated 58%)\n",
            "  adding: content/cauli_disease-3/train/labels/cauli_237_JPG.rf.ae908e67b65d764219942b92cbcaacfa.txt (deflated 34%)\n",
            "  adding: content/cauli_disease-3/train/labels/cauli_113_jpg.rf.5f5ea2579317fba20a2df7f5e7868e55.txt (deflated 21%)\n",
            "  adding: content/cauli_disease-3/train/labels/cauli_97_jpg.rf.2728921db2bd22e840c2e41b0740f94d.txt (deflated 48%)\n",
            "  adding: content/cauli_disease-3/train/labels/cauli_221_jpg.rf.2614fd7919c17811f1ba6233168718d3.txt (deflated 48%)\n",
            "  adding: content/cauli_disease-3/train/labels/cauli_114_jpg.rf.15fad88ca1d0f5f9a44ed6976646ee18.txt (deflated 56%)\n",
            "  adding: content/cauli_disease-3/train/labels/cauli_119_jpg.rf.f5220b7c1de64ee5cb7dece73a1d85fc.txt (deflated 51%)\n",
            "  adding: content/cauli_disease-3/train/labels/cauli_32_jpg.rf.8b88a66edb29add052b6fe7b4be87cd4.txt (deflated 29%)\n",
            "  adding: content/cauli_disease-3/train/labels/cauli_173_jpg.rf.77d95d0ee671711eb7643c96b78e7a2d.txt (deflated 51%)\n",
            "  adding: content/cauli_disease-3/train/labels/cauli_283_JPG.rf.4de5c5becd090103b970417c21a7ce5d.txt (deflated 42%)\n",
            "  adding: content/cauli_disease-3/train/labels/cauli_286_JPG.rf.95ad10d2fe28f6940d858a5a737a5ae3.txt (deflated 47%)\n",
            "  adding: content/cauli_disease-3/train/labels/cauli_227_jpg.rf.0c3d3e58644a150a7f7619504c444bf6.txt (deflated 35%)\n",
            "  adding: content/cauli_disease-3/train/labels/cauli_249_JPG.rf.8e6b4a0acc80bc39473439ef772812a5.txt (deflated 40%)\n",
            "  adding: content/cauli_disease-3/train/labels/cauli_175_jpg.rf.f65578f2772d38bd4fa5aeb3d791418e.txt (deflated 49%)\n",
            "  adding: content/cauli_disease-3/train/labels/cauli_63_jpg.rf.b6509de3d1742f2764f41baaa708bcde.txt (deflated 45%)\n",
            "  adding: content/cauli_disease-3/train/labels/cauli_86_jpg.rf.a9ad3f9d152a5c9d5b34526c5d3b6a27.txt (deflated 66%)\n",
            "  adding: content/cauli_disease-3/train/labels/cauli_124_jpg.rf.3bed58ea1573495f11ac913f13bffb1f.txt (deflated 58%)\n",
            "  adding: content/cauli_disease-3/train/labels/cauli_75_jpg.rf.c16abc45d3f88e963ab0755daf6b931c.txt (deflated 48%)\n",
            "  adding: content/cauli_disease-3/train/labels/cauli_150_jpg.rf.e8860327922fc5d63ce20b6758a03883.txt (deflated 49%)\n",
            "  adding: content/cauli_disease-3/train/labels/cauli_37_jpg.rf.2f878a34d5a183da263e09b7ff9f4a99.txt (deflated 45%)\n",
            "  adding: content/cauli_disease-3/train/labels/cauli_154_jpg.rf.22cb245ea0465cf82950ae5a09ae6c1f.txt (deflated 52%)\n",
            "  adding: content/cauli_disease-3/train/labels/cauli_41_jpg.rf.701996eabf3d5f04f8d4d232006671b3.txt (deflated 49%)\n",
            "  adding: content/cauli_disease-3/train/labels/cauli_196_jpg.rf.31e0592270a0052578efe76f226c4594.txt (deflated 48%)\n",
            "  adding: content/cauli_disease-3/train/labels/cauli_74_jpg.rf.fb4c5686cced5c6090b6375eab5f9050.txt (deflated 34%)\n",
            "  adding: content/cauli_disease-3/train/labels/cauli_48_jpg.rf.f2a5b42350175a37543095ad17572e49.txt (deflated 51%)\n",
            "  adding: content/cauli_disease-3/train/labels/cauli_306_jpeg.rf.4840797c3f4e5d022442cd7cd42db70b.txt (deflated 38%)\n",
            "  adding: content/cauli_disease-3/train/labels/cauli_263_JPG.rf.cdaf7c641bfe3c82a574607484006d40.txt (deflated 19%)\n",
            "  adding: content/cauli_disease-3/train/labels/cauli_150_jpg.rf.36fada9fa1b2a6706e2e0fc071286eaa.txt (deflated 49%)\n",
            "  adding: content/cauli_disease-3/train/labels/cauli_63_jpg.rf.e14d57d699ac28ab42f9db13083e0998.txt (deflated 47%)\n",
            "  adding: content/cauli_disease-3/train/labels/cauli_101_jpg.rf.a1e6806382d04b0165d0a9cb75c44c38.txt (deflated 45%)\n",
            "  adding: content/cauli_disease-3/train/labels/cauli_188_jpg.rf.3076c9d82872412741c95f382fa295f6.txt (deflated 33%)\n",
            "  adding: content/cauli_disease-3/train/labels/cauli_160_jpg.rf.209a561f179ea03d00bbe471b19b7d78.txt (deflated 66%)\n",
            "  adding: content/cauli_disease-3/train/labels/cauli_313_jpg.rf.0087daab302bf5c4f0939d356142aa20.txt (deflated 31%)\n",
            "  adding: content/cauli_disease-3/train/labels/cauli_160_jpg.rf.b627722d3c8f703ca880375c056c4353.txt (deflated 51%)\n",
            "  adding: content/cauli_disease-3/train/labels/cauli_105_jpg.rf.68c19ceda91aaa492d7826641e988d03.txt (deflated 48%)\n",
            "  adding: content/cauli_disease-3/train/labels/cauli_86_jpg.rf.be19426ad04215b7c60aa826c7f3e995.txt (deflated 53%)\n",
            "  adding: content/cauli_disease-3/train/labels/cauli_304_JPG.rf.c8db2a44fe0457468692c04231a029a4.txt (deflated 50%)\n",
            "  adding: content/cauli_disease-3/train/labels/cauli_113_jpg.rf.d0a72a02473d6c280b41e1e8a33e41b7.txt (deflated 17%)\n",
            "  adding: content/cauli_disease-3/train/labels/cauli_293_JPG.rf.eeee885b1a74820aa9aab8886df50148.txt (deflated 50%)\n",
            "  adding: content/cauli_disease-3/train/labels/cauli_3_jpg.rf.9b393589b0628dd52901e87fd5261612.txt (deflated 54%)\n",
            "  adding: content/cauli_disease-3/train/labels/cauli_196_jpg.rf.01afe1f825615a3a3998a05c2c99f195.txt (deflated 51%)\n",
            "  adding: content/cauli_disease-3/train/labels/cauli_314_jpg.rf.3338a23fca7ea624e742eec9f0d0bb70.txt (deflated 47%)\n",
            "  adding: content/cauli_disease-3/train/labels/cauli_264_JPG.rf.c31b716381a86a2752f271611765f1ec.txt (deflated 49%)\n",
            "  adding: content/cauli_disease-3/train/labels/cauli_247_JPG.rf.5b3339c44c9c7be10eccca651f496735.txt (deflated 30%)\n",
            "  adding: content/cauli_disease-3/train/labels/cauli_133_jpg.rf.4953728d9e360f79b5dbc6bba1f70ef4.txt (deflated 51%)\n",
            "  adding: content/cauli_disease-3/train/labels/cauli_110_jpg.rf.108827b3bcefc2e15cfe979a069a26a2.txt (deflated 51%)\n",
            "  adding: content/cauli_disease-3/train/labels/cauli_263_JPG.rf.2cd2ed92cf6317a3a6062f75a86a16b2.txt (deflated 30%)\n",
            "  adding: content/cauli_disease-3/train/labels/cauli_240_JPG.rf.477545b06e25116f89537f67f09d63e9.txt (deflated 17%)\n",
            "  adding: content/cauli_disease-3/train/labels/cauli_321_jpeg.rf.649447037bcd2fbb146fd483dd0fe461.txt (deflated 26%)\n",
            "  adding: content/cauli_disease-3/train/labels/cauli_177_jpg.rf.dc8476970838ae8c7e16f3c85f99461b.txt (deflated 50%)\n",
            "  adding: content/cauli_disease-3/train/labels/cauli_260_JPG.rf.7871b96020bcb8c191e8d9ef2f5b7a48.txt (deflated 50%)\n",
            "  adding: content/cauli_disease-3/train/labels/cauli_41_jpg.rf.07ff72b2a668d555f8188a4fc55d33e4.txt (deflated 49%)\n",
            "  adding: content/cauli_disease-3/train/labels/cauli_30_jpg.rf.bf662faaba78c43a113ff45b15ae7e69.txt (deflated 41%)\n",
            "  adding: content/cauli_disease-3/train/labels/cauli_239_JPG.rf.259cfb4c4ef858e709fcb3538e4fb285.txt (deflated 29%)\n",
            "  adding: content/cauli_disease-3/train/labels/cauli_2_jpg.rf.e50b34e901d51cf20a94824f54590d8d.txt (deflated 28%)\n",
            "  adding: content/cauli_disease-3/train/labels/cauli_167_jpg.rf.7a057eff328251d2e626eb413ebb3763.txt (deflated 62%)\n",
            "  adding: content/cauli_disease-3/train/labels/cauli_216_jpg.rf.eaabfc6aa24ca2493d9150fa554d915c.txt (deflated 29%)\n",
            "  adding: content/cauli_disease-3/train/labels/cauli_238_JPG.rf.e76e78207f82fadff0237557473ac3d7.txt (deflated 32%)\n",
            "  adding: content/cauli_disease-3/train/labels/cauli_31_jpg.rf.89ed22f47c912777308ed8b3f6f18b94.txt (deflated 48%)\n",
            "  adding: content/cauli_disease-3/train/labels/cauli_7_jpg.rf.fa3eb4aaf92e93704b4dd0695014ec86.txt (deflated 46%)\n",
            "  adding: content/cauli_disease-3/train/labels/cauli_11_jpg.rf.55f7cb616e87471ab9916d1df9a2fbf8.txt (deflated 49%)\n",
            "  adding: content/cauli_disease-3/train/labels/cauli_59_jpg.rf.a085facc70610eccbe5abe6f16b5ceec.txt (deflated 45%)\n",
            "  adding: content/cauli_disease-3/train/labels/cauli_65_jpg.rf.82a88288a709ef6a10552873440f928f.txt (deflated 49%)\n",
            "  adding: content/cauli_disease-3/train/labels/cauli_118_jpg.rf.c8e9df6b5cb64af88adee2943a2ebc4b.txt (deflated 43%)\n",
            "  adding: content/cauli_disease-3/train/labels/cauli_190_jpg.rf.b765778588853fa0259e2aa361e66028.txt (deflated 54%)\n",
            "  adding: content/cauli_disease-3/train/labels/cauli_206_jpg.rf.1581f51630812e7164db9ecf0adeb481.txt (deflated 47%)\n",
            "  adding: content/cauli_disease-3/train/labels/cauli_107_jpg.rf.18a9963d94cc363b25c4d4db77cdb55c.txt (deflated 47%)\n",
            "  adding: content/cauli_disease-3/train/labels/cauli_222_jpg.rf.6a6584ffb29d730678e1ee5aa54ecedc.txt (deflated 29%)\n",
            "  adding: content/cauli_disease-3/train/labels/cauli_104_jpg.rf.1413c0f523e07ad9aa6f4ffd1a53bdb5.txt (deflated 50%)\n",
            "  adding: content/cauli_disease-3/train/labels/cauli_286_JPG.rf.c368e3068fb3be0f0e4c1d798c71a4a6.txt (deflated 45%)\n",
            "  adding: content/cauli_disease-3/train/labels/cauli_43_jpg.rf.a79429b6ca0fa1742426b098fec875e9.txt (deflated 48%)\n",
            "  adding: content/cauli_disease-3/train/labels/cauli_207_jpg.rf.bacf4bfea0ab9873dee477cf524c2439.txt (deflated 48%)\n",
            "  adding: content/cauli_disease-3/train/labels/cauli_144_jpg.rf.28708c01d0559b0d110e93f58a3fb6f8.txt (deflated 50%)\n",
            "  adding: content/cauli_disease-3/train/labels/cauli_92_jpg.rf.e0a9894a11698ccf09f8edd06b6a3879.txt (deflated 49%)\n",
            "  adding: content/cauli_disease-3/train/labels/cauli_34_jpg.rf.b30ef405dbf8ba87f613bf1e9fdd55a2.txt (deflated 44%)\n",
            "  adding: content/cauli_disease-3/train/labels/cauli_137_jpg.rf.0c7daa73ea08d97bba15471ffda80c9d.txt (deflated 37%)\n",
            "  adding: content/cauli_disease-3/train/labels/cauli_179_jpg.rf.d6f1f5e6b4234e87277ea238114250e2.txt (deflated 48%)\n",
            "  adding: content/cauli_disease-3/train/labels/cauli_31_jpg.rf.b989556d6c11c5b349b8f7be6213e3ac.txt (deflated 45%)\n",
            "  adding: content/cauli_disease-3/train/labels/cauli_275_JPG.rf.aa4e2c86d7b8fa1601048b9b5de24d56.txt (deflated 29%)\n",
            "  adding: content/cauli_disease-3/train/labels/cauli_285_JPG.rf.7d0e027bef809b5a7b9663f337fcd292.txt (deflated 46%)\n",
            "  adding: content/cauli_disease-3/train/labels/cauli_99_jpg.rf.412085e594c7c6d41278bec05b834f89.txt (deflated 45%)\n",
            "  adding: content/cauli_disease-3/train/labels/cauli_323_jpeg.rf.fab04c5af7a3ac6938c0d1fec3ea6861.txt (deflated 44%)\n",
            "  adding: content/cauli_disease-3/train/labels/cauli_121_jpg.rf.a7f47e300a70ae08d013d73fec61b8c4.txt (deflated 45%)\n",
            "  adding: content/cauli_disease-3/train/labels/cauli_270_JPG.rf.4733262c12d12d68b1dbd9527c90e7ed.txt (deflated 47%)\n",
            "  adding: content/cauli_disease-3/train/labels/cauli_277_JPG.rf.adc4f662987595ccc04ac941a71a40ad.txt (deflated 48%)\n",
            "  adding: content/cauli_disease-3/train/labels/cauli_51_jpg.rf.7170d22847e83cf25e1e9a5fe78e0882.txt (deflated 51%)\n",
            "  adding: content/cauli_disease-3/train/labels/cauli_175_jpg.rf.a37938efac2a902483b3aec569467a7a.txt (deflated 54%)\n",
            "  adding: content/cauli_disease-3/train/labels/cauli_221_jpg.rf.e0834fca9bc93c9990735c8bd84d9cf4.txt (deflated 52%)\n",
            "  adding: content/cauli_disease-3/train/labels/cauli_166_jpg.rf.b29b436328bc3ced78a96062f24c892d.txt (deflated 46%)\n",
            "  adding: content/cauli_disease-3/train/labels/cauli_162_jpg.rf.ea97d02fdd7b561f56e9dcbb2879708b.txt (deflated 51%)\n",
            "  adding: content/cauli_disease-3/train/labels/cauli_166_jpg.rf.ee96b8c1751b28812d00b365a94e5eb1.txt (deflated 46%)\n",
            "  adding: content/cauli_disease-3/train/labels/cauli_137_jpg.rf.5f4705e2601755e7a5da977ec478b241.txt (deflated 36%)\n",
            "  adding: content/cauli_disease-3/train/labels/cauli_250_JPG.rf.f2d395966e596bfefc6fe5db2c6b6ad1.txt (deflated 29%)\n",
            "  adding: content/cauli_disease-3/train/labels/cauli_93_jpg.rf.bc0225f2af01af6395d65af98f3acb46.txt (deflated 46%)\n",
            "  adding: content/cauli_disease-3/train/labels/cauli_286_JPG.rf.0a307ae7a918868677738c596ec5364b.txt (deflated 44%)\n",
            "  adding: content/cauli_disease-3/train/labels/cauli_31_jpg.rf.a8a20dee22bad20b33205b59b21572d7.txt (deflated 45%)\n",
            "  adding: content/cauli_disease-3/train/labels/cauli_237_JPG.rf.afa280cbe8d9d0572fc7e9db25f7d4bc.txt (deflated 42%)\n",
            "  adding: content/cauli_disease-3/train/labels/cauli_54_jpg.rf.2e17aadfd19348cc3c29cfd3ec09b940.txt (deflated 51%)\n",
            "  adding: content/cauli_disease-3/train/labels/cauli_271_JPG.rf.28e5ae4a2d7941703d025f1cbceed87c.txt (deflated 41%)\n",
            "  adding: content/cauli_disease-3/train/labels/cauli_330_jpg.rf.74f20e0489a8c96d74e2045d1713244b.txt (deflated 47%)\n",
            "  adding: content/cauli_disease-3/train/labels/cauli_47_jpg.rf.c524cc3a904b37465fee4701168df60c.txt (deflated 52%)\n",
            "  adding: content/cauli_disease-3/train/labels/cauli_41_jpg.rf.ff32239cfd8b7e48bf8d711c0248d3b6.txt (deflated 57%)\n",
            "  adding: content/cauli_disease-3/train/labels/cauli_34_jpg.rf.1177f524d3644eac720bde46163013a5.txt (deflated 46%)\n",
            "  adding: content/cauli_disease-3/train/labels/cauli_142_jpg.rf.7f933c762a4d3382bb1bd8504565cf48.txt (deflated 48%)\n",
            "  adding: content/cauli_disease-3/train/labels/cauli_108_jpg.rf.2f45b07f67a2c28afbdfc0d460334e41.txt (deflated 51%)\n",
            "  adding: content/cauli_disease-3/train/labels/cauli_194_jpg.rf.f6428f07d233ab361d5421d97b094b1e.txt (deflated 48%)\n",
            "  adding: content/cauli_disease-3/train/labels/cauli_199_jpg.rf.9866ba4a576bbd16242e643b878630a0.txt (deflated 48%)\n",
            "  adding: content/cauli_disease-3/train/labels/cauli_246_JPG.rf.5f16a3fd690a7732267444c763cb4d1d.txt (deflated 62%)\n",
            "  adding: content/cauli_disease-3/train/labels/cauli_289_JPG.rf.23f8b14f1946072eed0353494d3e5210.txt (deflated 58%)\n",
            "  adding: content/cauli_disease-3/train/labels/cauli_267_JPG.rf.3ad42257cd34ae560d228f0408295702.txt (deflated 61%)\n",
            "  adding: content/cauli_disease-3/train/labels/cauli_281_JPG.rf.8599f67a33548ae108eef7bb98cac48d.txt (deflated 45%)\n",
            "  adding: content/cauli_disease-3/train/labels/cauli_297_JPG.rf.c2e2206a757893b71b4a06ad1d16d71a.txt (deflated 49%)\n",
            "  adding: content/cauli_disease-3/train/labels/cauli_52_jpg.rf.dd6c88aa53caabaae5b29c923951608f.txt (deflated 52%)\n",
            "  adding: content/cauli_disease-3/train/labels/cauli_101_jpg.rf.d985a2add217387a5287e81c2a729a0c.txt (deflated 42%)\n",
            "  adding: content/cauli_disease-3/train/labels/cauli_165_jpg.rf.ab63a0f9b5895291b3d10a9993cde474.txt (deflated 48%)\n",
            "  adding: content/cauli_disease-3/train/labels/cauli_320_jpg.rf.f7788b985a242585995e9dc09de9d5ab.txt (deflated 46%)\n",
            "  adding: content/cauli_disease-3/train/labels/cauli_296_JPG.rf.bc20b1ab70387d925ed9fb1155264807.txt (deflated 46%)\n",
            "  adding: content/cauli_disease-3/train/labels/cauli_109_jpg.rf.e62409524ace08fa57712bcda5ec8c3b.txt (deflated 52%)\n",
            "  adding: content/cauli_disease-3/train/labels/cauli_136_jpg.rf.b871acb58abe07f67cac7399e579a5e2.txt (deflated 46%)\n",
            "  adding: content/cauli_disease-3/train/labels/cauli_245_JPG.rf.95944ce157b188bdbf7a42be7d9fdee3.txt (deflated 46%)\n",
            "  adding: content/cauli_disease-3/train/labels/cauli_148_jpg.rf.07f7de03073f42b0d0c2adaa06a54997.txt (deflated 46%)\n",
            "  adding: content/cauli_disease-3/train/labels/cauli_249_JPG.rf.fdeb76a30a12786c1f71f51de67a915b.txt (deflated 40%)\n",
            "  adding: content/cauli_disease-3/train/labels/cauli_81_jpg.rf.be86fad659ff8b7d91fd9a5cb7a2a1df.txt (deflated 55%)\n",
            "  adding: content/cauli_disease-3/train/labels/cauli_84_jpg.rf.bc7c8e2435834bcffc981e318a1ae5de.txt (deflated 33%)\n",
            "  adding: content/cauli_disease-3/train/labels/cauli_18_jpg.rf.96ee38b03604c3950d8e25bb1b9056ea.txt (deflated 48%)\n",
            "  adding: content/cauli_disease-3/train/labels/cauli_6_jpg.rf.c7717ae36e5fd93255b47699de93e48a.txt (deflated 17%)\n",
            "  adding: content/cauli_disease-3/train/labels/cauli_325_jpeg.rf.1ba35ec4af5e7c8ffdc0ecda019372c5.txt (deflated 50%)\n",
            "  adding: content/cauli_disease-3/train/labels/cauli_143_jpg.rf.455be1cbf0f0229130d67f1028dbc66d.txt (deflated 49%)\n",
            "  adding: content/cauli_disease-3/train/labels/cauli_175_jpg.rf.f7b5cccb2e5b3f31e7d3d83cdfe4f209.txt (deflated 49%)\n",
            "  adding: content/cauli_disease-3/train/labels/cauli_203_jpg.rf.3e388c8c795e2b77db27bd87cdb0c608.txt (deflated 61%)\n",
            "  adding: content/cauli_disease-3/train/labels/cauli_59_jpg.rf.a5b1e3ccb2033dde5f47704a0ffdea68.txt (deflated 45%)\n",
            "  adding: content/cauli_disease-3/train/labels/cauli_54_jpg.rf.64a4c6211c8d15fb3b200160014bfa2b.txt (deflated 64%)\n",
            "  adding: content/cauli_disease-3/train/labels/cauli_152_jpg.rf.c85412ac556e00853e59cbfa8d4c92fa.txt (deflated 44%)\n",
            "  adding: content/cauli_disease-3/train/labels/cauli_180_jpg.rf.84f6edecacab30f8e1a6fb28e63ac4f2.txt (deflated 49%)\n",
            "  adding: content/cauli_disease-3/train/labels/cauli_161_jpg.rf.19d6e6e4aa5bcb15efbf8f7bd3d723b1.txt (deflated 49%)\n",
            "  adding: content/cauli_disease-3/train/labels/cauli_129_jpg.rf.c57e8141b288a7f277602ed2ec7f4a62.txt (deflated 49%)\n",
            "  adding: content/cauli_disease-3/train/labels/cauli_245_JPG.rf.40a7551e5ad422efee697003f63cdee0.txt (deflated 47%)\n",
            "  adding: content/cauli_disease-3/train/labels/cauli_128_jpg.rf.731d3dffbee68ae1cbe9ca0de00c1bc6.txt (deflated 48%)\n",
            "  adding: content/cauli_disease-3/train/labels/cauli_303_JPG.rf.fd5022a22516ec82a6c9fbd36a173daf.txt (deflated 57%)\n",
            "  adding: content/cauli_disease-3/train/labels/cauli_121_jpg.rf.c02e7678a4d3b6e9ff7b8664dcb4dcda.txt (deflated 45%)\n",
            "  adding: content/cauli_disease-3/train/labels/cauli_181_jpg.rf.e64f80bff467aab8c17711dead0f9a7b.txt (deflated 51%)\n",
            "  adding: content/cauli_disease-3/train/labels/cauli_305_JPG.rf.59a58caf665dc8d81bcbb94befa0cb72.txt (deflated 56%)\n",
            "  adding: content/cauli_disease-3/train/labels/cauli_51_jpg.rf.f2b11e78976503f2d2d43bb968836997.txt (deflated 50%)\n",
            "  adding: content/cauli_disease-3/train/labels/cauli_328_jpg.rf.0f00d2f9ca8ff0648d01572e225d76f9.txt (deflated 48%)\n",
            "  adding: content/cauli_disease-3/train/labels/cauli_268_JPG.rf.04374f21391e9eae8b8dc8788d5b00b9.txt (deflated 42%)\n",
            "  adding: content/cauli_disease-3/train/labels/cauli_105_jpg.rf.a349f57e765d1b01e23fd3bbde4b4338.txt (deflated 50%)\n",
            "  adding: content/cauli_disease-3/train/labels/cauli_45_jpg.rf.e177aa79d1e91a7b8b92d0edc5606af7.txt (deflated 52%)\n",
            "  adding: content/cauli_disease-3/train/labels/cauli_139_jpg.rf.ea6ffa2cf0700b8c45d34953b4903fd7.txt (deflated 33%)\n",
            "  adding: content/cauli_disease-3/train/labels/cauli_288_JPG.rf.2d954f4876c922dec6d0eb78d495d3cf.txt (deflated 48%)\n",
            "  adding: content/cauli_disease-3/train/labels/cauli_211_jpg.rf.66b6e4df7abd6a9a98f6e69a5ad0d526.txt (deflated 46%)\n",
            "  adding: content/cauli_disease-3/train/labels/cauli_66_jpg.rf.bd0d0859666cb496fb151130d2758bbb.txt (deflated 49%)\n",
            "  adding: content/cauli_disease-3/train/labels/cauli_231_jpg.rf.0f5ae64a289ea1be13eeaef06731fdbf.txt (deflated 47%)\n",
            "  adding: content/cauli_disease-3/train/labels/cauli_234_JPG.rf.ca63f2779a5a83adeece69877a843da6.txt (deflated 29%)\n",
            "  adding: content/cauli_disease-3/train/labels/cauli_112_jpg.rf.f8808067d36c5f393026991bb1d5142b.txt (deflated 51%)\n",
            "  adding: content/cauli_disease-3/train/labels/cauli_125_jpg.rf.d93b973d41934010918f15cac5258942.txt (deflated 51%)\n",
            "  adding: content/cauli_disease-3/train/labels/cauli_178_jpg.rf.421754f3e9866a1c7c317d8e8d68c35d.txt (deflated 48%)\n",
            "  adding: content/cauli_disease-3/train/labels/cauli_98_jpg.rf.97d9deb0539077ade6489e2150ffb598.txt (deflated 45%)\n",
            "  adding: content/cauli_disease-3/train/labels/cauli_276_JPG.rf.973f4e693f99d6983ef24049db1aa2b1.txt (deflated 46%)\n",
            "  adding: content/cauli_disease-3/train/labels/cauli_152_jpg.rf.323c2bc669b379c8db97afe52a9d7e1c.txt (deflated 46%)\n",
            "  adding: content/cauli_disease-3/train/labels/cauli_46_jpg.rf.1c35791226b24a3ba0b8099c0f40d663.txt (deflated 49%)\n",
            "  adding: content/cauli_disease-3/train/labels/cauli_267_JPG.rf.61f23966c45c23212c7bb6ea58ba8eb7.txt (deflated 50%)\n",
            "  adding: content/cauli_disease-3/train/labels/cauli_309_jpg.rf.dfb33992328d90acff386ff47568442e.txt (deflated 51%)\n",
            "  adding: content/cauli_disease-3/train/labels/cauli_94_jpg.rf.b34589ef9d9a8a4f4bf4530f52f16f73.txt (deflated 46%)\n",
            "  adding: content/cauli_disease-3/train/labels/cauli_77_jpg.rf.241b1847fcf1f4750ea53a356ad28b09.txt (deflated 30%)\n",
            "  adding: content/cauli_disease-3/train/labels/cauli_253_JPG.rf.4852e787475684490919b30750d7b401.txt (deflated 50%)\n",
            "  adding: content/cauli_disease-3/train/labels/cauli_162_jpg.rf.66f68603ed387d2638075247cdaa6399.txt (deflated 63%)\n",
            "  adding: content/cauli_disease-3/train/labels/cauli_55_jpg.rf.28f4b62828731d8ad71c74124bca31eb.txt (deflated 48%)\n",
            "  adding: content/cauli_disease-3/train/labels/cauli_64_jpg.rf.135117dbf5a670b002a216702683ea00.txt (deflated 48%)\n",
            "  adding: content/cauli_disease-3/train/labels/cauli_67_jpg.rf.75ba1b712ab4b98878c76ec47a37bea9.txt (deflated 61%)\n",
            "  adding: content/cauli_disease-3/train/labels/cauli_14_jpg.rf.fe1266951d57e94b2fb0d442620c26c6.txt (deflated 57%)\n",
            "  adding: content/cauli_disease-3/train/labels/cauli_110_jpg.rf.d5a2b5db6e69ae275b70e1ab67dd21b6.txt (deflated 60%)\n",
            "  adding: content/cauli_disease-3/train/labels/cauli_244_JPG.rf.ca3e3135f83bcbcc60289d4e30d6873c.txt (deflated 20%)\n",
            "  adding: content/cauli_disease-3/train/labels/cauli_47_jpg.rf.25cb4e113bbe132a0868e7ecbaa0b7a6.txt (deflated 52%)\n",
            "  adding: content/cauli_disease-3/train/labels/cauli_255_JPG.rf.5de7fa0c5f7374eb6944b57127d630ef.txt (deflated 32%)\n",
            "  adding: content/cauli_disease-3/train/labels/cauli_98_jpg.rf.f0f09349441c881563855769fbafc1cb.txt (deflated 46%)\n",
            "  adding: content/cauli_disease-3/train/labels/cauli_147_jpg.rf.cedb1433bb668a382ce7b9c89bf80d79.txt (deflated 49%)\n",
            "  adding: content/cauli_disease-3/train/labels/cauli_20_jpg.rf.ae5d0a159da5e7f967cadf4e40d4b378.txt (deflated 45%)\n",
            "  adding: content/cauli_disease-3/train/labels/cauli_248_JPG.rf.21e407ef6b1ec0149635014eec95732d.txt (deflated 23%)\n",
            "  adding: content/cauli_disease-3/train/labels/cauli_47_jpg.rf.0661f0480bc94072823be79307866010.txt (deflated 66%)\n",
            "  adding: content/cauli_disease-3/train/labels/cauli_269_JPG.rf.5e30a62ddfe4700bb2f380e14e1eb1ca.txt (deflated 49%)\n",
            "  adding: content/cauli_disease-3/train/labels/cauli_1_jpg.rf.1257df2b80c0ca8c50d6df202f856ec7.txt (deflated 35%)\n",
            "  adding: content/cauli_disease-3/train/labels/cauli_230_jpg.rf.d75af674573221d1b215aa012948e9eb.txt (deflated 41%)\n",
            "  adding: content/cauli_disease-3/train/labels/cauli_317_jpg.rf.3e3a2c1658eafe7b69451e726c4b80a1.txt (deflated 55%)\n",
            "  adding: content/cauli_disease-3/train/labels/cauli_174_jpg.rf.0ca33c9854c218f63633908a45deca68.txt (deflated 51%)\n",
            "  adding: content/cauli_disease-3/train/labels/cauli_162_jpg.rf.62a2b9f178590f1a99d6129812767fd9.txt (deflated 51%)\n",
            "  adding: content/cauli_disease-3/train/labels/cauli_121_jpg.rf.5dab9b4c7dc2878f66e5cb3134d6ac5b.txt (deflated 46%)\n",
            "  adding: content/cauli_disease-3/train/labels/cauli_140_jpg.rf.7d00c413f3d2f2bde5f31ad0c78418c9.txt (deflated 51%)\n",
            "  adding: content/cauli_disease-3/train/labels/cauli_99_jpg.rf.3113bcd35d098f2c395c5c790aaeafda.txt (deflated 46%)\n",
            "  adding: content/cauli_disease-3/train/labels/cauli_195_jpg.rf.7b16ead37bf06112c5ee697cc6fc5679.txt (deflated 47%)\n",
            "  adding: content/cauli_disease-3/train/labels/cauli_186_jpg.rf.aa0df31be97de91a27a68f90433c5ef5.txt (deflated 29%)\n",
            "  adding: content/cauli_disease-3/train/labels/cauli_44_jpg.rf.f883f64093e719db10563fa4d7ef83c4.txt (deflated 51%)\n",
            "  adding: content/cauli_disease-3/train/labels/cauli_252_JPG.rf.d79b9126248cd53d32cd44b9df617688.txt (deflated 28%)\n",
            "  adding: content/cauli_disease-3/train/labels/cauli_75_jpg.rf.b804acc9e69dad39c49ca2ff5152f5d3.txt (deflated 47%)\n",
            "  adding: content/cauli_disease-3/train/labels/cauli_295_JPG.rf.7722b3b9a679638968a18e417b953b31.txt (deflated 48%)\n",
            "  adding: content/cauli_disease-3/train/labels/cauli_126_jpg.rf.c34d280a8b1677c08fc360047ea4b982.txt (deflated 46%)\n",
            "  adding: content/cauli_disease-3/train/labels/cauli_98_jpg.rf.736debce4c9f3a2b9333c347df2bbe3a.txt (deflated 45%)\n",
            "  adding: content/cauli_disease-3/train/labels/cauli_37_jpg.rf.a3c756dec832d805d333572f359c3fbd.txt (deflated 47%)\n",
            "  adding: content/cauli_disease-3/train/labels/cauli_262_JPG.rf.7c65b6a07ce63cda16d634fa8b39749e.txt (deflated 49%)\n",
            "  adding: content/cauli_disease-3/train/labels/cauli_51_jpg.rf.059d6668cb05f3648b12529288743b14.txt (deflated 59%)\n",
            "  adding: content/cauli_disease-3/train/labels/cauli_328_jpg.rf.0095bff4d61a37c4e3b0fe750c75d114.txt (deflated 51%)\n",
            "  adding: content/cauli_disease-3/train/labels/cauli_191_jpg.rf.923db51db23ee26134cc920b65ecdf2a.txt (deflated 55%)\n",
            "  adding: content/cauli_disease-3/train/labels/cauli_24_jpg.rf.4551bf263b8446d898be9a3df6c8b15d.txt (deflated 58%)\n",
            "  adding: content/cauli_disease-3/train/labels/cauli_87_jpg.rf.4e65efee56cdda4a496cfe851b3d9515.txt (deflated 52%)\n",
            "  adding: content/cauli_disease-3/train/labels/cauli_22_jpg.rf.dceba6d3610f77859fb0a16395b4c16c.txt (deflated 34%)\n",
            "  adding: content/cauli_disease-3/train/labels/cauli_88_jpg.rf.c8607910fd93a914c46ca31b62abbdc5.txt (deflated 45%)\n",
            "  adding: content/cauli_disease-3/train/labels/cauli_258_JPG.rf.a3e0900a19d133267b5b44f3865e8e3f.txt (deflated 29%)\n",
            "  adding: content/cauli_disease-3/train/labels/cauli_315_jpg.rf.51ee2d94a991c367ef7b2007cd06af9c.txt (deflated 46%)\n",
            "  adding: content/cauli_disease-3/train/labels/cauli_237_JPG.rf.a909691393a530a6615f13bceedd415b.txt (deflated 41%)\n",
            "  adding: content/cauli_disease-3/train/labels/cauli_268_JPG.rf.90d0e7f11881635a08016b679dd572fc.txt (deflated 36%)\n",
            "  adding: content/cauli_disease-3/train/labels/cauli_189_jpg.rf.16e2c53b5eef11694cc112e355b0d1c7.txt (deflated 46%)\n",
            "  adding: content/cauli_disease-3/train/labels/cauli_329_jpg.rf.a933e706cfa809823edf5e11a4a6cc96.txt (deflated 47%)\n",
            "  adding: content/cauli_disease-3/train/labels/cauli_177_jpg.rf.1999f851d15677b607607568818b0f52.txt (deflated 50%)\n",
            "  adding: content/cauli_disease-3/train/labels/cauli_255_JPG.rf.f3800f41ccaa14dc14633a764ca2667e.txt (deflated 41%)\n",
            "  adding: content/cauli_disease-3/train/labels/cauli_167_jpg.rf.a529493dbbff44c15a8b70e19dc6f352.txt (deflated 50%)\n",
            "  adding: content/cauli_disease-3/train/labels/cauli_19_jpg.rf.c10ff89a0a0730345660db77f9d2219a.txt (deflated 49%)\n",
            "  adding: content/cauli_disease-3/train/labels/cauli_188_jpg.rf.734cdce915e46c0e2a2736934ac3be71.txt (deflated 41%)\n",
            "  adding: content/cauli_disease-3/train/labels/cauli_200_jpg.rf.b978b1cb2559355adbaba66e27fcf6b6.txt (deflated 41%)\n",
            "  adding: content/cauli_disease-3/train/labels/cauli_238_JPG.rf.4a180e8dd9aa84e0c4ce818bc2a423c1.txt (deflated 29%)\n",
            "  adding: content/cauli_disease-3/train/labels/cauli_215_jpg.rf.384f30ebef916e1115be2dc317fae831.txt (deflated 57%)\n",
            "  adding: content/cauli_disease-3/train/labels/cauli_68_jpg.rf.dda76bdfb72aa1fc7ec84e7171ee98ee.txt (deflated 51%)\n",
            "  adding: content/cauli_disease-3/train/labels/cauli_154_jpg.rf.0e0dddcd9484c8d66602c667fa1e234e.txt (deflated 51%)\n",
            "  adding: content/cauli_disease-3/train/labels/cauli_115_jpg.rf.69ea0e66a1e1524dc03370ddcd934907.txt (deflated 61%)\n",
            "  adding: content/cauli_disease-3/train/labels/cauli_7_jpg.rf.548d86c2b5117afc8687e594dcc9153f.txt (deflated 45%)\n",
            "  adding: content/cauli_disease-3/train/labels/cauli_321_jpeg.rf.f58a7211bfa323ed9ce2149f74ff21e8.txt (deflated 15%)\n",
            "  adding: content/cauli_disease-3/train/labels/cauli_308_jpg.rf.6b25367aeb81d5ed494eb8dc09cdcdf6.txt (deflated 48%)\n",
            "  adding: content/cauli_disease-3/train/labels/cauli_241_JPG.rf.5718a48d5b224314c94ab285c99db353.txt (deflated 41%)\n",
            "  adding: content/cauli_disease-3/train/labels/cauli_114_jpg.rf.96502f387bdd696b7cf12062bfe982d4.txt (deflated 50%)\n",
            "  adding: content/cauli_disease-3/train/labels/cauli_36_jpg.rf.a7a2adfd1b7829d944bb480064497b59.txt (deflated 31%)\n",
            "  adding: content/cauli_disease-3/train/labels/cauli_250_JPG.rf.ca7245b1eccfce35f83c5d5d22b2729d.txt (deflated 28%)\n",
            "  adding: content/cauli_disease-3/train/labels/cauli_290_JPG.rf.8e179972243ac9419f85bfe20f35947a.txt (deflated 41%)\n",
            "  adding: content/cauli_disease-3/train/labels/cauli_210_jpg.rf.98f4cf49098d2eabd50af357a998a39c.txt (deflated 40%)\n",
            "  adding: content/cauli_disease-3/train/labels/cauli_134_jpg.rf.c0ccf270ebaa90b64165164dbcdad0af.txt (deflated 50%)\n",
            "  adding: content/cauli_disease-3/train/labels/cauli_171_jpg.rf.57a68a54f80da7fa862ca3268e9a56f5.txt (deflated 50%)\n",
            "  adding: content/cauli_disease-3/train/labels/cauli_200_jpg.rf.90a56db39e964791919764ad3cfc05ef.txt (deflated 31%)\n",
            "  adding: content/cauli_disease-3/train/labels/cauli_172_jpg.rf.3a57557f5ca85dc3ab8a883012b2ad27.txt (deflated 48%)\n",
            "  adding: content/cauli_disease-3/train/labels/cauli_85_jpg.rf.e003779e1e7cb4143f2ecfce6fe038e4.txt (deflated 41%)\n",
            "  adding: content/cauli_disease-3/train/labels/cauli_176_jpg.rf.3ea4ca3519d418e97d381749afb45af3.txt (deflated 45%)\n",
            "  adding: content/cauli_disease-3/train/labels/cauli_322_jpeg.rf.44b3c48e803e53435e6e2d0d3fee170f.txt (deflated 49%)\n",
            "  adding: content/cauli_disease-3/train/labels/cauli_165_jpg.rf.11a2704ccd116b776a2aa3556ccd3cd1.txt (deflated 54%)\n",
            "  adding: content/cauli_disease-3/train/labels/cauli_308_jpg.rf.e50a55fcd326766fdafa0361dc984389.txt (deflated 51%)\n",
            "  adding: content/cauli_disease-3/train/labels/cauli_81_jpg.rf.71f462605dc4712996c001efde2d77a3.txt (deflated 49%)\n",
            "  adding: content/cauli_disease-3/train/labels/cauli_174_jpg.rf.c36cba8d9fc318f7920fbaeac4bfca01.txt (deflated 61%)\n",
            "  adding: content/cauli_disease-3/train/labels/cauli_222_jpg.rf.59707fad83ae0ddb44eb5df248ae0339.txt (deflated 28%)\n",
            "  adding: content/cauli_disease-3/train/labels/cauli_309_jpg.rf.a7c09d9a56d15314766bac96e556cd18.txt (deflated 46%)\n",
            "  adding: content/cauli_disease-3/train/labels/cauli_195_jpg.rf.a0f78a6c2b9348713f7f90a3e8a628dd.txt (deflated 50%)\n",
            "  adding: content/cauli_disease-3/train/labels/cauli_21_jpg.rf.fbfebf25cb73f6916f07f1240d8233b9.txt (deflated 46%)\n",
            "  adding: content/cauli_disease-3/train/labels/cauli_325_jpeg.rf.66315a77c873f495a109e2c2afa07abf.txt (deflated 47%)\n",
            "  adding: content/cauli_disease-3/train/labels/cauli_284_JPG.rf.8c9b394f78f41ff3c405ad0d121b28e8.txt (deflated 45%)\n",
            "  adding: content/cauli_disease-3/train/labels/cauli_244_JPG.rf.a0f97bcb30ab5df9cf1a052f385e124e.txt (deflated 30%)\n",
            "  adding: content/cauli_disease-3/train/labels/cauli_227_jpg.rf.db9ead5f49900065db84fcd1a60139ef.txt (deflated 41%)\n",
            "  adding: content/cauli_disease-3/train/labels/cauli_211_jpg.rf.01ad24b62cd0da6c381e0e9f24ccd904.txt (deflated 44%)\n",
            "  adding: content/cauli_disease-3/train/labels/cauli_308_jpg.rf.a4e0e19e195fbd04726d0470f91ddec5.txt (deflated 48%)\n",
            "  adding: content/cauli_disease-3/train/labels/cauli_100_jpg.rf.561fdc825c1fca5b6fb3cb9c37d54328.txt (deflated 45%)\n",
            "  adding: content/cauli_disease-3/train/labels/cauli_196_jpg.rf.fa3175a03847ce8eae9bd6d67b676a4f.txt (deflated 48%)\n",
            "  adding: content/cauli_disease-3/train/labels/cauli_171_jpg.rf.4394436260e5499e4bbb054254f3d34e.txt (deflated 64%)\n",
            "  adding: content/cauli_disease-3/train/labels/cauli_4_jpg.rf.44ba1783fe3c0ba7d4d62d06c55b831e.txt (deflated 37%)\n",
            "  adding: content/cauli_disease-3/train/labels/cauli_206_jpg.rf.94ae12f02cddfef287d6cd393b3b1083.txt (deflated 46%)\n",
            "  adding: content/cauli_disease-3/train/labels/cauli_21_jpg.rf.c68ad253d9e91d7d70ed7496fee01f56.txt (deflated 45%)\n",
            "  adding: content/cauli_disease-3/train/labels/cauli_164_jpg.rf.81377aa531f119e2d07eea909c64aabf.txt (deflated 49%)\n",
            "  adding: content/cauli_disease-3/train/labels/cauli_141_jpg.rf.5f1b221039e44db5c1e4ea693f1ab35d.txt (deflated 48%)\n",
            "  adding: content/cauli_disease-3/train/labels/cauli_100_jpg.rf.7161af8ffd514f6bf3069b7f6eaeea91.txt (deflated 46%)\n",
            "  adding: content/cauli_disease-3/train/labels/cauli_37_jpg.rf.68bedc8b7aeeb64d0caee53f8025ab26.txt (deflated 46%)\n",
            "  adding: content/cauli_disease-3/train/labels/cauli_208_jpg.rf.b66ee5bc72b4dc8afcf2c5d4a6e3a50c.txt (deflated 46%)\n",
            "  adding: content/cauli_disease-3/train/labels/cauli_262_JPG.rf.b2459caf9f8e55634344ee66491dc361.txt (deflated 49%)\n",
            "  adding: content/cauli_disease-3/train/labels/cauli_92_jpg.rf.d931065ea118f5be55e34c55c175444b.txt (deflated 50%)\n",
            "  adding: content/cauli_disease-3/train/labels/cauli_152_jpg.rf.e10657246473c934caf54384815f5b13.txt (deflated 47%)\n",
            "  adding: content/cauli_disease-3/train/labels/cauli_58_jpg.rf.8efb071b4d42518adae756b3942aec32.txt (deflated 55%)\n",
            "  adding: content/cauli_disease-3/train/labels/cauli_243_JPG.rf.7453b1c19691c1ea8fae251beaa06a1c.txt (deflated 45%)\n",
            "  adding: content/cauli_disease-3/train/labels/cauli_95_jpg.rf.5cd327cef415fad8152763dbec638241.txt (deflated 43%)\n",
            "  adding: content/cauli_disease-3/train/labels/cauli_125_jpg.rf.b11482e8b1c98408a2b84eb5122ca930.txt (deflated 62%)\n",
            "  adding: content/cauli_disease-3/train/labels/cauli_288_JPG.rf.3be74c4575aea00a9ac761e68abe2bde.txt (deflated 48%)\n",
            "  adding: content/cauli_disease-3/train/labels/cauli_223_jpg.rf.76970fa1e74f6e82a14fc875aeeab2e5.txt (deflated 45%)\n",
            "  adding: content/cauli_disease-3/train/labels/cauli_261_JPG.rf.25fb0f72278e27809486d7573d466273.txt (deflated 28%)\n",
            "  adding: content/cauli_disease-3/train/labels/cauli_326_jpg.rf.d8f7afa66cd3fed82aa070f4a6207b6d.txt (deflated 41%)\n",
            "  adding: content/cauli_disease-3/train/labels/cauli_305_JPG.rf.a6cddea9a67e042e8e2608cf2b349547.txt (deflated 49%)\n",
            "  adding: content/cauli_disease-3/train/labels/cauli_49_jpg.rf.dfa997bd256fa15cb7553c718dfaeb77.txt (deflated 52%)\n",
            "  adding: content/cauli_disease-3/train/labels/cauli_222_jpg.rf.19bf26d7c2133af60e4d71e687a6bffc.txt (deflated 20%)\n",
            "  adding: content/cauli_disease-3/train/labels/cauli_35_jpg.rf.c3498867a21fef27c6e0e3a5a4113d20.txt (deflated 18%)\n",
            "  adding: content/cauli_disease-3/train/labels/cauli_227_jpg.rf.d219525c7e27473b706607a254416a96.txt (deflated 42%)\n",
            "  adding: content/cauli_disease-3/train/labels/cauli_26_jpg.rf.9c6df60ae6784f523008213077e12711.txt (deflated 29%)\n",
            "  adding: content/cauli_disease-3/train/labels/cauli_205_jpg.rf.73cf645177b8ff4d05587f79187d5129.txt (deflated 47%)\n",
            "  adding: content/cauli_disease-3/train/labels/cauli_277_JPG.rf.0990425cf10b392cd1cf53fddc32c78c.txt (deflated 56%)\n",
            "  adding: content/cauli_disease-3/train/labels/cauli_303_JPG.rf.86b8b01a52e9bda6ba2a9b9f37184965.txt (deflated 50%)\n",
            "  adding: content/cauli_disease-3/train/labels/cauli_134_jpg.rf.33a27c21381b93b5c36138d878a7f183.txt (deflated 50%)\n",
            "  adding: content/cauli_disease-3/train/labels/cauli_253_JPG.rf.fe2822f88cb754432cde584e92f4932c.txt (deflated 57%)\n",
            "  adding: content/cauli_disease-3/train/labels/cauli_103_jpg.rf.b7b0409ba12c82ad15b66a2725246ce0.txt (deflated 44%)\n",
            "  adding: content/cauli_disease-3/train/labels/cauli_279_JPG.rf.f55ea8a563c9204352fd1aee0abc6032.txt (deflated 54%)\n",
            "  adding: content/cauli_disease-3/train/labels/cauli_296_JPG.rf.7710113a2910be88e79fdb0b1186fc5d.txt (deflated 45%)\n",
            "  adding: content/cauli_disease-3/train/labels/cauli_187_jpg.rf.e5be9d378156f7c84e5d429f58c18648.txt (deflated 55%)\n",
            "  adding: content/cauli_disease-3/train/labels/cauli_128_jpg.rf.70d9f586fb617d108b3bcd97e966e39d.txt (deflated 52%)\n",
            "  adding: content/cauli_disease-3/train/labels/cauli_248_JPG.rf.a7006c2426e145462082b65adef8bcfd.txt (deflated 29%)\n",
            "  adding: content/cauli_disease-3/train/labels/cauli_264_JPG.rf.8d8116212c437bad0a5e47ece2e60346.txt (deflated 48%)\n",
            "  adding: content/cauli_disease-3/train/labels/cauli_313_jpg.rf.0e043529172aab3eb5552db09e62741d.txt (deflated 38%)\n",
            "  adding: content/cauli_disease-3/train/labels/cauli_118_jpg.rf.5012ebf84bdd49c55d29a6f24be1c747.txt (deflated 46%)\n",
            "  adding: content/cauli_disease-3/train/labels/cauli_89_jpg.rf.1f7110b451ab8d77d40cfc4958b55a58.txt (deflated 53%)\n",
            "  adding: content/cauli_disease-3/train/labels/cauli_20_jpg.rf.c59fea6c3fd2a74193f525d7e8084815.txt (deflated 46%)\n",
            "  adding: content/cauli_disease-3/train/labels/cauli_59_jpg.rf.391fcfacd58cadb9f3db9af524b60e7b.txt (deflated 46%)\n",
            "  adding: content/cauli_disease-3/train/labels/cauli_233_JPG.rf.735c7ff975f936975df5dc6a3cd46858.txt (deflated 29%)\n",
            "  adding: content/cauli_disease-3/train/labels/cauli_173_jpg.rf.927f99170166832c93f689bed3063155.txt (deflated 50%)\n",
            "  adding: content/cauli_disease-3/train/labels/cauli_301_JPG.rf.6d75579ee7cd6454c50394af25326f60.txt (deflated 51%)\n",
            "  adding: content/cauli_disease-3/train/labels/cauli_270_JPG.rf.5901e484cf5e615bd7204e231aa79daf.txt (deflated 49%)\n",
            "  adding: content/cauli_disease-3/train/labels/cauli_219_jpg.rf.7bcebc49159e7fc2ca0e42ab258ff815.txt (deflated 51%)\n",
            "  adding: content/cauli_disease-3/train/labels/cauli_177_jpg.rf.3238d4f1af008ea67939fc9bbf3779a6.txt (deflated 60%)\n",
            "  adding: content/cauli_disease-3/train/labels/cauli_203_jpg.rf.605a41c429334630c3f4a0652516e471.txt (deflated 50%)\n",
            "  adding: content/cauli_disease-3/train/labels/cauli_30_jpg.rf.eab5c47b463c56a496c4b3726b2f34b5.txt (deflated 41%)\n",
            "  adding: content/cauli_disease-3/train/labels/cauli_123_jpg.rf.3cf6834789b5323e5dc2313e370a8a7a.txt (deflated 55%)\n",
            "  adding: content/cauli_disease-3/train/labels/cauli_297_JPG.rf.04932749c23987452c5d36e7bda61050.txt (deflated 62%)\n",
            "  adding: content/cauli_disease-3/train/labels/cauli_82_jpg.rf.044ce1a701f28d32fce8846062d408ce.txt (deflated 12%)\n",
            "  adding: content/cauli_disease-3/train/labels/cauli_131_jpg.rf.17e813dcc30b16fd9ea411ddd9b3c23c.txt (deflated 49%)\n",
            "  adding: content/cauli_disease-3/train/labels/cauli_211_jpg.rf.6c38887234e450915a392c31e42346a9.txt (deflated 48%)\n",
            "  adding: content/cauli_disease-3/train/labels/cauli_68_jpg.rf.be7a824f35e1fe2233d10c1e314b6aa8.txt (deflated 51%)\n",
            "  adding: content/cauli_disease-3/train/labels/cauli_166_jpg.rf.f6a4d4aec55e7c5afe4241ab8a5a6616.txt (deflated 44%)\n",
            "  adding: content/cauli_disease-3/train/labels/cauli_50_jpg.rf.18ead04c2b6831a34d2e8eb79f08f2f9.txt (deflated 52%)\n",
            "  adding: content/cauli_disease-3/train/labels/cauli_282_JPG.rf.e82b47a2f576ca27c77e1400b886c870.txt (deflated 41%)\n",
            "  adding: content/cauli_disease-3/train/labels/cauli_278_JPG.rf.d333f2e6dc3814dd8e9c8af3e88795a0.txt (deflated 48%)\n",
            "  adding: content/cauli_disease-3/train/labels/cauli_107_jpg.rf.025872cde28b3a0fbb68b25066d924bd.txt (deflated 49%)\n",
            "  adding: content/cauli_disease-3/train/labels/cauli_73_jpg.rf.8504b74e9474f7511c0229fd3149904a.txt (deflated 48%)\n",
            "  adding: content/cauli_disease-3/train/labels/cauli_233_JPG.rf.59695719782c3d6b3629d1e72eb377fd.txt (deflated 25%)\n",
            "  adding: content/cauli_disease-3/train/labels/cauli_329_jpg.rf.4c0b50d4f47fdf3c4eae079d9262f109.txt (deflated 53%)\n",
            "  adding: content/cauli_disease-3/train/labels/cauli_246_JPG.rf.f086dbefff4b1dcc1b03bb29e497f8d2.txt (deflated 51%)\n",
            "  adding: content/cauli_disease-3/train/labels/cauli_252_JPG.rf.1bf631aa86edf37b9272cc81fe5e0e9d.txt (deflated 29%)\n",
            "  adding: content/cauli_disease-3/train/labels/cauli_132_jpg.rf.1993fc9d5038db4ca100220c87e6e039.txt (deflated 49%)\n",
            "  adding: content/cauli_disease-3/train/labels/cauli_244_JPG.rf.c78c17ff9b519789d7493d267ac7fa4b.txt (deflated 29%)\n",
            "  adding: content/cauli_disease-3/train/labels/cauli_108_jpg.rf.963af32227a5c1438f27bfb8135838ac.txt (deflated 59%)\n",
            "  adding: content/cauli_disease-3/train/labels/cauli_104_jpg.rf.cf4a5c03b6de67708f9ed5ce33e382f3.txt (deflated 59%)\n",
            "  adding: content/cauli_disease-3/train/labels/cauli_223_jpg.rf.2f1c2c401eded6f2f745bf9827f9eb46.txt (deflated 46%)\n",
            "  adding: content/cauli_disease-3/train/labels/cauli_58_jpg.rf.4bab39153369649f3dba367c730a6107.txt (deflated 49%)\n",
            "  adding: content/cauli_disease-3/train/labels/cauli_90_jpg.rf.6e34747535a0e69063fc36add4af6af3.txt (deflated 51%)\n",
            "  adding: content/cauli_disease-3/train/labels/cauli_75_jpg.rf.bee5be7c618499f29761dd54828c5fde.txt (deflated 50%)\n",
            "  adding: content/cauli_disease-3/train/labels/cauli_113_jpg.rf.c4a24631e81cb5365245bac272a6b651.txt (deflated 27%)\n",
            "  adding: content/cauli_disease-3/train/labels/cauli_314_jpg.rf.4d11249b3642143a32da7640359d6b86.txt (deflated 48%)\n",
            "  adding: content/cauli_disease-3/train/labels/cauli_243_JPG.rf.f9f4c6f9fc379268e63319bb31374369.txt (deflated 45%)\n",
            "  adding: content/cauli_disease-3/train/labels/cauli_53_jpg.rf.c942a21cc70627795e95e2b7932eb934.txt (deflated 52%)\n",
            "  adding: content/cauli_disease-3/train/labels/cauli_26_jpg.rf.f73da89cbe28b69bc7b82033caf12765.txt (deflated 29%)\n",
            "  adding: content/cauli_disease-3/train/labels/cauli_184_jpg.rf.eaf81f8c1342b64f498cd91ee88bcd40.txt (deflated 61%)\n",
            "  adding: content/cauli_disease-3/train/labels/cauli_141_jpg.rf.25d4ce55ec5f99c10cacbf1f0a289cda.txt (deflated 49%)\n",
            "  adding: content/cauli_disease-3/train/labels/cauli_67_jpg.rf.b286f37ffbb4d9f8b84b916dbd99e36a.txt (deflated 51%)\n",
            "  adding: content/cauli_disease-3/train/labels/cauli_18_jpg.rf.eaca7c60fcc70e03fe7eb3c610ce39ef.txt (deflated 48%)\n",
            "  adding: content/cauli_disease-3/train/labels/cauli_86_jpg.rf.90b9bb69a3dc52a4092cf1facce2dbb0.txt (deflated 51%)\n",
            "  adding: content/cauli_disease-3/train/labels/cauli_274_JPG.rf.89167fa82e2d711ac2101006ba0874ed.txt (deflated 42%)\n",
            "  adding: content/cauli_disease-3/train/labels/cauli_261_JPG.rf.3c809415eca6f17bf5e7c1a67d69011f.txt (deflated 17%)\n",
            "  adding: content/cauli_disease-3/train/labels/cauli_110_jpg.rf.b784ca3cb40b08c5a26b262403477223.txt (deflated 50%)\n",
            "  adding: content/cauli_disease-3/train/labels/cauli_246_JPG.rf.41567600e55d27b671d00328cc1f2857.txt (deflated 50%)\n",
            "  adding: content/cauli_disease-3/train/labels/cauli_217_jpg.rf.be94da139a0fec75c266e07d79136723.txt (deflated 35%)\n",
            "  adding: content/cauli_disease-3/train/labels/cauli_29_jpg.rf.134ea1fed2e49ffef4b09211cc19a9e0.txt (deflated 27%)\n",
            "  adding: content/cauli_disease-3/train/labels/cauli_210_jpg.rf.0fd34d734449c22b5fa1a404b4adc2fb.txt (deflated 41%)\n",
            "  adding: content/cauli_disease-3/train/labels/cauli_155_jpg.rf.61122b222100a1e759af2ae437aa1631.txt (deflated 28%)\n",
            "  adding: content/cauli_disease-3/train/labels/cauli_103_jpg.rf.39b3445b85b393346d64a0bd154da0d4.txt (deflated 45%)\n",
            "  adding: content/cauli_disease-3/train/labels/cauli_74_jpg.rf.738fd3b699d294e96d806d76ec7e5229.txt (deflated 41%)\n",
            "  adding: content/cauli_disease-3/train/labels/cauli_24_jpg.rf.69c611bb72c340ab5388de03d3f485d3.txt (deflated 49%)\n",
            "  adding: content/cauli_disease-3/train/labels/cauli_35_jpg.rf.fb1239b35e7f302270f9902a79bf99a6.txt (deflated 29%)\n",
            "  adding: content/cauli_disease-3/train/labels/cauli_115_jpg.rf.8138028a6b873e5a49929633b559d8f4.txt (deflated 51%)\n",
            "  adding: content/cauli_disease-3/train/labels/cauli_109_jpg.rf.7f4bbb7c0d4f335b40c898ad28f21757.txt (deflated 68%)\n",
            "  adding: content/cauli_disease-3/train/labels/cauli_202_jpg.rf.f19aa9bcc4ced53f4fdeea28f7b608ec.txt (deflated 44%)\n",
            "  adding: content/cauli_disease-3/train/labels/cauli_182_jpg.rf.20c5a28596d8453341faf16203278dda.txt (deflated 51%)\n",
            "  adding: content/cauli_disease-3/train/labels/cauli_46_jpg.rf.80ed5e62fa2957ee0dc44ae7f549a2c5.txt (deflated 48%)\n",
            "  adding: content/cauli_disease-3/train/labels/cauli_202_jpg.rf.53bf117308809b08d876f5c9be6b50db.txt (deflated 47%)\n",
            "  adding: content/cauli_disease-3/train/labels/cauli_223_jpg.rf.e8650852bb2e30b309f06b8ffbbfc68e.txt (deflated 47%)\n",
            "  adding: content/cauli_disease-3/train/labels/cauli_48_jpg.rf.e9549dd05316220d185ff70bb8ec2de9.txt (deflated 52%)\n",
            "  adding: content/cauli_disease-3/train/labels/cauli_45_jpg.rf.32de634390e6d1d6e9dbebee5ce97e3b.txt (deflated 68%)\n",
            "  adding: content/cauli_disease-3/train/labels/cauli_262_JPG.rf.f1e782b9cda342db5823bb66dbc35677.txt (deflated 56%)\n",
            "  adding: content/cauli_disease-3/train/labels/cauli_156_jpg.rf.f262c5a1894c1901250ab75603e24154.txt (deflated 63%)\n",
            "  adding: content/cauli_disease-3/train/labels/cauli_191_jpg.rf.9599fb47014f46e2ac76f342262307c8.txt (deflated 49%)\n",
            "  adding: content/cauli_disease-3/train/labels/cauli_276_JPG.rf.956951e8b4a110d4a6847558d188c3db.txt (deflated 45%)\n",
            "  adding: content/cauli_disease-3/train/labels/cauli_17_jpg.rf.8489c4c0be6ef19960abed8249d0a660.txt (deflated 49%)\n",
            "  adding: content/cauli_disease-3/train/labels/cauli_289_JPG.rf.47aeb6cb78c06101cc8a020f78f33f2c.txt (deflated 50%)\n",
            "  adding: content/cauli_disease-3/train/labels/cauli_67_jpg.rf.c1fc2f984f6b3c2abe01b6cc709e7008.txt (deflated 50%)\n",
            "  adding: content/cauli_disease-3/train/labels/cauli_62_jpg.rf.a8435c81fad5f25b553aa23466943645.txt (deflated 46%)\n",
            "  adding: content/cauli_disease-3/train/labels/cauli_66_jpg.rf.5e014af1fee0d5b32d16c422145f97bc.txt (deflated 54%)\n",
            "  adding: content/cauli_disease-3/train/labels/cauli_170_jpg.rf.403f83ac597f7650c0b57549bc5d7558.txt (deflated 33%)\n",
            "  adding: content/cauli_disease-3/train/labels/cauli_328_jpg.rf.7f10d42b1eae0a882d150aabb47deeb7.txt (deflated 48%)\n",
            "  adding: content/cauli_disease-3/train/labels/cauli_242_JPG.rf.9a50a167496f2883583b89c10e2a850e.txt (deflated 46%)\n",
            "  adding: content/cauli_disease-3/train/labels/cauli_109_jpg.rf.5dc8904e52386f42f885b90787d9d800.txt (deflated 52%)\n",
            "  adding: content/cauli_disease-3/train/labels/cauli_29_jpg.rf.2ea009b8752f93897060000d7a55c3e7.txt (deflated 28%)\n",
            "  adding: content/cauli_disease-3/train/labels/cauli_108_jpg.rf.865c755c73fcc0c8a62ad39e7de9fa6c.txt (deflated 51%)\n",
            "  adding: content/cauli_disease-3/train/labels/cauli_161_jpg.rf.8a2830c7ddcf3a6d6e923a800b584015.txt (deflated 48%)\n",
            "  adding: content/cauli_disease-3/train/labels/cauli_295_JPG.rf.b8d9dd2cc858a5b546fcf403bc2ed384.txt (deflated 52%)\n",
            "  adding: content/cauli_disease-3/train/labels/cauli_298_JPG.rf.a38b5c673e19c664bfddd234913cad16.txt (deflated 49%)\n",
            "  adding: content/cauli_disease-3/train/labels/cauli_311_jpg.rf.ed1044792c0f46022ada861976852951.txt (deflated 42%)\n",
            "  adding: content/cauli_disease-3/train/labels/cauli_17_jpg.rf.64574f272b9769a00b90ae4d8108404c.txt (deflated 52%)\n",
            "  adding: content/cauli_disease-3/train/labels/cauli_239_JPG.rf.83c35f2af1a49022e038d2956de79bbe.txt (deflated 21%)\n",
            "  adding: content/cauli_disease-3/train/labels/cauli_43_jpg.rf.1028f1a71b7b15ea1fe433104b8daac7.txt (deflated 49%)\n",
            "  adding: content/cauli_disease-3/train/labels/cauli_285_JPG.rf.b132866dd1d944bf1ccc1e876fd678f0.txt (deflated 46%)\n",
            "  adding: content/cauli_disease-3/train/labels/cauli_248_JPG.rf.16b31e4a4a93feecffe1e31e3e751ef2.txt (deflated 30%)\n",
            "  adding: content/cauli_disease-3/train/labels/cauli_56_jpg.rf.11d628bddbac5555f3b391f22ceb7c62.txt (deflated 49%)\n",
            "  adding: content/cauli_disease-3/train/labels/cauli_50_jpg.rf.3ee5a7e679e23f55263c39334480b52a.txt (deflated 64%)\n",
            "  adding: content/cauli_disease-3/train/labels/cauli_29_jpg.rf.7e83d947466a0bd2ffdb8b16d68409f0.txt (deflated 29%)\n",
            "  adding: content/cauli_disease-3/train/labels/cauli_139_jpg.rf.7b7ce6cfd8c210ed97f2d4e44fa623d8.txt (deflated 41%)\n",
            "  adding: content/cauli_disease-3/train/labels/cauli_16_jpg.rf.895311a7ad9c94afd512980c02acfda0.txt (deflated 50%)\n",
            "  adding: content/cauli_disease-3/train/labels/cauli_305_JPG.rf.44c95a8f58aef852472c80865e8bc15c.txt (deflated 49%)\n",
            "  adding: content/cauli_disease-3/train/labels/cauli_274_JPG.rf.85779764ebe73943afc145b0132a2576.txt (deflated 34%)\n",
            "  adding: content/cauli_disease-3/train/labels/cauli_68_jpg.rf.0cbfc023f969783916849cebbae3b9e5.txt (deflated 65%)\n",
            "  adding: content/cauli_disease-3/train/labels/cauli_247_JPG.rf.4947f381eb1a860059ef632bf313c505.txt (deflated 29%)\n",
            "  adding: content/cauli_disease-3/train/labels/cauli_296_JPG.rf.0be2380616ca5811131ccab999a973f8.txt (deflated 45%)\n",
            "  adding: content/cauli_disease-3/train/labels/cauli_120_jpg.rf.76ad89fb960bc11ec66347a72ec9709d.txt (deflated 42%)\n",
            "  adding: content/cauli_disease-3/train/labels/cauli_326_jpg.rf.252cac32ed273459c2f77a31195783d9.txt (deflated 41%)\n",
            "  adding: content/cauli_disease-3/train/labels/cauli_148_jpg.rf.bccb08df721bc27a1526ff2d081ea3e9.txt (deflated 45%)\n",
            "  adding: content/cauli_disease-3/train/labels/cauli_285_JPG.rf.88a417c7c25a9bb525f2e947d235f557.txt (deflated 43%)\n",
            "  adding: content/cauli_disease-3/train/labels/cauli_320_jpg.rf.2052e528da9573d82e632ec9013291d6.txt (deflated 46%)\n",
            "  adding: content/cauli_disease-3/train/labels/cauli_236_JPG.rf.5d70a49baa8eb304be05e1f91acce40a.txt (deflated 29%)\n",
            "  adding: content/cauli_disease-3/train/labels/cauli_301_JPG.rf.502fc82d44148d48de5bc5df84f4bd07.txt (deflated 52%)\n",
            "  adding: content/cauli_disease-3/train/labels/cauli_306_jpeg.rf.c1f205c864d5084196909bacfa2f693d.txt (deflated 40%)\n",
            "  adding: content/cauli_disease-3/train/labels/cauli_6_jpg.rf.c6480a54d36e43376452d7c909fa5bff.txt (deflated 29%)\n",
            "  adding: content/cauli_disease-3/train/labels/cauli_56_jpg.rf.edf5d51a92a106674abb036304389cb1.txt (deflated 55%)\n",
            "  adding: content/cauli_disease-3/train/labels/cauli_40_jpg.rf.1bf83b5403e9fc2050f13761dd81c07d.txt (deflated 20%)\n",
            "  adding: content/cauli_disease-3/train/labels/cauli_148_jpg.rf.27d20d0088427a013f567f37937d55bb.txt (deflated 45%)\n",
            "  adding: content/cauli_disease-3/train/labels/cauli_96_jpg.rf.36c61950d3bef0bf28b8f9e1db14c5ef.txt (deflated 48%)\n",
            "  adding: content/cauli_disease-3/train/labels/cauli_294_JPG.rf.de3d3255c6efafcff90a677a239db933.txt (deflated 49%)\n",
            "  adding: content/cauli_disease-3/train/labels/cauli_183_jpg.rf.45ff5fce35cf53d6989e1d8a3f81caf4.txt (deflated 34%)\n",
            "  adding: content/cauli_disease-3/train/labels/cauli_297_JPG.rf.c05e16f35509c5128ca038ae602ff60a.txt (deflated 50%)\n",
            "  adding: content/cauli_disease-3/train/labels/cauli_241_JPG.rf.42dec105d483ff0878da0ef94c3fc946.txt (deflated 40%)\n",
            "  adding: content/cauli_disease-3/train/labels/cauli_224_jpg.rf.bcc51d8eaedf9dcb284a6ebff384e6b3.txt (deflated 41%)\n",
            "  adding: content/cauli_disease-3/train/labels/cauli_88_jpg.rf.172ac05effcf8988b92efd2eaa7d5398.txt (deflated 44%)\n",
            "  adding: content/cauli_disease-3/train/labels/cauli_180_jpg.rf.346706bc77249a49e2594d42e79e017e.txt (deflated 50%)\n",
            "  adding: content/cauli_disease-3/train/labels/cauli_140_jpg.rf.f966d0660fb221d1f9a4d4041180b1d1.txt (deflated 61%)\n",
            "  adding: content/cauli_disease-3/train/labels/cauli_290_JPG.rf.630d991317c63980d73feba241e10cc4.txt (deflated 36%)\n",
            "  adding: content/cauli_disease-3/train/labels/cauli_330_jpg.rf.b064c4141fe4194d13097dd105918ba4.txt (deflated 45%)\n",
            "  adding: content/cauli_disease-3/train/labels/cauli_282_JPG.rf.d2d8192714c573c13dad23d3e229f40e.txt (deflated 41%)\n",
            "  adding: content/cauli_disease-3/train/labels/cauli_114_jpg.rf.925dbd81ca72bc4416394c7ba8dc595c.txt (deflated 49%)\n",
            "  adding: content/cauli_disease-3/train/labels/cauli_107_jpg.rf.6f3ad7e6493f73d1800eafe5824211e6.txt (deflated 56%)\n",
            "  adding: content/cauli_disease-3/train/labels/cauli_182_jpg.rf.56520fae25851141b83462233e85edea.txt (deflated 66%)\n",
            "  adding: content/cauli_disease-3/train/labels/cauli_173_jpg.rf.ae68bdff232b29ccc79f04a807976e13.txt (deflated 63%)\n",
            "  adding: content/cauli_disease-3/train/labels/cauli_192_jpg.rf.05aa7c2fb77eb8393b467a2c2c95a033.txt (deflated 51%)\n",
            "  adding: content/cauli_disease-3/train/labels/cauli_2_jpg.rf.c38de4797857e58c9db91ba9d5b0aece.txt (deflated 17%)\n",
            "  adding: content/cauli_disease-3/train/labels/cauli_64_jpg.rf.9be8b7bf6571c1aee4f6dd64cfa523fc.txt (deflated 54%)\n",
            "  adding: content/cauli_disease-3/train/labels/cauli_205_jpg.rf.c0df986c71931d336e313ff92efe77fb.txt (deflated 48%)\n",
            "  adding: content/cauli_disease-3/train/labels/cauli_115_jpg.rf.7f81ea2e08baf6c89b11c84e49e23f9f.txt (deflated 50%)\n",
            "  adding: content/cauli_disease-3/train/labels/cauli_189_jpg.rf.ba17286cb363f23aa36904429469af92.txt (deflated 46%)\n",
            "  adding: content/cauli_disease-3/train/labels/cauli_53_jpg.rf.f443b2a7890d71f86ec670fe1878c1cf.txt (deflated 50%)\n",
            "  adding: content/cauli_disease-3/train/labels/cauli_207_jpg.rf.368c2c4b329e8f0da5a4befc465c5704.txt (deflated 56%)\n",
            "  adding: content/cauli_disease-3/train/labels/cauli_229_jpg.rf.1af36d6af2c5144885d6520f2b5fe0f4.txt (deflated 46%)\n",
            "  adding: content/cauli_disease-3/train/labels/cauli_194_jpg.rf.f328e374638de65be1ab84082ebcdda2.txt (deflated 52%)\n",
            "  adding: content/cauli_disease-3/train/labels/cauli_238_JPG.rf.98bfa4303fc5b3542152b70388de90aa.txt (deflated 17%)\n",
            "  adding: content/cauli_disease-3/train/labels/cauli_258_JPG.rf.360c7d5aceee3a62801e0b6a8a061ca8.txt (deflated 30%)\n",
            "  adding: content/cauli_disease-3/train/labels/cauli_136_jpg.rf.c9abbd7794bab962b8a1d187a8dfc6f0.txt (deflated 48%)\n",
            "  adding: content/cauli_disease-3/train/labels/cauli_323_jpeg.rf.cf379b5f9f303705697ae22be8041615.txt (deflated 46%)\n",
            "  adding: content/cauli_disease-3/train/labels/cauli_117_jpg.rf.99f61f62cb527e6530f0aeef357c6d65.txt (deflated 60%)\n",
            "  adding: content/cauli_disease-3/train/labels/cauli_90_jpg.rf.2c6b16010c6a323a69f8c363e7451f47.txt (deflated 52%)\n",
            "  adding: content/cauli_disease-3/train/labels/cauli_81_jpg.rf.1cde7fba4590b799477dd1a4954b039f.txt (deflated 48%)\n",
            "  adding: content/cauli_disease-3/train/labels/cauli_122_jpg.rf.76d63252f46c15282c52c9feb2f2d591.txt (deflated 29%)\n",
            "  adding: content/cauli_disease-3/train/labels/cauli_181_jpg.rf.b0f95ced0029af9a985d04473c20deba.txt (deflated 64%)\n",
            "  adding: content/cauli_disease-3/train/labels/cauli_176_jpg.rf.5bd7f26b9046ae8c31e9935217569811.txt (deflated 46%)\n",
            "  adding: content/cauli_disease-3/train/labels/cauli_242_JPG.rf.eb9ffa611b47d78f77df5d59962c72c5.txt (deflated 46%)\n",
            "  adding: content/cauli_disease-3/train/labels/cauli_202_jpg.rf.6964d7174261c7dbe0ea8c1e6bf226d4.txt (deflated 46%)\n",
            "  adding: content/cauli_disease-3/train/labels/cauli_236_JPG.rf.02166f8ce3491fa88e9d0d8affa40796.txt (deflated 41%)\n",
            "  adding: content/cauli_disease-3/train/labels/cauli_52_jpg.rf.93557196205c405c1731a4267a14e9d1.txt (deflated 66%)\n",
            "  adding: content/cauli_disease-3/train/labels/cauli_283_JPG.rf.47940e44b850d6f0974b138b811372ca.txt (deflated 35%)\n",
            "  adding: content/cauli_disease-3/train/labels/cauli_120_jpg.rf.815563e37ecfa44038a6bbbf8d9b9ff1.txt (deflated 45%)\n",
            "  adding: content/cauli_disease-3/train/labels/cauli_135_jpg.rf.f4f0c8f34ff5421be21064be27fb4e41.txt (deflated 47%)\n",
            "  adding: content/cauli_disease-3/train/labels/cauli_225_jpg.rf.cf4c46a6c8e4b0701b293944888259cc.txt (deflated 49%)\n",
            "  adding: content/cauli_disease-3/train/labels/cauli_100_jpg.rf.ac73190f6646cfb0dcffdf5f8cae85ff.txt (deflated 45%)\n",
            "  adding: content/cauli_disease-3/train/labels/cauli_253_JPG.rf.0233cf6b4a1e2007d770ff2fcfbe6fc2.txt (deflated 49%)\n",
            "  adding: content/cauli_disease-3/train/labels/cauli_179_jpg.rf.0015c0fd864541988bbeff6cd5bdcb3f.txt (deflated 52%)\n",
            "  adding: content/cauli_disease-3/train/labels/cauli_267_JPG.rf.811d7ca2077b0bd2b3ed13d4a370e900.txt (deflated 50%)\n",
            "  adding: content/cauli_disease-3/train/labels/cauli_224_jpg.rf.11b21767347cea2aae84bfd516ef69e0.txt (deflated 42%)\n",
            "  adding: content/cauli_disease-3/train/labels/cauli_132_jpg.rf.c1d440bd906ed6784715d33e72bfb1d5.txt (deflated 56%)\n",
            "  adding: content/cauli_disease-3/train/labels/cauli_330_jpg.rf.27b6cd7bc7c0f062d91559d4c2674f35.txt (deflated 45%)\n",
            "  adding: content/cauli_disease-3/train/labels/cauli_216_jpg.rf.d3f4181a252ce24e0308a9ec06b7b5ea.txt (deflated 17%)\n",
            "  adding: content/cauli_disease-3/train/labels/cauli_206_jpg.rf.08cbe95a910236bd7441a8dffd1b0fc9.txt (deflated 46%)\n",
            "  adding: content/cauli_disease-3/train/labels/cauli_28_jpg.rf.37d96aef7e3706dea9b426640f3f44d2.txt (deflated 42%)\n",
            "  adding: content/cauli_disease-3/train/labels/cauli_147_jpg.rf.169bffe6ada786bbc839e8a59d16c1dc.txt (deflated 49%)\n",
            "  adding: content/cauli_disease-3/train/labels/cauli_170_jpg.rf.edbd6f17de91d682bbaff90adbf5f98c.txt (deflated 41%)\n",
            "  adding: content/cauli_disease-3/train/labels/cauli_79_jpg.rf.b4c8c447ac86d9949df6ec836091f328.txt (deflated 4%)\n",
            "  adding: content/cauli_disease-3/train/labels/cauli_263_JPG.rf.de72020fe816ee029b27b3c8370f2961.txt (deflated 29%)\n",
            "  adding: content/cauli_disease-3/train/labels/cauli_96_jpg.rf.5955c8a1fa53699e375a12066d36b5ae.txt (deflated 50%)\n",
            "  adding: content/cauli_disease-3/train/labels/cauli_184_jpg.rf.65fd8b844eac7bc95c4d1f15bf4cf2fc.txt (deflated 51%)\n",
            "  adding: content/cauli_disease-3/train/labels/cauli_266_JPG.rf.55369f96f261e5bb44a4c708d7f2d43e.txt (deflated 52%)\n",
            "  adding: content/cauli_disease-3/train/labels/cauli_62_jpg.rf.8d8140d171f4eb9cfd1d09371fa03917.txt (deflated 46%)\n",
            "  adding: content/cauli_disease-3/train/labels/cauli_279_JPG.rf.076cb457edd90c082904572f9192b04e.txt (deflated 49%)\n",
            "  adding: content/cauli_disease-3/train/labels/cauli_288_JPG.rf.e82a30921ebc62282931536dccfb281a.txt (deflated 54%)\n",
            "  adding: content/cauli_disease-3/train/labels/cauli_66_jpg.rf.8e5b979647203bbb089a15c94b42e133.txt (deflated 47%)\n",
            "  adding: content/cauli_disease-3/train/labels/cauli_198_jpg.rf.eee2a593db03c7f1b4bb1790e891a920.txt (deflated 53%)\n",
            "  adding: content/cauli_disease-3/train/labels/cauli_274_JPG.rf.2ddac1e20823be479933eeda3f0cbbf7.txt (deflated 41%)\n",
            "  adding: content/cauli_disease-3/train/labels/cauli_161_jpg.rf.6ac8f8865907325c0f33215ebb2adffd.txt (deflated 48%)\n",
            "  adding: content/cauli_disease-3/train/labels/cauli_256_JPG.rf.e2f5c7026dd1554483d97469e9e8bc91.txt (deflated 21%)\n",
            "  adding: content/cauli_disease-3/train/labels/cauli_277_JPG.rf.2ae46e92d57d246002beac72a814ff57.txt (deflated 50%)\n",
            "  adding: content/cauli_disease-3/train/labels/cauli_39_jpg.rf.24e170904d094d030eb030fcccaf98cc.txt (deflated 26%)\n",
            "  adding: content/cauli_disease-3/train/labels/cauli_134_jpg.rf.f892d95c0c5326de25220bdcb3a1ca9c.txt (deflated 58%)\n",
            "  adding: content/cauli_disease-3/train/labels/cauli_165_jpg.rf.ac2d25c2d31844d8a4836404a1fb5910.txt (deflated 48%)\n",
            "  adding: content/cauli_disease-3/train/labels/cauli_201_jpg.rf.6e1bf5137600d2a2e8b75b219747ab52.txt (deflated 37%)\n",
            "  adding: content/cauli_disease-3/train/labels/cauli_6_jpg.rf.ad737bac87390b65d06443fd1e17ac03.txt (deflated 29%)\n",
            "  adding: content/cauli_disease-3/train/labels/cauli_156_jpg.rf.e48b64c1d171068ade8997fe4f511a71.txt (deflated 51%)\n",
            "  adding: content/cauli_disease-3/train/labels/cauli_322_jpeg.rf.44093340a181b0995c1c5ce33d783766.txt (deflated 49%)\n",
            "  adding: content/cauli_disease-3/train/labels/cauli_151_jpg.rf.6fe66c3f1d23ca5cdf97877fe67eec6b.txt (deflated 59%)\n",
            "  adding: content/cauli_disease-3/train/labels/cauli_199_jpg.rf.628ace4720ab09443f96adea4f23f4b7.txt (deflated 48%)\n",
            "  adding: content/cauli_disease-3/train/labels/cauli_143_jpg.rf.af6d587346e2f507716367f4c80aaccb.txt (deflated 48%)\n",
            "  adding: content/cauli_disease-3/train/labels/cauli_88_jpg.rf.f682d5a9bff5bb8e8a09814910104537.txt (deflated 44%)\n",
            "  adding: content/cauli_disease-3/train/labels/cauli_28_jpg.rf.a31e7ca81a69ab701de6e6f1cd199429.txt (deflated 36%)\n",
            "  adding: content/cauli_disease-3/train/labels/cauli_124_jpg.rf.a16eafe11c4b877e47bef84c792907f4.txt (deflated 50%)\n",
            "  adding: content/cauli_disease-3/train/labels/cauli_266_JPG.rf.b857837ef47e0b54aa3932c95282a752.txt (deflated 60%)\n",
            "  adding: content/cauli_disease-3/train/labels/cauli_149_jpg.rf.aef5b9bc697448aea1bb5e4b0ff8c68c.txt (deflated 50%)\n",
            "  adding: content/cauli_disease-3/train/labels/cauli_49_jpg.rf.2b9c22d1ccbb058fbd0f001a2581c81c.txt (deflated 69%)\n",
            "  adding: content/cauli_disease-3/train/labels/cauli_32_jpg.rf.7cb8200baa2c5cccef3e983b908803e5.txt (deflated 28%)\n",
            "  adding: content/cauli_disease-3/train/labels/cauli_170_jpg.rf.9e73605136f11adbef75adc039b97223.txt (deflated 36%)\n",
            "  adding: content/cauli_disease-3/train/labels/cauli_35_jpg.rf.07a3c31ffa21444f5839be7ae5ef36dd.txt (deflated 20%)\n",
            "  adding: content/cauli_disease-3/train/labels/cauli_124_jpg.rf.a5de15bc6c9e8491e80241014fc1ce72.txt (deflated 50%)\n",
            "  adding: content/cauli_disease-3/train/labels/cauli_187_jpg.rf.e79295d7c4904b7533390a87f36ca219.txt (deflated 57%)\n",
            "  adding: content/cauli_disease-3/train/labels/cauli_169_jpg.rf.ad9381ae0fc2d0290fdf252cc90e93a2.txt (deflated 51%)\n",
            "  adding: content/cauli_disease-3/train/labels/cauli_96_jpg.rf.4376111bb0f4dcabf415d2bfe9a1fe6f.txt (deflated 48%)\n",
            "  adding: content/cauli_disease-3/train/labels/cauli_103_jpg.rf.c27907391befb75095a5e9c359772dd9.txt (deflated 45%)\n",
            "  adding: content/cauli_disease-3/train/labels/cauli_192_jpg.rf.9f591df6434922c2b43fe46278afe61e.txt (deflated 60%)\n",
            "  adding: content/cauli_disease-3/train/labels/cauli_322_jpeg.rf.5b36bcd91c1f3f018d6354aedb23a746.txt (deflated 55%)\n",
            "  adding: content/cauli_disease-3/train/labels/cauli_72_jpg.rf.8aa720045c466fbf9af1453a5c9e2842.txt (deflated 49%)\n",
            "  adding: content/cauli_disease-3/train/labels/cauli_291_JPG.rf.e3d57a65e2aa1efba77734bf0ebb4d92.txt (deflated 49%)\n",
            "  adding: content/cauli_disease-3/train/labels/cauli_261_JPG.rf.63a12b153bc840a73773ea6373beb0f2.txt (deflated 25%)\n",
            "  adding: content/cauli_disease-3/train/labels/cauli_311_jpg.rf.525378ad057c03083021ec473325972d.txt (deflated 32%)\n",
            "  adding: content/cauli_disease-3/train/labels/cauli_89_jpg.rf.2dc245ac5c20ac2d38b1ee93c46a98dd.txt (deflated 52%)\n",
            "  adding: content/cauli_disease-3/train/labels/cauli_194_jpg.rf.19bf6f7865221ec9d39ec5ccaaa13501.txt (deflated 48%)\n",
            "  adding: content/cauli_disease-3/train/labels/cauli_20_jpg.rf.9e1b10ee4f41acf8038ba82aebef4559.txt (deflated 43%)\n",
            "  adding: content/cauli_disease-3/train/labels/cauli_53_jpg.rf.13ad08f49394ea62776be5b2c3cdd75b.txt (deflated 66%)\n",
            "  adding: content/cauli_disease-3/train/labels/cauli_313_jpg.rf.924ca7c37852863891e23657b2c1179b.txt (deflated 30%)\n",
            "  adding: content/cauli_disease-3/train/labels/cauli_44_jpg.rf.33a011b82dc34a45d3dc48f1968c6719.txt (deflated 51%)\n",
            "  adding: content/cauli_disease-3/train/labels/cauli_22_jpg.rf.681e1f71885730443563d27cae632fc1.txt (deflated 40%)\n",
            "  adding: content/cauli_disease-3/train/labels/cauli_90_jpg.rf.832225f5286977d69c072d6e95377ef8.txt (deflated 66%)\n",
            "  adding: content/cauli_disease-3/train/labels/cauli_255_JPG.rf.079b9dfe4fa4ea0de072d8a4039aceaf.txt (deflated 41%)\n",
            "  adding: content/cauli_disease-3/train/labels/cauli_205_jpg.rf.b0030a2525567e0d22f7f9a595c839a8.txt (deflated 52%)\n",
            "  adding: content/cauli_disease-3/train/labels/cauli_260_JPG.rf.3c58611bf3964601b6fe8b24a442ad74.txt (deflated 52%)\n",
            "  adding: content/cauli_disease-3/train/labels/cauli_131_jpg.rf.16ea1f4f0e1b0d298421417f415b9f5f.txt (deflated 56%)\n",
            "  adding: content/cauli_disease-3/train/labels/cauli_280_JPG.rf.c7e522fcc30f7f095f9e1f0f068a41b6.txt (deflated 58%)\n",
            "  adding: content/cauli_disease-3/train/labels/cauli_210_jpg.rf.2318697b06dd24485525eb6924d3c25d.txt (deflated 34%)\n",
            "  adding: content/cauli_disease-3/train/labels/cauli_72_jpg.rf.cdecd2d8dbc76de3703e46246e4a8f85.txt (deflated 49%)\n",
            "  adding: content/cauli_disease-3/train/labels/cauli_78_jpg.rf.e6be0493763f9824bf2357c0cde13b3c.txt (deflated 41%)\n",
            "  adding: content/cauli_disease-3/train/labels/cauli_217_jpg.rf.4774e4ff3f556067354cd35aeb8f86fe.txt (deflated 41%)\n",
            "  adding: content/cauli_disease-3/train/labels/cauli_219_jpg.rf.46e04097012fb9185d99c96d8020a431.txt (deflated 51%)\n",
            "  adding: content/cauli_disease-3/train/labels/cauli_256_JPG.rf.13e195875367aaa34c206254142c5753.txt (deflated 29%)\n",
            "  adding: content/cauli_disease-3/train/labels/cauli_48_jpg.rf.6e992fc74fddcb078c14373934bc7728.txt (deflated 66%)\n",
            "  adding: content/cauli_disease-3/train/labels/cauli_94_jpg.rf.312efd85a4f1734540919829844d80d3.txt (deflated 46%)\n",
            "  adding: content/cauli_disease-3/train/labels/cauli_147_jpg.rf.77bca2df8c1f3e13b958534048f1bb35.txt (deflated 56%)\n",
            "  adding: content/cauli_disease-3/train/labels/cauli_270_JPG.rf.6cd2766b2c3c7f9c0a145c2a860732ab.txt (deflated 52%)\n",
            "  adding: content/cauli_disease-3/train/labels/cauli_13_jpg.rf.c2d2588c3ed6d9e768a7fa26ff9322a7.txt (deflated 51%)\n",
            "  adding: content/cauli_disease-3/train/labels/cauli_141_jpg.rf.1b5c3a3811676d2a6f624229ad579973.txt (deflated 51%)\n",
            "  adding: content/cauli_disease-3/train/labels/cauli_249_JPG.rf.90a7889b1cc0bcfe76c4c387fb551368.txt (deflated 34%)\n",
            "  adding: content/cauli_disease-3/train/labels/cauli_229_jpg.rf.e06f38f47e4b7e969b5497bc8a1fe576.txt (deflated 46%)\n",
            "  adding: content/cauli_disease-3/train/labels/cauli_247_JPG.rf.d3722e7fbc8a9a85b37291eeff6e54d0.txt (deflated 21%)\n",
            "  adding: content/cauli_disease-3/train/labels/cauli_14_jpg.rf.25ba95bb154230f6772e8c24ca421003.txt (deflated 49%)\n",
            "  adding: content/cauli_disease-3/train/labels/cauli_283_JPG.rf.5aac1ba772a7ce6961fce89007bd9834.txt (deflated 41%)\n",
            "  adding: content/cauli_disease-3/train/labels/cauli_139_jpg.rf.93a1f788ab35c4b7c856f344b992941d.txt (deflated 42%)\n",
            "  adding: content/cauli_disease-3/train/labels/cauli_119_jpg.rf.4c1f1cf1dbf8547baa870dec0936d33f.txt (deflated 51%)\n",
            "  adding: content/cauli_disease-3/train/labels/cauli_215_jpg.rf.5971bbf693d5ee56beb1f2f315e8557c.txt (deflated 50%)\n",
            "  adding: content/cauli_disease-3/train/labels/cauli_201_jpg.rf.9eed13f8d720c365a21d8f2c3587e0ca.txt (deflated 42%)\n",
            "  adding: content/cauli_disease-3/train/labels/cauli_301_JPG.rf.35454a97a87c9941b5e5a6ebd65c0f6d.txt (deflated 68%)\n",
            "  adding: content/cauli_disease-3/train/labels/cauli_309_jpg.rf.a9a9bd736f54e1a12fc0ed2f3de91012.txt (deflated 44%)\n",
            "  adding: content/cauli_disease-3/train/labels/cauli_236_JPG.rf.3f6750741c7290b980aa1c5501396946.txt (deflated 41%)\n",
            "  adding: content/cauli_disease-3/train/labels/cauli_32_jpg.rf.550c379255e9cb4833f37b155c66c8cf.txt (deflated 23%)\n",
            "  adding: content/cauli_disease-3/train/labels/cauli_324_jpg.rf.bfb584379f1ecdd9a813d09d103f8f56.txt (deflated 34%)\n",
            "  adding: content/cauli_disease-3/train/labels/cauli_43_jpg.rf.98811c7227cad2e9eced55ab2db924d2.txt (deflated 56%)\n",
            "  adding: content/cauli_disease-3/train/labels/cauli_8_jpg.rf.f4e76eb0cf0c1afc49d7c9c27748f731.txt (deflated 28%)\n",
            "  adding: content/cauli_disease-3/train/labels/cauli_174_jpg.rf.175ef481752cabf89d560361a96f8936.txt (deflated 50%)\n",
            "  adding: content/cauli_disease-3/train/labels/cauli_112_jpg.rf.0fa88d9e8c0b55f0f6b7386e8bcaacc6.txt (deflated 61%)\n",
            "  adding: content/cauli_disease-3/train/labels/cauli_137_jpg.rf.dd389d7c95b4abf28a8383f07e3516bf.txt (deflated 42%)\n",
            "  adding: content/cauli_disease-3/train/labels/cauli_135_jpg.rf.753c3ae65df71e8620597943a0922a59.txt (deflated 47%)\n",
            "  adding: content/cauli_disease-3/train/labels/cauli_281_JPG.rf.2ba03af5fdda0759896b5cf61846d064.txt (deflated 46%)\n",
            "  adding: content/cauli_disease-3/train/labels/cauli_65_jpg.rf.4abb22f61bcd047b09ac7ee02d54216e.txt (deflated 48%)\n",
            "  adding: content/cauli_disease-3/train/labels/cauli_232_JPG.rf.55b24b57ff7724e01328649515d265f4.txt (deflated 29%)\n",
            "  adding: content/cauli_disease-3/train/labels/cauli_326_jpg.rf.6dcdd5cea98bf72571eb86847949ee60.txt (deflated 35%)\n",
            "  adding: content/cauli_disease-3/train/labels/cauli_63_jpg.rf.16b4807f2c5151fb79aacf265971370e.txt (deflated 46%)\n",
            "  adding: content/cauli_disease-3/train/labels/cauli_178_jpg.rf.dcc67c1a5a56376cfd905580db716300.txt (deflated 57%)\n",
            "  adding: content/cauli_disease-3/train/labels/cauli_74_jpg.rf.cc343487d5916a3bc233f4523f27de67.txt (deflated 42%)\n",
            "  adding: content/cauli_disease-3/train/labels/cauli_64_jpg.rf.90b5cd4a6039cb67fe542b67bbc127ee.txt (deflated 48%)\n",
            "  adding: content/cauli_disease-3/train/labels/cauli_198_jpg.rf.ba8c69581c659e55f277d6670b95fbd9.txt (deflated 48%)\n",
            "  adding: content/cauli_disease-3/train/labels/cauli_188_jpg.rf.a3b3fc5ed397009a9165cee23b5ac99f.txt (deflated 36%)\n",
            "  adding: content/cauli_disease-3/train/labels/cauli_229_jpg.rf.dedb262120289517b045063bc8dd361e.txt (deflated 45%)\n",
            "  adding: content/cauli_disease-3/train/labels/cauli_321_jpeg.rf.c74a21faf666d152ff66395e368497a4.txt (deflated 29%)\n",
            "  adding: content/cauli_disease-3/train/labels/cauli_11_jpg.rf.5c9c284d00b1e261f2849d5eb9704fec.txt (deflated 57%)\n",
            "  adding: content/cauli_disease-3/train/labels/cauli_117_jpg.rf.0bc265fc32c9f8690e03c539a2f8841d.txt (deflated 50%)\n",
            "  adding: content/cauli_disease-3/train/labels/cauli_183_jpg.rf.3f78dc74affeb33f422cdb67b27835d5.txt (deflated 43%)\n",
            "  adding: content/cauli_disease-3/train/labels/cauli_62_jpg.rf.55d2ea3f6396d6d3cbe2e83a60fa92f7.txt (deflated 46%)\n",
            "  adding: content/cauli_disease-3/train/labels/cauli_77_jpg.rf.1b4ded3b3d72b064e4197207b13df23a.txt (deflated 42%)\n",
            "  adding: content/cauli_disease-3/train/labels/cauli_172_jpg.rf.0ab033736b7c33bb553722f6fa936bf3.txt (deflated 48%)\n",
            "  adding: content/cauli_disease-3/train/labels/cauli_154_jpg.rf.120ded26a55fee59e4ecfbf58887cbfe.txt (deflated 64%)\n",
            "  adding: content/cauli_disease-3/train/labels/cauli_145_jpg.rf.ac4861df5cf218899a901c9f0741b488.txt (deflated 47%)\n",
            "  adding: content/cauli_disease-3/train/labels/cauli_99_jpg.rf.fb4dc0ace95ac27d18bb46f2c354e677.txt (deflated 43%)\n",
            "  adding: content/cauli_disease-3/train/labels/cauli_190_jpg.rf.e73e3166d3e78acd4f866867da202c04.txt (deflated 48%)\n",
            "  adding: content/cauli_disease-3/train/labels/cauli_111_jpg.rf.6b54a3bfc99202117eb332290e3fd77c.txt (deflated 52%)\n",
            "  adding: content/cauli_disease-3/train/labels/cauli_28_jpg.rf.76553bc5fd19ee30a14f02197cfc5a50.txt (deflated 42%)\n",
            "  adding: content/cauli_disease-3/train/labels/cauli_317_jpg.rf.d7c47f654672a3d443bde821c8812978.txt (deflated 50%)\n",
            "  adding: content/cauli_disease-3/train/labels/cauli_275_JPG.rf.9d8a68c12e6967200ed054bc48531cd5.txt (deflated 36%)\n",
            "  adding: content/cauli_disease-3/train/labels/cauli_11_jpg.rf.010f28719904ee8fddeb83639328a189.txt (deflated 50%)\n",
            "  adding: content/cauli_disease-3/train/labels/cauli_17_jpg.rf.7064e20843176fb8c0e68b8532cfea4c.txt (deflated 48%)\n",
            "  adding: content/cauli_disease-3/train/labels/cauli_44_jpg.rf.04a976646bb323cbf5582e4d86341276.txt (deflated 67%)\n",
            "  adding: content/cauli_disease-3/train/labels/cauli_132_jpg.rf.2c86f9731b1b20e107c777d8c7d76bd3.txt (deflated 51%)\n",
            "  adding: content/cauli_disease-3/train/labels/cauli_4_jpg.rf.4230c910a60e55afa80481b2377b36d4.txt (deflated 41%)\n",
            "  adding: content/cauli_disease-3/train/labels/cauli_269_JPG.rf.3f12aadc506fafed727446e32909e0d6.txt (deflated 48%)\n",
            "  adding: content/cauli_disease-3/train/labels/cauli_318_jpg.rf.d64df41b371569dfb3ba8ded6d3665a3.txt (deflated 48%)\n",
            "  adding: content/cauli_disease-3/train/labels/cauli_155_jpg.rf.2bdaa95d7d655976eaa5edc8c61eaf08.txt (deflated 33%)\n",
            "  adding: content/cauli_disease-3/train/labels/cauli_84_jpg.rf.29952fb2c83da6011da6f40d22e0d0b9.txt (deflated 35%)\n",
            "  adding: content/cauli_disease-3/train/labels/cauli_207_jpg.rf.4996bc27793982dc2c50b7d5de9ee404.txt (deflated 50%)\n",
            "  adding: content/cauli_disease-3/train/labels/cauli_23_jpg.rf.581e2339d3581f14b9d90022cf3caf13.txt (deflated 41%)\n",
            "  adding: content/cauli_disease-3/train/labels/cauli_52_jpg.rf.bb0ad1420a9575ae46432c4e0a00608b.txt (deflated 53%)\n",
            "  adding: content/cauli_disease-3/train/labels/cauli_164_jpg.rf.e6ecf12b803e5a016a4e9fe2c3cc3345.txt (deflated 53%)\n",
            "  adding: content/cauli_disease-3/train/labels/cauli_232_JPG.rf.7a7a7e7aa2b829b2ef1d416bce7423d4.txt (deflated 28%)\n",
            "  adding: content/cauli_disease-3/train/labels/cauli_298_JPG.rf.eed14a87ce5dc1b439cf644a21f8055c.txt (deflated 48%)\n",
            "  adding: content/cauli_disease-3/train/labels/cauli_19_jpg.rf.9764d1adbeeef6aa8dc8b1d9cf6913f3.txt (deflated 50%)\n",
            "  adding: content/cauli_disease-3/train/labels/cauli_84_jpg.rf.4056c16113905ee042247f58acb3f37b.txt (deflated 42%)\n",
            "  adding: content/cauli_disease-3/train/labels/cauli_125_jpg.rf.bb64c271376dc7248b9efee01430ad9f.txt (deflated 51%)\n",
            "  adding: content/cauli_disease-3/train/labels/cauli_149_jpg.rf.328b34c23797fe010fff8c83dafd45b8.txt (deflated 60%)\n",
            "  adding: content/cauli_disease-3/train/labels/cauli_324_jpg.rf.59046320889ae23cd12a0c0fe414fa8f.txt (deflated 31%)\n",
            "  adding: content/cauli_disease-3/train/labels/cauli_186_jpg.rf.2828d0cd68b63128afbaa02e30d6703f.txt (deflated 21%)\n",
            "  adding: content/cauli_disease-3/train/labels/cauli_145_jpg.rf.3c768c2e95e11188671651fde12f2a6f.txt (deflated 49%)\n",
            "  adding: content/cauli_disease-3/train/labels/cauli_167_jpg.rf.0bf384edd64a034bda14478e0ae005fd.txt (deflated 50%)\n",
            "  adding: content/cauli_disease-3/train/labels/cauli_232_JPG.rf.9a204a0517bb71c32143199d5363532d.txt (deflated 23%)\n",
            "  adding: content/cauli_disease-3/train/labels/cauli_126_jpg.rf.c9a1db0d9e3301bde322963c36c6b2da.txt (deflated 46%)\n",
            "  adding: content/cauli_disease-3/train/labels/cauli_231_jpg.rf.ab45dc5aebbff5e90dcca0c13e2c6a74.txt (deflated 49%)\n",
            "  adding: content/cauli_disease-3/train/labels/cauli_304_JPG.rf.1d5083735fd2f22be82b12cd247d5ad1.txt (deflated 58%)\n",
            "  adding: content/cauli_disease-3/train/labels/cauli_140_jpg.rf.72a9193f4a2ee41e0889478077e6af8f.txt (deflated 52%)\n",
            "  adding: content/cauli_disease-3/train/labels/cauli_79_jpg.rf.91b215daa5966e925cf846e495bce2e7.txt (deflated 21%)\n",
            "  adding: content/cauli_disease-3/train/labels/cauli_192_jpg.rf.6371f0ffe15252fd7e990fbab195b318.txt (deflated 50%)\n",
            "  adding: content/cauli_disease-3/train/labels/cauli_95_jpg.rf.23feb9448b8bca8ac2d51703f3f2c590.txt (deflated 46%)\n",
            "  adding: content/cauli_disease-3/train/labels/cauli_8_jpg.rf.7306fe49cf0364a37f7311bc2f786647.txt (deflated 30%)\n",
            "  adding: content/cauli_disease-3/train/labels/cauli_241_JPG.rf.13e186106d67f0b49ad04789810f6cb6.txt (deflated 36%)\n",
            "  adding: content/cauli_disease-3/train/labels/cauli_72_jpg.rf.99e62228239685f9a74265ca5e25f4e3.txt (deflated 55%)\n",
            "  adding: content/cauli_disease-3/train/labels/cauli_101_jpg.rf.025aa5e9a3927e182d15933489b8490e.txt (deflated 42%)\n",
            "  adding: content/cauli_disease-3/train/labels/cauli_234_JPG.rf.43546d4e300cb8b5756293b5e3d47eb0.txt (deflated 15%)\n",
            "  adding: content/cauli_disease-3/train/labels/cauli_260_JPG.rf.ddbb4e3a622ad34a94e17df3be2f3b47.txt (deflated 51%)\n",
            "  adding: content/cauli_disease-3/train/labels/cauli_278_JPG.rf.ebd29471842100cd03f918adbd5db5c5.txt (deflated 48%)\n",
            "  adding: content/cauli_disease-3/train/labels/cauli_280_JPG.rf.72520ee66d0718ee06fce11a281fd1e6.txt (deflated 49%)\n",
            "  adding: content/cauli_disease-3/train/labels/cauli_271_JPG.rf.ea649d9194da00c84545b8c3341819cf.txt (deflated 33%)\n",
            "  adding: content/cauli_disease-3/train/labels/cauli_24_jpg.rf.b07e3bb21069b9fe7ca2f74f7e1af4b9.txt (deflated 49%)\n",
            "  adding: content/cauli_disease-3/train/labels/cauli_85_jpg.rf.c50f2bf315ae9233db50b6d4fa252236.txt (deflated 32%)\n",
            "  adding: content/cauli_disease-3/train/labels/cauli_187_jpg.rf.5e0bf23808565441498ddf80d421228e.txt (deflated 50%)\n",
            "  adding: content/cauli_disease-3/train/labels/cauli_21_jpg.rf.85098ebb231784f89f56207b02e118f8.txt (deflated 44%)\n",
            "  adding: content/cauli_disease-3/train/labels/cauli_195_jpg.rf.fff6e54e5975db11b42304677a4f7dc8.txt (deflated 48%)\n",
            "  adding: content/cauli_disease-3/train/labels/cauli_290_JPG.rf.23e104155cfdb514672cf8c87abc377f.txt (deflated 35%)\n",
            "  adding: content/cauli_disease-3/train/labels/cauli_256_JPG.rf.32c0c666bc201ef8519b913df2deed31.txt (deflated 30%)\n",
            "  adding: content/cauli_disease-3/train/labels/cauli_77_jpg.rf.6eb65eff328fa5d5c6b48d90bc231db2.txt (deflated 41%)\n",
            "  adding: content/cauli_disease-3/train/labels/cauli_145_jpg.rf.ea8cf903aa0793644f7ad81bf81c2731.txt (deflated 57%)\n",
            "  adding: content/cauli_disease-3/train/labels/cauli_317_jpg.rf.121e4311f2c2696a57be38734a428b6b.txt (deflated 49%)\n",
            "  adding: content/cauli_disease-3/train/labels/cauli_78_jpg.rf.aaf74080062e0bf77b856820a828220d.txt (deflated 33%)\n",
            "  adding: content/cauli_disease-3/train/labels/cauli_176_jpg.rf.3deea5017b019e06a3af0793f9e3c0de.txt (deflated 44%)\n",
            "  adding: content/cauli_disease-3/train/labels/cauli_221_jpg.rf.6a6ffd15c736f1a6cfe16e5964377520.txt (deflated 47%)\n",
            "  adding: content/cauli_disease-3/train/labels/cauli_92_jpg.rf.5ff9f8f1220e362484423c0805bdad07.txt (deflated 55%)\n",
            "  adding: content/cauli_disease-3/train/labels/cauli_230_jpg.rf.1d5bf6d98759648633f9ab86f7db1529.txt (deflated 43%)\n",
            "  adding: content/cauli_disease-3/train/labels/cauli_55_jpg.rf.dd81e36ef51cd3bef51bf9f4a81b4309.txt (deflated 48%)\n",
            "  adding: content/cauli_disease-3/train/labels/cauli_1_jpg.rf.c05c6abe4e3208336e1ebe12784cbb86.txt (deflated 41%)\n",
            "  adding: content/cauli_disease-3/train/labels/cauli_318_jpg.rf.84660b19c27cf2ba0b891af1fb8f5023.txt (deflated 48%)\n",
            "  adding: content/cauli_disease-3/train/labels/cauli_199_jpg.rf.854672f7fc18a142a39aa385de5ba370.txt (deflated 52%)\n",
            "  adding: content/cauli_disease-3/train/labels/cauli_13_jpg.rf.966080dfacb1fb042b5e780da69d744b.txt (deflated 64%)\n",
            "  adding: content/cauli_disease-3/train/labels/cauli_291_JPG.rf.40f196628f79d2771e72086b7f8e759e.txt (deflated 50%)\n",
            "  adding: content/cauli_disease-3/train/labels/cauli_40_jpg.rf.9ac584f026e9ccb3ba749ffba0b39916.txt (deflated 29%)\n",
            "  adding: content/cauli_disease-3/train/labels/cauli_151_jpg.rf.5fe7033e38ef9b75a5458ad49c508940.txt (deflated 49%)\n",
            "  adding: content/cauli_disease-3/train/labels/cauli_97_jpg.rf.0a142a41b7bc89364c110b53941cb42e.txt (deflated 52%)\n",
            "  adding: content/cauli_disease-3/train/labels/cauli_225_jpg.rf.4cdbec2a6c9f5bc8336f6a6d9138c98e.txt (deflated 56%)\n",
            "  adding: content/cauli_disease-3/train/labels/cauli_129_jpg.rf.a330e6edb9431e6f2176267551eae34b.txt (deflated 55%)\n",
            "  adding: content/cauli_disease-3/train/labels/cauli_23_jpg.rf.86566038aea7783174727f6d03fb585f.txt (deflated 37%)\n",
            "  adding: content/cauli_disease-3/train/labels/cauli_143_jpg.rf.7de5482e8a8a61c85d759a0be7783995.txt (deflated 56%)\n",
            "  adding: content/cauli_disease-3/train/labels/cauli_36_jpg.rf.e565e8f39710c949e703bc3ad3b238bc.txt (deflated 20%)\n",
            "  adding: content/cauli_disease-3/train/labels/cauli_225_jpg.rf.84738bc886c63bacff2fe87146ccb12c.txt (deflated 48%)\n",
            "  adding: content/cauli_disease-3/train/labels/cauli_217_jpg.rf.19ded00dc404a38583f40e891beb0f38.txt (deflated 41%)\n",
            "  adding: content/cauli_disease-3/train/labels/cauli_180_jpg.rf.6ffb9e4da78d87e1fcc63dc400b0fed3.txt (deflated 60%)\n",
            "  adding: content/cauli_disease-3/train/labels/cauli_39_jpg.rf.865b8b9a888d4ec1bc214cc2c6d52a3b.txt (deflated 29%)\n",
            "  adding: content/cauli_disease-3/train/labels/cauli_111_jpg.rf.9cb7212306295051c1f2f9a70aad4615.txt (deflated 61%)\n",
            "  adding: content/cauli_disease-3/train/labels/cauli_226_jpg.rf.d30a493f21266bdf0e8418b5d8e26084.txt (deflated 41%)\n",
            "  adding: content/cauli_disease-3/train/labels/cauli_122_jpg.rf.42c9abaad25a63c2a765981b372558b9.txt (deflated 40%)\n",
            "  adding: content/cauli_disease-3/train/labels/cauli_281_JPG.rf.a6ede264fa0502518bd010314e9932e4.txt (deflated 41%)\n",
            "  adding: content/cauli_disease-3/train/labels/cauli_15_jpg.rf.919265bd82e1be3d2d14c7ff3c65889a.txt (deflated 51%)\n",
            "  adding: content/cauli_disease-3/train/labels/cauli_190_jpg.rf.ef2c9b8e50768e0736772364c2fcd7c8.txt (deflated 50%)\n",
            "  adding: content/cauli_disease-3/train/labels/cauli_315_jpg.rf.0fd00af60e196fc951289342cc39509f.txt (deflated 46%)\n",
            "  adding: content/cauli_disease-3/train/labels/cauli_178_jpg.rf.0bf56249c5bf4a6eb5fd706ab71b8d86.txt (deflated 49%)\n",
            "  adding: content/cauli_disease-3/train/labels/cauli_82_jpg.rf.624cd49c26657383e5b958a1dca1243a.txt (deflated 22%)\n",
            "  adding: content/cauli_disease-3/train/labels/cauli_126_jpg.rf.efde1df41e5bdbfbd37bb71e63248bbe.txt (deflated 45%)\n",
            "  adding: content/cauli_disease-3/train/labels/cauli_123_jpg.rf.3cdfa774fed395e587e0ea83f835fce6.txt (deflated 48%)\n",
            "  adding: content/cauli_disease-3/train/labels/cauli_231_jpg.rf.fda6b270fbda5d09cf8a3d5d0a23ac98.txt (deflated 52%)\n",
            "  adding: content/cauli_disease-3/train/labels/cauli_142_jpg.rf.06fecf17f4ed2f9e9c9e43c535a5ffd5.txt (deflated 48%)\n",
            "  adding: content/cauli_disease-3/train/labels/cauli_23_jpg.rf.dcf409a1988b6c886e4a8d912ec39f54.txt (deflated 40%)\n",
            "  adding: content/cauli_disease-3/train/labels/cauli_183_jpg.rf.3fa38f82e5817707ba305e9cdda5b477.txt (deflated 41%)\n",
            "  adding: content/cauli_disease-3/train/labels/cauli_276_JPG.rf.9b8080ae1e1d61e7a2063e9fe8f91651.txt (deflated 45%)\n",
            "  adding: content/cauli_disease-3/train/labels/cauli_87_jpg.rf.c3e5f1e98848dab61fffdf3ee8859172.txt (deflated 66%)\n",
            "  adding: content/cauli_disease-3/train/labels/cauli_179_jpg.rf.5a71fde8b682418615a2f9f84d2eec7d.txt (deflated 47%)\n",
            "  adding: content/cauli_disease-3/train/labels/cauli_54_jpg.rf.4381219d533f879cc1b4b026e36ea825.txt (deflated 52%)\n",
            "  adding: content/cauli_disease-3/train/labels/cauli_133_jpg.rf.3da1976193308bca65bf971ecfe64396.txt (deflated 47%)\n",
            "  adding: content/cauli_disease-3/train/labels/cauli_30_jpg.rf.d007c461bc2e6ccd7881e990c5578de8.txt (deflated 31%)\n",
            "  adding: content/cauli_disease-3/train/labels/cauli_203_jpg.rf.9196ba491a5d7fea1aae01ea57d014d3.txt (deflated 50%)\n",
            "  adding: content/cauli_disease-3/train/labels/cauli_4_jpg.rf.298ec1f853810a906854a0763601ce68.txt (deflated 43%)\n",
            "  adding: content/cauli_disease-3/train/labels/cauli_169_jpg.rf.33558163f9e1d0c82a7cfa6bd773fc35.txt (deflated 65%)\n",
            "  adding: content/cauli_disease-3/train/labels/cauli_224_jpg.rf.61c0b9aa1792482645c74b40b6cbcc3f.txt (deflated 32%)\n",
            "  adding: content/cauli_disease-3/train/labels/cauli_289_JPG.rf.249a6203c7459837a04d45f9ea0d34d8.txt (deflated 50%)\n",
            "  adding: content/cauli_disease-3/train/labels/cauli_230_jpg.rf.3368b15bc7e0f5fcdafcb0d42b34b95b.txt (deflated 33%)\n",
            "  adding: content/cauli_disease-3/train/labels/cauli_311_jpg.rf.9a2fbe23b5e6d350611c8de852e8ce86.txt (deflated 40%)\n",
            "  adding: content/cauli_disease-3/train/labels/cauli_169_jpg.rf.b95c5570ad820819211249c13766f2e0.txt (deflated 52%)\n",
            "  adding: content/cauli_disease-3/train/labels/cauli_278_JPG.rf.a55242c744c4e23b194684e0c1335c14.txt (deflated 53%)\n",
            "  adding: content/cauli_disease-3/train/labels/cauli_264_JPG.rf.6fe4afdb6ed297f59b3d58f672615b36.txt (deflated 52%)\n",
            "  adding: content/cauli_disease-3/train/labels/cauli_58_jpg.rf.45359fae70d377f560226edf6f4ee459.txt (deflated 49%)\n",
            "  adding: content/cauli_disease-3/train/labels/cauli_93_jpg.rf.db8b298f629b955da0b64870fdcfbe5b.txt (deflated 46%)\n",
            "  adding: content/cauli_disease-3/train/labels/cauli_89_jpg.rf.580a08ad5e6440839a0189d5236dc1c0.txt (deflated 68%)\n",
            "  adding: content/cauli_disease-3/train/labels/cauli_144_jpg.rf.06ade2c0befdfc7f0aa0ee3d80f7cc99.txt (deflated 58%)\n",
            "  adding: content/cauli_disease-3/train/labels/cauli_172_jpg.rf.93265f68b70e9bbec3d15ac4f081867d.txt (deflated 50%)\n",
            "  adding: content/cauli_disease-3/train/labels/cauli_123_jpg.rf.2501500903db2fa56e771ede739d8926.txt (deflated 48%)\n",
            "  adding: content/cauli_disease-3/train/labels/cauli_160_jpg.rf.ac511fc3d5ee0195024bf1897b8ddc31.txt (deflated 51%)\n",
            "  adding: content/cauli_disease-3/train/labels/cauli_65_jpg.rf.ca624751f961b3d666fd6960b6a9e71a.txt (deflated 54%)\n",
            "  adding: content/cauli_disease-3/train/labels/cauli_73_jpg.rf.1020a625ad1bfa754cfd348c4b957703.txt (deflated 47%)\n",
            "  adding: content/cauli_disease-3/train/labels/cauli_105_jpg.rf.5263f44cf331bcd7c4f359458d6e1936.txt (deflated 55%)\n",
            "  adding: content/cauli_disease-3/train/labels/cauli_191_jpg.rf.891ad2ff1354437386552920cceb4f18.txt (deflated 49%)\n",
            "  adding: content/cauli_disease-3/train/labels/cauli_233_JPG.rf.432337f5277ef805004cd39653432a78.txt (deflated 21%)\n",
            "  adding: content/cauli_disease-3/train/labels/cauli_104_jpg.rf.128d4d6fcfb0dc530db18c99182f959c.txt (deflated 50%)\n",
            "  adding: content/cauli_disease-3/train/labels/cauli_49_jpg.rf.ea35d44cf31b38bdc5c1e8a085b9e8dc.txt (deflated 53%)\n",
            "  adding: content/cauli_disease-3/train/labels/cauli_182_jpg.rf.8a00e34461c47793fd78a1ea1bf5233c.txt (deflated 51%)\n",
            "  adding: content/cauli_disease-3/train/labels/cauli_265_JPG.rf.a0d1aa4d84d1b12eca6f9b625d957d4d.txt (deflated 59%)\n",
            "  adding: content/cauli_disease-3/train/labels/cauli_16_jpg.rf.ff48f3a36111c1bcdd8548e0954bd9ce.txt (deflated 51%)\n",
            "  adding: content/cauli_disease-3/train/labels/cauli_120_jpg.rf.fc95eb20d49489e2be8baf43e82d6145.txt (deflated 45%)\n",
            "  adding: content/cauli_disease-3/train/labels/cauli_78_jpg.rf.6d129fb5368aeb4424839fe972549c0b.txt (deflated 41%)\n",
            "  adding: content/cauli_disease-3/train/labels/cauli_3_jpg.rf.4ffea97e21c9f2a00f0ccc5cc4b63b79.txt (deflated 54%)\n",
            "  adding: content/cauli_disease-3/train/labels/cauli_226_jpg.rf.a1c9978537c070de3b68a41ffec7193c.txt (deflated 41%)\n",
            "  adding: content/cauli_disease-3/train/labels/cauli_269_JPG.rf.c77c82bd7f1967fc9a3c489269140bef.txt (deflated 48%)\n",
            "  adding: content/cauli_disease-3/train/labels/cauli_306_jpeg.rf.33d6494489f74e0c61420a524761c559.txt (deflated 31%)\n",
            "  adding: content/cauli_disease-3/train/labels/cauli_7_jpg.rf.5935901694c09e78c97f56ce0b7c0262.txt (deflated 44%)\n",
            "  adding: content/cauli_disease-3/train/labels/cauli_324_jpg.rf.737d939d5b620ac027ed46e137ff09c2.txt (deflated 42%)\n",
            "  adding: content/cauli_disease-3/train/labels/cauli_22_jpg.rf.cb7e0feb3566f0a123516a9bc9fcb3f4.txt (deflated 41%)\n",
            "  adding: content/cauli_disease-3/train/labels/cauli_36_jpg.rf.c4b0a23b2f9bc286101b05d570176f6f.txt (deflated 28%)\n",
            "  adding: content/cauli_disease-3/train/labels/cauli_2_jpg.rf.42ccf94101e64b9e961b0e864e8d0998.txt (deflated 31%)\n",
            "  adding: content/cauli_disease-3/train/labels/cauli_208_jpg.rf.fc02a67f17211cbaba23ea67cf5742d8.txt (deflated 46%)\n",
            "  adding: content/cauli_disease-3/train/labels/cauli_79_jpg.rf.df88909b19462051db3968f69c96c2ae.txt (deflated 32%)\n",
            "  adding: content/cauli_disease-3/train/labels/cauli_275_JPG.rf.c1d8398e6bd7fd0410977f2f1c63132a.txt (deflated 25%)\n",
            "  adding: content/cauli_disease-3/train/labels/cauli_128_jpg.rf.18da03ddd3ea9bcf1f00bd8c6418b0ef.txt (deflated 48%)\n",
            "  adding: content/cauli_disease-3/train/labels/cauli_46_jpg.rf.4ca0562a6f9a5779ab14f403b60af215.txt (deflated 57%)\n",
            "  adding: content/cauli_disease-3/train/labels/cauli_135_jpg.rf.0792c2a76e7f2ed0651efb86986b94d0.txt (deflated 51%)\n",
            "  adding: content/cauli_disease-3/train/labels/cauli_271_JPG.rf.ccca7be97c364754d025fac0789931b0.txt (deflated 37%)\n",
            "  adding: content/cauli_disease-3/train/labels/cauli_13_jpg.rf.2cd20a7da9f639685c22feecebdae3ac.txt (deflated 52%)\n",
            "  adding: content/cauli_disease-3/train/labels/cauli_97_jpg.rf.37bd4b878fabc212ff667f47c6d13d1d.txt (deflated 48%)\n",
            "  adding: content/cauli_disease-3/train/labels/cauli_265_JPG.rf.ec50ac18a7daf02b532266b8faad8d4c.txt (deflated 49%)\n",
            "  adding: content/cauli_disease-3/train/labels/cauli_280_JPG.rf.64da9cd63425a7bf62dcf46532423dd1.txt (deflated 49%)\n",
            "  adding: content/cauli_disease-3/train/labels/cauli_181_jpg.rf.35ac32b9056a0a93e646ee2a71c0c0ba.txt (deflated 51%)\n",
            "  adding: content/cauli_disease-3/train/labels/cauli_291_JPG.rf.96719b47cbf21f39c42bedeeced5aa5e.txt (deflated 54%)\n",
            "  adding: content/cauli_disease-3/train/labels/cauli_164_jpg.rf.f748cf7005741b59b451efd837ec70e3.txt (deflated 49%)\n",
            "  adding: content/cauli_disease-3/train/labels/cauli_303_JPG.rf.ae66ee505c81b8568ea7e000cdbd4e50.txt (deflated 50%)\n",
            "  adding: content/cauli_disease-3/train/labels/cauli_226_jpg.rf.381fe8ff4e5091f7395a669d4e2f2bfc.txt (deflated 31%)\n",
            "  adding: content/cauli_disease-3/train/labels/cauli_208_jpg.rf.e82afad3877de1e29bd946c6b24519c2.txt (deflated 46%)\n",
            "  adding: content/cauli_disease-3/train/labels/cauli_119_jpg.rf.3adea6e398989a7c47a0499b8e9f8a34.txt (deflated 64%)\n",
            "  adding: content/cauli_disease-3/train/labels/cauli_93_jpg.rf.e904d0c95fa37913ebd3fdfc4fd576d6.txt (deflated 45%)\n",
            "  adding: content/cauli_disease-3/train/labels/cauli_323_jpeg.rf.c4f55b90afedbf3af6b34262d15e8f85.txt (deflated 45%)\n",
            "  adding: content/cauli_disease-3/train/labels/cauli_204_jpg.rf.eb6cf074492eea2e08535fbe63981107.txt (deflated 30%)\n",
            "  adding: content/cauli_disease-3/train/labels/cauli_129_jpg.rf.48fe5e37d2c29e990de75309064a770c.txt (deflated 49%)\n",
            "  adding: content/cauli_disease-3/train/labels/cauli_15_jpg.rf.8bac1391e5a1bba21def09c420d2a8a8.txt (deflated 48%)\n",
            "  adding: content/cauli_disease-3/train/labels/cauli_219_jpg.rf.6c4345fcbe6cf7d30efbd7f4bb7a6681.txt (deflated 59%)\n",
            "  adding: content/cauli_disease-3/train/labels/cauli_216_jpg.rf.a29ab59770711a62991efd9e9547dc4a.txt (deflated 27%)\n",
            "  adding: content/cauli_disease-3/train/labels/cauli_26_jpg.rf.0fd69928e3b958386cfba7d3ae5d6d5b.txt (deflated 19%)\n",
            "  adding: content/cauli_disease-3/train/labels/cauli_87_jpg.rf.e9334e0ba86891b6f45fdbcc0ca8abf8.txt (deflated 52%)\n",
            "  adding: content/cauli_disease-3/train/labels/cauli_142_jpg.rf.488caecffeab286fee517cf804db3dfe.txt (deflated 53%)\n",
            "  adding: content/cauli_disease-3/train/labels/cauli_279_JPG.rf.351b473fb9cd46f524c766d87b4b3ab9.txt (deflated 49%)\n",
            "  adding: content/cauli_disease-3/train/labels/cauli_250_JPG.rf.6d75e53fd273ca8cc97785631e81365d.txt (deflated 17%)\n",
            "  adding: content/cauli_disease-3/train/labels/cauli_111_jpg.rf.d3ad5229b20c985fe5a0b8433dee2a6e.txt (deflated 51%)\n",
            "  adding: content/cauli_disease-3/train/labels/cauli_73_jpg.rf.95967547b7848e2aa6ef77c8903ff76a.txt (deflated 50%)\n",
            "  adding: content/cauli_disease-3/train/labels/cauli_18_jpg.rf.39452cea7b85968b4199a07d410eb061.txt (deflated 53%)\n",
            "  adding: content/cauli_disease-3/train/labels/cauli_3_jpg.rf.60cc9f9077b44dcf68281d2d9b045a22.txt (deflated 69%)\n",
            "  adding: content/cauli_disease-3/train/labels/cauli_55_jpg.rf.816d80c06ca171432a15fde27495445d.txt (deflated 52%)\n",
            "  adding: content/cauli_disease-3/train/labels/cauli_200_jpg.rf.d62ba65067b1a46b4eba277d79b605ed.txt (deflated 37%)\n",
            "  adding: content/cauli_disease-3/train/labels/cauli_204_jpg.rf.129dea77bc4c3a1b3d2b447719254a80.txt (deflated 18%)\n",
            "  adding: content/cauli_disease-3/train/labels/cauli_314_jpg.rf.ccde916f5727f59ad644f6eaf5b8bd42.txt (deflated 51%)\n",
            "  adding: content/cauli_disease-3/train/labels/cauli_266_JPG.rf.659d2b4b685162a544766f1d25e3bbcb.txt (deflated 51%)\n",
            "  adding: content/cauli_disease-3/train/labels/cauli_122_jpg.rf.40cb4f2a740834c2e9e07a6673fe7012.txt (deflated 41%)\n",
            "  adding: content/cauli_disease-3/train/labels/cauli_329_jpg.rf.581b034ce0b6ed8d6797fb0110206157.txt (deflated 48%)\n",
            "  adding: content/cauli_disease-3/train/labels/cauli_85_jpg.rf.0d78153768c76e8a96c3827c1cd31cd4.txt (deflated 41%)\n",
            "  adding: content/cauli_disease-3/train/labels/cauli_14_jpg.rf.550b37b49895095b73daf7101b5952d6.txt (deflated 50%)\n",
            "  adding: content/cauli_disease-3/train/labels/cauli_293_JPG.rf.3dfeecd8d3258f6b2d7bd6f9b2c7f4e2.txt (deflated 51%)\n",
            "  adding: content/cauli_disease-3/train/labels/cauli_45_jpg.rf.baf2ec51bc10525cfd0a16af2f09bbe8.txt (deflated 56%)\n",
            "  adding: content/cauli_disease-3/train/labels/cauli_239_JPG.rf.318202155b1813b8180d1a082f7a7baf.txt (deflated 28%)\n",
            "  adding: content/cauli_disease-3/train/labels/cauli_136_jpg.rf.c92be112bd110b53fe9816b53edb4191.txt (deflated 46%)\n",
            "  adding: content/cauli_disease-3/train/labels/cauli_252_JPG.rf.dd7571ea014aa3aae73c1fd8a244c017.txt (deflated 27%)\n",
            "  adding: content/cauli_disease-3/train/labels/cauli_242_JPG.rf.60fa216585195b8e8dfa713dc5d9e63c.txt (deflated 46%)\n",
            "  adding: content/cauli_disease-3/train/labels/cauli_144_jpg.rf.3b9f8bee0de5794cea0ac0e1b69ef205.txt (deflated 51%)\n",
            "  adding: content/cauli_disease-3/train/labels/cauli_204_jpg.rf.2cc73275ebb6b284dd8a3621fa037fe4.txt (deflated 29%)\n",
            "  adding: content/cauli_disease-3/train/labels/cauli_151_jpg.rf.f732e58df9e59a211997e9c6b0ee049f.txt (deflated 50%)\n",
            "  adding: content/cauli_disease-3/train/labels/cauli_245_JPG.rf.7c914c1d6986dcbd0c580d97c603dcaa.txt (deflated 44%)\n",
            "  adding: content/cauli_disease-3/train/labels/cauli_149_jpg.rf.1772890c9d68665c8593b94064a29b1f.txt (deflated 50%)\n",
            "  adding: content/cauli_disease-3/train/labels/cauli_265_JPG.rf.35ed3ffa3cc78bff0892631a6f2bed36.txt (deflated 50%)\n",
            "  adding: content/cauli_disease-3/train/labels/cauli_186_jpg.rf.f21f4e29991cdfb3290959c66efeb951.txt (deflated 28%)\n",
            "  adding: content/cauli_disease-3/train/labels/cauli_50_jpg.rf.7fd70714c24f21ce4b3b806955adcda5.txt (deflated 52%)\n",
            "  adding: content/cauli_disease-3/train/labels/cauli_16_jpg.rf.c244381bfce0270e83f1c9cd0cc72829.txt (deflated 62%)\n",
            "  adding: content/cauli_disease-3/train/labels/cauli_189_jpg.rf.18759c4875f7bf8050614070faa25bdd.txt (deflated 42%)\n",
            "  adding: content/cauli_disease-3/train/labels/cauli_150_jpg.rf.3ed1f5f6d180346ba00c1a5cc1ab0749.txt (deflated 55%)\n",
            "  adding: content/cauli_disease-3/train/labels/cauli_325_jpeg.rf.7c989de5d3252ef884567524b734fec8.txt (deflated 48%)\n",
            "  adding: content/cauli_disease-3/train/labels/cauli_171_jpg.rf.e25e309c981aa0766b958f46ee39768e.txt (deflated 51%)\n",
            "  adding: content/cauli_disease-3/train/labels/cauli_133_jpg.rf.30d6f6de7bea0fb5a6f952eb3772bf16.txt (deflated 48%)\n",
            "  adding: content/cauli_disease-3/train/labels/cauli_320_jpg.rf.6a1bcbbe6b82f658bdfdd7ad2c2ecc02.txt (deflated 46%)\n",
            "  adding: content/cauli_disease-3/train/labels/cauli_155_jpg.rf.3fd1ce412842657d92de3f85096a11e2.txt (deflated 30%)\n",
            "  adding: content/cauli_disease-3/train/labels/cauli_234_JPG.rf.f32e2a47996b87837a29a573ea90a505.txt (deflated 29%)\n",
            "  adding: content/cauli_disease-3/train/labels/cauli_34_jpg.rf.f362e39f520ba638ed555d3c615a0702.txt (deflated 46%)\n",
            "  adding: content/cauli_disease-3/train/labels/cauli_282_JPG.rf.d721b42585e8629a36e123e38bf6a7f0.txt (deflated 32%)\n",
            "  adding: content/cauli_disease-3/train/labels/cauli_198_jpg.rf.bb61973b9cb71c63b88291b31d4eedd6.txt (deflated 48%)\n",
            "  adding: content/cauli_disease-3/train/labels/cauli_8_jpg.rf.86b9f965d1538f5a44912e62234520fb.txt (deflated 24%)\n",
            "  adding: content/cauli_disease-3/train/labels/cauli_15_jpg.rf.eb10781dbee2389a12660540b278a462.txt (deflated 48%)\n",
            "  adding: content/cauli_disease-3/train/labels/cauli_39_jpg.rf.ce56cc35000a62d5aad748f7c637a189.txt (deflated 17%)\n",
            "  adding: content/cauli_disease-3/train/labels/cauli_315_jpg.rf.1b5d43069c41029776b3517c5dbe0cd8.txt (deflated 43%)\n",
            "  adding: content/cauli_disease-3/train/labels/cauli_156_jpg.rf.8137794c4916fef7a2bf4833b897be34.txt (deflated 51%)\n",
            "  adding: content/cauli_disease-3/train/labels/cauli_298_JPG.rf.e6007e1dee0e312bdbaae9c822aa4c03.txt (deflated 51%)\n",
            "  adding: content/cauli_disease-3/train/labels/cauli_184_jpg.rf.4fceee313d20ddffd53d0807a97efd60.txt (deflated 52%)\n",
            "  adding: content/cauli_disease-3/train/labels/cauli_293_JPG.rf.bc776f542232cc53dcdfdcf40403e11d.txt (deflated 61%)\n",
            "  adding: content/cauli_disease-3/train/labels/cauli_294_JPG.rf.b5150409da647d87f2bce7b3170be12f.txt (deflated 51%)\n",
            "  adding: content/cauli_disease-3/train/labels/cauli_318_jpg.rf.ef839ca097f15225bff87cce9fe1eba5.txt (deflated 45%)\n",
            "  adding: content/cauli_disease-3/train/labels/cauli_201_jpg.rf.38fd28e2b14e099c1f4a7c16fe88ded6.txt (deflated 40%)\n",
            "  adding: content/cauli_disease-3/train/labels/cauli_258_JPG.rf.ff94ce3e6def3ce78463d532ae92d279.txt (deflated 30%)\n",
            "  adding: content/cauli_disease-3/train/labels/cauli_95_jpg.rf.de9efeb00b7f43f265273167f002637c.txt (deflated 46%)\n",
            "  adding: content/cauli_disease-3/train/labels/cauli_117_jpg.rf.ebc1e905b45a70c38d2f48f4a21606bd.txt (deflated 51%)\n",
            "  adding: content/cauli_disease-3/train/labels/cauli_118_jpg.rf.b2c64145385fd54f5e18779da77d8606.txt (deflated 45%)\n",
            "  adding: content/cauli_disease-3/train/labels/cauli_284_JPG.rf.87e8b33caf24656930d0eb2ec4c6d552.txt (deflated 47%)\n",
            "  adding: content/cauli_disease-3/train/labels/cauli_112_jpg.rf.a501c26e9cedc8bbc2d1ce4530cd27fb.txt (deflated 50%)\n",
            "  adding: content/cauli_disease-3/train/labels/cauli_240_JPG.rf.fc18f506b979bc5ae7f6250411c997e1.txt (deflated 30%)\n",
            "  adding: content/cauli_disease-3/train/labels/cauli_243_JPG.rf.5b8ef45b4f6e9300ee4fa60a192fad17.txt (deflated 45%)\n",
            "  adding: content/cauli_disease-3/train/labels/cauli_240_JPG.rf.df7719c09e0db0c70458d9590ebbfafa.txt (deflated 27%)\n",
            "  adding: content/cauli_disease-3/train/labels/cauli_131_jpg.rf.3b2b7be810a85305e4c3c6782a2a2c7b.txt (deflated 49%)\n",
            "  adding: content/cauli_disease-3/train/labels/cauli_294_JPG.rf.5af117af13a649e843d86c5c958c37de.txt (deflated 58%)\n",
            "  adding: content/cauli_disease-3/train/labels/cauli_268_JPG.rf.d2a6ac903183bcaaa34b49e2b44e6a4c.txt (deflated 41%)\n",
            "  adding: content/cauli_disease-3/train/labels/cauli_284_JPG.rf.78b00ebd88755097dbeae5326a16042f.txt (deflated 46%)\n",
            "  adding: content/cauli_disease-3/train/labels/cauli_94_jpg.rf.fa736fcaac64a329d9ba5b70cd9f758d.txt (deflated 44%)\n",
            "  adding: content/cauli_disease-3/train/labels/cauli_295_JPG.rf.9c57056c90fd4ea8d4d827f415749874.txt (deflated 49%)\n",
            "  adding: content/cauli_disease-3/train/labels/cauli_40_jpg.rf.80a0d793bc352762683d8b0245207be8.txt (deflated 26%)\n",
            "  adding: content/cauli_disease-3/train/labels/cauli_215_jpg.rf.42371bf6c6b2e3620d145072d1f411ed.txt (deflated 50%)\n",
            "  adding: content/cauli_disease-3/train/labels/cauli_1_jpg.rf.29ccbb6408bf91dfb3943e3e09a68bf4.txt (deflated 41%)\n",
            "  adding: content/cauli_disease-3/train/images/ (stored 0%)\n",
            "  adding: content/cauli_disease-3/train/images/cauli_173_jpg.rf.927f99170166832c93f689bed3063155.jpg (deflated 1%)\n",
            "  adding: content/cauli_disease-3/train/images/cauli_275_JPG.rf.c1d8398e6bd7fd0410977f2f1c63132a.jpg (deflated 0%)\n",
            "  adding: content/cauli_disease-3/train/images/cauli_233_JPG.rf.59695719782c3d6b3629d1e72eb377fd.jpg (deflated 1%)\n",
            "  adding: content/cauli_disease-3/train/images/cauli_325_jpeg.rf.1ba35ec4af5e7c8ffdc0ecda019372c5.jpg (deflated 0%)\n",
            "  adding: content/cauli_disease-3/train/images/cauli_188_jpg.rf.3076c9d82872412741c95f382fa295f6.jpg (deflated 0%)\n",
            "  adding: content/cauli_disease-3/train/images/cauli_322_jpeg.rf.5b36bcd91c1f3f018d6354aedb23a746.jpg (deflated 0%)\n",
            "  adding: content/cauli_disease-3/train/images/cauli_245_JPG.rf.40a7551e5ad422efee697003f63cdee0.jpg (deflated 0%)\n",
            "  adding: content/cauli_disease-3/train/images/cauli_34_jpg.rf.b30ef405dbf8ba87f613bf1e9fdd55a2.jpg (deflated 0%)\n",
            "  adding: content/cauli_disease-3/train/images/cauli_237_JPG.rf.a909691393a530a6615f13bceedd415b.jpg (deflated 1%)\n",
            "  adding: content/cauli_disease-3/train/images/cauli_196_jpg.rf.fa3175a03847ce8eae9bd6d67b676a4f.jpg (deflated 1%)\n",
            "  adding: content/cauli_disease-3/train/images/cauli_14_jpg.rf.550b37b49895095b73daf7101b5952d6.jpg (deflated 2%)\n",
            "  adding: content/cauli_disease-3/train/images/cauli_221_jpg.rf.6a6ffd15c736f1a6cfe16e5964377520.jpg (deflated 0%)\n",
            "  adding: content/cauli_disease-3/train/images/cauli_305_JPG.rf.a6cddea9a67e042e8e2608cf2b349547.jpg (deflated 1%)\n",
            "  adding: content/cauli_disease-3/train/images/cauli_108_jpg.rf.2f45b07f67a2c28afbdfc0d460334e41.jpg (deflated 1%)\n",
            "  adding: content/cauli_disease-3/train/images/cauli_230_jpg.rf.1d5bf6d98759648633f9ab86f7db1529.jpg (deflated 1%)\n",
            "  adding: content/cauli_disease-3/train/images/cauli_179_jpg.rf.d6f1f5e6b4234e87277ea238114250e2.jpg (deflated 1%)\n",
            "  adding: content/cauli_disease-3/train/images/cauli_16_jpg.rf.c244381bfce0270e83f1c9cd0cc72829.jpg (deflated 0%)\n",
            "  adding: content/cauli_disease-3/train/images/cauli_180_jpg.rf.346706bc77249a49e2594d42e79e017e.jpg (deflated 0%)\n",
            "  adding: content/cauli_disease-3/train/images/cauli_151_jpg.rf.5fe7033e38ef9b75a5458ad49c508940.jpg (deflated 0%)\n",
            "  adding: content/cauli_disease-3/train/images/cauli_211_jpg.rf.6c38887234e450915a392c31e42346a9.jpg (deflated 1%)\n",
            "  adding: content/cauli_disease-3/train/images/cauli_277_JPG.rf.2ae46e92d57d246002beac72a814ff57.jpg (deflated 1%)\n",
            "  adding: content/cauli_disease-3/train/images/cauli_219_jpg.rf.46e04097012fb9185d99c96d8020a431.jpg (deflated 1%)\n",
            "  adding: content/cauli_disease-3/train/images/cauli_270_JPG.rf.4733262c12d12d68b1dbd9527c90e7ed.jpg (deflated 1%)\n",
            "  adding: content/cauli_disease-3/train/images/cauli_49_jpg.rf.dfa997bd256fa15cb7553c718dfaeb77.jpg (deflated 1%)\n",
            "  adding: content/cauli_disease-3/train/images/cauli_244_JPG.rf.c78c17ff9b519789d7493d267ac7fa4b.jpg (deflated 2%)\n",
            "  adding: content/cauli_disease-3/train/images/cauli_105_jpg.rf.a349f57e765d1b01e23fd3bbde4b4338.jpg (deflated 1%)\n",
            "  adding: content/cauli_disease-3/train/images/cauli_211_jpg.rf.01ad24b62cd0da6c381e0e9f24ccd904.jpg (deflated 0%)\n",
            "  adding: content/cauli_disease-3/train/images/cauli_129_jpg.rf.c57e8141b288a7f277602ed2ec7f4a62.jpg (deflated 1%)\n",
            "  adding: content/cauli_disease-3/train/images/cauli_215_jpg.rf.5971bbf693d5ee56beb1f2f315e8557c.jpg (deflated 2%)\n",
            "  adding: content/cauli_disease-3/train/images/cauli_249_JPG.rf.8e6b4a0acc80bc39473439ef772812a5.jpg (deflated 0%)\n",
            "  adding: content/cauli_disease-3/train/images/cauli_211_jpg.rf.66b6e4df7abd6a9a98f6e69a5ad0d526.jpg (deflated 1%)\n",
            "  adding: content/cauli_disease-3/train/images/cauli_95_jpg.rf.5cd327cef415fad8152763dbec638241.jpg (deflated 0%)\n",
            "  adding: content/cauli_disease-3/train/images/cauli_261_JPG.rf.25fb0f72278e27809486d7573d466273.jpg (deflated 0%)\n",
            "  adding: content/cauli_disease-3/train/images/cauli_14_jpg.rf.fe1266951d57e94b2fb0d442620c26c6.jpg (deflated 0%)\n",
            "  adding: content/cauli_disease-3/train/images/cauli_22_jpg.rf.dceba6d3610f77859fb0a16395b4c16c.jpg (deflated 0%)\n",
            "  adding: content/cauli_disease-3/train/images/cauli_122_jpg.rf.76d63252f46c15282c52c9feb2f2d591.jpg (deflated 0%)\n",
            "  adding: content/cauli_disease-3/train/images/cauli_109_jpg.rf.e62409524ace08fa57712bcda5ec8c3b.jpg (deflated 2%)\n",
            "  adding: content/cauli_disease-3/train/images/cauli_303_JPG.rf.fd5022a22516ec82a6c9fbd36a173daf.jpg (deflated 0%)\n",
            "  adding: content/cauli_disease-3/train/images/cauli_317_jpg.rf.3e3a2c1658eafe7b69451e726c4b80a1.jpg (deflated 2%)\n",
            "  adding: content/cauli_disease-3/train/images/cauli_100_jpg.rf.ac73190f6646cfb0dcffdf5f8cae85ff.jpg (deflated 0%)\n",
            "  adding: content/cauli_disease-3/train/images/cauli_39_jpg.rf.ce56cc35000a62d5aad748f7c637a189.jpg (deflated 0%)\n",
            "  adding: content/cauli_disease-3/train/images/cauli_195_jpg.rf.fff6e54e5975db11b42304677a4f7dc8.jpg (deflated 1%)\n",
            "  adding: content/cauli_disease-3/train/images/cauli_62_jpg.rf.8d8140d171f4eb9cfd1d09371fa03917.jpg (deflated 0%)\n",
            "  adding: content/cauli_disease-3/train/images/cauli_49_jpg.rf.ea35d44cf31b38bdc5c1e8a085b9e8dc.jpg (deflated 2%)\n",
            "  adding: content/cauli_disease-3/train/images/cauli_315_jpg.rf.51ee2d94a991c367ef7b2007cd06af9c.jpg (deflated 1%)\n",
            "  adding: content/cauli_disease-3/train/images/cauli_1_jpg.rf.c05c6abe4e3208336e1ebe12784cbb86.jpg (deflated 1%)\n",
            "  adding: content/cauli_disease-3/train/images/cauli_295_JPG.rf.9c57056c90fd4ea8d4d827f415749874.jpg (deflated 1%)\n",
            "  adding: content/cauli_disease-3/train/images/cauli_34_jpg.rf.f362e39f520ba638ed555d3c615a0702.jpg (deflated 1%)\n",
            "  adding: content/cauli_disease-3/train/images/cauli_4_jpg.rf.298ec1f853810a906854a0763601ce68.jpg (deflated 0%)\n",
            "  adding: content/cauli_disease-3/train/images/cauli_222_jpg.rf.19bf26d7c2133af60e4d71e687a6bffc.jpg (deflated 0%)\n",
            "  adding: content/cauli_disease-3/train/images/cauli_210_jpg.rf.0fd34d734449c22b5fa1a404b4adc2fb.jpg (deflated 0%)\n",
            "  adding: content/cauli_disease-3/train/images/cauli_328_jpg.rf.7f10d42b1eae0a882d150aabb47deeb7.jpg (deflated 1%)\n",
            "  adding: content/cauli_disease-3/train/images/cauli_112_jpg.rf.0fa88d9e8c0b55f0f6b7386e8bcaacc6.jpg (deflated 0%)\n",
            "  adding: content/cauli_disease-3/train/images/cauli_186_jpg.rf.aa0df31be97de91a27a68f90433c5ef5.jpg (deflated 1%)\n",
            "  adding: content/cauli_disease-3/train/images/cauli_298_JPG.rf.eed14a87ce5dc1b439cf644a21f8055c.jpg (deflated 1%)\n",
            "  adding: content/cauli_disease-3/train/images/cauli_3_jpg.rf.60cc9f9077b44dcf68281d2d9b045a22.jpg (deflated 0%)\n",
            "  adding: content/cauli_disease-3/train/images/cauli_49_jpg.rf.2b9c22d1ccbb058fbd0f001a2581c81c.jpg (deflated 0%)\n",
            "  adding: content/cauli_disease-3/train/images/cauli_11_jpg.rf.5c9c284d00b1e261f2849d5eb9704fec.jpg (deflated 0%)\n",
            "  adding: content/cauli_disease-3/train/images/cauli_161_jpg.rf.19d6e6e4aa5bcb15efbf8f7bd3d723b1.jpg (deflated 0%)\n",
            "  adding: content/cauli_disease-3/train/images/cauli_6_jpg.rf.ad737bac87390b65d06443fd1e17ac03.jpg (deflated 1%)\n",
            "  adding: content/cauli_disease-3/train/images/cauli_236_JPG.rf.3f6750741c7290b980aa1c5501396946.jpg (deflated 1%)\n",
            "  adding: content/cauli_disease-3/train/images/cauli_264_JPG.rf.8d8116212c437bad0a5e47ece2e60346.jpg (deflated 1%)\n",
            "  adding: content/cauli_disease-3/train/images/cauli_77_jpg.rf.1b4ded3b3d72b064e4197207b13df23a.jpg (deflated 0%)\n",
            "  adding: content/cauli_disease-3/train/images/cauli_202_jpg.rf.6964d7174261c7dbe0ea8c1e6bf226d4.jpg (deflated 0%)\n",
            "  adding: content/cauli_disease-3/train/images/cauli_4_jpg.rf.4230c910a60e55afa80481b2377b36d4.jpg (deflated 0%)\n",
            "  adding: content/cauli_disease-3/train/images/cauli_198_jpg.rf.eee2a593db03c7f1b4bb1790e891a920.jpg (deflated 0%)\n",
            "  adding: content/cauli_disease-3/train/images/cauli_232_JPG.rf.7a7a7e7aa2b829b2ef1d416bce7423d4.jpg (deflated 1%)\n",
            "  adding: content/cauli_disease-3/train/images/cauli_200_jpg.rf.d62ba65067b1a46b4eba277d79b605ed.jpg (deflated 1%)\n",
            "  adding: content/cauli_disease-3/train/images/cauli_243_JPG.rf.7453b1c19691c1ea8fae251beaa06a1c.jpg (deflated 2%)\n",
            "  adding: content/cauli_disease-3/train/images/cauli_66_jpg.rf.bd0d0859666cb496fb151130d2758bbb.jpg (deflated 0%)\n",
            "  adding: content/cauli_disease-3/train/images/cauli_109_jpg.rf.7f4bbb7c0d4f335b40c898ad28f21757.jpg (deflated 0%)\n",
            "  adding: content/cauli_disease-3/train/images/cauli_41_jpg.rf.701996eabf3d5f04f8d4d232006671b3.jpg (deflated 1%)\n",
            "  adding: content/cauli_disease-3/train/images/cauli_115_jpg.rf.8138028a6b873e5a49929633b559d8f4.jpg (deflated 2%)\n",
            "  adding: content/cauli_disease-3/train/images/cauli_154_jpg.rf.120ded26a55fee59e4ecfbf58887cbfe.jpg (deflated 0%)\n",
            "  adding: content/cauli_disease-3/train/images/cauli_318_jpg.rf.84660b19c27cf2ba0b891af1fb8f5023.jpg (deflated 1%)\n",
            "  adding: content/cauli_disease-3/train/images/cauli_37_jpg.rf.a3c756dec832d805d333572f359c3fbd.jpg (deflated 0%)\n",
            "  adding: content/cauli_disease-3/train/images/cauli_174_jpg.rf.175ef481752cabf89d560361a96f8936.jpg (deflated 2%)\n",
            "  adding: content/cauli_disease-3/train/images/cauli_236_JPG.rf.5d70a49baa8eb304be05e1f91acce40a.jpg (deflated 0%)\n",
            "  adding: content/cauli_disease-3/train/images/cauli_98_jpg.rf.97d9deb0539077ade6489e2150ffb598.jpg (deflated 0%)\n",
            "  adding: content/cauli_disease-3/train/images/cauli_206_jpg.rf.1581f51630812e7164db9ecf0adeb481.jpg (deflated 0%)\n",
            "  adding: content/cauli_disease-3/train/images/cauli_205_jpg.rf.c0df986c71931d336e313ff92efe77fb.jpg (deflated 1%)\n",
            "  adding: content/cauli_disease-3/train/images/cauli_330_jpg.rf.27b6cd7bc7c0f062d91559d4c2674f35.jpg (deflated 1%)\n",
            "  adding: content/cauli_disease-3/train/images/cauli_142_jpg.rf.06fecf17f4ed2f9e9c9e43c535a5ffd5.jpg (deflated 1%)\n",
            "  adding: content/cauli_disease-3/train/images/cauli_262_JPG.rf.f1e782b9cda342db5823bb66dbc35677.jpg (deflated 0%)\n",
            "  adding: content/cauli_disease-3/train/images/cauli_132_jpg.rf.1993fc9d5038db4ca100220c87e6e039.jpg (deflated 1%)\n",
            "  adding: content/cauli_disease-3/train/images/cauli_56_jpg.rf.dd87a1b571c4f44e2cc6e76a458b8cfd.jpg (deflated 1%)\n",
            "  adding: content/cauli_disease-3/train/images/cauli_113_jpg.rf.c4a24631e81cb5365245bac272a6b651.jpg (deflated 1%)\n",
            "  adding: content/cauli_disease-3/train/images/cauli_268_JPG.rf.d2a6ac903183bcaaa34b49e2b44e6a4c.jpg (deflated 0%)\n",
            "  adding: content/cauli_disease-3/train/images/cauli_88_jpg.rf.172ac05effcf8988b92efd2eaa7d5398.jpg (deflated 1%)\n",
            "  adding: content/cauli_disease-3/train/images/cauli_108_jpg.rf.963af32227a5c1438f27bfb8135838ac.jpg (deflated 0%)\n",
            "  adding: content/cauli_disease-3/train/images/cauli_103_jpg.rf.39b3445b85b393346d64a0bd154da0d4.jpg (deflated 1%)\n",
            "  adding: content/cauli_disease-3/train/images/cauli_325_jpeg.rf.66315a77c873f495a109e2c2afa07abf.jpg (deflated 1%)\n",
            "  adding: content/cauli_disease-3/train/images/cauli_2_jpg.rf.e50b34e901d51cf20a94824f54590d8d.jpg (deflated 2%)\n",
            "  adding: content/cauli_disease-3/train/images/cauli_126_jpg.rf.efde1df41e5bdbfbd37bb71e63248bbe.jpg (deflated 0%)\n",
            "  adding: content/cauli_disease-3/train/images/cauli_140_jpg.rf.f966d0660fb221d1f9a4d4041180b1d1.jpg (deflated 0%)\n",
            "  adding: content/cauli_disease-3/train/images/cauli_249_JPG.rf.fdeb76a30a12786c1f71f51de67a915b.jpg (deflated 1%)\n",
            "  adding: content/cauli_disease-3/train/images/cauli_95_jpg.rf.23feb9448b8bca8ac2d51703f3f2c590.jpg (deflated 0%)\n",
            "  adding: content/cauli_disease-3/train/images/cauli_145_jpg.rf.ea8cf903aa0793644f7ad81bf81c2731.jpg (deflated 0%)\n",
            "  adding: content/cauli_disease-3/train/images/cauli_233_JPG.rf.735c7ff975f936975df5dc6a3cd46858.jpg (deflated 1%)\n",
            "  adding: content/cauli_disease-3/train/images/cauli_29_jpg.rf.134ea1fed2e49ffef4b09211cc19a9e0.jpg (deflated 0%)\n",
            "  adding: content/cauli_disease-3/train/images/cauli_37_jpg.rf.68bedc8b7aeeb64d0caee53f8025ab26.jpg (deflated 0%)\n",
            "  adding: content/cauli_disease-3/train/images/cauli_128_jpg.rf.18da03ddd3ea9bcf1f00bd8c6418b0ef.jpg (deflated 1%)\n",
            "  adding: content/cauli_disease-3/train/images/cauli_246_JPG.rf.5f16a3fd690a7732267444c763cb4d1d.jpg (deflated 0%)\n",
            "  adding: content/cauli_disease-3/train/images/cauli_326_jpg.rf.252cac32ed273459c2f77a31195783d9.jpg (deflated 1%)\n",
            "  adding: content/cauli_disease-3/train/images/cauli_39_jpg.rf.24e170904d094d030eb030fcccaf98cc.jpg (deflated 1%)\n",
            "  adding: content/cauli_disease-3/train/images/cauli_136_jpg.rf.c92be112bd110b53fe9816b53edb4191.jpg (deflated 1%)\n",
            "  adding: content/cauli_disease-3/train/images/cauli_152_jpg.rf.c85412ac556e00853e59cbfa8d4c92fa.jpg (deflated 0%)\n",
            "  adding: content/cauli_disease-3/train/images/cauli_298_JPG.rf.e6007e1dee0e312bdbaae9c822aa4c03.jpg (deflated 0%)\n",
            "  adding: content/cauli_disease-3/train/images/cauli_7_jpg.rf.fa3eb4aaf92e93704b4dd0695014ec86.jpg (deflated 0%)\n",
            "  adding: content/cauli_disease-3/train/images/cauli_234_JPG.rf.ca63f2779a5a83adeece69877a843da6.jpg (deflated 0%)\n",
            "  adding: content/cauli_disease-3/train/images/cauli_145_jpg.rf.3c768c2e95e11188671651fde12f2a6f.jpg (deflated 1%)\n",
            "  adding: content/cauli_disease-3/train/images/cauli_86_jpg.rf.a9ad3f9d152a5c9d5b34526c5d3b6a27.jpg (deflated 0%)\n",
            "  adding: content/cauli_disease-3/train/images/cauli_7_jpg.rf.548d86c2b5117afc8687e594dcc9153f.jpg (deflated 1%)\n",
            "  adding: content/cauli_disease-3/train/images/cauli_103_jpg.rf.c27907391befb75095a5e9c359772dd9.jpg (deflated 1%)\n",
            "  adding: content/cauli_disease-3/train/images/cauli_304_JPG.rf.c8db2a44fe0457468692c04231a029a4.jpg (deflated 0%)\n",
            "  adding: content/cauli_disease-3/train/images/cauli_308_jpg.rf.e50a55fcd326766fdafa0361dc984389.jpg (deflated 0%)\n",
            "  adding: content/cauli_disease-3/train/images/cauli_131_jpg.rf.3b2b7be810a85305e4c3c6782a2a2c7b.jpg (deflated 1%)\n",
            "  adding: content/cauli_disease-3/train/images/cauli_155_jpg.rf.61122b222100a1e759af2ae437aa1631.jpg (deflated 1%)\n",
            "  adding: content/cauli_disease-3/train/images/cauli_286_JPG.rf.c368e3068fb3be0f0e4c1d798c71a4a6.jpg (deflated 0%)\n",
            "  adding: content/cauli_disease-3/train/images/cauli_110_jpg.rf.b784ca3cb40b08c5a26b262403477223.jpg (deflated 1%)\n",
            "  adding: content/cauli_disease-3/train/images/cauli_224_jpg.rf.bcc51d8eaedf9dcb284a6ebff384e6b3.jpg (deflated 0%)\n",
            "  adding: content/cauli_disease-3/train/images/cauli_8_jpg.rf.f4e76eb0cf0c1afc49d7c9c27748f731.jpg (deflated 1%)\n",
            "  adding: content/cauli_disease-3/train/images/cauli_207_jpg.rf.4996bc27793982dc2c50b7d5de9ee404.jpg (deflated 1%)\n",
            "  adding: content/cauli_disease-3/train/images/cauli_236_JPG.rf.02166f8ce3491fa88e9d0d8affa40796.jpg (deflated 1%)\n",
            "  adding: content/cauli_disease-3/train/images/cauli_253_JPG.rf.4852e787475684490919b30750d7b401.jpg (deflated 0%)\n",
            "  adding: content/cauli_disease-3/train/images/cauli_133_jpg.rf.4953728d9e360f79b5dbc6bba1f70ef4.jpg (deflated 0%)\n",
            "  adding: content/cauli_disease-3/train/images/cauli_79_jpg.rf.91b215daa5966e925cf846e495bce2e7.jpg (deflated 0%)\n",
            "  adding: content/cauli_disease-3/train/images/cauli_46_jpg.rf.1c35791226b24a3ba0b8099c0f40d663.jpg (deflated 1%)\n",
            "  adding: content/cauli_disease-3/train/images/cauli_94_jpg.rf.b34589ef9d9a8a4f4bf4530f52f16f73.jpg (deflated 1%)\n",
            "  adding: content/cauli_disease-3/train/images/cauli_165_jpg.rf.ac2d25c2d31844d8a4836404a1fb5910.jpg (deflated 1%)\n",
            "  adding: content/cauli_disease-3/train/images/cauli_145_jpg.rf.ac4861df5cf218899a901c9f0741b488.jpg (deflated 0%)\n",
            "  adding: content/cauli_disease-3/train/images/cauli_79_jpg.rf.b4c8c447ac86d9949df6ec836091f328.jpg (deflated 1%)\n",
            "  adding: content/cauli_disease-3/train/images/cauli_215_jpg.rf.42371bf6c6b2e3620d145072d1f411ed.jpg (deflated 1%)\n",
            "  adding: content/cauli_disease-3/train/images/cauli_19_jpg.rf.318225374bccf80eae1772c069c8285c.jpg (deflated 0%)\n",
            "  adding: content/cauli_disease-3/train/images/cauli_98_jpg.rf.f0f09349441c881563855769fbafc1cb.jpg (deflated 1%)\n",
            "  adding: content/cauli_disease-3/train/images/cauli_203_jpg.rf.9196ba491a5d7fea1aae01ea57d014d3.jpg (deflated 0%)\n",
            "  adding: content/cauli_disease-3/train/images/cauli_267_JPG.rf.3ad42257cd34ae560d228f0408295702.jpg (deflated 0%)\n",
            "  adding: content/cauli_disease-3/train/images/cauli_286_JPG.rf.0a307ae7a918868677738c596ec5364b.jpg (deflated 1%)\n",
            "  adding: content/cauli_disease-3/train/images/cauli_290_JPG.rf.8e179972243ac9419f85bfe20f35947a.jpg (deflated 1%)\n",
            "  adding: content/cauli_disease-3/train/images/cauli_216_jpg.rf.a29ab59770711a62991efd9e9547dc4a.jpg (deflated 1%)\n",
            "  adding: content/cauli_disease-3/train/images/cauli_31_jpg.rf.b989556d6c11c5b349b8f7be6213e3ac.jpg (deflated 1%)\n",
            "  adding: content/cauli_disease-3/train/images/cauli_26_jpg.rf.0fd69928e3b958386cfba7d3ae5d6d5b.jpg (deflated 0%)\n",
            "  adding: content/cauli_disease-3/train/images/cauli_44_jpg.rf.f883f64093e719db10563fa4d7ef83c4.jpg (deflated 1%)\n",
            "  adding: content/cauli_disease-3/train/images/cauli_206_jpg.rf.94ae12f02cddfef287d6cd393b3b1083.jpg (deflated 1%)\n",
            "  adding: content/cauli_disease-3/train/images/cauli_73_jpg.rf.8504b74e9474f7511c0229fd3149904a.jpg (deflated 1%)\n",
            "  adding: content/cauli_disease-3/train/images/cauli_118_jpg.rf.5012ebf84bdd49c55d29a6f24be1c747.jpg (deflated 1%)\n",
            "  adding: content/cauli_disease-3/train/images/cauli_96_jpg.rf.4376111bb0f4dcabf415d2bfe9a1fe6f.jpg (deflated 1%)\n",
            "  adding: content/cauli_disease-3/train/images/cauli_39_jpg.rf.865b8b9a888d4ec1bc214cc2c6d52a3b.jpg (deflated 1%)\n",
            "  adding: content/cauli_disease-3/train/images/cauli_225_jpg.rf.4cdbec2a6c9f5bc8336f6a6d9138c98e.jpg (deflated 0%)\n",
            "  adding: content/cauli_disease-3/train/images/cauli_238_JPG.rf.4a180e8dd9aa84e0c4ce818bc2a423c1.jpg (deflated 0%)\n",
            "  adding: content/cauli_disease-3/train/images/cauli_255_JPG.rf.f3800f41ccaa14dc14633a764ca2667e.jpg (deflated 1%)\n",
            "  adding: content/cauli_disease-3/train/images/cauli_93_jpg.rf.e904d0c95fa37913ebd3fdfc4fd576d6.jpg (deflated 0%)\n",
            "  adding: content/cauli_disease-3/train/images/cauli_321_jpeg.rf.f58a7211bfa323ed9ce2149f74ff21e8.jpg (deflated 1%)\n",
            "  adding: content/cauli_disease-3/train/images/cauli_104_jpg.rf.cf4a5c03b6de67708f9ed5ce33e382f3.jpg (deflated 0%)\n",
            "  adding: content/cauli_disease-3/train/images/cauli_187_jpg.rf.e5be9d378156f7c84e5d429f58c18648.jpg (deflated 0%)\n",
            "  adding: content/cauli_disease-3/train/images/cauli_288_JPG.rf.2d954f4876c922dec6d0eb78d495d3cf.jpg (deflated 1%)\n",
            "  adding: content/cauli_disease-3/train/images/cauli_112_jpg.rf.a501c26e9cedc8bbc2d1ce4530cd27fb.jpg (deflated 1%)\n",
            "  adding: content/cauli_disease-3/train/images/cauli_240_JPG.rf.fc18f506b979bc5ae7f6250411c997e1.jpg (deflated 1%)\n",
            "  adding: content/cauli_disease-3/train/images/cauli_48_jpg.rf.e9549dd05316220d185ff70bb8ec2de9.jpg (deflated 1%)\n",
            "  adding: content/cauli_disease-3/train/images/cauli_24_jpg.rf.69c611bb72c340ab5388de03d3f485d3.jpg (deflated 0%)\n",
            "  adding: content/cauli_disease-3/train/images/cauli_294_JPG.rf.de3d3255c6efafcff90a677a239db933.jpg (deflated 1%)\n",
            "  adding: content/cauli_disease-3/train/images/cauli_241_JPG.rf.42dec105d483ff0878da0ef94c3fc946.jpg (deflated 1%)\n",
            "  adding: content/cauli_disease-3/train/images/cauli_125_jpg.rf.bb64c271376dc7248b9efee01430ad9f.jpg (deflated 1%)\n",
            "  adding: content/cauli_disease-3/train/images/cauli_139_jpg.rf.7b7ce6cfd8c210ed97f2d4e44fa623d8.jpg (deflated 1%)\n",
            "  adding: content/cauli_disease-3/train/images/cauli_148_jpg.rf.07f7de03073f42b0d0c2adaa06a54997.jpg (deflated 1%)\n",
            "  adding: content/cauli_disease-3/train/images/cauli_65_jpg.rf.4abb22f61bcd047b09ac7ee02d54216e.jpg (deflated 0%)\n",
            "  adding: content/cauli_disease-3/train/images/cauli_149_jpg.rf.aef5b9bc697448aea1bb5e4b0ff8c68c.jpg (deflated 0%)\n",
            "  adding: content/cauli_disease-3/train/images/cauli_222_jpg.rf.59707fad83ae0ddb44eb5df248ae0339.jpg (deflated 0%)\n",
            "  adding: content/cauli_disease-3/train/images/cauli_178_jpg.rf.dcc67c1a5a56376cfd905580db716300.jpg (deflated 0%)\n",
            "  adding: content/cauli_disease-3/train/images/cauli_230_jpg.rf.d75af674573221d1b215aa012948e9eb.jpg (deflated 1%)\n",
            "  adding: content/cauli_disease-3/train/images/cauli_250_JPG.rf.f2d395966e596bfefc6fe5db2c6b6ad1.jpg (deflated 1%)\n",
            "  adding: content/cauli_disease-3/train/images/cauli_15_jpg.rf.eb10781dbee2389a12660540b278a462.jpg (deflated 1%)\n",
            "  adding: content/cauli_disease-3/train/images/cauli_151_jpg.rf.f732e58df9e59a211997e9c6b0ee049f.jpg (deflated 1%)\n",
            "  adding: content/cauli_disease-3/train/images/cauli_265_JPG.rf.ec50ac18a7daf02b532266b8faad8d4c.jpg (deflated 1%)\n",
            "  adding: content/cauli_disease-3/train/images/cauli_262_JPG.rf.7c65b6a07ce63cda16d634fa8b39749e.jpg (deflated 1%)\n",
            "  adding: content/cauli_disease-3/train/images/cauli_56_jpg.rf.11d628bddbac5555f3b391f22ceb7c62.jpg (deflated 1%)\n",
            "  adding: content/cauli_disease-3/train/images/cauli_284_JPG.rf.87e8b33caf24656930d0eb2ec4c6d552.jpg (deflated 0%)\n",
            "  adding: content/cauli_disease-3/train/images/cauli_289_JPG.rf.249a6203c7459837a04d45f9ea0d34d8.jpg (deflated 1%)\n",
            "  adding: content/cauli_disease-3/train/images/cauli_192_jpg.rf.05aa7c2fb77eb8393b467a2c2c95a033.jpg (deflated 0%)\n",
            "  adding: content/cauli_disease-3/train/images/cauli_4_jpg.rf.44ba1783fe3c0ba7d4d62d06c55b831e.jpg (deflated 0%)\n",
            "  adding: content/cauli_disease-3/train/images/cauli_181_jpg.rf.35ac32b9056a0a93e646ee2a71c0c0ba.jpg (deflated 1%)\n",
            "  adding: content/cauli_disease-3/train/images/cauli_219_jpg.rf.6c4345fcbe6cf7d30efbd7f4bb7a6681.jpg (deflated 0%)\n",
            "  adding: content/cauli_disease-3/train/images/cauli_199_jpg.rf.9866ba4a576bbd16242e643b878630a0.jpg (deflated 1%)\n",
            "  adding: content/cauli_disease-3/train/images/cauli_89_jpg.rf.580a08ad5e6440839a0189d5236dc1c0.jpg (deflated 0%)\n",
            "  adding: content/cauli_disease-3/train/images/cauli_77_jpg.rf.6eb65eff328fa5d5c6b48d90bc231db2.jpg (deflated 0%)\n",
            "  adding: content/cauli_disease-3/train/images/cauli_132_jpg.rf.c1d440bd906ed6784715d33e72bfb1d5.jpg (deflated 0%)\n",
            "  adding: content/cauli_disease-3/train/images/cauli_278_JPG.rf.d333f2e6dc3814dd8e9c8af3e88795a0.jpg (deflated 1%)\n",
            "  adding: content/cauli_disease-3/train/images/cauli_32_jpg.rf.550c379255e9cb4833f37b155c66c8cf.jpg (deflated 0%)\n",
            "  adding: content/cauli_disease-3/train/images/cauli_124_jpg.rf.a5de15bc6c9e8491e80241014fc1ce72.jpg (deflated 0%)\n",
            "  adding: content/cauli_disease-3/train/images/cauli_245_JPG.rf.95944ce157b188bdbf7a42be7d9fdee3.jpg (deflated 1%)\n",
            "  adding: content/cauli_disease-3/train/images/cauli_317_jpg.rf.d7c47f654672a3d443bde821c8812978.jpg (deflated 4%)\n",
            "  adding: content/cauli_disease-3/train/images/cauli_274_JPG.rf.2ddac1e20823be479933eeda3f0cbbf7.jpg (deflated 2%)\n",
            "  adding: content/cauli_disease-3/train/images/cauli_136_jpg.rf.b871acb58abe07f67cac7399e579a5e2.jpg (deflated 1%)\n",
            "  adding: content/cauli_disease-3/train/images/cauli_84_jpg.rf.4056c16113905ee042247f58acb3f37b.jpg (deflated 1%)\n",
            "  adding: content/cauli_disease-3/train/images/cauli_150_jpg.rf.e8860327922fc5d63ce20b6758a03883.jpg (deflated 1%)\n",
            "  adding: content/cauli_disease-3/train/images/cauli_62_jpg.rf.a8435c81fad5f25b553aa23466943645.jpg (deflated 1%)\n",
            "  adding: content/cauli_disease-3/train/images/cauli_11_jpg.rf.55f7cb616e87471ab9916d1df9a2fbf8.jpg (deflated 1%)\n",
            "  adding: content/cauli_disease-3/train/images/cauli_63_jpg.rf.16b4807f2c5151fb79aacf265971370e.jpg (deflated 1%)\n",
            "  adding: content/cauli_disease-3/train/images/cauli_190_jpg.rf.ef2c9b8e50768e0736772364c2fcd7c8.jpg (deflated 1%)\n",
            "  adding: content/cauli_disease-3/train/images/cauli_309_jpg.rf.dfb33992328d90acff386ff47568442e.jpg (deflated 0%)\n",
            "  adding: content/cauli_disease-3/train/images/cauli_112_jpg.rf.f8808067d36c5f393026991bb1d5142b.jpg (deflated 1%)\n",
            "  adding: content/cauli_disease-3/train/images/cauli_216_jpg.rf.eaabfc6aa24ca2493d9150fa554d915c.jpg (deflated 1%)\n",
            "  adding: content/cauli_disease-3/train/images/cauli_174_jpg.rf.0ca33c9854c218f63633908a45deca68.jpg (deflated 1%)\n",
            "  adding: content/cauli_disease-3/train/images/cauli_72_jpg.rf.8aa720045c466fbf9af1453a5c9e2842.jpg (deflated 1%)\n",
            "  adding: content/cauli_disease-3/train/images/cauli_243_JPG.rf.5b8ef45b4f6e9300ee4fa60a192fad17.jpg (deflated 2%)\n",
            "  adding: content/cauli_disease-3/train/images/cauli_47_jpg.rf.0661f0480bc94072823be79307866010.jpg (deflated 0%)\n",
            "  adding: content/cauli_disease-3/train/images/cauli_216_jpg.rf.d3f4181a252ce24e0308a9ec06b7b5ea.jpg (deflated 0%)\n",
            "  adding: content/cauli_disease-3/train/images/cauli_256_JPG.rf.13e195875367aaa34c206254142c5753.jpg (deflated 1%)\n",
            "  adding: content/cauli_disease-3/train/images/cauli_201_jpg.rf.9eed13f8d720c365a21d8f2c3587e0ca.jpg (deflated 1%)\n",
            "  adding: content/cauli_disease-3/train/images/cauli_139_jpg.rf.ea6ffa2cf0700b8c45d34953b4903fd7.jpg (deflated 0%)\n",
            "  adding: content/cauli_disease-3/train/images/cauli_129_jpg.rf.48fe5e37d2c29e990de75309064a770c.jpg (deflated 1%)\n",
            "  adding: content/cauli_disease-3/train/images/cauli_247_JPG.rf.d3722e7fbc8a9a85b37291eeff6e54d0.jpg (deflated 0%)\n",
            "  adding: content/cauli_disease-3/train/images/cauli_230_jpg.rf.3368b15bc7e0f5fcdafcb0d42b34b95b.jpg (deflated 0%)\n",
            "  adding: content/cauli_disease-3/train/images/cauli_261_JPG.rf.63a12b153bc840a73773ea6373beb0f2.jpg (deflated 0%)\n",
            "  adding: content/cauli_disease-3/train/images/cauli_164_jpg.rf.81377aa531f119e2d07eea909c64aabf.jpg (deflated 1%)\n",
            "  adding: content/cauli_disease-3/train/images/cauli_261_JPG.rf.3c809415eca6f17bf5e7c1a67d69011f.jpg (deflated 0%)\n",
            "  adding: content/cauli_disease-3/train/images/cauli_239_JPG.rf.318202155b1813b8180d1a082f7a7baf.jpg (deflated 1%)\n",
            "  adding: content/cauli_disease-3/train/images/cauli_266_JPG.rf.55369f96f261e5bb44a4c708d7f2d43e.jpg (deflated 1%)\n",
            "  adding: content/cauli_disease-3/train/images/cauli_136_jpg.rf.c9abbd7794bab962b8a1d187a8dfc6f0.jpg (deflated 0%)\n",
            "  adding: content/cauli_disease-3/train/images/cauli_276_JPG.rf.9b8080ae1e1d61e7a2063e9fe8f91651.jpg (deflated 0%)\n",
            "  adding: content/cauli_disease-3/train/images/cauli_156_jpg.rf.f262c5a1894c1901250ab75603e24154.jpg (deflated 0%)\n",
            "  adding: content/cauli_disease-3/train/images/cauli_284_JPG.rf.8c9b394f78f41ff3c405ad0d121b28e8.jpg (deflated 0%)\n",
            "  adding: content/cauli_disease-3/train/images/cauli_150_jpg.rf.3ed1f5f6d180346ba00c1a5cc1ab0749.jpg (deflated 0%)\n",
            "  adding: content/cauli_disease-3/train/images/cauli_64_jpg.rf.9be8b7bf6571c1aee4f6dd64cfa523fc.jpg (deflated 0%)\n",
            "  adding: content/cauli_disease-3/train/images/cauli_35_jpg.rf.fb1239b35e7f302270f9902a79bf99a6.jpg (deflated 1%)\n",
            "  adding: content/cauli_disease-3/train/images/cauli_172_jpg.rf.0ab033736b7c33bb553722f6fa936bf3.jpg (deflated 1%)\n",
            "  adding: content/cauli_disease-3/train/images/cauli_68_jpg.rf.be7a824f35e1fe2233d10c1e314b6aa8.jpg (deflated 0%)\n",
            "  adding: content/cauli_disease-3/train/images/cauli_13_jpg.rf.c2d2588c3ed6d9e768a7fa26ff9322a7.jpg (deflated 1%)\n",
            "  adding: content/cauli_disease-3/train/images/cauli_68_jpg.rf.dda76bdfb72aa1fc7ec84e7171ee98ee.jpg (deflated 1%)\n",
            "  adding: content/cauli_disease-3/train/images/cauli_171_jpg.rf.57a68a54f80da7fa862ca3268e9a56f5.jpg (deflated 1%)\n",
            "  adding: content/cauli_disease-3/train/images/cauli_119_jpg.rf.3adea6e398989a7c47a0499b8e9f8a34.jpg (deflated 0%)\n",
            "  adding: content/cauli_disease-3/train/images/cauli_208_jpg.rf.b66ee5bc72b4dc8afcf2c5d4a6e3a50c.jpg (deflated 0%)\n",
            "  adding: content/cauli_disease-3/train/images/cauli_252_JPG.rf.1bf631aa86edf37b9272cc81fe5e0e9d.jpg (deflated 1%)\n",
            "  adding: content/cauli_disease-3/train/images/cauli_248_JPG.rf.21e407ef6b1ec0149635014eec95732d.jpg (deflated 1%)\n",
            "  adding: content/cauli_disease-3/train/images/cauli_196_jpg.rf.31e0592270a0052578efe76f226c4594.jpg (deflated 1%)\n",
            "  adding: content/cauli_disease-3/train/images/cauli_304_JPG.rf.1d5083735fd2f22be82b12cd247d5ad1.jpg (deflated 0%)\n",
            "  adding: content/cauli_disease-3/train/images/cauli_277_JPG.rf.adc4f662987595ccc04ac941a71a40ad.jpg (deflated 1%)\n",
            "  adding: content/cauli_disease-3/train/images/cauli_329_jpg.rf.4c0b50d4f47fdf3c4eae079d9262f109.jpg (deflated 0%)\n",
            "  adding: content/cauli_disease-3/train/images/cauli_191_jpg.rf.9599fb47014f46e2ac76f342262307c8.jpg (deflated 1%)\n",
            "  adding: content/cauli_disease-3/train/images/cauli_242_JPG.rf.60fa216585195b8e8dfa713dc5d9e63c.jpg (deflated 1%)\n",
            "  adding: content/cauli_disease-3/train/images/cauli_297_JPG.rf.c2e2206a757893b71b4a06ad1d16d71a.jpg (deflated 1%)\n",
            "  adding: content/cauli_disease-3/train/images/cauli_54_jpg.rf.4381219d533f879cc1b4b026e36ea825.jpg (deflated 1%)\n",
            "  adding: content/cauli_disease-3/train/images/cauli_32_jpg.rf.8b88a66edb29add052b6fe7b4be87cd4.jpg (deflated 1%)\n",
            "  adding: content/cauli_disease-3/train/images/cauli_240_JPG.rf.477545b06e25116f89537f67f09d63e9.jpg (deflated 0%)\n",
            "  adding: content/cauli_disease-3/train/images/cauli_215_jpg.rf.384f30ebef916e1115be2dc317fae831.jpg (deflated 0%)\n",
            "  adding: content/cauli_disease-3/train/images/cauli_234_JPG.rf.f32e2a47996b87837a29a573ea90a505.jpg (deflated 1%)\n",
            "  adding: content/cauli_disease-3/train/images/cauli_118_jpg.rf.c8e9df6b5cb64af88adee2943a2ebc4b.jpg (deflated 0%)\n",
            "  adding: content/cauli_disease-3/train/images/cauli_239_JPG.rf.259cfb4c4ef858e709fcb3538e4fb285.jpg (deflated 1%)\n",
            "  adding: content/cauli_disease-3/train/images/cauli_123_jpg.rf.3cdfa774fed395e587e0ea83f835fce6.jpg (deflated 1%)\n",
            "  adding: content/cauli_disease-3/train/images/cauli_152_jpg.rf.e10657246473c934caf54384815f5b13.jpg (deflated 1%)\n",
            "  adding: content/cauli_disease-3/train/images/cauli_81_jpg.rf.71f462605dc4712996c001efde2d77a3.jpg (deflated 0%)\n",
            "  adding: content/cauli_disease-3/train/images/cauli_184_jpg.rf.eaf81f8c1342b64f498cd91ee88bcd40.jpg (deflated 0%)\n",
            "  adding: content/cauli_disease-3/train/images/cauli_207_jpg.rf.bacf4bfea0ab9873dee477cf524c2439.jpg (deflated 1%)\n",
            "  adding: content/cauli_disease-3/train/images/cauli_308_jpg.rf.6b25367aeb81d5ed494eb8dc09cdcdf6.jpg (deflated 1%)\n",
            "  adding: content/cauli_disease-3/train/images/cauli_205_jpg.rf.73cf645177b8ff4d05587f79187d5129.jpg (deflated 1%)\n",
            "  adding: content/cauli_disease-3/train/images/cauli_59_jpg.rf.a5b1e3ccb2033dde5f47704a0ffdea68.jpg (deflated 0%)\n",
            "  adding: content/cauli_disease-3/train/images/cauli_304_JPG.rf.9f9279d52d7f5179612275a10494ea29.jpg (deflated 1%)\n",
            "  adding: content/cauli_disease-3/train/images/cauli_114_jpg.rf.96502f387bdd696b7cf12062bfe982d4.jpg (deflated 1%)\n",
            "  adding: content/cauli_disease-3/train/images/cauli_308_jpg.rf.a4e0e19e195fbd04726d0470f91ddec5.jpg (deflated 1%)\n",
            "  adding: content/cauli_disease-3/train/images/cauli_321_jpeg.rf.649447037bcd2fbb146fd483dd0fe461.jpg (deflated 0%)\n",
            "  adding: content/cauli_disease-3/train/images/cauli_142_jpg.rf.7f933c762a4d3382bb1bd8504565cf48.jpg (deflated 1%)\n",
            "  adding: content/cauli_disease-3/train/images/cauli_50_jpg.rf.18ead04c2b6831a34d2e8eb79f08f2f9.jpg (deflated 1%)\n",
            "  adding: content/cauli_disease-3/train/images/cauli_320_jpg.rf.6a1bcbbe6b82f658bdfdd7ad2c2ecc02.jpg (deflated 1%)\n",
            "  adding: content/cauli_disease-3/train/images/cauli_295_JPG.rf.7722b3b9a679638968a18e417b953b31.jpg (deflated 1%)\n",
            "  adding: content/cauli_disease-3/train/images/cauli_268_JPG.rf.04374f21391e9eae8b8dc8788d5b00b9.jpg (deflated 1%)\n",
            "  adding: content/cauli_disease-3/train/images/cauli_85_jpg.rf.0d78153768c76e8a96c3827c1cd31cd4.jpg (deflated 1%)\n",
            "  adding: content/cauli_disease-3/train/images/cauli_182_jpg.rf.56520fae25851141b83462233e85edea.jpg (deflated 0%)\n",
            "  adding: content/cauli_disease-3/train/images/cauli_244_JPG.rf.a0f97bcb30ab5df9cf1a052f385e124e.jpg (deflated 1%)\n",
            "  adding: content/cauli_disease-3/train/images/cauli_256_JPG.rf.e2f5c7026dd1554483d97469e9e8bc91.jpg (deflated 0%)\n",
            "  adding: content/cauli_disease-3/train/images/cauli_139_jpg.rf.93a1f788ab35c4b7c856f344b992941d.jpg (deflated 1%)\n",
            "  adding: content/cauli_disease-3/train/images/cauli_149_jpg.rf.1772890c9d68665c8593b94064a29b1f.jpg (deflated 1%)\n",
            "  adding: content/cauli_disease-3/train/images/cauli_293_JPG.rf.bc776f542232cc53dcdfdcf40403e11d.jpg (deflated 0%)\n",
            "  adding: content/cauli_disease-3/train/images/cauli_204_jpg.rf.2cc73275ebb6b284dd8a3621fa037fe4.jpg (deflated 0%)\n",
            "  adding: content/cauli_disease-3/train/images/cauli_134_jpg.rf.33a27c21381b93b5c36138d878a7f183.jpg (deflated 1%)\n",
            "  adding: content/cauli_disease-3/train/images/cauli_29_jpg.rf.7e83d947466a0bd2ffdb8b16d68409f0.jpg (deflated 0%)\n",
            "  adding: content/cauli_disease-3/train/images/cauli_55_jpg.rf.816d80c06ca171432a15fde27495445d.jpg (deflated 0%)\n",
            "  adding: content/cauli_disease-3/train/images/cauli_121_jpg.rf.5dab9b4c7dc2878f66e5cb3134d6ac5b.jpg (deflated 1%)\n",
            "  adding: content/cauli_disease-3/train/images/cauli_313_jpg.rf.924ca7c37852863891e23657b2c1179b.jpg (deflated 1%)\n",
            "  adding: content/cauli_disease-3/train/images/cauli_305_JPG.rf.59a58caf665dc8d81bcbb94befa0cb72.jpg (deflated 0%)\n",
            "  adding: content/cauli_disease-3/train/images/cauli_20_jpg.rf.ae5d0a159da5e7f967cadf4e40d4b378.jpg (deflated 0%)\n",
            "  adding: content/cauli_disease-3/train/images/cauli_263_JPG.rf.2cd2ed92cf6317a3a6062f75a86a16b2.jpg (deflated 1%)\n",
            "  adding: content/cauli_disease-3/train/images/cauli_152_jpg.rf.323c2bc669b379c8db97afe52a9d7e1c.jpg (deflated 2%)\n",
            "  adding: content/cauli_disease-3/train/images/cauli_189_jpg.rf.18759c4875f7bf8050614070faa25bdd.jpg (deflated 0%)\n",
            "  adding: content/cauli_disease-3/train/images/cauli_97_jpg.rf.0a142a41b7bc89364c110b53941cb42e.jpg (deflated 0%)\n",
            "  adding: content/cauli_disease-3/train/images/cauli_160_jpg.rf.b627722d3c8f703ca880375c056c4353.jpg (deflated 0%)\n",
            "  adding: content/cauli_disease-3/train/images/cauli_227_jpg.rf.db9ead5f49900065db84fcd1a60139ef.jpg (deflated 0%)\n",
            "  adding: content/cauli_disease-3/train/images/cauli_282_JPG.rf.e82b47a2f576ca27c77e1400b886c870.jpg (deflated 0%)\n",
            "  adding: content/cauli_disease-3/train/images/cauli_98_jpg.rf.736debce4c9f3a2b9333c347df2bbe3a.jpg (deflated 1%)\n",
            "  adding: content/cauli_disease-3/train/images/cauli_189_jpg.rf.ba17286cb363f23aa36904429469af92.jpg (deflated 1%)\n",
            "  adding: content/cauli_disease-3/train/images/cauli_271_JPG.rf.ccca7be97c364754d025fac0789931b0.jpg (deflated 1%)\n",
            "  adding: content/cauli_disease-3/train/images/cauli_206_jpg.rf.08cbe95a910236bd7441a8dffd1b0fc9.jpg (deflated 0%)\n",
            "  adding: content/cauli_disease-3/train/images/cauli_309_jpg.rf.a9a9bd736f54e1a12fc0ed2f3de91012.jpg (deflated 2%)\n",
            "  adding: content/cauli_disease-3/train/images/cauli_190_jpg.rf.b765778588853fa0259e2aa361e66028.jpg (deflated 0%)\n",
            "  adding: content/cauli_disease-3/train/images/cauli_210_jpg.rf.2318697b06dd24485525eb6924d3c25d.jpg (deflated 0%)\n",
            "  adding: content/cauli_disease-3/train/images/cauli_329_jpg.rf.581b034ce0b6ed8d6797fb0110206157.jpg (deflated 1%)\n",
            "  adding: content/cauli_disease-3/train/images/cauli_52_jpg.rf.dd6c88aa53caabaae5b29c923951608f.jpg (deflated 1%)\n",
            "  adding: content/cauli_disease-3/train/images/cauli_36_jpg.rf.e565e8f39710c949e703bc3ad3b238bc.jpg (deflated 0%)\n",
            "  adding: content/cauli_disease-3/train/images/cauli_123_jpg.rf.2501500903db2fa56e771ede739d8926.jpg (deflated 1%)\n",
            "  adding: content/cauli_disease-3/train/images/cauli_40_jpg.rf.9ac584f026e9ccb3ba749ffba0b39916.jpg (deflated 1%)\n",
            "  adding: content/cauli_disease-3/train/images/cauli_81_jpg.rf.be86fad659ff8b7d91fd9a5cb7a2a1df.jpg (deflated 0%)\n",
            "  adding: content/cauli_disease-3/train/images/cauli_177_jpg.rf.1999f851d15677b607607568818b0f52.jpg (deflated 0%)\n",
            "  adding: content/cauli_disease-3/train/images/cauli_315_jpg.rf.0fd00af60e196fc951289342cc39509f.jpg (deflated 1%)\n",
            "  adding: content/cauli_disease-3/train/images/cauli_169_jpg.rf.ad9381ae0fc2d0290fdf252cc90e93a2.jpg (deflated 1%)\n",
            "  adding: content/cauli_disease-3/train/images/cauli_100_jpg.rf.7161af8ffd514f6bf3069b7f6eaeea91.jpg (deflated 1%)\n",
            "  adding: content/cauli_disease-3/train/images/cauli_120_jpg.rf.fc95eb20d49489e2be8baf43e82d6145.jpg (deflated 0%)\n",
            "  adding: content/cauli_disease-3/train/images/cauli_207_jpg.rf.368c2c4b329e8f0da5a4befc465c5704.jpg (deflated 0%)\n",
            "  adding: content/cauli_disease-3/train/images/cauli_184_jpg.rf.4fceee313d20ddffd53d0807a97efd60.jpg (deflated 1%)\n",
            "  adding: content/cauli_disease-3/train/images/cauli_219_jpg.rf.7bcebc49159e7fc2ca0e42ab258ff815.jpg (deflated 1%)\n",
            "  adding: content/cauli_disease-3/train/images/cauli_140_jpg.rf.7d00c413f3d2f2bde5f31ad0c78418c9.jpg (deflated 0%)\n",
            "  adding: content/cauli_disease-3/train/images/cauli_156_jpg.rf.e48b64c1d171068ade8997fe4f511a71.jpg (deflated 1%)\n",
            "  adding: content/cauli_disease-3/train/images/cauli_175_jpg.rf.f65578f2772d38bd4fa5aeb3d791418e.jpg (deflated 1%)\n",
            "  adding: content/cauli_disease-3/train/images/cauli_247_JPG.rf.5b3339c44c9c7be10eccca651f496735.jpg (deflated 1%)\n",
            "  adding: content/cauli_disease-3/train/images/cauli_55_jpg.rf.dd81e36ef51cd3bef51bf9f4a81b4309.jpg (deflated 1%)\n",
            "  adding: content/cauli_disease-3/train/images/cauli_325_jpeg.rf.7c989de5d3252ef884567524b734fec8.jpg (deflated 0%)\n",
            "  adding: content/cauli_disease-3/train/images/cauli_16_jpg.rf.ff48f3a36111c1bcdd8548e0954bd9ce.jpg (deflated 1%)\n",
            "  adding: content/cauli_disease-3/train/images/cauli_306_jpeg.rf.33d6494489f74e0c61420a524761c559.jpg (deflated 0%)\n",
            "  adding: content/cauli_disease-3/train/images/cauli_229_jpg.rf.dedb262120289517b045063bc8dd361e.jpg (deflated 0%)\n",
            "  adding: content/cauli_disease-3/train/images/cauli_194_jpg.rf.f6428f07d233ab361d5421d97b094b1e.jpg (deflated 1%)\n",
            "  adding: content/cauli_disease-3/train/images/cauli_166_jpg.rf.ee96b8c1751b28812d00b365a94e5eb1.jpg (deflated 1%)\n",
            "  adding: content/cauli_disease-3/train/images/cauli_104_jpg.rf.128d4d6fcfb0dc530db18c99182f959c.jpg (deflated 1%)\n",
            "  adding: content/cauli_disease-3/train/images/cauli_275_JPG.rf.9d8a68c12e6967200ed054bc48531cd5.jpg (deflated 1%)\n",
            "  adding: content/cauli_disease-3/train/images/cauli_196_jpg.rf.01afe1f825615a3a3998a05c2c99f195.jpg (deflated 0%)\n",
            "  adding: content/cauli_disease-3/train/images/cauli_17_jpg.rf.64574f272b9769a00b90ae4d8108404c.jpg (deflated 0%)\n",
            "  adding: content/cauli_disease-3/train/images/cauli_58_jpg.rf.45359fae70d377f560226edf6f4ee459.jpg (deflated 1%)\n",
            "  adding: content/cauli_disease-3/train/images/cauli_68_jpg.rf.0cbfc023f969783916849cebbae3b9e5.jpg (deflated 0%)\n",
            "  adding: content/cauli_disease-3/train/images/cauli_170_jpg.rf.edbd6f17de91d682bbaff90adbf5f98c.jpg (deflated 1%)\n",
            "  adding: content/cauli_disease-3/train/images/cauli_225_jpg.rf.cf4c46a6c8e4b0701b293944888259cc.jpg (deflated 0%)\n",
            "  adding: content/cauli_disease-3/train/images/cauli_205_jpg.rf.b0030a2525567e0d22f7f9a595c839a8.jpg (deflated 0%)\n",
            "  adding: content/cauli_disease-3/train/images/cauli_48_jpg.rf.f2a5b42350175a37543095ad17572e49.jpg (deflated 1%)\n",
            "  adding: content/cauli_disease-3/train/images/cauli_321_jpeg.rf.c74a21faf666d152ff66395e368497a4.jpg (deflated 0%)\n",
            "  adding: content/cauli_disease-3/train/images/cauli_75_jpg.rf.bee5be7c618499f29761dd54828c5fde.jpg (deflated 0%)\n",
            "  adding: content/cauli_disease-3/train/images/cauli_203_jpg.rf.605a41c429334630c3f4a0652516e471.jpg (deflated 1%)\n",
            "  adding: content/cauli_disease-3/train/images/cauli_301_JPG.rf.6d75579ee7cd6454c50394af25326f60.jpg (deflated 1%)\n",
            "  adding: content/cauli_disease-3/train/images/cauli_227_jpg.rf.d219525c7e27473b706607a254416a96.jpg (deflated 1%)\n",
            "  adding: content/cauli_disease-3/train/images/cauli_328_jpg.rf.0095bff4d61a37c4e3b0fe750c75d114.jpg (deflated 0%)\n",
            "  adding: content/cauli_disease-3/train/images/cauli_170_jpg.rf.403f83ac597f7650c0b57549bc5d7558.jpg (deflated 0%)\n",
            "  adding: content/cauli_disease-3/train/images/cauli_43_jpg.rf.1028f1a71b7b15ea1fe433104b8daac7.jpg (deflated 1%)\n",
            "  adding: content/cauli_disease-3/train/images/cauli_23_jpg.rf.86566038aea7783174727f6d03fb585f.jpg (deflated 0%)\n",
            "  adding: content/cauli_disease-3/train/images/cauli_183_jpg.rf.3f78dc74affeb33f422cdb67b27835d5.jpg (deflated 1%)\n",
            "  adding: content/cauli_disease-3/train/images/cauli_280_JPG.rf.c7e522fcc30f7f095f9e1f0f068a41b6.jpg (deflated 0%)\n",
            "  adding: content/cauli_disease-3/train/images/cauli_7_jpg.rf.5935901694c09e78c97f56ce0b7c0262.jpg (deflated 1%)\n",
            "  adding: content/cauli_disease-3/train/images/cauli_107_jpg.rf.18a9963d94cc363b25c4d4db77cdb55c.jpg (deflated 1%)\n",
            "  adding: content/cauli_disease-3/train/images/cauli_271_JPG.rf.ea649d9194da00c84545b8c3341819cf.jpg (deflated 0%)\n",
            "  adding: content/cauli_disease-3/train/images/cauli_144_jpg.rf.28708c01d0559b0d110e93f58a3fb6f8.jpg (deflated 1%)\n",
            "  adding: content/cauli_disease-3/train/images/cauli_114_jpg.rf.925dbd81ca72bc4416394c7ba8dc595c.jpg (deflated 1%)\n",
            "  adding: content/cauli_disease-3/train/images/cauli_323_jpeg.rf.c4f55b90afedbf3af6b34262d15e8f85.jpg (deflated 1%)\n",
            "  adding: content/cauli_disease-3/train/images/cauli_283_JPG.rf.47940e44b850d6f0974b138b811372ca.jpg (deflated 0%)\n",
            "  adding: content/cauli_disease-3/train/images/cauli_243_JPG.rf.f9f4c6f9fc379268e63319bb31374369.jpg (deflated 0%)\n",
            "  adding: content/cauli_disease-3/train/images/cauli_14_jpg.rf.25ba95bb154230f6772e8c24ca421003.jpg (deflated 2%)\n",
            "  adding: content/cauli_disease-3/train/images/cauli_148_jpg.rf.27d20d0088427a013f567f37937d55bb.jpg (deflated 0%)\n",
            "  adding: content/cauli_disease-3/train/images/cauli_225_jpg.rf.84738bc886c63bacff2fe87146ccb12c.jpg (deflated 0%)\n",
            "  adding: content/cauli_disease-3/train/images/cauli_29_jpg.rf.2ea009b8752f93897060000d7a55c3e7.jpg (deflated 1%)\n",
            "  adding: content/cauli_disease-3/train/images/cauli_81_jpg.rf.1cde7fba4590b799477dd1a4954b039f.jpg (deflated 1%)\n",
            "  adding: content/cauli_disease-3/train/images/cauli_303_JPG.rf.ae66ee505c81b8568ea7e000cdbd4e50.jpg (deflated 1%)\n",
            "  adding: content/cauli_disease-3/train/images/cauli_30_jpg.rf.bf662faaba78c43a113ff45b15ae7e69.jpg (deflated 1%)\n",
            "  adding: content/cauli_disease-3/train/images/cauli_269_JPG.rf.5e30a62ddfe4700bb2f380e14e1eb1ca.jpg (deflated 0%)\n",
            "  adding: content/cauli_disease-3/train/images/cauli_115_jpg.rf.7f81ea2e08baf6c89b11c84e49e23f9f.jpg (deflated 1%)\n",
            "  adding: content/cauli_disease-3/train/images/cauli_84_jpg.rf.29952fb2c83da6011da6f40d22e0d0b9.jpg (deflated 2%)\n",
            "  adding: content/cauli_disease-3/train/images/cauli_173_jpg.rf.77d95d0ee671711eb7643c96b78e7a2d.jpg (deflated 1%)\n",
            "  adding: content/cauli_disease-3/train/images/cauli_142_jpg.rf.488caecffeab286fee517cf804db3dfe.jpg (deflated 0%)\n",
            "  adding: content/cauli_disease-3/train/images/cauli_255_JPG.rf.079b9dfe4fa4ea0de072d8a4039aceaf.jpg (deflated 0%)\n",
            "  adding: content/cauli_disease-3/train/images/cauli_107_jpg.rf.025872cde28b3a0fbb68b25066d924bd.jpg (deflated 1%)\n",
            "  adding: content/cauli_disease-3/train/images/cauli_51_jpg.rf.7170d22847e83cf25e1e9a5fe78e0882.jpg (deflated 1%)\n",
            "  adding: content/cauli_disease-3/train/images/cauli_267_JPG.rf.811d7ca2077b0bd2b3ed13d4a370e900.jpg (deflated 1%)\n",
            "  adding: content/cauli_disease-3/train/images/cauli_72_jpg.rf.99e62228239685f9a74265ca5e25f4e3.jpg (deflated 0%)\n",
            "  adding: content/cauli_disease-3/train/images/cauli_170_jpg.rf.9e73605136f11adbef75adc039b97223.jpg (deflated 0%)\n",
            "  adding: content/cauli_disease-3/train/images/cauli_67_jpg.rf.b286f37ffbb4d9f8b84b916dbd99e36a.jpg (deflated 1%)\n",
            "  adding: content/cauli_disease-3/train/images/cauli_82_jpg.rf.1e976b9c07fa41c5e766fc5a04e6a7a4.jpg (deflated 0%)\n",
            "  adding: content/cauli_disease-3/train/images/cauli_40_jpg.rf.1bf83b5403e9fc2050f13761dd81c07d.jpg (deflated 0%)\n",
            "  adding: content/cauli_disease-3/train/images/cauli_192_jpg.rf.6371f0ffe15252fd7e990fbab195b318.jpg (deflated 1%)\n",
            "  adding: content/cauli_disease-3/train/images/cauli_155_jpg.rf.3fd1ce412842657d92de3f85096a11e2.jpg (deflated 0%)\n",
            "  adding: content/cauli_disease-3/train/images/cauli_110_jpg.rf.108827b3bcefc2e15cfe979a069a26a2.jpg (deflated 1%)\n",
            "  adding: content/cauli_disease-3/train/images/cauli_184_jpg.rf.65fd8b844eac7bc95c4d1f15bf4cf2fc.jpg (deflated 0%)\n",
            "  adding: content/cauli_disease-3/train/images/cauli_21_jpg.rf.c68ad253d9e91d7d70ed7496fee01f56.jpg (deflated 1%)\n",
            "  adding: content/cauli_disease-3/train/images/cauli_56_jpg.rf.edf5d51a92a106674abb036304389cb1.jpg (deflated 0%)\n",
            "  adding: content/cauli_disease-3/train/images/cauli_6_jpg.rf.c7717ae36e5fd93255b47699de93e48a.jpg (deflated 0%)\n",
            "  adding: content/cauli_disease-3/train/images/cauli_167_jpg.rf.0bf384edd64a034bda14478e0ae005fd.jpg (deflated 1%)\n",
            "  adding: content/cauli_disease-3/train/images/cauli_208_jpg.rf.fc02a67f17211cbaba23ea67cf5742d8.jpg (deflated 0%)\n",
            "  adding: content/cauli_disease-3/train/images/cauli_144_jpg.rf.3b9f8bee0de5794cea0ac0e1b69ef205.jpg (deflated 1%)\n",
            "  adding: content/cauli_disease-3/train/images/cauli_240_JPG.rf.df7719c09e0db0c70458d9590ebbfafa.jpg (deflated 1%)\n",
            "  adding: content/cauli_disease-3/train/images/cauli_149_jpg.rf.328b34c23797fe010fff8c83dafd45b8.jpg (deflated 0%)\n",
            "  adding: content/cauli_disease-3/train/images/cauli_96_jpg.rf.36c61950d3bef0bf28b8f9e1db14c5ef.jpg (deflated 1%)\n",
            "  adding: content/cauli_disease-3/train/images/cauli_87_jpg.rf.e9334e0ba86891b6f45fdbcc0ca8abf8.jpg (deflated 0%)\n",
            "  adding: content/cauli_disease-3/train/images/cauli_204_jpg.rf.129dea77bc4c3a1b3d2b447719254a80.jpg (deflated 0%)\n",
            "  adding: content/cauli_disease-3/train/images/cauli_50_jpg.rf.7fd70714c24f21ce4b3b806955adcda5.jpg (deflated 1%)\n",
            "  adding: content/cauli_disease-3/train/images/cauli_291_JPG.rf.40f196628f79d2771e72086b7f8e759e.jpg (deflated 1%)\n",
            "  adding: content/cauli_disease-3/train/images/cauli_117_jpg.rf.ebc1e905b45a70c38d2f48f4a21606bd.jpg (deflated 1%)\n",
            "  adding: content/cauli_disease-3/train/images/cauli_59_jpg.rf.a085facc70610eccbe5abe6f16b5ceec.jpg (deflated 1%)\n",
            "  adding: content/cauli_disease-3/train/images/cauli_192_jpg.rf.9f591df6434922c2b43fe46278afe61e.jpg (deflated 0%)\n",
            "  adding: content/cauli_disease-3/train/images/cauli_1_jpg.rf.29ccbb6408bf91dfb3943e3e09a68bf4.jpg (deflated 1%)\n",
            "  adding: content/cauli_disease-3/train/images/cauli_41_jpg.rf.ff32239cfd8b7e48bf8d711c0248d3b6.jpg (deflated 0%)\n",
            "  adding: content/cauli_disease-3/train/images/cauli_64_jpg.rf.90b5cd4a6039cb67fe542b67bbc127ee.jpg (deflated 1%)\n",
            "  adding: content/cauli_disease-3/train/images/cauli_121_jpg.rf.c02e7678a4d3b6e9ff7b8664dcb4dcda.jpg (deflated 1%)\n",
            "  adding: content/cauli_disease-3/train/images/cauli_162_jpg.rf.62a2b9f178590f1a99d6129812767fd9.jpg (deflated 0%)\n",
            "  adding: content/cauli_disease-3/train/images/cauli_264_JPG.rf.6fe4afdb6ed297f59b3d58f672615b36.jpg (deflated 0%)\n",
            "  adding: content/cauli_disease-3/train/images/cauli_133_jpg.rf.3da1976193308bca65bf971ecfe64396.jpg (deflated 1%)\n",
            "  adding: content/cauli_disease-3/train/images/cauli_175_jpg.rf.f7b5cccb2e5b3f31e7d3d83cdfe4f209.jpg (deflated 1%)\n",
            "  adding: content/cauli_disease-3/train/images/cauli_242_JPG.rf.9a50a167496f2883583b89c10e2a850e.jpg (deflated 1%)\n",
            "  adding: content/cauli_disease-3/train/images/cauli_320_jpg.rf.f7788b985a242585995e9dc09de9d5ab.jpg (deflated 1%)\n",
            "  adding: content/cauli_disease-3/train/images/cauli_258_JPG.rf.360c7d5aceee3a62801e0b6a8a061ca8.jpg (deflated 1%)\n",
            "  adding: content/cauli_disease-3/train/images/cauli_264_JPG.rf.c31b716381a86a2752f271611765f1ec.jpg (deflated 2%)\n",
            "  adding: content/cauli_disease-3/train/images/cauli_282_JPG.rf.d721b42585e8629a36e123e38bf6a7f0.jpg (deflated 0%)\n",
            "  adding: content/cauli_disease-3/train/images/cauli_58_jpg.rf.4bab39153369649f3dba367c730a6107.jpg (deflated 1%)\n",
            "  adding: content/cauli_disease-3/train/images/cauli_18_jpg.rf.eaca7c60fcc70e03fe7eb3c610ce39ef.jpg (deflated 1%)\n",
            "  adding: content/cauli_disease-3/train/images/cauli_306_jpeg.rf.c1f205c864d5084196909bacfa2f693d.jpg (deflated 1%)\n",
            "  adding: content/cauli_disease-3/train/images/cauli_23_jpg.rf.581e2339d3581f14b9d90022cf3caf13.jpg (deflated 0%)\n",
            "  adding: content/cauli_disease-3/train/images/cauli_237_JPG.rf.ae908e67b65d764219942b92cbcaacfa.jpg (deflated 0%)\n",
            "  adding: content/cauli_disease-3/train/images/cauli_271_JPG.rf.28e5ae4a2d7941703d025f1cbceed87c.jpg (deflated 1%)\n",
            "  adding: content/cauli_disease-3/train/images/cauli_62_jpg.rf.55d2ea3f6396d6d3cbe2e83a60fa92f7.jpg (deflated 2%)\n",
            "  adding: content/cauli_disease-3/train/images/cauli_63_jpg.rf.b6509de3d1742f2764f41baaa708bcde.jpg (deflated 1%)\n",
            "  adding: content/cauli_disease-3/train/images/cauli_119_jpg.rf.4c1f1cf1dbf8547baa870dec0936d33f.jpg (deflated 1%)\n",
            "  adding: content/cauli_disease-3/train/images/cauli_44_jpg.rf.04a976646bb323cbf5582e4d86341276.jpg (deflated 0%)\n",
            "  adding: content/cauli_disease-3/train/images/cauli_329_jpg.rf.a933e706cfa809823edf5e11a4a6cc96.jpg (deflated 1%)\n",
            "  adding: content/cauli_disease-3/train/images/cauli_46_jpg.rf.80ed5e62fa2957ee0dc44ae7f549a2c5.jpg (deflated 1%)\n",
            "  adding: content/cauli_disease-3/train/images/cauli_260_JPG.rf.7871b96020bcb8c191e8d9ef2f5b7a48.jpg (deflated 1%)\n",
            "  adding: content/cauli_disease-3/train/images/cauli_229_jpg.rf.1af36d6af2c5144885d6520f2b5fe0f4.jpg (deflated 0%)\n",
            "  adding: content/cauli_disease-3/train/images/cauli_24_jpg.rf.b07e3bb21069b9fe7ca2f74f7e1af4b9.jpg (deflated 0%)\n",
            "  adding: content/cauli_disease-3/train/images/cauli_181_jpg.rf.e64f80bff467aab8c17711dead0f9a7b.jpg (deflated 0%)\n",
            "  adding: content/cauli_disease-3/train/images/cauli_298_JPG.rf.a38b5c673e19c664bfddd234913cad16.jpg (deflated 2%)\n",
            "  adding: content/cauli_disease-3/train/images/cauli_253_JPG.rf.fe2822f88cb754432cde584e92f4932c.jpg (deflated 0%)\n",
            "  adding: content/cauli_disease-3/train/images/cauli_141_jpg.rf.25d4ce55ec5f99c10cacbf1f0a289cda.jpg (deflated 0%)\n",
            "  adding: content/cauli_disease-3/train/images/cauli_125_jpg.rf.d93b973d41934010918f15cac5258942.jpg (deflated 1%)\n",
            "  adding: content/cauli_disease-3/train/images/cauli_227_jpg.rf.0c3d3e58644a150a7f7619504c444bf6.jpg (deflated 0%)\n",
            "  adding: content/cauli_disease-3/train/images/cauli_103_jpg.rf.b7b0409ba12c82ad15b66a2725246ce0.jpg (deflated 0%)\n",
            "  adding: content/cauli_disease-3/train/images/cauli_203_jpg.rf.3e388c8c795e2b77db27bd87cdb0c608.jpg (deflated 0%)\n",
            "  adding: content/cauli_disease-3/train/images/cauli_2_jpg.rf.42ccf94101e64b9e961b0e864e8d0998.jpg (deflated 1%)\n",
            "  adding: content/cauli_disease-3/train/images/cauli_200_jpg.rf.90a56db39e964791919764ad3cfc05ef.jpg (deflated 0%)\n",
            "  adding: content/cauli_disease-3/train/images/cauli_314_jpg.rf.ccde916f5727f59ad644f6eaf5b8bd42.jpg (deflated 1%)\n",
            "  adding: content/cauli_disease-3/train/images/cauli_135_jpg.rf.753c3ae65df71e8620597943a0922a59.jpg (deflated 1%)\n",
            "  adding: content/cauli_disease-3/train/images/cauli_1_jpg.rf.1257df2b80c0ca8c50d6df202f856ec7.jpg (deflated 0%)\n",
            "  adding: content/cauli_disease-3/train/images/cauli_281_JPG.rf.2ba03af5fdda0759896b5cf61846d064.jpg (deflated 1%)\n",
            "  adding: content/cauli_disease-3/train/images/cauli_200_jpg.rf.b978b1cb2559355adbaba66e27fcf6b6.jpg (deflated 1%)\n",
            "  adding: content/cauli_disease-3/train/images/cauli_194_jpg.rf.f328e374638de65be1ab84082ebcdda2.jpg (deflated 0%)\n",
            "  adding: content/cauli_disease-3/train/images/cauli_122_jpg.rf.40cb4f2a740834c2e9e07a6673fe7012.jpg (deflated 0%)\n",
            "  adding: content/cauli_disease-3/train/images/cauli_291_JPG.rf.e3d57a65e2aa1efba77734bf0ebb4d92.jpg (deflated 1%)\n",
            "  adding: content/cauli_disease-3/train/images/cauli_67_jpg.rf.75ba1b712ab4b98878c76ec47a37bea9.jpg (deflated 0%)\n",
            "  adding: content/cauli_disease-3/train/images/cauli_123_jpg.rf.3cf6834789b5323e5dc2313e370a8a7a.jpg (deflated 0%)\n",
            "  adding: content/cauli_disease-3/train/images/cauli_241_JPG.rf.5718a48d5b224314c94ab285c99db353.jpg (deflated 1%)\n",
            "  adding: content/cauli_disease-3/train/images/cauli_50_jpg.rf.3ee5a7e679e23f55263c39334480b52a.jpg (deflated 0%)\n",
            "  adding: content/cauli_disease-3/train/images/cauli_303_JPG.rf.86b8b01a52e9bda6ba2a9b9f37184965.jpg (deflated 1%)\n",
            "  adding: content/cauli_disease-3/train/images/cauli_279_JPG.rf.351b473fb9cd46f524c766d87b4b3ab9.jpg (deflated 1%)\n",
            "  adding: content/cauli_disease-3/train/images/cauli_22_jpg.rf.681e1f71885730443563d27cae632fc1.jpg (deflated 0%)\n",
            "  adding: content/cauli_disease-3/train/images/cauli_137_jpg.rf.0c7daa73ea08d97bba15471ffda80c9d.jpg (deflated 1%)\n",
            "  adding: content/cauli_disease-3/train/images/cauli_126_jpg.rf.c9a1db0d9e3301bde322963c36c6b2da.jpg (deflated 1%)\n",
            "  adding: content/cauli_disease-3/train/images/cauli_74_jpg.rf.cc343487d5916a3bc233f4523f27de67.jpg (deflated 1%)\n",
            "  adding: content/cauli_disease-3/train/images/cauli_166_jpg.rf.f6a4d4aec55e7c5afe4241ab8a5a6616.jpg (deflated 1%)\n",
            "  adding: content/cauli_disease-3/train/images/cauli_317_jpg.rf.121e4311f2c2696a57be38734a428b6b.jpg (deflated 5%)\n",
            "  adding: content/cauli_disease-3/train/images/cauli_143_jpg.rf.7de5482e8a8a61c85d759a0be7783995.jpg (deflated 0%)\n",
            "  adding: content/cauli_disease-3/train/images/cauli_63_jpg.rf.e14d57d699ac28ab42f9db13083e0998.jpg (deflated 0%)\n",
            "  adding: content/cauli_disease-3/train/images/cauli_266_JPG.rf.b857837ef47e0b54aa3932c95282a752.jpg (deflated 0%)\n",
            "  adding: content/cauli_disease-3/train/images/cauli_101_jpg.rf.025aa5e9a3927e182d15933489b8490e.jpg (deflated 1%)\n",
            "  adding: content/cauli_disease-3/train/images/cauli_15_jpg.rf.8bac1391e5a1bba21def09c420d2a8a8.jpg (deflated 1%)\n",
            "  adding: content/cauli_disease-3/train/images/cauli_178_jpg.rf.421754f3e9866a1c7c317d8e8d68c35d.jpg (deflated 0%)\n",
            "  adding: content/cauli_disease-3/train/images/cauli_6_jpg.rf.c6480a54d36e43376452d7c909fa5bff.jpg (deflated 1%)\n",
            "  adding: content/cauli_disease-3/train/images/cauli_202_jpg.rf.53bf117308809b08d876f5c9be6b50db.jpg (deflated 1%)\n",
            "  adding: content/cauli_disease-3/train/images/cauli_210_jpg.rf.98f4cf49098d2eabd50af357a998a39c.jpg (deflated 1%)\n",
            "  adding: content/cauli_disease-3/train/images/cauli_36_jpg.rf.c4b0a23b2f9bc286101b05d570176f6f.jpg (deflated 1%)\n",
            "  adding: content/cauli_disease-3/train/images/cauli_245_JPG.rf.7c914c1d6986dcbd0c580d97c603dcaa.jpg (deflated 1%)\n",
            "  adding: content/cauli_disease-3/train/images/cauli_147_jpg.rf.cedb1433bb668a382ce7b9c89bf80d79.jpg (deflated 1%)\n",
            "  adding: content/cauli_disease-3/train/images/cauli_279_JPG.rf.f55ea8a563c9204352fd1aee0abc6032.jpg (deflated 0%)\n",
            "  adding: content/cauli_disease-3/train/images/cauli_115_jpg.rf.69ea0e66a1e1524dc03370ddcd934907.jpg (deflated 0%)\n",
            "  adding: content/cauli_disease-3/train/images/cauli_34_jpg.rf.1177f524d3644eac720bde46163013a5.jpg (deflated 2%)\n",
            "  adding: content/cauli_disease-3/train/images/cauli_128_jpg.rf.70d9f586fb617d108b3bcd97e966e39d.jpg (deflated 0%)\n",
            "  adding: content/cauli_disease-3/train/images/cauli_285_JPG.rf.88a417c7c25a9bb525f2e947d235f557.jpg (deflated 0%)\n",
            "  adding: content/cauli_disease-3/train/images/cauli_229_jpg.rf.e06f38f47e4b7e969b5497bc8a1fe576.jpg (deflated 1%)\n",
            "  adding: content/cauli_disease-3/train/images/cauli_195_jpg.rf.a0f78a6c2b9348713f7f90a3e8a628dd.jpg (deflated 0%)\n",
            "  adding: content/cauli_disease-3/train/images/cauli_179_jpg.rf.0015c0fd864541988bbeff6cd5bdcb3f.jpg (deflated 0%)\n",
            "  adding: content/cauli_disease-3/train/images/cauli_92_jpg.rf.e0a9894a11698ccf09f8edd06b6a3879.jpg (deflated 0%)\n",
            "  adding: content/cauli_disease-3/train/images/cauli_250_JPG.rf.6d75e53fd273ca8cc97785631e81365d.jpg (deflated 0%)\n",
            "  adding: content/cauli_disease-3/train/images/cauli_293_JPG.rf.eeee885b1a74820aa9aab8886df50148.jpg (deflated 1%)\n",
            "  adding: content/cauli_disease-3/train/images/cauli_198_jpg.rf.bb61973b9cb71c63b88291b31d4eedd6.jpg (deflated 1%)\n",
            "  adding: content/cauli_disease-3/train/images/cauli_150_jpg.rf.36fada9fa1b2a6706e2e0fc071286eaa.jpg (deflated 1%)\n",
            "  adding: content/cauli_disease-3/train/images/cauli_223_jpg.rf.e8650852bb2e30b309f06b8ffbbfc68e.jpg (deflated 0%)\n",
            "  adding: content/cauli_disease-3/train/images/cauli_289_JPG.rf.47aeb6cb78c06101cc8a020f78f33f2c.jpg (deflated 1%)\n",
            "  adding: content/cauli_disease-3/train/images/cauli_113_jpg.rf.5f5ea2579317fba20a2df7f5e7868e55.jpg (deflated 1%)\n",
            "  adding: content/cauli_disease-3/train/images/cauli_13_jpg.rf.966080dfacb1fb042b5e780da69d744b.jpg (deflated 0%)\n",
            "  adding: content/cauli_disease-3/train/images/cauli_330_jpg.rf.74f20e0489a8c96d74e2045d1713244b.jpg (deflated 0%)\n",
            "  adding: content/cauli_disease-3/train/images/cauli_46_jpg.rf.4ca0562a6f9a5779ab14f403b60af215.jpg (deflated 0%)\n",
            "  adding: content/cauli_disease-3/train/images/cauli_51_jpg.rf.f2b11e78976503f2d2d43bb968836997.jpg (deflated 1%)\n",
            "  adding: content/cauli_disease-3/train/images/cauli_263_JPG.rf.cdaf7c641bfe3c82a574607484006d40.jpg (deflated 0%)\n",
            "  adding: content/cauli_disease-3/train/images/cauli_178_jpg.rf.0bf56249c5bf4a6eb5fd706ab71b8d86.jpg (deflated 1%)\n",
            "  adding: content/cauli_disease-3/train/images/cauli_92_jpg.rf.5ff9f8f1220e362484423c0805bdad07.jpg (deflated 0%)\n",
            "  adding: content/cauli_disease-3/train/images/cauli_297_JPG.rf.c05e16f35509c5128ca038ae602ff60a.jpg (deflated 1%)\n",
            "  adding: content/cauli_disease-3/train/images/cauli_72_jpg.rf.cdecd2d8dbc76de3703e46246e4a8f85.jpg (deflated 1%)\n",
            "  adding: content/cauli_disease-3/train/images/cauli_89_jpg.rf.1f7110b451ab8d77d40cfc4958b55a58.jpg (deflated 1%)\n",
            "  adding: content/cauli_disease-3/train/images/cauli_231_jpg.rf.0f5ae64a289ea1be13eeaef06731fdbf.jpg (deflated 1%)\n",
            "  adding: content/cauli_disease-3/train/images/cauli_110_jpg.rf.d5a2b5db6e69ae275b70e1ab67dd21b6.jpg (deflated 0%)\n",
            "  adding: content/cauli_disease-3/train/images/cauli_124_jpg.rf.3bed58ea1573495f11ac913f13bffb1f.jpg (deflated 0%)\n",
            "  adding: content/cauli_disease-3/train/images/cauli_111_jpg.rf.9cb7212306295051c1f2f9a70aad4615.jpg (deflated 0%)\n",
            "  adding: content/cauli_disease-3/train/images/cauli_24_jpg.rf.4551bf263b8446d898be9a3df6c8b15d.jpg (deflated 0%)\n",
            "  adding: content/cauli_disease-3/train/images/cauli_74_jpg.rf.fb4c5686cced5c6090b6375eab5f9050.jpg (deflated 0%)\n",
            "  adding: content/cauli_disease-3/train/images/cauli_283_JPG.rf.4de5c5becd090103b970417c21a7ce5d.jpg (deflated 1%)\n",
            "  adding: content/cauli_disease-3/train/images/cauli_262_JPG.rf.b2459caf9f8e55634344ee66491dc361.jpg (deflated 1%)\n",
            "  adding: content/cauli_disease-3/train/images/cauli_133_jpg.rf.30d6f6de7bea0fb5a6f952eb3772bf16.jpg (deflated 0%)\n",
            "  adding: content/cauli_disease-3/train/images/cauli_134_jpg.rf.f892d95c0c5326de25220bdcb3a1ca9c.jpg (deflated 0%)\n",
            "  adding: content/cauli_disease-3/train/images/cauli_182_jpg.rf.8a00e34461c47793fd78a1ea1bf5233c.jpg (deflated 1%)\n",
            "  adding: content/cauli_disease-3/train/images/cauli_105_jpg.rf.5263f44cf331bcd7c4f359458d6e1936.jpg (deflated 0%)\n",
            "  adding: content/cauli_disease-3/train/images/cauli_269_JPG.rf.3f12aadc506fafed727446e32909e0d6.jpg (deflated 1%)\n",
            "  adding: content/cauli_disease-3/train/images/cauli_53_jpg.rf.f443b2a7890d71f86ec670fe1878c1cf.jpg (deflated 1%)\n",
            "  adding: content/cauli_disease-3/train/images/cauli_143_jpg.rf.455be1cbf0f0229130d67f1028dbc66d.jpg (deflated 1%)\n",
            "  adding: content/cauli_disease-3/train/images/cauli_265_JPG.rf.35ed3ffa3cc78bff0892631a6f2bed36.jpg (deflated 2%)\n",
            "  adding: content/cauli_disease-3/train/images/cauli_16_jpg.rf.895311a7ad9c94afd512980c02acfda0.jpg (deflated 1%)\n",
            "  adding: content/cauli_disease-3/train/images/cauli_283_JPG.rf.5aac1ba772a7ce6961fce89007bd9834.jpg (deflated 1%)\n",
            "  adding: content/cauli_disease-3/train/images/cauli_239_JPG.rf.83c35f2af1a49022e038d2956de79bbe.jpg (deflated 0%)\n",
            "  adding: content/cauli_disease-3/train/images/cauli_75_jpg.rf.b804acc9e69dad39c49ca2ff5152f5d3.jpg (deflated 1%)\n",
            "  adding: content/cauli_disease-3/train/images/cauli_162_jpg.rf.ea97d02fdd7b561f56e9dcbb2879708b.jpg (deflated 1%)\n",
            "  adding: content/cauli_disease-3/train/images/cauli_177_jpg.rf.dc8476970838ae8c7e16f3c85f99461b.jpg (deflated 1%)\n",
            "  adding: content/cauli_disease-3/train/images/cauli_120_jpg.rf.815563e37ecfa44038a6bbbf8d9b9ff1.jpg (deflated 1%)\n",
            "  adding: content/cauli_disease-3/train/images/cauli_82_jpg.rf.624cd49c26657383e5b958a1dca1243a.jpg (deflated 1%)\n",
            "  adding: content/cauli_disease-3/train/images/cauli_324_jpg.rf.737d939d5b620ac027ed46e137ff09c2.jpg (deflated 1%)\n",
            "  adding: content/cauli_disease-3/train/images/cauli_143_jpg.rf.af6d587346e2f507716367f4c80aaccb.jpg (deflated 1%)\n",
            "  adding: content/cauli_disease-3/train/images/cauli_147_jpg.rf.169bffe6ada786bbc839e8a59d16c1dc.jpg (deflated 1%)\n",
            "  adding: content/cauli_disease-3/train/images/cauli_119_jpg.rf.f5220b7c1de64ee5cb7dece73a1d85fc.jpg (deflated 1%)\n",
            "  adding: content/cauli_disease-3/train/images/cauli_288_JPG.rf.3be74c4575aea00a9ac761e68abe2bde.jpg (deflated 1%)\n",
            "  adding: content/cauli_disease-3/train/images/cauli_59_jpg.rf.391fcfacd58cadb9f3db9af524b60e7b.jpg (deflated 1%)\n",
            "  adding: content/cauli_disease-3/train/images/cauli_179_jpg.rf.5a71fde8b682418615a2f9f84d2eec7d.jpg (deflated 1%)\n",
            "  adding: content/cauli_disease-3/train/images/cauli_17_jpg.rf.8489c4c0be6ef19960abed8249d0a660.jpg (deflated 1%)\n",
            "  adding: content/cauli_disease-3/train/images/cauli_188_jpg.rf.734cdce915e46c0e2a2736934ac3be71.jpg (deflated 0%)\n",
            "  adding: content/cauli_disease-3/train/images/cauli_268_JPG.rf.90d0e7f11881635a08016b679dd572fc.jpg (deflated 0%)\n",
            "  adding: content/cauli_disease-3/train/images/cauli_73_jpg.rf.95967547b7848e2aa6ef77c8903ff76a.jpg (deflated 0%)\n",
            "  adding: content/cauli_disease-3/train/images/cauli_322_jpeg.rf.44093340a181b0995c1c5ce33d783766.jpg (deflated 1%)\n",
            "  adding: content/cauli_disease-3/train/images/cauli_255_JPG.rf.5de7fa0c5f7374eb6944b57127d630ef.jpg (deflated 0%)\n",
            "  adding: content/cauli_disease-3/train/images/cauli_281_JPG.rf.a6ede264fa0502518bd010314e9932e4.jpg (deflated 0%)\n",
            "  adding: content/cauli_disease-3/train/images/cauli_238_JPG.rf.98bfa4303fc5b3542152b70388de90aa.jpg (deflated 0%)\n",
            "  adding: content/cauli_disease-3/train/images/cauli_183_jpg.rf.3fa38f82e5817707ba305e9cdda5b477.jpg (deflated 0%)\n",
            "  adding: content/cauli_disease-3/train/images/cauli_231_jpg.rf.ab45dc5aebbff5e90dcca0c13e2c6a74.jpg (deflated 1%)\n",
            "  adding: content/cauli_disease-3/train/images/cauli_311_jpg.rf.9a2fbe23b5e6d350611c8de852e8ce86.jpg (deflated 1%)\n",
            "  adding: content/cauli_disease-3/train/images/cauli_114_jpg.rf.15fad88ca1d0f5f9a44ed6976646ee18.jpg (deflated 0%)\n",
            "  adding: content/cauli_disease-3/train/images/cauli_154_jpg.rf.22cb245ea0465cf82950ae5a09ae6c1f.jpg (deflated 1%)\n",
            "  adding: content/cauli_disease-3/train/images/cauli_311_jpg.rf.525378ad057c03083021ec473325972d.jpg (deflated 0%)\n",
            "  adding: content/cauli_disease-3/train/images/cauli_64_jpg.rf.135117dbf5a670b002a216702683ea00.jpg (deflated 1%)\n",
            "  adding: content/cauli_disease-3/train/images/cauli_165_jpg.rf.ab63a0f9b5895291b3d10a9993cde474.jpg (deflated 1%)\n",
            "  adding: content/cauli_disease-3/train/images/cauli_19_jpg.rf.9764d1adbeeef6aa8dc8b1d9cf6913f3.jpg (deflated 1%)\n",
            "  adding: content/cauli_disease-3/train/images/cauli_226_jpg.rf.381fe8ff4e5091f7395a669d4e2f2bfc.jpg (deflated 0%)\n",
            "  adding: content/cauli_disease-3/train/images/cauli_52_jpg.rf.93557196205c405c1731a4267a14e9d1.jpg (deflated 0%)\n",
            "  adding: content/cauli_disease-3/train/images/cauli_249_JPG.rf.90a7889b1cc0bcfe76c4c387fb551368.jpg (deflated 0%)\n",
            "  adding: content/cauli_disease-3/train/images/cauli_167_jpg.rf.7a057eff328251d2e626eb413ebb3763.jpg (deflated 0%)\n",
            "  adding: content/cauli_disease-3/train/images/cauli_18_jpg.rf.96ee38b03604c3950d8e25bb1b9056ea.jpg (deflated 1%)\n",
            "  adding: content/cauli_disease-3/train/images/cauli_208_jpg.rf.e82afad3877de1e29bd946c6b24519c2.jpg (deflated 1%)\n",
            "  adding: content/cauli_disease-3/train/images/cauli_166_jpg.rf.b29b436328bc3ced78a96062f24c892d.jpg (deflated 0%)\n",
            "  adding: content/cauli_disease-3/train/images/cauli_94_jpg.rf.312efd85a4f1734540919829844d80d3.jpg (deflated 0%)\n",
            "  adding: content/cauli_disease-3/train/images/cauli_89_jpg.rf.2dc245ac5c20ac2d38b1ee93c46a98dd.jpg (deflated 1%)\n",
            "  adding: content/cauli_disease-3/train/images/cauli_53_jpg.rf.c942a21cc70627795e95e2b7932eb934.jpg (deflated 1%)\n",
            "  adding: content/cauli_disease-3/train/images/cauli_285_JPG.rf.b132866dd1d944bf1ccc1e876fd678f0.jpg (deflated 2%)\n",
            "  adding: content/cauli_disease-3/train/images/cauli_47_jpg.rf.c524cc3a904b37465fee4701168df60c.jpg (deflated 1%)\n",
            "  adding: content/cauli_disease-3/train/images/cauli_151_jpg.rf.6fe66c3f1d23ca5cdf97877fe67eec6b.jpg (deflated 0%)\n",
            "  adding: content/cauli_disease-3/train/images/cauli_92_jpg.rf.d931065ea118f5be55e34c55c175444b.jpg (deflated 0%)\n",
            "  adding: content/cauli_disease-3/train/images/cauli_164_jpg.rf.e6ecf12b803e5a016a4e9fe2c3cc3345.jpg (deflated 0%)\n",
            "  adding: content/cauli_disease-3/train/images/cauli_26_jpg.rf.9c6df60ae6784f523008213077e12711.jpg (deflated 1%)\n",
            "  adding: content/cauli_disease-3/train/images/cauli_129_jpg.rf.a330e6edb9431e6f2176267551eae34b.jpg (deflated 0%)\n",
            "  adding: content/cauli_disease-3/train/images/cauli_189_jpg.rf.16e2c53b5eef11694cc112e355b0d1c7.jpg (deflated 1%)\n",
            "  adding: content/cauli_disease-3/train/images/cauli_121_jpg.rf.a7f47e300a70ae08d013d73fec61b8c4.jpg (deflated 0%)\n",
            "  adding: content/cauli_disease-3/train/images/cauli_87_jpg.rf.4e65efee56cdda4a496cfe851b3d9515.jpg (deflated 1%)\n",
            "  adding: content/cauli_disease-3/train/images/cauli_173_jpg.rf.ae68bdff232b29ccc79f04a807976e13.jpg (deflated 0%)\n",
            "  adding: content/cauli_disease-3/train/images/cauli_30_jpg.rf.eab5c47b463c56a496c4b3726b2f34b5.jpg (deflated 0%)\n",
            "  adding: content/cauli_disease-3/train/images/cauli_108_jpg.rf.865c755c73fcc0c8a62ad39e7de9fa6c.jpg (deflated 1%)\n",
            "  adding: content/cauli_disease-3/train/images/cauli_43_jpg.rf.98811c7227cad2e9eced55ab2db924d2.jpg (deflated 0%)\n",
            "  adding: content/cauli_disease-3/train/images/cauli_234_JPG.rf.43546d4e300cb8b5756293b5e3d47eb0.jpg (deflated 0%)\n",
            "  adding: content/cauli_disease-3/train/images/cauli_246_JPG.rf.41567600e55d27b671d00328cc1f2857.jpg (deflated 2%)\n",
            "  adding: content/cauli_disease-3/train/images/cauli_274_JPG.rf.85779764ebe73943afc145b0132a2576.jpg (deflated 0%)\n",
            "  adding: content/cauli_disease-3/train/images/cauli_21_jpg.rf.85098ebb231784f89f56207b02e118f8.jpg (deflated 0%)\n",
            "  adding: content/cauli_disease-3/train/images/cauli_195_jpg.rf.7b16ead37bf06112c5ee697cc6fc5679.jpg (deflated 1%)\n",
            "  adding: content/cauli_disease-3/train/images/cauli_285_JPG.rf.7d0e027bef809b5a7b9663f337fcd292.jpg (deflated 2%)\n",
            "  adding: content/cauli_disease-3/train/images/cauli_37_jpg.rf.2f878a34d5a183da263e09b7ff9f4a99.jpg (deflated 0%)\n",
            "  adding: content/cauli_disease-3/train/images/cauli_290_JPG.rf.630d991317c63980d73feba241e10cc4.jpg (deflated 0%)\n",
            "  adding: content/cauli_disease-3/train/images/cauli_99_jpg.rf.fb4dc0ace95ac27d18bb46f2c354e677.jpg (deflated 1%)\n",
            "  adding: content/cauli_disease-3/train/images/cauli_67_jpg.rf.c1fc2f984f6b3c2abe01b6cc709e7008.jpg (deflated 1%)\n",
            "  adding: content/cauli_disease-3/train/images/cauli_75_jpg.rf.c16abc45d3f88e963ab0755daf6b931c.jpg (deflated 1%)\n",
            "  adding: content/cauli_disease-3/train/images/cauli_120_jpg.rf.76ad89fb960bc11ec66347a72ec9709d.jpg (deflated 2%)\n",
            "  adding: content/cauli_disease-3/train/images/cauli_175_jpg.rf.a37938efac2a902483b3aec569467a7a.jpg (deflated 0%)\n",
            "  adding: content/cauli_disease-3/train/images/cauli_58_jpg.rf.8efb071b4d42518adae756b3942aec32.jpg (deflated 0%)\n",
            "  adding: content/cauli_disease-3/train/images/cauli_117_jpg.rf.99f61f62cb527e6530f0aeef357c6d65.jpg (deflated 1%)\n",
            "  adding: content/cauli_disease-3/train/images/cauli_43_jpg.rf.a79429b6ca0fa1742426b098fec875e9.jpg (deflated 1%)\n",
            "  adding: content/cauli_disease-3/train/images/cauli_238_JPG.rf.e76e78207f82fadff0237557473ac3d7.jpg (deflated 1%)\n",
            "  adding: content/cauli_disease-3/train/images/cauli_95_jpg.rf.de9efeb00b7f43f265273167f002637c.jpg (deflated 1%)\n",
            "  adding: content/cauli_disease-3/train/images/cauli_86_jpg.rf.be19426ad04215b7c60aa826c7f3e995.jpg (deflated 1%)\n",
            "  adding: content/cauli_disease-3/train/images/cauli_318_jpg.rf.d64df41b371569dfb3ba8ded6d3665a3.jpg (deflated 1%)\n",
            "  adding: content/cauli_disease-3/train/images/cauli_265_JPG.rf.a0d1aa4d84d1b12eca6f9b625d957d4d.jpg (deflated 0%)\n",
            "  adding: content/cauli_disease-3/train/images/cauli_241_JPG.rf.13e186106d67f0b49ad04789810f6cb6.jpg (deflated 0%)\n",
            "  adding: content/cauli_disease-3/train/images/cauli_78_jpg.rf.e6be0493763f9824bf2357c0cde13b3c.jpg (deflated 1%)\n",
            "  adding: content/cauli_disease-3/train/images/cauli_109_jpg.rf.5dc8904e52386f42f885b90787d9d800.jpg (deflated 2%)\n",
            "  adding: content/cauli_disease-3/train/images/cauli_289_JPG.rf.23f8b14f1946072eed0353494d3e5210.jpg (deflated 0%)\n",
            "  adding: content/cauli_disease-3/train/images/cauli_101_jpg.rf.a1e6806382d04b0165d0a9cb75c44c38.jpg (deflated 0%)\n",
            "  adding: content/cauli_disease-3/train/images/cauli_17_jpg.rf.7064e20843176fb8c0e68b8532cfea4c.jpg (deflated 1%)\n",
            "  adding: content/cauli_disease-3/train/images/cauli_313_jpg.rf.0087daab302bf5c4f0939d356142aa20.jpg (deflated 0%)\n",
            "  adding: content/cauli_disease-3/train/images/cauli_324_jpg.rf.59046320889ae23cd12a0c0fe414fa8f.jpg (deflated 1%)\n",
            "  adding: content/cauli_disease-3/train/images/cauli_246_JPG.rf.f086dbefff4b1dcc1b03bb29e497f8d2.jpg (deflated 1%)\n",
            "  adding: content/cauli_disease-3/train/images/cauli_186_jpg.rf.f21f4e29991cdfb3290959c66efeb951.jpg (deflated 0%)\n",
            "  adding: content/cauli_disease-3/train/images/cauli_65_jpg.rf.82a88288a709ef6a10552873440f928f.jpg (deflated 1%)\n",
            "  adding: content/cauli_disease-3/train/images/cauli_276_JPG.rf.973f4e693f99d6983ef24049db1aa2b1.jpg (deflated 1%)\n",
            "  adding: content/cauli_disease-3/train/images/cauli_201_jpg.rf.38fd28e2b14e099c1f4a7c16fe88ded6.jpg (deflated 1%)\n",
            "  adding: content/cauli_disease-3/train/images/cauli_171_jpg.rf.e25e309c981aa0766b958f46ee39768e.jpg (deflated 1%)\n",
            "  adding: content/cauli_disease-3/train/images/cauli_118_jpg.rf.b2c64145385fd54f5e18779da77d8606.jpg (deflated 1%)\n",
            "  adding: content/cauli_disease-3/train/images/cauli_276_JPG.rf.956951e8b4a110d4a6847558d188c3db.jpg (deflated 1%)\n",
            "  adding: content/cauli_disease-3/train/images/cauli_252_JPG.rf.dd7571ea014aa3aae73c1fd8a244c017.jpg (deflated 1%)\n",
            "  adding: content/cauli_disease-3/train/images/cauli_77_jpg.rf.241b1847fcf1f4750ea53a356ad28b09.jpg (deflated 0%)\n",
            "  adding: content/cauli_disease-3/train/images/cauli_13_jpg.rf.2cd20a7da9f639685c22feecebdae3ac.jpg (deflated 1%)\n",
            "  adding: content/cauli_disease-3/train/images/cauli_79_jpg.rf.df88909b19462051db3968f69c96c2ae.jpg (deflated 1%)\n",
            "  adding: content/cauli_disease-3/train/images/cauli_328_jpg.rf.0f00d2f9ca8ff0648d01572e225d76f9.jpg (deflated 1%)\n",
            "  adding: content/cauli_disease-3/train/images/cauli_131_jpg.rf.16ea1f4f0e1b0d298421417f415b9f5f.jpg (deflated 0%)\n",
            "  adding: content/cauli_disease-3/train/images/cauli_65_jpg.rf.ca624751f961b3d666fd6960b6a9e71a.jpg (deflated 0%)\n",
            "  adding: content/cauli_disease-3/train/images/cauli_266_JPG.rf.659d2b4b685162a544766f1d25e3bbcb.jpg (deflated 1%)\n",
            "  adding: content/cauli_disease-3/train/images/cauli_176_jpg.rf.3ea4ca3519d418e97d381749afb45af3.jpg (deflated 1%)\n",
            "  adding: content/cauli_disease-3/train/images/cauli_87_jpg.rf.c3e5f1e98848dab61fffdf3ee8859172.jpg (deflated 0%)\n",
            "  adding: content/cauli_disease-3/train/images/cauli_82_jpg.rf.044ce1a701f28d32fce8846062d408ce.jpg (deflated 1%)\n",
            "  adding: content/cauli_disease-3/train/images/cauli_156_jpg.rf.8137794c4916fef7a2bf4833b897be34.jpg (deflated 1%)\n",
            "  adding: content/cauli_disease-3/train/images/cauli_260_JPG.rf.ddbb4e3a622ad34a94e17df3be2f3b47.jpg (deflated 1%)\n",
            "  adding: content/cauli_disease-3/train/images/cauli_270_JPG.rf.5901e484cf5e615bd7204e231aa79daf.jpg (deflated 0%)\n",
            "  adding: content/cauli_disease-3/train/images/cauli_217_jpg.rf.19ded00dc404a38583f40e891beb0f38.jpg (deflated 1%)\n",
            "  adding: content/cauli_disease-3/train/images/cauli_244_JPG.rf.ca3e3135f83bcbcc60289d4e30d6873c.jpg (deflated 0%)\n",
            "  adding: content/cauli_disease-3/train/images/cauli_55_jpg.rf.28f4b62828731d8ad71c74124bca31eb.jpg (deflated 1%)\n",
            "  adding: content/cauli_disease-3/train/images/cauli_41_jpg.rf.07ff72b2a668d555f8188a4fc55d33e4.jpg (deflated 1%)\n",
            "  adding: content/cauli_disease-3/train/images/cauli_53_jpg.rf.13ad08f49394ea62776be5b2c3cdd75b.jpg (deflated 0%)\n",
            "  adding: content/cauli_disease-3/train/images/cauli_199_jpg.rf.854672f7fc18a142a39aa385de5ba370.jpg (deflated 0%)\n",
            "  adding: content/cauli_disease-3/train/images/cauli_97_jpg.rf.2728921db2bd22e840c2e41b0740f94d.jpg (deflated 1%)\n",
            "  adding: content/cauli_disease-3/train/images/cauli_96_jpg.rf.5955c8a1fa53699e375a12066d36b5ae.jpg (deflated 0%)\n",
            "  adding: content/cauli_disease-3/train/images/cauli_232_JPG.rf.55b24b57ff7724e01328649515d265f4.jpg (deflated 2%)\n",
            "  adding: content/cauli_disease-3/train/images/cauli_280_JPG.rf.64da9cd63425a7bf62dcf46532423dd1.jpg (deflated 1%)\n",
            "  adding: content/cauli_disease-3/train/images/cauli_101_jpg.rf.d985a2add217387a5287e81c2a729a0c.jpg (deflated 1%)\n",
            "  adding: content/cauli_disease-3/train/images/cauli_172_jpg.rf.3a57557f5ca85dc3ab8a883012b2ad27.jpg (deflated 1%)\n",
            "  adding: content/cauli_disease-3/train/images/cauli_104_jpg.rf.1413c0f523e07ad9aa6f4ffd1a53bdb5.jpg (deflated 0%)\n",
            "  adding: content/cauli_disease-3/train/images/cauli_85_jpg.rf.e003779e1e7cb4143f2ecfce6fe038e4.jpg (deflated 1%)\n",
            "  adding: content/cauli_disease-3/train/images/cauli_134_jpg.rf.c0ccf270ebaa90b64165164dbcdad0af.jpg (deflated 2%)\n",
            "  adding: content/cauli_disease-3/train/images/cauli_3_jpg.rf.9b393589b0628dd52901e87fd5261612.jpg (deflated 1%)\n",
            "  adding: content/cauli_disease-3/train/images/cauli_233_JPG.rf.432337f5277ef805004cd39653432a78.jpg (deflated 0%)\n",
            "  adding: content/cauli_disease-3/train/images/cauli_160_jpg.rf.ac511fc3d5ee0195024bf1897b8ddc31.jpg (deflated 0%)\n",
            "  adding: content/cauli_disease-3/train/images/cauli_221_jpg.rf.e0834fca9bc93c9990735c8bd84d9cf4.jpg (deflated 0%)\n",
            "  adding: content/cauli_disease-3/train/images/cauli_85_jpg.rf.c50f2bf315ae9233db50b6d4fa252236.jpg (deflated 0%)\n",
            "  adding: content/cauli_disease-3/train/images/cauli_135_jpg.rf.0792c2a76e7f2ed0651efb86986b94d0.jpg (deflated 0%)\n",
            "  adding: content/cauli_disease-3/train/images/cauli_278_JPG.rf.ebd29471842100cd03f918adbd5db5c5.jpg (deflated 1%)\n",
            "  adding: content/cauli_disease-3/train/images/cauli_144_jpg.rf.06ade2c0befdfc7f0aa0ee3d80f7cc99.jpg (deflated 0%)\n",
            "  adding: content/cauli_disease-3/train/images/cauli_2_jpg.rf.c38de4797857e58c9db91ba9d5b0aece.jpg (deflated 0%)\n",
            "  adding: content/cauli_disease-3/train/images/cauli_294_JPG.rf.b5150409da647d87f2bce7b3170be12f.jpg (deflated 2%)\n",
            "  adding: content/cauli_disease-3/train/images/cauli_117_jpg.rf.0bc265fc32c9f8690e03c539a2f8841d.jpg (deflated 1%)\n",
            "  adding: content/cauli_disease-3/train/images/cauli_258_JPG.rf.ff94ce3e6def3ce78463d532ae92d279.jpg (deflated 0%)\n",
            "  adding: content/cauli_disease-3/train/images/cauli_202_jpg.rf.f19aa9bcc4ced53f4fdeea28f7b608ec.jpg (deflated 1%)\n",
            "  adding: content/cauli_disease-3/train/images/cauli_45_jpg.rf.baf2ec51bc10525cfd0a16af2f09bbe8.jpg (deflated 0%)\n",
            "  adding: content/cauli_disease-3/train/images/cauli_224_jpg.rf.11b21767347cea2aae84bfd516ef69e0.jpg (deflated 1%)\n",
            "  adding: content/cauli_disease-3/train/images/cauli_99_jpg.rf.412085e594c7c6d41278bec05b834f89.jpg (deflated 0%)\n",
            "  adding: content/cauli_disease-3/train/images/cauli_217_jpg.rf.4774e4ff3f556067354cd35aeb8f86fe.jpg (deflated 1%)\n",
            "  adding: content/cauli_disease-3/train/images/cauli_111_jpg.rf.d3ad5229b20c985fe5a0b8433dee2a6e.jpg (deflated 0%)\n",
            "  adding: content/cauli_disease-3/train/images/cauli_201_jpg.rf.6e1bf5137600d2a2e8b75b219747ab52.jpg (deflated 0%)\n",
            "  adding: content/cauli_disease-3/train/images/cauli_45_jpg.rf.e177aa79d1e91a7b8b92d0edc5606af7.jpg (deflated 1%)\n",
            "  adding: content/cauli_disease-3/train/images/cauli_191_jpg.rf.923db51db23ee26134cc920b65ecdf2a.jpg (deflated 0%)\n",
            "  adding: content/cauli_disease-3/train/images/cauli_223_jpg.rf.2f1c2c401eded6f2f745bf9827f9eb46.jpg (deflated 0%)\n",
            "  adding: content/cauli_disease-3/train/images/cauli_323_jpeg.rf.cf379b5f9f303705697ae22be8041615.jpg (deflated 1%)\n",
            "  adding: content/cauli_disease-3/train/images/cauli_97_jpg.rf.37bd4b878fabc212ff667f47c6d13d1d.jpg (deflated 1%)\n",
            "  adding: content/cauli_disease-3/train/images/cauli_260_JPG.rf.3c58611bf3964601b6fe8b24a442ad74.jpg (deflated 0%)\n",
            "  adding: content/cauli_disease-3/train/images/cauli_306_jpeg.rf.4840797c3f4e5d022442cd7cd42db70b.jpg (deflated 1%)\n",
            "  adding: content/cauli_disease-3/train/images/cauli_124_jpg.rf.a16eafe11c4b877e47bef84c792907f4.jpg (deflated 1%)\n",
            "  adding: content/cauli_disease-3/train/images/cauli_320_jpg.rf.2052e528da9573d82e632ec9013291d6.jpg (deflated 0%)\n",
            "  adding: content/cauli_disease-3/train/images/cauli_84_jpg.rf.bc7c8e2435834bcffc981e318a1ae5de.jpg (deflated 0%)\n",
            "  adding: content/cauli_disease-3/train/images/cauli_330_jpg.rf.b064c4141fe4194d13097dd105918ba4.jpg (deflated 0%)\n",
            "  adding: content/cauli_disease-3/train/images/cauli_242_JPG.rf.eb9ffa611b47d78f77df5d59962c72c5.jpg (deflated 0%)\n",
            "  adding: content/cauli_disease-3/train/images/cauli_45_jpg.rf.32de634390e6d1d6e9dbebee5ce97e3b.jpg (deflated 0%)\n",
            "  adding: content/cauli_disease-3/train/images/cauli_131_jpg.rf.17e813dcc30b16fd9ea411ddd9b3c23c.jpg (deflated 1%)\n",
            "  adding: content/cauli_disease-3/train/images/cauli_198_jpg.rf.ba8c69581c659e55f277d6670b95fbd9.jpg (deflated 1%)\n",
            "  adding: content/cauli_disease-3/train/images/cauli_286_JPG.rf.95ad10d2fe28f6940d858a5a737a5ae3.jpg (deflated 0%)\n",
            "  adding: content/cauli_disease-3/train/images/cauli_137_jpg.rf.5f4705e2601755e7a5da977ec478b241.jpg (deflated 0%)\n",
            "  adding: content/cauli_disease-3/train/images/cauli_222_jpg.rf.6a6584ffb29d730678e1ee5aa54ecedc.jpg (deflated 1%)\n",
            "  adding: content/cauli_disease-3/train/images/cauli_258_JPG.rf.a3e0900a19d133267b5b44f3865e8e3f.jpg (deflated 0%)\n",
            "  adding: content/cauli_disease-3/train/images/cauli_323_jpeg.rf.fab04c5af7a3ac6938c0d1fec3ea6861.jpg (deflated 0%)\n",
            "  adding: content/cauli_disease-3/train/images/cauli_326_jpg.rf.d8f7afa66cd3fed82aa070f4a6207b6d.jpg (deflated 1%)\n",
            "  adding: content/cauli_disease-3/train/images/cauli_11_jpg.rf.010f28719904ee8fddeb83639328a189.jpg (deflated 1%)\n",
            "  adding: content/cauli_disease-3/train/images/cauli_250_JPG.rf.ca7245b1eccfce35f83c5d5d22b2729d.jpg (deflated 0%)\n",
            "  adding: content/cauli_disease-3/train/images/cauli_21_jpg.rf.fbfebf25cb73f6916f07f1240d8233b9.jpg (deflated 0%)\n",
            "  adding: content/cauli_disease-3/train/images/cauli_18_jpg.rf.39452cea7b85968b4199a07d410eb061.jpg (deflated 0%)\n",
            "  adding: content/cauli_disease-3/train/images/cauli_78_jpg.rf.6d129fb5368aeb4424839fe972549c0b.jpg (deflated 1%)\n",
            "  adding: content/cauli_disease-3/train/images/cauli_15_jpg.rf.919265bd82e1be3d2d14c7ff3c65889a.jpg (deflated 0%)\n",
            "  adding: content/cauli_disease-3/train/images/cauli_194_jpg.rf.19bf6f7865221ec9d39ec5ccaaa13501.jpg (deflated 1%)\n",
            "  adding: content/cauli_disease-3/train/images/cauli_66_jpg.rf.5e014af1fee0d5b32d16c422145f97bc.jpg (deflated 0%)\n",
            "  adding: content/cauli_disease-3/train/images/cauli_247_JPG.rf.4947f381eb1a860059ef632bf313c505.jpg (deflated 1%)\n",
            "  adding: content/cauli_disease-3/train/images/cauli_90_jpg.rf.2c6b16010c6a323a69f8c363e7451f47.jpg (deflated 1%)\n",
            "  adding: content/cauli_disease-3/train/images/cauli_88_jpg.rf.c8607910fd93a914c46ca31b62abbdc5.jpg (deflated 2%)\n",
            "  adding: content/cauli_disease-3/train/images/cauli_263_JPG.rf.de72020fe816ee029b27b3c8370f2961.jpg (deflated 1%)\n",
            "  adding: content/cauli_disease-3/train/images/cauli_26_jpg.rf.f73da89cbe28b69bc7b82033caf12765.jpg (deflated 2%)\n",
            "  adding: content/cauli_disease-3/train/images/cauli_169_jpg.rf.b95c5570ad820819211249c13766f2e0.jpg (deflated 1%)\n",
            "  adding: content/cauli_disease-3/train/images/cauli_88_jpg.rf.f682d5a9bff5bb8e8a09814910104537.jpg (deflated 0%)\n",
            "  adding: content/cauli_disease-3/train/images/cauli_221_jpg.rf.2614fd7919c17811f1ba6233168718d3.jpg (deflated 1%)\n",
            "  adding: content/cauli_disease-3/train/images/cauli_90_jpg.rf.832225f5286977d69c072d6e95377ef8.jpg (deflated 0%)\n",
            "  adding: content/cauli_disease-3/train/images/cauli_30_jpg.rf.d007c461bc2e6ccd7881e990c5578de8.jpg (deflated 0%)\n",
            "  adding: content/cauli_disease-3/train/images/cauli_54_jpg.rf.2e17aadfd19348cc3c29cfd3ec09b940.jpg (deflated 1%)\n",
            "  adding: content/cauli_disease-3/train/images/cauli_177_jpg.rf.3238d4f1af008ea67939fc9bbf3779a6.jpg (deflated 0%)\n",
            "  adding: content/cauli_disease-3/train/images/cauli_296_JPG.rf.0be2380616ca5811131ccab999a973f8.jpg (deflated 1%)\n",
            "  adding: content/cauli_disease-3/train/images/cauli_140_jpg.rf.72a9193f4a2ee41e0889478077e6af8f.jpg (deflated 0%)\n",
            "  adding: content/cauli_disease-3/train/images/cauli_182_jpg.rf.20c5a28596d8453341faf16203278dda.jpg (deflated 1%)\n",
            "  adding: content/cauli_disease-3/train/images/cauli_94_jpg.rf.fa736fcaac64a329d9ba5b70cd9f758d.jpg (deflated 1%)\n",
            "  adding: content/cauli_disease-3/train/images/cauli_35_jpg.rf.c3498867a21fef27c6e0e3a5a4113d20.jpg (deflated 1%)\n",
            "  adding: content/cauli_disease-3/train/images/cauli_270_JPG.rf.6cd2766b2c3c7f9c0a145c2a860732ab.jpg (deflated 0%)\n",
            "  adding: content/cauli_disease-3/train/images/cauli_107_jpg.rf.6f3ad7e6493f73d1800eafe5824211e6.jpg (deflated 0%)\n",
            "  adding: content/cauli_disease-3/train/images/cauli_180_jpg.rf.6ffb9e4da78d87e1fcc63dc400b0fed3.jpg (deflated 0%)\n",
            "  adding: content/cauli_disease-3/train/images/cauli_224_jpg.rf.61c0b9aa1792482645c74b40b6cbcc3f.jpg (deflated 0%)\n",
            "  adding: content/cauli_disease-3/train/images/cauli_324_jpg.rf.bfb584379f1ecdd9a813d09d103f8f56.jpg (deflated 0%)\n",
            "  adding: content/cauli_disease-3/train/images/cauli_128_jpg.rf.731d3dffbee68ae1cbe9ca0de00c1bc6.jpg (deflated 1%)\n",
            "  adding: content/cauli_disease-3/train/images/cauli_40_jpg.rf.80a0d793bc352762683d8b0245207be8.jpg (deflated 1%)\n",
            "  adding: content/cauli_disease-3/train/images/cauli_125_jpg.rf.b11482e8b1c98408a2b84eb5122ca930.jpg (deflated 0%)\n",
            "  adding: content/cauli_disease-3/train/images/cauli_288_JPG.rf.e82a30921ebc62282931536dccfb281a.jpg (deflated 0%)\n",
            "  adding: content/cauli_disease-3/train/images/cauli_248_JPG.rf.16b31e4a4a93feecffe1e31e3e751ef2.jpg (deflated 0%)\n",
            "  adding: content/cauli_disease-3/train/images/cauli_296_JPG.rf.bc20b1ab70387d925ed9fb1155264807.jpg (deflated 0%)\n",
            "  adding: content/cauli_disease-3/train/images/cauli_32_jpg.rf.7cb8200baa2c5cccef3e983b908803e5.jpg (deflated 0%)\n",
            "  adding: content/cauli_disease-3/train/images/cauli_284_JPG.rf.78b00ebd88755097dbeae5326a16042f.jpg (deflated 1%)\n",
            "  adding: content/cauli_disease-3/train/images/cauli_100_jpg.rf.561fdc825c1fca5b6fb3cb9c37d54328.jpg (deflated 1%)\n",
            "  adding: content/cauli_disease-3/train/images/cauli_295_JPG.rf.b8d9dd2cc858a5b546fcf403bc2ed384.jpg (deflated 0%)\n",
            "  adding: content/cauli_disease-3/train/images/cauli_279_JPG.rf.076cb457edd90c082904572f9192b04e.jpg (deflated 1%)\n",
            "  adding: content/cauli_disease-3/train/images/cauli_305_JPG.rf.44c95a8f58aef852472c80865e8bc15c.jpg (deflated 0%)\n",
            "  adding: content/cauli_disease-3/train/images/cauli_99_jpg.rf.3113bcd35d098f2c395c5c790aaeafda.jpg (deflated 0%)\n",
            "  adding: content/cauli_disease-3/train/images/cauli_226_jpg.rf.d30a493f21266bdf0e8418b5d8e26084.jpg (deflated 1%)\n",
            "  adding: content/cauli_disease-3/train/images/cauli_148_jpg.rf.bccb08df721bc27a1526ff2d081ea3e9.jpg (deflated 1%)\n",
            "  adding: content/cauli_disease-3/train/images/cauli_135_jpg.rf.f4f0c8f34ff5421be21064be27fb4e41.jpg (deflated 1%)\n",
            "  adding: content/cauli_disease-3/train/images/cauli_20_jpg.rf.c59fea6c3fd2a74193f525d7e8084815.jpg (deflated 0%)\n",
            "  adding: content/cauli_disease-3/train/images/cauli_111_jpg.rf.6b54a3bfc99202117eb332290e3fd77c.jpg (deflated 1%)\n",
            "  adding: content/cauli_disease-3/train/images/cauli_226_jpg.rf.a1c9978537c070de3b68a41ffec7193c.jpg (deflated 0%)\n",
            "  adding: content/cauli_disease-3/train/images/cauli_277_JPG.rf.0990425cf10b392cd1cf53fddc32c78c.jpg (deflated 0%)\n",
            "  adding: content/cauli_disease-3/train/images/cauli_253_JPG.rf.0233cf6b4a1e2007d770ff2fcfbe6fc2.jpg (deflated 1%)\n",
            "  adding: content/cauli_disease-3/train/images/cauli_44_jpg.rf.33a011b82dc34a45d3dc48f1968c6719.jpg (deflated 1%)\n",
            "  adding: content/cauli_disease-3/train/images/cauli_315_jpg.rf.1b5d43069c41029776b3517c5dbe0cd8.jpg (deflated 1%)\n",
            "  adding: content/cauli_disease-3/train/images/cauli_301_JPG.rf.502fc82d44148d48de5bc5df84f4bd07.jpg (deflated 1%)\n",
            "  adding: content/cauli_disease-3/train/images/cauli_267_JPG.rf.61f23966c45c23212c7bb6ea58ba8eb7.jpg (deflated 2%)\n",
            "  adding: content/cauli_disease-3/train/images/cauli_275_JPG.rf.aa4e2c86d7b8fa1601048b9b5de24d56.jpg (deflated 1%)\n",
            "  adding: content/cauli_disease-3/train/images/cauli_105_jpg.rf.68c19ceda91aaa492d7826641e988d03.jpg (deflated 1%)\n",
            "  adding: content/cauli_disease-3/train/images/cauli_172_jpg.rf.93265f68b70e9bbec3d15ac4f081867d.jpg (deflated 0%)\n",
            "  adding: content/cauli_disease-3/train/images/cauli_180_jpg.rf.84f6edecacab30f8e1a6fb28e63ac4f2.jpg (deflated 1%)\n",
            "  adding: content/cauli_disease-3/train/images/cauli_155_jpg.rf.2bdaa95d7d655976eaa5edc8c61eaf08.jpg (deflated 0%)\n",
            "  adding: content/cauli_disease-3/train/images/cauli_47_jpg.rf.25cb4e113bbe132a0868e7ecbaa0b7a6.jpg (deflated 1%)\n",
            "  adding: content/cauli_disease-3/train/images/cauli_161_jpg.rf.8a2830c7ddcf3a6d6e923a800b584015.jpg (deflated 1%)\n",
            "  adding: content/cauli_disease-3/train/images/cauli_191_jpg.rf.891ad2ff1354437386552920cceb4f18.jpg (deflated 1%)\n",
            "  adding: content/cauli_disease-3/train/images/cauli_223_jpg.rf.76970fa1e74f6e82a14fc875aeeab2e5.jpg (deflated 0%)\n",
            "  adding: content/cauli_disease-3/train/images/cauli_113_jpg.rf.d0a72a02473d6c280b41e1e8a33e41b7.jpg (deflated 0%)\n",
            "  adding: content/cauli_disease-3/train/images/cauli_8_jpg.rf.86b9f965d1538f5a44912e62234520fb.jpg (deflated 0%)\n",
            "  adding: content/cauli_disease-3/train/images/cauli_31_jpg.rf.89ed22f47c912777308ed8b3f6f18b94.jpg (deflated 0%)\n",
            "  adding: content/cauli_disease-3/train/images/cauli_232_JPG.rf.9a204a0517bb71c32143199d5363532d.jpg (deflated 0%)\n",
            "  adding: content/cauli_disease-3/train/images/cauli_186_jpg.rf.2828d0cd68b63128afbaa02e30d6703f.jpg (deflated 0%)\n",
            "  adding: content/cauli_disease-3/train/images/cauli_141_jpg.rf.5f1b221039e44db5c1e4ea693f1ab35d.jpg (deflated 1%)\n",
            "  adding: content/cauli_disease-3/train/images/cauli_281_JPG.rf.8599f67a33548ae108eef7bb98cac48d.jpg (deflated 1%)\n",
            "  adding: content/cauli_disease-3/train/images/cauli_28_jpg.rf.76553bc5fd19ee30a14f02197cfc5a50.jpg (deflated 0%)\n",
            "  adding: content/cauli_disease-3/train/images/cauli_176_jpg.rf.5bd7f26b9046ae8c31e9935217569811.jpg (deflated 0%)\n",
            "  adding: content/cauli_disease-3/train/images/cauli_161_jpg.rf.6ac8f8865907325c0f33215ebb2adffd.jpg (deflated 0%)\n",
            "  adding: content/cauli_disease-3/train/images/cauli_90_jpg.rf.6e34747535a0e69063fc36add4af6af3.jpg (deflated 2%)\n",
            "  adding: content/cauli_disease-3/train/images/cauli_93_jpg.rf.db8b298f629b955da0b64870fdcfbe5b.jpg (deflated 1%)\n",
            "  adding: content/cauli_disease-3/train/images/cauli_269_JPG.rf.c77c82bd7f1967fc9a3c489269140bef.jpg (deflated 1%)\n",
            "  adding: content/cauli_disease-3/train/images/cauli_132_jpg.rf.2c86f9731b1b20e107c777d8c7d76bd3.jpg (deflated 1%)\n",
            "  adding: content/cauli_disease-3/train/images/cauli_217_jpg.rf.be94da139a0fec75c266e07d79136723.jpg (deflated 0%)\n",
            "  adding: content/cauli_disease-3/train/images/cauli_296_JPG.rf.7710113a2910be88e79fdb0b1186fc5d.jpg (deflated 0%)\n",
            "  adding: content/cauli_disease-3/train/images/cauli_237_JPG.rf.afa280cbe8d9d0572fc7e9db25f7d4bc.jpg (deflated 1%)\n",
            "  adding: content/cauli_disease-3/train/images/cauli_28_jpg.rf.a31e7ca81a69ab701de6e6f1cd199429.jpg (deflated 0%)\n",
            "  adding: content/cauli_disease-3/train/images/cauli_290_JPG.rf.23e104155cfdb514672cf8c87abc377f.jpg (deflated 1%)\n",
            "  adding: content/cauli_disease-3/train/images/cauli_164_jpg.rf.f748cf7005741b59b451efd837ec70e3.jpg (deflated 1%)\n",
            "  adding: content/cauli_disease-3/train/images/cauli_51_jpg.rf.059d6668cb05f3648b12529288743b14.jpg (deflated 0%)\n",
            "  adding: content/cauli_disease-3/train/images/cauli_291_JPG.rf.96719b47cbf21f39c42bedeeced5aa5e.jpg (deflated 0%)\n",
            "  adding: content/cauli_disease-3/train/images/cauli_154_jpg.rf.0e0dddcd9484c8d66602c667fa1e234e.jpg (deflated 0%)\n",
            "  adding: content/cauli_disease-3/train/images/cauli_188_jpg.rf.a3b3fc5ed397009a9165cee23b5ac99f.jpg (deflated 1%)\n",
            "  adding: content/cauli_disease-3/train/images/cauli_199_jpg.rf.628ace4720ab09443f96adea4f23f4b7.jpg (deflated 0%)\n",
            "  adding: content/cauli_disease-3/train/images/cauli_8_jpg.rf.7306fe49cf0364a37f7311bc2f786647.jpg (deflated 1%)\n",
            "  adding: content/cauli_disease-3/train/images/cauli_187_jpg.rf.e79295d7c4904b7533390a87f36ca219.jpg (deflated 0%)\n",
            "  adding: content/cauli_disease-3/train/images/cauli_52_jpg.rf.bb0ad1420a9575ae46432c4e0a00608b.jpg (deflated 1%)\n",
            "  adding: content/cauli_disease-3/train/images/cauli_204_jpg.rf.eb6cf074492eea2e08535fbe63981107.jpg (deflated 0%)\n",
            "  adding: content/cauli_disease-3/train/images/cauli_309_jpg.rf.a7c09d9a56d15314766bac96e556cd18.jpg (deflated 1%)\n",
            "  adding: content/cauli_disease-3/train/images/cauli_181_jpg.rf.b0f95ced0029af9a985d04473c20deba.jpg (deflated 0%)\n",
            "  adding: content/cauli_disease-3/train/images/cauli_252_JPG.rf.d79b9126248cd53d32cd44b9df617688.jpg (deflated 0%)\n",
            "  adding: content/cauli_disease-3/train/images/cauli_86_jpg.rf.90b9bb69a3dc52a4092cf1facce2dbb0.jpg (deflated 1%)\n",
            "  adding: content/cauli_disease-3/train/images/cauli_280_JPG.rf.72520ee66d0718ee06fce11a281fd1e6.jpg (deflated 1%)\n",
            "  adding: content/cauli_disease-3/train/images/cauli_311_jpg.rf.ed1044792c0f46022ada861976852951.jpg (deflated 1%)\n",
            "  adding: content/cauli_disease-3/train/images/cauli_314_jpg.rf.4d11249b3642143a32da7640359d6b86.jpg (deflated 1%)\n",
            "  adding: content/cauli_disease-3/train/images/cauli_171_jpg.rf.4394436260e5499e4bbb054254f3d34e.jpg (deflated 0%)\n",
            "  adding: content/cauli_disease-3/train/images/cauli_326_jpg.rf.6dcdd5cea98bf72571eb86847949ee60.jpg (deflated 0%)\n",
            "  adding: content/cauli_disease-3/train/images/cauli_313_jpg.rf.0e043529172aab3eb5552db09e62741d.jpg (deflated 1%)\n",
            "  adding: content/cauli_disease-3/train/images/cauli_31_jpg.rf.a8a20dee22bad20b33205b59b21572d7.jpg (deflated 0%)\n",
            "  adding: content/cauli_disease-3/train/images/cauli_19_jpg.rf.c10ff89a0a0730345660db77f9d2219a.jpg (deflated 1%)\n",
            "  adding: content/cauli_disease-3/train/images/cauli_187_jpg.rf.5e0bf23808565441498ddf80d421228e.jpg (deflated 1%)\n",
            "  adding: content/cauli_disease-3/train/images/cauli_23_jpg.rf.dcf409a1988b6c886e4a8d912ec39f54.jpg (deflated 1%)\n",
            "  adding: content/cauli_disease-3/train/images/cauli_165_jpg.rf.11a2704ccd116b776a2aa3556ccd3cd1.jpg (deflated 0%)\n",
            "  adding: content/cauli_disease-3/train/images/cauli_78_jpg.rf.aaf74080062e0bf77b856820a828220d.jpg (deflated 0%)\n",
            "  adding: content/cauli_disease-3/train/images/cauli_22_jpg.rf.cb7e0feb3566f0a123516a9bc9fcb3f4.jpg (deflated 1%)\n",
            "  adding: content/cauli_disease-3/train/images/cauli_137_jpg.rf.dd389d7c95b4abf28a8383f07e3516bf.jpg (deflated 1%)\n",
            "  adding: content/cauli_disease-3/train/images/cauli_278_JPG.rf.a55242c744c4e23b194684e0c1335c14.jpg (deflated 0%)\n",
            "  adding: content/cauli_disease-3/train/images/cauli_322_jpeg.rf.44b3c48e803e53435e6e2d0d3fee170f.jpg (deflated 1%)\n",
            "  adding: content/cauli_disease-3/train/images/cauli_231_jpg.rf.fda6b270fbda5d09cf8a3d5d0a23ac98.jpg (deflated 0%)\n",
            "  adding: content/cauli_disease-3/train/images/cauli_176_jpg.rf.3deea5017b019e06a3af0793f9e3c0de.jpg (deflated 1%)\n",
            "  adding: content/cauli_disease-3/train/images/cauli_122_jpg.rf.42c9abaad25a63c2a765981b372558b9.jpg (deflated 1%)\n",
            "  adding: content/cauli_disease-3/train/images/cauli_162_jpg.rf.66f68603ed387d2638075247cdaa6399.jpg (deflated 0%)\n",
            "  adding: content/cauli_disease-3/train/images/cauli_160_jpg.rf.209a561f179ea03d00bbe471b19b7d78.jpg (deflated 0%)\n",
            "  adding: content/cauli_disease-3/train/images/cauli_174_jpg.rf.c36cba8d9fc318f7920fbaeac4bfca01.jpg (deflated 0%)\n",
            "  adding: content/cauli_disease-3/train/images/cauli_301_JPG.rf.35454a97a87c9941b5e5a6ebd65c0f6d.jpg (deflated 0%)\n",
            "  adding: content/cauli_disease-3/train/images/cauli_293_JPG.rf.3dfeecd8d3258f6b2d7bd6f9b2c7f4e2.jpg (deflated 2%)\n",
            "  adding: content/cauli_disease-3/train/images/cauli_282_JPG.rf.d2d8192714c573c13dad23d3e229f40e.jpg (deflated 1%)\n",
            "  adding: content/cauli_disease-3/train/images/cauli_274_JPG.rf.89167fa82e2d711ac2101006ba0874ed.jpg (deflated 1%)\n",
            "  adding: content/cauli_disease-3/train/images/cauli_20_jpg.rf.9e1b10ee4f41acf8038ba82aebef4559.jpg (deflated 1%)\n",
            "  adding: content/cauli_disease-3/train/images/cauli_147_jpg.rf.77bca2df8c1f3e13b958534048f1bb35.jpg (deflated 0%)\n",
            "  adding: content/cauli_disease-3/train/images/cauli_48_jpg.rf.6e992fc74fddcb078c14373934bc7728.jpg (deflated 0%)\n",
            "  adding: content/cauli_disease-3/train/images/cauli_28_jpg.rf.37d96aef7e3706dea9b426640f3f44d2.jpg (deflated 1%)\n",
            "  adding: content/cauli_disease-3/train/images/cauli_36_jpg.rf.a7a2adfd1b7829d944bb480064497b59.jpg (deflated 2%)\n",
            "  adding: content/cauli_disease-3/train/images/cauli_318_jpg.rf.ef839ca097f15225bff87cce9fe1eba5.jpg (deflated 2%)\n",
            "  adding: content/cauli_disease-3/train/images/cauli_169_jpg.rf.33558163f9e1d0c82a7cfa6bd773fc35.jpg (deflated 0%)\n",
            "  adding: content/cauli_disease-3/train/images/cauli_167_jpg.rf.a529493dbbff44c15a8b70e19dc6f352.jpg (deflated 1%)\n",
            "  adding: content/cauli_disease-3/train/images/cauli_141_jpg.rf.1b5c3a3811676d2a6f624229ad579973.jpg (deflated 0%)\n",
            "  adding: content/cauli_disease-3/train/images/cauli_314_jpg.rf.3338a23fca7ea624e742eec9f0d0bb70.jpg (deflated 1%)\n",
            "  adding: content/cauli_disease-3/train/images/cauli_126_jpg.rf.c34d280a8b1677c08fc360047ea4b982.jpg (deflated 1%)\n",
            "  adding: content/cauli_disease-3/train/images/cauli_54_jpg.rf.64a4c6211c8d15fb3b200160014bfa2b.jpg (deflated 0%)\n",
            "  adding: content/cauli_disease-3/train/images/cauli_35_jpg.rf.07a3c31ffa21444f5839be7ae5ef36dd.jpg (deflated 0%)\n",
            "  adding: content/cauli_disease-3/train/images/cauli_73_jpg.rf.1020a625ad1bfa754cfd348c4b957703.jpg (deflated 2%)\n",
            "  adding: content/cauli_disease-3/train/images/cauli_256_JPG.rf.32c0c666bc201ef8519b913df2deed31.jpg (deflated 1%)\n",
            "  adding: content/cauli_disease-3/train/images/cauli_183_jpg.rf.45ff5fce35cf53d6989e1d8a3f81caf4.jpg (deflated 0%)\n",
            "  adding: content/cauli_disease-3/train/images/cauli_190_jpg.rf.e73e3166d3e78acd4f866867da202c04.jpg (deflated 1%)\n",
            "  adding: content/cauli_disease-3/train/images/cauli_297_JPG.rf.04932749c23987452c5d36e7bda61050.jpg (deflated 0%)\n",
            "  adding: content/cauli_disease-3/train/images/cauli_3_jpg.rf.4ffea97e21c9f2a00f0ccc5cc4b63b79.jpg (deflated 1%)\n",
            "  adding: content/cauli_disease-3/train/images/cauli_294_JPG.rf.5af117af13a649e843d86c5c958c37de.jpg (deflated 0%)\n",
            "  adding: content/cauli_disease-3/train/images/cauli_248_JPG.rf.a7006c2426e145462082b65adef8bcfd.jpg (deflated 1%)\n",
            "  adding: content/cauli_disease-3/train/images/cauli_93_jpg.rf.bc0225f2af01af6395d65af98f3acb46.jpg (deflated 1%)\n",
            "  adding: content/cauli_disease-3/train/images/cauli_66_jpg.rf.8e5b979647203bbb089a15c94b42e133.jpg (deflated 0%)\n",
            "  adding: content/cauli_disease-3/train/images/cauli_74_jpg.rf.738fd3b699d294e96d806d76ec7e5229.jpg (deflated 1%)\n",
            "  adding: content/cauli_disease-3/train/labels.cache (deflated 67%)\n",
            "  adding: content/yolo11n.pt (deflated 11%)\n",
            "  adding: content/runs/ (stored 0%)\n",
            "  adding: content/runs/detect/ (stored 0%)\n",
            "  adding: content/runs/detect/predict/ (stored 0%)\n",
            "  adding: content/runs/detect/predict/cauli_102_jpg.rf.3a55fae8de5e9366215a055148e0dffc.jpg (deflated 3%)\n",
            "  adding: content/runs/detect/predict/cauli_42_jpg.rf.61b56b2568890c4472faa803bc5d3e25.jpg (deflated 4%)\n",
            "  adding: content/runs/detect/predict/cauli_327_jpeg.rf.bcaad3187b8b9e658e0f59fa89d4b2d9.jpg (deflated 4%)\n",
            "  adding: content/runs/detect/predict/cauli_106_jpg.rf.320a3670ca8063dc2d0ed3eb3de92295.jpg (deflated 4%)\n",
            "  adding: content/runs/detect/predict/cauli_57_jpg.rf.59bb700e4ad5cf0a37050e6c8f29928b.jpg (deflated 3%)\n",
            "  adding: content/runs/detect/predict/cauli_254_JPG.rf.4fb09e5e86a60f3f24f8813b0b9d58ca.jpg (deflated 4%)\n",
            "  adding: content/runs/detect/predict/cauli_163_jpg.rf.ba49e0ff3c08511e4e65beae0349c7fb.jpg (deflated 4%)\n",
            "  adding: content/runs/detect/predict/cauli_61_jpg.rf.e51151ac44e21aac5dfdaf626119771c.jpg (deflated 3%)\n",
            "  adding: content/runs/detect/predict/cauli_33_jpg.rf.64cd64d9e861b5ad13885ae2a30b51f6.jpg (deflated 5%)\n",
            "  adding: content/runs/detect/predict/cauli_209_jpg.rf.d94850d48079b7924c57f883f6012e1e.jpg (deflated 5%)\n",
            "  adding: content/runs/detect/predict/cauli_69_jpg.rf.44041a3c500df0c8ec72c19a0b0596ce.jpg (deflated 4%)\n",
            "  adding: content/runs/detect/predict/cauli_38_jpg.rf.54f247c69cefb27541f28c7d0d6226a9.jpg (deflated 5%)\n",
            "  adding: content/runs/detect/predict/cauli_272_JPG.rf.bf209ac6c9f4bcacbd8953a98d5a3350.jpg (deflated 3%)\n",
            "  adding: content/runs/detect/predict/cauli_300_JPG.rf.cacd3f55bd6c6d84c4f1a0868e6e7e41.jpg (deflated 4%)\n",
            "  adding: content/runs/detect/predict/cauli_76_jpg.rf.0ea8d3f32e29e2a361efed1c2b058285.jpg (deflated 3%)\n",
            "  adding: content/runs/detect/predict/cauli_259_JPG.rf.4aee7664d6fc36f2e8c4c3a783de2578.jpg (deflated 4%)\n",
            "  adding: content/runs/detect/train3/ (stored 0%)\n",
            "  adding: content/runs/detect/train3/confusion_matrix.png (deflated 24%)\n",
            "  adding: content/runs/detect/train3/train_batch4942.jpg (deflated 6%)\n",
            "  adding: content/runs/detect/train3/train_batch2.jpg (deflated 2%)\n",
            "  adding: content/runs/detect/train3/train_batch1.jpg (deflated 2%)\n",
            "  adding: content/runs/detect/train3/val_batch0_pred.jpg (deflated 5%)\n",
            "  adding: content/runs/detect/train3/train_batch0.jpg (deflated 1%)\n",
            "  adding: content/runs/detect/train3/results.csv (deflated 61%)\n",
            "  adding: content/runs/detect/train3/R_curve.png (deflated 15%)\n",
            "  adding: content/runs/detect/train3/F1_curve.png (deflated 12%)\n",
            "  adding: content/runs/detect/train3/weights/ (stored 0%)\n",
            "  adding: content/runs/detect/train3/weights/last.pt (deflated 8%)\n",
            "  adding: content/runs/detect/train3/weights/best.pt (deflated 8%)\n",
            "  adding: content/runs/detect/train3/P_curve.png (deflated 8%)\n",
            "  adding: content/runs/detect/train3/PR_curve.png (deflated 14%)\n",
            "  adding: content/runs/detect/train3/val_batch0_labels.jpg (deflated 4%)\n",
            "  adding: content/runs/detect/train3/labels_correlogram.jpg (deflated 36%)\n",
            "  adding: content/runs/detect/train3/confusion_matrix_normalized.png (deflated 21%)\n",
            "  adding: content/runs/detect/train3/train_batch4940.jpg (deflated 4%)\n",
            "  adding: content/runs/detect/train3/labels.jpg (deflated 21%)\n",
            "  adding: content/runs/detect/train3/args.yaml (deflated 53%)\n",
            "  adding: content/runs/detect/train3/train_batch4941.jpg (deflated 5%)\n",
            "  adding: content/runs/detect/train3/results.png (deflated 5%)\n",
            "  adding: content/runs/detect/train/ (stored 0%)\n",
            "  adding: content/runs/detect/train/weights/ (stored 0%)\n",
            "  adding: content/runs/detect/train/args.yaml (deflated 53%)\n",
            "  adding: content/runs/detect/train2/ (stored 0%)\n",
            "  adding: content/runs/detect/train2/weights/ (stored 0%)\n",
            "  adding: content/runs/detect/train2/args.yaml (deflated 53%)\n",
            "  adding: content/yolov8s.pt (deflated 8%)\n",
            "  adding: content/sample_data/ (stored 0%)\n",
            "  adding: content/sample_data/README.md (deflated 39%)\n",
            "  adding: content/sample_data/anscombe.json (deflated 83%)\n",
            "  adding: content/sample_data/mnist_test.csv (deflated 88%)\n",
            "  adding: content/sample_data/california_housing_train.csv (deflated 79%)\n",
            "  adding: content/sample_data/california_housing_test.csv (deflated 76%)\n",
            "  adding: content/sample_data/mnist_train_small.csv (deflated 88%)\n"
          ]
        }
      ]
    },
    {
      "cell_type": "code",
      "source": [],
      "metadata": {
        "id": "A90AparrMdgd"
      },
      "execution_count": null,
      "outputs": []
    }
  ]
}